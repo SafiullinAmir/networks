{
 "cells": [
  {
   "cell_type": "markdown",
   "metadata": {},
   "source": [
    "# <center>Structural Analysis and Visualization of Networks</center>"
   ]
  },
  {
   "cell_type": "markdown",
   "metadata": {},
   "source": [
    "## <center>Home Assignment #1: Power law</center>"
   ]
  },
  {
   "cell_type": "markdown",
   "metadata": {},
   "source": [
    "### <center>Student: *Mukhomorova Olga*</center>"
   ]
  },
  {
   "cell_type": "markdown",
   "metadata": {},
   "source": [
    "#### <hr /> General Information"
   ]
  },
  {
   "cell_type": "markdown",
   "metadata": {},
   "source": [
    "**Due Date:** 28.01.2015 23:59 <br \\>\n",
    "**Late submission policy:** -0.2 points per day <br \\>\n",
    "\n",
    "\n",
    "Please send your reports to <mailto:leonid.e.zhukov@gmail.com> and <mailto:shestakoffandrey@gmail.com> with message subject of the following structure:<br \\> **[HSE Networks 2015] *{LastName}* *{First Name}* HA*{Number}***\n",
    "\n",
    "Support your computations with figures and comments. <br \\>\n",
    "If you are using IPython Notebook you may use this file as a starting point of your report.<br \\>\n",
    "<br \\>\n",
    "<hr \\>"
   ]
  },
  {
   "cell_type": "markdown",
   "metadata": {},
   "source": [
    "## Problems"
   ]
  },
  {
   "cell_type": "markdown",
   "metadata": {},
   "source": [
    "### Task 1."
   ]
  },
  {
   "cell_type": "markdown",
   "metadata": {},
   "source": [
    "Load [wordcounts](http://www.leonidzhukov.net/hse/2015/networks/data/wordcounts.txt) dataset. \n",
    "1. Check that Zipf's Law holds\n",
    "2. Assuming that the data is distributed according to the Power Law, find\n",
    " * $\\alpha$ of the distribution\n",
    " * mean sample variance $\\sigma^2$\n",
    "3. Produce summary of the frequencies: min, max, mean, median"
   ]
  },
  {
   "cell_type": "code",
   "execution_count": 1,
   "metadata": {
    "collapsed": false
   },
   "outputs": [
    {
     "data": {
      "image/png": "[encoded data removed]",
      "text/plain": [
       "<matplotlib.figure.Figure at 0xcc90a90>"
      ]
     },
     "metadata": {},
     "output_type": "display_data"
    },
    {
     "name": "stdout",
     "output_type": "stream",
     "text": [
      "alpha = 1.76872234173\n",
      "standard deviation (squared) = 18662381650.7\n",
      "min = 800\n",
      "max = 6187267\n",
      "mean = 15687.0838214\n",
      "median = 2566.5\n"
     ]
    }
   ],
   "source": [
    "import urllib2\n",
    "import pandas as pd\n",
    "import matplotlib.pyplot as plt\n",
    "import numpy as np\n",
    "%matplotlib inline\n",
    "\n",
    "#reading data\n",
    "filename = urllib2.urlopen('http://www.leonidzhukov.net/hse/2015/networks/data/wordcounts.txt')\n",
    "data = pd.read_table(filename, sep=' ', header=None)\n",
    "#creating pandas dataframe\n",
    "data.columns=['count','word']\n",
    "#grouping similar words\n",
    "data_g=data.groupby(['word']).sum().reset_index()\n",
    "#checking that Zipf's Law holds by plotting data distribution\n",
    "plt.plot(data_g.sort(['count'], ascending=0)['count'], linewidth=3.0)\n",
    "plt.show()\n",
    "alpha=1+len(data_g['count'])/(sum(np.log(np.array(data_g['count'])/min(np.array(data_g['count'])))))\n",
    "print 'alpha = '+str(alpha)\n",
    "print 'standard deviation (squared) = '+str((np.std(np.array(data_g['count'])))**2)\n",
    "print 'min = '+str(min(np.array(data_g['count'])))\n",
    "print 'max = '+str(max(np.array(data_g['count'])))\n",
    "print 'mean = '+str(np.mean(np.array(data_g['count'])))\n",
    "print 'median = '+str(np.median(np.array(data_g['count'])))"
   ]
  },
  {
   "cell_type": "raw",
   "metadata": {},
   "source": [
    "### Task 2."
   ]
  },
  {
   "cell_type": "markdown",
   "metadata": {},
   "source": [
    "Find and plot PDF and CDF for the following networks:\n",
    "* [Routing network](http://www.leonidzhukov.net/hse/2015/networks/data/network.txt)\n",
    "* [Web graph](http://www.leonidzhukov.net/hse/2015/networks/data/web_Stanford.txt)\n",
    "* [Facebook network](http://www.leonidzhukov.net/hse/2015/networks/data/fb_Princeton.txt)\n",
    "\n",
    "\n",
    "1. Are they correspondent to power law?\n",
    "2. Find max and mean values of incoming and outcoming node degrees\n",
    "3. Find $\\alpha$ via Maximum Likelihood and calculate $\\sigma^2$\n",
    "4. Determine $x_{min}$ via Kolmogorov-Smirnov test"
   ]
  },
  {
   "cell_type": "code",
   "execution_count": 64,
   "metadata": {
    "collapsed": false
   },
   "outputs": [
    {
     "data": {
      "text/plain": [
       "<matplotlib.text.Text at 0xaa23c860>"
      ]
     },
     "execution_count": 64,
     "metadata": {},
     "output_type": "execute_result"
    },
    {
     "data": {
      "image/png": "[encoded data removed]",
      "text/plain": [
       "<matplotlib.figure.Figure at 0x8393f240>"
      ]
     },
     "metadata": {},
     "output_type": "display_data"
    }
   ],
   "source": [
    "#*****************************Routing network*****************************\n",
    "import networkx as nx\n",
    "#loading data\n",
    "filename = urllib2.urlopen('http://www.leonidzhukov.net/hse/2015/networks/data/network.txt')\n",
    "G=nx.read_edgelist('network.txt')\n",
    "\n",
    "#degrees of G's nodes\n",
    "k = G.degree()\n",
    "#sorting degrees of nodes in descending order\n",
    "import operator\n",
    "k_sorted=sorted(k.items(), key = operator.itemgetter(1), reverse=True)\n",
    "a=[]#degrees\n",
    "b=[]#node's ids\n",
    "for i in range(len(k_sorted)):\n",
    "    a.append(k_sorted[i][1])\n",
    "    b.append(int(k_sorted[i][0]))\n",
    "p = 1. * np.arange(len(a)) / (len(a) - 1)\n",
    "plt.plot(sorted(a, reverse=True),p, linewidth=1) #PDF\n",
    "plt.xlim([-100,1000])\n",
    "plt.title('PDF')"
   ]
  },
  {
   "cell_type": "code",
   "execution_count": 65,
   "metadata": {
    "collapsed": false
   },
   "outputs": [
    {
     "name": "stdout",
     "output_type": "stream",
     "text": [
      "mean node degree = 4.21861255062\n",
      "max node degree = 2390\n",
      "alpha = 2.43517175294\n",
      "x_min = 1\n",
      "standard deviation (squared) = 1085.20352589\n",
      "best x_min = 3\n"
     ]
    },
    {
     "data": {
      "image/png": "[encoded data removed]",
      "text/plain": [
       "<matplotlib.figure.Figure at 0x7d8af400>"
      ]
     },
     "metadata": {},
     "output_type": "display_data"
    }
   ],
   "source": [
    "p = 1. * np.arange(len(a)) / (len(a) - 1)\n",
    "plt.plot(np.sort(a),p, linewidth=1) #CDF\n",
    "plt.xlim([-100,1000])\n",
    "plt.title('CDF')\n",
    "print 'mean node degree = '+str(np.mean(a))\n",
    "print 'max node degree = '+str(np.max(a))\n",
    "alpha=1+len(a)/(sum(np.log(np.array(a)/min(np.array(a)))))\n",
    "print 'alpha = '+str(alpha)\n",
    "print 'x_min = '+str(min(np.array(a)))\n",
    "print 'standard deviation (squared) = '+str((np.std(np.array(a)))**2)\n",
    "#using KS test to find best x_min\n",
    "from scipy import stats\n",
    "d=[]\n",
    "for i in range(np.max(a)):\n",
    "    xmin=i\n",
    "    data = [i for i in a if i >=xmin]\n",
    "    d.append(stats.kstest(data, \"powerlaw\", args=(xmin,alpha))[0])\n",
    "cleanedList = [x for x in d if np.isnan(x)==False]\n",
    "print 'best x_min = '+str(d.index(min(cleanedList)))"
   ]
  },
  {
   "cell_type": "code",
   "execution_count": 59,
   "metadata": {
    "collapsed": false
   },
   "outputs": [
    {
     "data": {
      "text/plain": [
       "<matplotlib.text.Text at 0x818131d0>"
      ]
     },
     "execution_count": 59,
     "metadata": {},
     "output_type": "execute_result"
    },
    {
     "data": {
      "image/png": "[encoded data removed]",
      "text/plain": [
       "<matplotlib.figure.Figure at 0x84bea1d0>"
      ]
     },
     "metadata": {},
     "output_type": "display_data"
    }
   ],
   "source": [
    "#**********************************Web graph*********************************\n",
    "import networkx as nx\n",
    "#loading data\n",
    "filename = urllib2.urlopen('http://www.leonidzhukov.net/hse/2015/networks/data/web_Stanford.txt')\n",
    "#directed graph\n",
    "G=nx.read_edgelist(filename,create_using = nx.DiGraph( ))\n",
    "\n",
    "#calculating in and out degrees\n",
    "node_in_degree = G.in_degree( )\n",
    "node_out_degree = G.out_degree( )\n",
    "in_deg = np.array( node_in_degree.values( ), dtype = np.int )\n",
    "out_deg = np.array( node_out_degree.values( ), dtype = np.int )\n",
    "#total degrees\n",
    "all_degr =np.sort(G.degree().values())[::-1]\n",
    "#checking if Power Law holds\n",
    "p = 1. * np.arange(len(all_degr)) / (len(all_degr) - 1)\n",
    "plt.plot(sorted(all_degr, reverse=True),p, linewidth=1) #PDF\n",
    "plt.xlim([-100,2000])\n",
    "plt.title('PDF')"
   ]
  },
  {
   "cell_type": "code",
   "execution_count": 60,
   "metadata": {
    "collapsed": false
   },
   "outputs": [
    {
     "name": "stdout",
     "output_type": "stream",
     "text": [
      "mean node degree (in) = 6.19411012698\n",
      "max node degree (in) = 20866\n",
      "mean node degree (out) = 6.19411012698\n",
      "max node degree (out) = 247\n",
      "alpha = 1.65256680713\n",
      "x_min = 1\n",
      "standard deviation (squared) = 11733.989768\n",
      "best x_min = 1\n"
     ]
    },
    {
     "data": {
      "image/png": "[encoded data removed]",
      "text/plain": [
       "<matplotlib.figure.Figure at 0xbd560a90>"
      ]
     },
     "metadata": {},
     "output_type": "display_data"
    }
   ],
   "source": [
    "p = 1. * np.arange(len(all_degr)) / (len(all_degr) - 1)\n",
    "plt.plot(sorted(all_degr),p, linewidth=1) #СDF\n",
    "plt.xlim([-100,2000])\n",
    "plt.title('CDF')\n",
    "print 'mean node degree (in) = '+str(np.mean(in_deg))\n",
    "print 'max node degree (in) = '+str(np.max(in_deg))\n",
    "print 'mean node degree (out) = '+str(np.mean(out_deg))\n",
    "print 'max node degree (out) = '+str(np.max(out_deg))\n",
    "alpha=1+len(all_degr)/(sum(np.log(all_degr/min(all_degr))))\n",
    "print 'alpha = '+str(alpha)\n",
    "print 'x_min = '+str(min(all_degr))\n",
    "print 'standard deviation (squared) = '+str((np.std(all_degr))**2)\n",
    "#using KS test to find best x_min\n",
    "from scipy import stats\n",
    "d=[]\n",
    "i=0\n",
    "while i<len(list(set(all_degr))):\n",
    "    xmin=list(set(all_degr))[i]\n",
    "    data = [k for k in all_degr if k >=xmin]\n",
    "    d.append(stats.kstest(data, \"powerlaw\", args=(xmin,alpha))[0])\n",
    "    i=i+1\n",
    "cleanedList = [x for x in d if np.isnan(x)==False]\n",
    "print 'best x_min = '+str(list(set(all_degr))[d.index(min(cleanedList))])"
   ]
  },
  {
   "cell_type": "code",
   "execution_count": 62,
   "metadata": {
    "collapsed": false
   },
   "outputs": [
    {
     "data": {
      "text/plain": [
       "<matplotlib.text.Text at 0xbd2e3cc0>"
      ]
     },
     "execution_count": 62,
     "metadata": {},
     "output_type": "execute_result"
    },
    {
     "data": {
      "image/png": "[encoded data removed]",
      "text/plain": [
       "<matplotlib.figure.Figure at 0x8393f1d0>"
      ]
     },
     "metadata": {},
     "output_type": "display_data"
    }
   ],
   "source": [
    "#*****************************Facebook network*****************************\n",
    "import networkx as nx\n",
    "#loading data\n",
    "filename = urllib2.urlopen('http://www.leonidzhukov.net/hse/2015/networks/data/fb_Princeton.txt')\n",
    "G=nx.read_edgelist(filename) #undirected graph\n",
    "\n",
    "#degrees of G's nodes\n",
    "k = G.degree()\n",
    "#sorting degrees of nodes in descending order\n",
    "import operator\n",
    "k_sorted=sorted(k.items(), key = operator.itemgetter(1), reverse=True)\n",
    "a=[]#degrees\n",
    "b=[]#node's ids\n",
    "for i in range(len(k_sorted)):\n",
    "    a.append(k_sorted[i][1])\n",
    "    b.append(int(k_sorted[i][0]))\n",
    "p = 1. * np.arange(len(a)) / (len(a) - 1)\n",
    "plt.plot(sorted(a, reverse=True),p, linewidth=1) #PDF\n",
    "#plt.xlim([-100,000])\n",
    "plt.title('PDF') \n",
    "#doesnt really look like Power Law"
   ]
  },
  {
   "cell_type": "code",
   "execution_count": 63,
   "metadata": {
    "collapsed": false
   },
   "outputs": [
    {
     "name": "stdout",
     "output_type": "stream",
     "text": [
      "mean node degree = 88.938750758\n",
      "max node degree = 628\n",
      "alpha = 1.255330766\n",
      "x_min = 1\n",
      "standard deviation (squared) = 6169.04385314\n",
      "best x_min = 1\n"
     ]
    },
    {
     "data": {
      "image/png": "[encoded data removed]",
      "text/plain": [
       "<matplotlib.figure.Figure at 0xbd571978>"
      ]
     },
     "metadata": {},
     "output_type": "display_data"
    }
   ],
   "source": [
    "p = 1. * np.arange(len(a)) / (len(a) - 1)\n",
    "plt.plot(np.sort(a),p, linewidth=1) #CDF\n",
    "#plt.xlim([-100,1000])\n",
    "plt.title('CDF')\n",
    "print 'mean node degree = '+str(np.mean(a))\n",
    "print 'max node degree = '+str(np.max(a))\n",
    "alpha=1+len(a)/(sum(np.log(np.array(a)/min(np.array(a)))))\n",
    "print 'alpha = '+str(alpha)\n",
    "print 'x_min = '+str(min(np.array(a)))\n",
    "print 'standard deviation (squared) = '+str((np.std(np.array(a)))**2)\n",
    "#using KS test to find best x_min\n",
    "from scipy import stats\n",
    "d=[]\n",
    "for i in range(np.max(a)):\n",
    "    xmin=i\n",
    "    data = [i for i in a if i >=xmin]\n",
    "    d.append(stats.kstest(data, \"powerlaw\", args=(xmin,alpha))[0])\n",
    "cleanedList = [x for x in d if np.isnan(x)==False]\n",
    "print 'best x_min = '+str(d.index(min(cleanedList)))"
   ]
  },
  {
   "cell_type": "code",
   "execution_count": null,
   "metadata": {
    "collapsed": true
   },
   "outputs": [],
   "source": []
  }
 ],
 "metadata": {
  "kernelspec": {
   "display_name": "Python 2",
   "language": "python",
   "name": "python2"
  },
  "language_info": {
   "codemirror_mode": {
    "name": "ipython",
    "version": 2
   },
   "file_extension": ".py",
   "mimetype": "text/x-python",
   "name": "python",
   "nbconvert_exporter": "python",
   "pygments_lexer": "ipython2",
   "version": "2.7.10"
  }
 },
 "nbformat": 4,
 "nbformat_minor": 0
}
