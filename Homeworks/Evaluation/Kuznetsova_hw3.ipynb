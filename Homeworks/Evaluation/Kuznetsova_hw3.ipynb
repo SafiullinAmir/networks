{
 "cells": [
  {
   "cell_type": "markdown",
   "metadata": {},
   "source": [
    "# <center>Network Science</center>"
   ]
  },
  {
   "cell_type": "markdown",
   "metadata": {},
   "source": [
    "## <center>Home Assignment #3: Centralities and Assortativity</center>"
   ]
  },
  {
   "cell_type": "markdown",
   "metadata": {},
   "source": [
    "### <center>Student: Aleksandra Kuznetsova</center>"
   ]
  },
  {
   "cell_type": "markdown",
   "metadata": {},
   "source": [
    "#### <hr /> General Information"
   ]
  },
  {
   "cell_type": "markdown",
   "metadata": {},
   "source": [
    "**Due Date:** 13.03.2016 23:59 <br \\>\n",
    "**Late submission policy:** -0.2 points per day <br \\>\n",
    "\n",
    "\n",
    "Please send your reports to <mailto:network.hse.2016@gmail.com> with message subject of the following structure:<br \\> **[HSE Networks 2015] *{LastName}* *{First Name}* HA*{Number}***\n",
    "\n",
    "Support your computations with figures and comments. <br \\>\n",
    "If you are using IPython Notebook you may use this file as a starting point of your report.<br \\>\n",
    "<br \\>\n",
    "<hr \\>"
   ]
  },
  {
   "cell_type": "markdown",
   "metadata": {},
   "source": [
    "## Problems"
   ]
  },
  {
   "cell_type": "markdown",
   "metadata": {},
   "source": [
    "### Task 1"
   ]
  },
  {
   "cell_type": "markdown",
   "metadata": {},
   "source": [
    "Compute degree centrality, Pagerank and  HubAuthorities scores for the [flickr](https://www.hse.ru/data/2016/02/24/1139618969/flickr.mat) network. \n",
    "\n",
    "Data contains sparse matrix A and list of user names.\n",
    "This is a “denser” part of the Flickr photo sharing site friendship graph from 2006. Edge direction corresponds to friendship requests (following). Some of the links are reciprocal,others not.  \n",
    "\n",
    "Provide top 50 names in each ranking, compare results\n",
    "\n",
    "You can load .mat files with the following commands:"
   ]
  },
  {
   "cell_type": "code",
   "execution_count": 1,
   "metadata": {
    "collapsed": false
   },
   "outputs": [],
   "source": [
    "import scipy.io\n",
    "import numpy as np\n",
    "import networkx as nx\n",
    "import pandas as pd\n",
    "%matplotlib inline"
   ]
  },
  {
   "cell_type": "code",
   "execution_count": 20,
   "metadata": {
    "collapsed": false
   },
   "outputs": [],
   "source": [
    "data = scipy.io.loadmat('flickr.mat')\n",
    "names = data['names']\n",
    "import re\n",
    "names = [re.sub(\"\\s\\s+\", '', st) for st in data['names']]\n",
    "A = data['A']\n",
    "\n",
    "strind = scipy.sparse.find(A)[0]\n",
    "colind = scipy.sparse.find(A)[1]"
   ]
  },
  {
   "cell_type": "code",
   "execution_count": 21,
   "metadata": {
    "collapsed": false
   },
   "outputs": [],
   "source": [
    "# create a directed graph\n",
    "G = nx.DiGraph()\n",
    "G.add_nodes_from(names)\n",
    "\n",
    "for i in range(0, len(strind)):\n",
    "    G.add_edge(names[strind[i]],names[colind[i]])"
   ]
  },
  {
   "cell_type": "code",
   "execution_count": 22,
   "metadata": {
    "collapsed": false
   },
   "outputs": [
    {
     "data": {
      "text/plain": [
       "['awfulsara',\n",
       " 'drp',\n",
       " 'DrJoanne',\n",
       " 'antimethod',\n",
       " '*Ivan*',\n",
       " 'BombDog',\n",
       " 'deborah lattimore',\n",
       " 'Simon Pais',\n",
       " 'cymagen',\n",
       " 'notraces',\n",
       " 'MaD GiÂ®Lâ\\x80¢â\\x84¢',\n",
       " 'aleyna',\n",
       " '*starlet*',\n",
       " 'lorrainemd',\n",
       " 'Pandarine',\n",
       " 'artofgold',\n",
       " ':Nikola',\n",
       " 'Mareen Fischinger',\n",
       " 'gu@va',\n",
       " 'Mylens',\n",
       " 'bernardo.borghetti',\n",
       " 'hot_luscious',\n",
       " 'romanlily',\n",
       " 'jkottke',\n",
       " 'pixietart',\n",
       " 'slowernet',\n",
       " 'anildash',\n",
       " 'pbowers',\n",
       " 'Joi',\n",
       " 'fraying',\n",
       " 'naftalina007',\n",
       " '.lush',\n",
       " 'Loobylu',\n",
       " 'Buntekuh',\n",
       " 'CherryVega',\n",
       " 'Gayla',\n",
       " 'jakedobkin',\n",
       " 'underbunny',\n",
       " 'fd',\n",
       " 'Airchild',\n",
       " 'maximolly',\n",
       " '* HoNe$t *',\n",
       " 'Sexy Swedish Babe',\n",
       " 'Ya Ya',\n",
       " 'kaneblues',\n",
       " 'Tsunami Notes',\n",
       " '990000',\n",
       " 'overshadowed',\n",
       " 'good morning stradivari',\n",
       " 'Tom Coates']"
      ]
     },
     "execution_count": 22,
     "metadata": {},
     "output_type": "execute_result"
    }
   ],
   "source": [
    "# Top 50 names by degree centrality\n",
    "dc = nx.degree_centrality(G)\n",
    "degtop = sorted(dc, key=dc.__getitem__, reverse = True)[0:50]\n",
    "degtop"
   ]
  },
  {
   "cell_type": "code",
   "execution_count": 23,
   "metadata": {
    "collapsed": false
   },
   "outputs": [
    {
     "data": {
      "text/plain": [
       "['awfulsara',\n",
       " 'drp',\n",
       " 'antimethod',\n",
       " 'BombDog',\n",
       " '*Ivan*',\n",
       " 'MaD GiÂ®Lâ\\x80¢â\\x84¢',\n",
       " 'DrJoanne',\n",
       " 'Simon Pais',\n",
       " 'deborah lattimore',\n",
       " 'cymagen',\n",
       " ':Nikola',\n",
       " 'notraces',\n",
       " 'jkottke',\n",
       " 'lorrainemd',\n",
       " 'slowernet',\n",
       " 'artofgold',\n",
       " 'romanlily',\n",
       " '*starlet*',\n",
       " 'Pandarine',\n",
       " 'hot_luscious',\n",
       " 'Mareen Fischinger',\n",
       " 'underbunny',\n",
       " 'fraying',\n",
       " 'Mylens',\n",
       " 'aleyna',\n",
       " '* HoNe$t *',\n",
       " 'gu@va',\n",
       " 'pbowers',\n",
       " 'anildash',\n",
       " 'Loobylu',\n",
       " 'Joi',\n",
       " 'CherryVega',\n",
       " 'MarceloMontecino',\n",
       " 'bernardo.borghetti',\n",
       " '!!uAe prince!!',\n",
       " 'Esther_G',\n",
       " 'Departure Lounge',\n",
       " 'gruntzooki',\n",
       " 'Gayla',\n",
       " 'Tom Coates',\n",
       " 'maximolly',\n",
       " 'chromogenic',\n",
       " 'Agridulce',\n",
       " 'naftalina007',\n",
       " 'pixietart',\n",
       " 'aquanerds',\n",
       " 'overshadowed',\n",
       " '.lush',\n",
       " 'jakedobkin',\n",
       " 'fd']"
      ]
     },
     "execution_count": 23,
     "metadata": {},
     "output_type": "execute_result"
    }
   ],
   "source": [
    "# Top 50 names by PageRank\n",
    "pr = nx.pagerank(G)\n",
    "prtop = sorted(pr, key=pr.__getitem__, reverse = True)[0:50]\n",
    "prtop"
   ]
  },
  {
   "cell_type": "code",
   "execution_count": 28,
   "metadata": {
    "collapsed": false
   },
   "outputs": [],
   "source": [
    "# HITS\n",
    "(h, a) = nx.hits(G)"
   ]
  },
  {
   "cell_type": "code",
   "execution_count": 30,
   "metadata": {
    "collapsed": false
   },
   "outputs": [
    {
     "data": {
      "text/plain": [
       "['awfulsara',\n",
       " 'drp',\n",
       " 'antimethod',\n",
       " 'BombDog',\n",
       " '*Ivan*',\n",
       " 'MaD GiÂ®Lâ\\x80¢â\\x84¢',\n",
       " 'DrJoanne',\n",
       " 'Simon Pais',\n",
       " 'deborah lattimore',\n",
       " 'cymagen',\n",
       " ':Nikola',\n",
       " 'notraces',\n",
       " 'jkottke',\n",
       " 'lorrainemd',\n",
       " 'slowernet',\n",
       " 'artofgold',\n",
       " 'romanlily',\n",
       " '*starlet*',\n",
       " 'Pandarine',\n",
       " 'hot_luscious',\n",
       " 'Mareen Fischinger',\n",
       " 'underbunny',\n",
       " 'fraying',\n",
       " 'Mylens',\n",
       " 'aleyna',\n",
       " '* HoNe$t *',\n",
       " 'gu@va',\n",
       " 'pbowers',\n",
       " 'anildash',\n",
       " 'Loobylu',\n",
       " 'Joi',\n",
       " 'CherryVega',\n",
       " 'MarceloMontecino',\n",
       " 'bernardo.borghetti',\n",
       " '!!uAe prince!!',\n",
       " 'Esther_G',\n",
       " 'Departure Lounge',\n",
       " 'gruntzooki',\n",
       " 'Gayla',\n",
       " 'Tom Coates',\n",
       " 'maximolly',\n",
       " 'chromogenic',\n",
       " 'Agridulce',\n",
       " 'naftalina007',\n",
       " 'pixietart',\n",
       " 'aquanerds',\n",
       " 'overshadowed',\n",
       " '.lush',\n",
       " 'jakedobkin',\n",
       " 'fd']"
      ]
     },
     "execution_count": 30,
     "metadata": {},
     "output_type": "execute_result"
    }
   ],
   "source": [
    "# Top 50 names for hubs\n",
    "htop = sorted(h, key=pr.__getitem__, reverse = True)[0:50]\n",
    "htop"
   ]
  },
  {
   "cell_type": "code",
   "execution_count": 31,
   "metadata": {
    "collapsed": false
   },
   "outputs": [
    {
     "data": {
      "text/plain": [
       "['awfulsara',\n",
       " 'drp',\n",
       " 'antimethod',\n",
       " 'BombDog',\n",
       " '*Ivan*',\n",
       " 'MaD GiÂ®Lâ\\x80¢â\\x84¢',\n",
       " 'DrJoanne',\n",
       " 'Simon Pais',\n",
       " 'deborah lattimore',\n",
       " 'cymagen',\n",
       " ':Nikola',\n",
       " 'notraces',\n",
       " 'jkottke',\n",
       " 'lorrainemd',\n",
       " 'slowernet',\n",
       " 'artofgold',\n",
       " 'romanlily',\n",
       " '*starlet*',\n",
       " 'Pandarine',\n",
       " 'hot_luscious',\n",
       " 'Mareen Fischinger',\n",
       " 'underbunny',\n",
       " 'fraying',\n",
       " 'Mylens',\n",
       " 'aleyna',\n",
       " '* HoNe$t *',\n",
       " 'gu@va',\n",
       " 'pbowers',\n",
       " 'anildash',\n",
       " 'Loobylu',\n",
       " 'Joi',\n",
       " 'CherryVega',\n",
       " 'MarceloMontecino',\n",
       " 'bernardo.borghetti',\n",
       " '!!uAe prince!!',\n",
       " 'Esther_G',\n",
       " 'Departure Lounge',\n",
       " 'gruntzooki',\n",
       " 'Gayla',\n",
       " 'Tom Coates',\n",
       " 'maximolly',\n",
       " 'chromogenic',\n",
       " 'Agridulce',\n",
       " 'naftalina007',\n",
       " 'pixietart',\n",
       " 'aquanerds',\n",
       " 'overshadowed',\n",
       " '.lush',\n",
       " 'jakedobkin',\n",
       " 'fd']"
      ]
     },
     "execution_count": 31,
     "metadata": {},
     "output_type": "execute_result"
    }
   ],
   "source": [
    "# Top 50 names for authorities\n",
    "atop = sorted(a, key=pr.__getitem__, reverse = True)[0:50]\n",
    "atop"
   ]
  },
  {
   "cell_type": "code",
   "execution_count": 41,
   "metadata": {
    "collapsed": false
   },
   "outputs": [
    {
     "name": "stdout",
     "output_type": "stream",
     "text": [
      "8\n",
      "8\n",
      "50\n"
     ]
    }
   ],
   "source": [
    "# Quantity of names staying on the same positions in degree centrality rank and pagerank\n",
    "sum = 0\n",
    "for i in range(0,50):\n",
    "    if degtop[i]==prtop[i]:\n",
    "        sum = sum + 1\n",
    "print(sum)\n",
    "\n",
    "# Quantity of names staying on the same positions in degree centrality rank and hubs&authorities\n",
    "sum = 0\n",
    "for i in range(0,50):\n",
    "    if degtop[i]==atop[i]:\n",
    "        sum = sum + 1\n",
    "print(sum)\n",
    "\n",
    "\n",
    "# Quantity of names staying on the same positions in hubs rank and authorities rank\n",
    "sum = 0\n",
    "for i in range(0,50):\n",
    "    if atop[i]==htop[i]:\n",
    "        sum = sum + 1\n",
    "print(sum)\n"
   ]
  },
  {
   "cell_type": "markdown",
   "metadata": {},
   "source": [
    "### <hr /> Task 2"
   ]
  },
  {
   "cell_type": "markdown",
   "metadata": {},
   "source": [
    "Here are the [Facebook friendship graphs](https://snap.stanford.edu/data/egonets-Facebook.html) from several US universities from 2005 (one year after fb launch).\n",
    "\n",
    "Data contains a A matrix (sparse) and a \"local_info\" variable, one row per node: \n",
    "a student/faculty status flag, gender, major, second major/minor (if applicable), dorm/house, year, and high school. \n",
    "Missing data is coded 0.\n",
    "\n",
    "Compute node degree assortativity (mixining by node degree) and assortativity coefficient (modularity) for gender, major, dormitory, year, high school for all universities and compare the results."
   ]
  },
  {
   "cell_type": "markdown",
   "metadata": {},
   "source": [
    "The results of this task:\n",
    "\n",
    "Node degree assortativity: Berkeley = 0.01, Caltech = -0.07, Harvard = 0.15, Oklahoma = 0.07, Princeton = 0.09, Texas = 0.16. The highest value is for Harvard University.\n",
    "\n",
    "Assortativity coefficient for gender: Berkeley = 0.04, Caltech = 0.05, Harvard = 0.05, Oklahoma = 0.09, Princeton = 0.05, Texas = 0.08. All this coefficients are very small.\n",
    "\n",
    "Assortativity coefficient for major: Berkeley = 0.06, Caltech = 0.03, Harvard = 0.05, Oklahoma = 0.04, Princeton = 0.05, Texas = 0.06. The results is similar to the gender: all coefficients are small.\n",
    "\n",
    "Assortativity coefficient for dormitory: Berkeley = 0.15, Caltech = 0.35, Harvard = 0.13, Oklahoma = 0.28, Princeton = 0.09, Texas = 0.20. The coefficients are high with respect to the previous results. The highest is for Caltech University, and for Princeton is the lowest result as for gender and major.\n",
    "\n",
    "Assortativity coefficient for year: Berkeley = 0.31, Caltech = 0.24, Harvard = 0.42, Oklahoma = 0.20, Princeton = 0.45, Texas = 0.25. All this coefficients are high, the highest for Princeton.\n",
    "\n",
    "Assortativity coefficient for high school: Berkeley = 0.08, Caltech = 0.003, Harvard = 0.02, Oklahoma = 0.14, Princeton = 0.02, Texas = 0.15. The high school feature give the significant results only for Oklahoma and Texas Universities. \n",
    "\n"
   ]
  },
  {
   "cell_type": "markdown",
   "metadata": {},
   "source": [
    "## 1) Berkeley university"
   ]
  },
  {
   "cell_type": "code",
   "execution_count": 3,
   "metadata": {
    "collapsed": false,
    "scrolled": false
   },
   "outputs": [],
   "source": [
    "# Berkeley university\n",
    "# create the graph GB for this network\n",
    "# save the personal features into the array 'local_info'\n",
    "\n",
    "data = scipy.io.loadmat('universities\\\\Berkeley13.mat')\n",
    "local_info = data['local_info']\n",
    "A = data['A']\n",
    "\n",
    "strind = scipy.sparse.find(A)[0]\n",
    "colind = scipy.sparse.find(A)[1]\n",
    "\n",
    "GB = nx.DiGraph()\n",
    "GB.add_nodes_from(range(0,len(local_info)))\n",
    "\n",
    "for i in range(0, len(strind)):\n",
    "    GB.add_edge(strind[i],colind[i])"
   ]
  },
  {
   "cell_type": "code",
   "execution_count": 3,
   "metadata": {
    "collapsed": false
   },
   "outputs": [
    {
     "name": "stdout",
     "output_type": "stream",
     "text": [
      "0.0103134590889\n"
     ]
    }
   ],
   "source": [
    "# node degree assortativity coefficient for this network\n",
    "print(nx.degree_assortativity_coefficient(GB))"
   ]
  },
  {
   "cell_type": "code",
   "execution_count": 4,
   "metadata": {
    "collapsed": false
   },
   "outputs": [],
   "source": [
    "# all features from the local_info\n",
    "gender = np.zeros(len(local_info))\n",
    "for i in range(0,len(local_info)):\n",
    "    gender[i] = local_info[i][1]\n",
    "major = np.zeros(len(local_info))\n",
    "for i in range(0,len(local_info)):\n",
    "    major[i] = local_info[i][2]\n",
    "dorm = np.zeros(len(local_info))\n",
    "for i in range(0,len(local_info)):\n",
    "    dorm[i] = local_info[i][4]\n",
    "year = np.zeros(len(local_info))\n",
    "for i in range(0,len(local_info)):\n",
    "    year[i] = local_info[i][5]\n",
    "highs = np.zeros(len(local_info))\n",
    "for i in range(0,len(local_info)):\n",
    "    highs[i] = local_info[i][6]\n"
   ]
  },
  {
   "cell_type": "code",
   "execution_count": 10,
   "metadata": {
    "collapsed": false
   },
   "outputs": [
    {
     "data": {
      "text/plain": [
       "0.040922837639318366"
      ]
     },
     "execution_count": 10,
     "metadata": {},
     "output_type": "execute_result"
    }
   ],
   "source": [
    "# assortativity coefficient for gender\n",
    "gen_dict = {}\n",
    "for i in range(0,len(local_info)):\n",
    "    gen_dict[i] = gender[i]\n",
    "    \n",
    "nx.set_node_attributes(GB, 'gender', gen_dict)\n",
    "nx.attribute_assortativity_coefficient(GB, 'gender')"
   ]
  },
  {
   "cell_type": "code",
   "execution_count": 15,
   "metadata": {
    "collapsed": false
   },
   "outputs": [
    {
     "data": {
      "text/plain": [
       "0.05825502994601474"
      ]
     },
     "execution_count": 15,
     "metadata": {},
     "output_type": "execute_result"
    }
   ],
   "source": [
    "# assortativity coefficient for major\n",
    "major_dict = {}\n",
    "for i in range(0,len(local_info)):\n",
    "    major_dict[i] = major[i]\n",
    "    \n",
    "nx.set_node_attributes(GB, 'major', major_dict)\n",
    "nx.attribute_assortativity_coefficient(GB, 'major')"
   ]
  },
  {
   "cell_type": "code",
   "execution_count": 16,
   "metadata": {
    "collapsed": false
   },
   "outputs": [
    {
     "data": {
      "text/plain": [
       "0.1472764407599787"
      ]
     },
     "execution_count": 16,
     "metadata": {},
     "output_type": "execute_result"
    }
   ],
   "source": [
    "# assortativity coefficient for dormitory\n",
    "dorm_dict = {}\n",
    "for i in range(0,len(local_info)):\n",
    "    dorm_dict[i] = dorm[i]\n",
    "    \n",
    "nx.set_node_attributes(GB, 'dorm', dorm_dict)\n",
    "nx.attribute_assortativity_coefficient(GB, 'dorm')"
   ]
  },
  {
   "cell_type": "code",
   "execution_count": 17,
   "metadata": {
    "collapsed": false
   },
   "outputs": [
    {
     "data": {
      "text/plain": [
       "0.3081210158062389"
      ]
     },
     "execution_count": 17,
     "metadata": {},
     "output_type": "execute_result"
    }
   ],
   "source": [
    "# assortativity coefficient for year\n",
    "year_dict = {}\n",
    "for i in range(0,len(local_info)):\n",
    "    year_dict[i] = year[i]\n",
    "    \n",
    "nx.set_node_attributes(GB, 'year', year_dict)\n",
    "nx.attribute_assortativity_coefficient(GB, 'year')"
   ]
  },
  {
   "cell_type": "code",
   "execution_count": 18,
   "metadata": {
    "collapsed": false
   },
   "outputs": [
    {
     "data": {
      "text/plain": [
       "0.07737536535425941"
      ]
     },
     "execution_count": 18,
     "metadata": {},
     "output_type": "execute_result"
    }
   ],
   "source": [
    "# assortativity coefficient for high school\n",
    "highs_dict = {}\n",
    "for i in range(0,len(local_info)):\n",
    "    highs_dict[i] = highs[i]\n",
    "    \n",
    "nx.set_node_attributes(GB, 'highs', highs_dict)\n",
    "nx.attribute_assortativity_coefficient(GB, 'highs')"
   ]
  },
  {
   "cell_type": "markdown",
   "metadata": {},
   "source": [
    "## 2) Caltech "
   ]
  },
  {
   "cell_type": "code",
   "execution_count": 19,
   "metadata": {
    "collapsed": true
   },
   "outputs": [],
   "source": [
    "# Caltech university\n",
    "# create the graph GB for this network\n",
    "# save the personal features into the array 'local_info'\n",
    "\n",
    "data = scipy.io.loadmat('universities\\\\Caltech36.mat')\n",
    "local_info = data['local_info']\n",
    "A = data['A']\n",
    "\n",
    "strind = scipy.sparse.find(A)[0]\n",
    "colind = scipy.sparse.find(A)[1]\n",
    "\n",
    "GB = nx.DiGraph()\n",
    "GB.add_nodes_from(range(0,len(local_info)))\n",
    "\n",
    "for i in range(0, len(strind)):\n",
    "    GB.add_edge(strind[i],colind[i])"
   ]
  },
  {
   "cell_type": "code",
   "execution_count": 20,
   "metadata": {
    "collapsed": false
   },
   "outputs": [
    {
     "name": "stdout",
     "output_type": "stream",
     "text": [
      "-0.0652729511948\n"
     ]
    }
   ],
   "source": [
    "# node degree assortativity coefficient for this network\n",
    "print(nx.degree_assortativity_coefficient(GB))"
   ]
  },
  {
   "cell_type": "code",
   "execution_count": 21,
   "metadata": {
    "collapsed": true
   },
   "outputs": [],
   "source": [
    "# all features from the local_info\n",
    "gender = np.zeros(len(local_info))\n",
    "for i in range(0,len(local_info)):\n",
    "    gender[i] = local_info[i][1]\n",
    "major = np.zeros(len(local_info))\n",
    "for i in range(0,len(local_info)):\n",
    "    major[i] = local_info[i][2]\n",
    "dorm = np.zeros(len(local_info))\n",
    "for i in range(0,len(local_info)):\n",
    "    dorm[i] = local_info[i][4]\n",
    "year = np.zeros(len(local_info))\n",
    "for i in range(0,len(local_info)):\n",
    "    year[i] = local_info[i][5]\n",
    "highs = np.zeros(len(local_info))\n",
    "for i in range(0,len(local_info)):\n",
    "    highs[i] = local_info[i][6]"
   ]
  },
  {
   "cell_type": "code",
   "execution_count": 22,
   "metadata": {
    "collapsed": false
   },
   "outputs": [
    {
     "data": {
      "text/plain": [
       "0.04633143645586916"
      ]
     },
     "execution_count": 22,
     "metadata": {},
     "output_type": "execute_result"
    }
   ],
   "source": [
    "# assortativity coefficient for gender\n",
    "gen_dict = {}\n",
    "for i in range(0,len(local_info)):\n",
    "    gen_dict[i] = gender[i]\n",
    "    \n",
    "nx.set_node_attributes(GB, 'gender', gen_dict)\n",
    "nx.attribute_assortativity_coefficient(GB, 'gender')"
   ]
  },
  {
   "cell_type": "code",
   "execution_count": 23,
   "metadata": {
    "collapsed": false
   },
   "outputs": [
    {
     "data": {
      "text/plain": [
       "0.03471942372358318"
      ]
     },
     "execution_count": 23,
     "metadata": {},
     "output_type": "execute_result"
    }
   ],
   "source": [
    "# assortativity coefficient for major\n",
    "major_dict = {}\n",
    "for i in range(0,len(local_info)):\n",
    "    major_dict[i] = major[i]\n",
    "    \n",
    "nx.set_node_attributes(GB, 'major', major_dict)\n",
    "nx.attribute_assortativity_coefficient(GB, 'major')"
   ]
  },
  {
   "cell_type": "code",
   "execution_count": 24,
   "metadata": {
    "collapsed": false
   },
   "outputs": [
    {
     "data": {
      "text/plain": [
       "0.3491531008726444"
      ]
     },
     "execution_count": 24,
     "metadata": {},
     "output_type": "execute_result"
    }
   ],
   "source": [
    "# assortativity coefficient for dormitory\n",
    "dorm_dict = {}\n",
    "for i in range(0,len(local_info)):\n",
    "    dorm_dict[i] = dorm[i]\n",
    "    \n",
    "nx.set_node_attributes(GB, 'dorm', dorm_dict)\n",
    "nx.attribute_assortativity_coefficient(GB, 'dorm')"
   ]
  },
  {
   "cell_type": "code",
   "execution_count": 25,
   "metadata": {
    "collapsed": false
   },
   "outputs": [
    {
     "data": {
      "text/plain": [
       "0.2375319048128821"
      ]
     },
     "execution_count": 25,
     "metadata": {},
     "output_type": "execute_result"
    }
   ],
   "source": [
    "# assortativity coefficient for year\n",
    "year_dict = {}\n",
    "for i in range(0,len(local_info)):\n",
    "    year_dict[i] = year[i]\n",
    "    \n",
    "nx.set_node_attributes(GB, 'year', year_dict)\n",
    "nx.attribute_assortativity_coefficient(GB, 'year')"
   ]
  },
  {
   "cell_type": "code",
   "execution_count": 26,
   "metadata": {
    "collapsed": false
   },
   "outputs": [
    {
     "data": {
      "text/plain": [
       "0.0026697793065768665"
      ]
     },
     "execution_count": 26,
     "metadata": {},
     "output_type": "execute_result"
    }
   ],
   "source": [
    "# assortativity coefficient for high school\n",
    "highs_dict = {}\n",
    "for i in range(0,len(local_info)):\n",
    "    highs_dict[i] = highs[i]\n",
    "    \n",
    "nx.set_node_attributes(GB, 'highs', highs_dict)\n",
    "nx.attribute_assortativity_coefficient(GB, 'highs')"
   ]
  },
  {
   "cell_type": "markdown",
   "metadata": {},
   "source": [
    "## 3) Harvard"
   ]
  },
  {
   "cell_type": "code",
   "execution_count": 27,
   "metadata": {
    "collapsed": true
   },
   "outputs": [],
   "source": [
    "# Harvard university\n",
    "# create the graph GB for this network\n",
    "# save the personal features into the array 'local_info'\n",
    "\n",
    "data = scipy.io.loadmat('universities\\\\Harvard1.mat')\n",
    "local_info = data['local_info']\n",
    "A = data['A']\n",
    "\n",
    "strind = scipy.sparse.find(A)[0]\n",
    "colind = scipy.sparse.find(A)[1]\n",
    "\n",
    "GB = nx.DiGraph()\n",
    "GB.add_nodes_from(range(0,len(local_info)))\n",
    "\n",
    "for i in range(0, len(strind)):\n",
    "    GB.add_edge(strind[i],colind[i])"
   ]
  },
  {
   "cell_type": "code",
   "execution_count": 28,
   "metadata": {
    "collapsed": false
   },
   "outputs": [
    {
     "name": "stdout",
     "output_type": "stream",
     "text": [
      "0.145054887671\n"
     ]
    }
   ],
   "source": [
    "# node degree assortativity coefficient for this network\n",
    "print(nx.degree_assortativity_coefficient(GB))"
   ]
  },
  {
   "cell_type": "code",
   "execution_count": 29,
   "metadata": {
    "collapsed": true
   },
   "outputs": [],
   "source": [
    "# all features from the local_info\n",
    "gender = np.zeros(len(local_info))\n",
    "for i in range(0,len(local_info)):\n",
    "    gender[i] = local_info[i][1]\n",
    "major = np.zeros(len(local_info))\n",
    "for i in range(0,len(local_info)):\n",
    "    major[i] = local_info[i][2]\n",
    "dorm = np.zeros(len(local_info))\n",
    "for i in range(0,len(local_info)):\n",
    "    dorm[i] = local_info[i][4]\n",
    "year = np.zeros(len(local_info))\n",
    "for i in range(0,len(local_info)):\n",
    "    year[i] = local_info[i][5]\n",
    "highs = np.zeros(len(local_info))\n",
    "for i in range(0,len(local_info)):\n",
    "    highs[i] = local_info[i][6]"
   ]
  },
  {
   "cell_type": "code",
   "execution_count": 30,
   "metadata": {
    "collapsed": false
   },
   "outputs": [
    {
     "data": {
      "text/plain": [
       "0.04526997737944205"
      ]
     },
     "execution_count": 30,
     "metadata": {},
     "output_type": "execute_result"
    }
   ],
   "source": [
    "# assortativity coefficient for gender\n",
    "gen_dict = {}\n",
    "for i in range(0,len(local_info)):\n",
    "    gen_dict[i] = gender[i]\n",
    "    \n",
    "nx.set_node_attributes(GB, 'gender', gen_dict)\n",
    "nx.attribute_assortativity_coefficient(GB, 'gender')"
   ]
  },
  {
   "cell_type": "code",
   "execution_count": 31,
   "metadata": {
    "collapsed": false
   },
   "outputs": [
    {
     "data": {
      "text/plain": [
       "0.04967692832862898"
      ]
     },
     "execution_count": 31,
     "metadata": {},
     "output_type": "execute_result"
    }
   ],
   "source": [
    "# assortativity coefficient for major\n",
    "major_dict = {}\n",
    "for i in range(0,len(local_info)):\n",
    "    major_dict[i] = major[i]\n",
    "    \n",
    "nx.set_node_attributes(GB, 'major', major_dict)\n",
    "nx.attribute_assortativity_coefficient(GB, 'major')"
   ]
  },
  {
   "cell_type": "code",
   "execution_count": 32,
   "metadata": {
    "collapsed": false
   },
   "outputs": [
    {
     "data": {
      "text/plain": [
       "0.12567663504955817"
      ]
     },
     "execution_count": 32,
     "metadata": {},
     "output_type": "execute_result"
    }
   ],
   "source": [
    "# assortativity coefficient for dormitory\n",
    "dorm_dict = {}\n",
    "for i in range(0,len(local_info)):\n",
    "    dorm_dict[i] = dorm[i]\n",
    "    \n",
    "nx.set_node_attributes(GB, 'dorm', dorm_dict)\n",
    "nx.attribute_assortativity_coefficient(GB, 'dorm')"
   ]
  },
  {
   "cell_type": "code",
   "execution_count": 33,
   "metadata": {
    "collapsed": false
   },
   "outputs": [
    {
     "data": {
      "text/plain": [
       "0.4211596421160826"
      ]
     },
     "execution_count": 33,
     "metadata": {},
     "output_type": "execute_result"
    }
   ],
   "source": [
    "# assortativity coefficient for year\n",
    "year_dict = {}\n",
    "for i in range(0,len(local_info)):\n",
    "    year_dict[i] = year[i]\n",
    "    \n",
    "nx.set_node_attributes(GB, 'year', year_dict)\n",
    "nx.attribute_assortativity_coefficient(GB, 'year')"
   ]
  },
  {
   "cell_type": "code",
   "execution_count": 34,
   "metadata": {
    "collapsed": false
   },
   "outputs": [
    {
     "data": {
      "text/plain": [
       "0.0239867253740597"
      ]
     },
     "execution_count": 34,
     "metadata": {},
     "output_type": "execute_result"
    }
   ],
   "source": [
    "# assortativity coefficient for high school\n",
    "highs_dict = {}\n",
    "for i in range(0,len(local_info)):\n",
    "    highs_dict[i] = highs[i]\n",
    "    \n",
    "nx.set_node_attributes(GB, 'highs', highs_dict)\n",
    "nx.attribute_assortativity_coefficient(GB, 'highs')"
   ]
  },
  {
   "cell_type": "markdown",
   "metadata": {},
   "source": [
    "## 4) Oklahoma "
   ]
  },
  {
   "cell_type": "code",
   "execution_count": 35,
   "metadata": {
    "collapsed": true
   },
   "outputs": [],
   "source": [
    "# Oklahoma university\n",
    "# create the graph GB for this network\n",
    "# save the personal features into the array 'local_info'\n",
    "\n",
    "data = scipy.io.loadmat('universities\\\\Oklahoma97.mat')\n",
    "local_info = data['local_info']\n",
    "A = data['A']\n",
    "\n",
    "strind = scipy.sparse.find(A)[0]\n",
    "colind = scipy.sparse.find(A)[1]\n",
    "\n",
    "GB = nx.DiGraph()\n",
    "GB.add_nodes_from(range(0,len(local_info)))\n",
    "\n",
    "for i in range(0, len(strind)):\n",
    "    GB.add_edge(strind[i],colind[i])"
   ]
  },
  {
   "cell_type": "code",
   "execution_count": 36,
   "metadata": {
    "collapsed": false
   },
   "outputs": [
    {
     "name": "stdout",
     "output_type": "stream",
     "text": [
      "0.0736732579392\n"
     ]
    }
   ],
   "source": [
    "# node degree assortativity coefficient for this network\n",
    "print(nx.degree_assortativity_coefficient(GB))"
   ]
  },
  {
   "cell_type": "code",
   "execution_count": 37,
   "metadata": {
    "collapsed": true
   },
   "outputs": [],
   "source": [
    "# all features from the local_info\n",
    "gender = np.zeros(len(local_info))\n",
    "for i in range(0,len(local_info)):\n",
    "    gender[i] = local_info[i][1]\n",
    "major = np.zeros(len(local_info))\n",
    "for i in range(0,len(local_info)):\n",
    "    major[i] = local_info[i][2]\n",
    "dorm = np.zeros(len(local_info))\n",
    "for i in range(0,len(local_info)):\n",
    "    dorm[i] = local_info[i][4]\n",
    "year = np.zeros(len(local_info))\n",
    "for i in range(0,len(local_info)):\n",
    "    year[i] = local_info[i][5]\n",
    "highs = np.zeros(len(local_info))\n",
    "for i in range(0,len(local_info)):\n",
    "    highs[i] = local_info[i][6]"
   ]
  },
  {
   "cell_type": "code",
   "execution_count": 38,
   "metadata": {
    "collapsed": false
   },
   "outputs": [
    {
     "data": {
      "text/plain": [
       "0.09283729598272797"
      ]
     },
     "execution_count": 38,
     "metadata": {},
     "output_type": "execute_result"
    }
   ],
   "source": [
    "# assortativity coefficient for gender\n",
    "gen_dict = {}\n",
    "for i in range(0,len(local_info)):\n",
    "    gen_dict[i] = gender[i]\n",
    "    \n",
    "nx.set_node_attributes(GB, 'gender', gen_dict)\n",
    "nx.attribute_assortativity_coefficient(GB, 'gender')"
   ]
  },
  {
   "cell_type": "code",
   "execution_count": 39,
   "metadata": {
    "collapsed": false
   },
   "outputs": [
    {
     "data": {
      "text/plain": [
       "0.03637908876173665"
      ]
     },
     "execution_count": 39,
     "metadata": {},
     "output_type": "execute_result"
    }
   ],
   "source": [
    "# assortativity coefficient for major\n",
    "major_dict = {}\n",
    "for i in range(0,len(local_info)):\n",
    "    major_dict[i] = major[i]\n",
    "    \n",
    "nx.set_node_attributes(GB, 'major', major_dict)\n",
    "nx.attribute_assortativity_coefficient(GB, 'major')"
   ]
  },
  {
   "cell_type": "code",
   "execution_count": 40,
   "metadata": {
    "collapsed": false
   },
   "outputs": [
    {
     "data": {
      "text/plain": [
       "0.28033524372883173"
      ]
     },
     "execution_count": 40,
     "metadata": {},
     "output_type": "execute_result"
    }
   ],
   "source": [
    "# assortativity coefficient for dormitory\n",
    "dorm_dict = {}\n",
    "for i in range(0,len(local_info)):\n",
    "    dorm_dict[i] = dorm[i]\n",
    "    \n",
    "nx.set_node_attributes(GB, 'dorm', dorm_dict)\n",
    "nx.attribute_assortativity_coefficient(GB, 'dorm')"
   ]
  },
  {
   "cell_type": "code",
   "execution_count": 41,
   "metadata": {
    "collapsed": false
   },
   "outputs": [
    {
     "data": {
      "text/plain": [
       "0.20116469146973587"
      ]
     },
     "execution_count": 41,
     "metadata": {},
     "output_type": "execute_result"
    }
   ],
   "source": [
    "# assortativity coefficient for year\n",
    "year_dict = {}\n",
    "for i in range(0,len(local_info)):\n",
    "    year_dict[i] = year[i]\n",
    "    \n",
    "nx.set_node_attributes(GB, 'year', year_dict)\n",
    "nx.attribute_assortativity_coefficient(GB, 'year')"
   ]
  },
  {
   "cell_type": "code",
   "execution_count": 42,
   "metadata": {
    "collapsed": false
   },
   "outputs": [
    {
     "data": {
      "text/plain": [
       "0.13946840692419749"
      ]
     },
     "execution_count": 42,
     "metadata": {},
     "output_type": "execute_result"
    }
   ],
   "source": [
    "# assortativity coefficient for high school\n",
    "highs_dict = {}\n",
    "for i in range(0,len(local_info)):\n",
    "    highs_dict[i] = highs[i]\n",
    "    \n",
    "nx.set_node_attributes(GB, 'highs', highs_dict)\n",
    "nx.attribute_assortativity_coefficient(GB, 'highs')"
   ]
  },
  {
   "cell_type": "markdown",
   "metadata": {
    "collapsed": true
   },
   "source": [
    "##5) Princeton"
   ]
  },
  {
   "cell_type": "code",
   "execution_count": 2,
   "metadata": {
    "collapsed": true
   },
   "outputs": [],
   "source": [
    "# Princeton university\n",
    "# create the graph GB for this network\n",
    "# save the personal features into the array 'local_info'\n",
    "\n",
    "data = scipy.io.loadmat('universities\\\\Princeton12.mat')\n",
    "local_info = data['local_info']\n",
    "A = data['A']\n",
    "\n",
    "strind = scipy.sparse.find(A)[0]\n",
    "colind = scipy.sparse.find(A)[1]\n",
    "\n",
    "GB = nx.DiGraph()\n",
    "GB.add_nodes_from(range(0,len(local_info)))\n",
    "\n",
    "for i in range(0, len(strind)):\n",
    "    GB.add_edge(strind[i],colind[i])"
   ]
  },
  {
   "cell_type": "code",
   "execution_count": 3,
   "metadata": {
    "collapsed": false
   },
   "outputs": [
    {
     "name": "stdout",
     "output_type": "stream",
     "text": [
      "0.091092123568\n"
     ]
    }
   ],
   "source": [
    "# node degree assortativity coefficient for this network\n",
    "print(nx.degree_assortativity_coefficient(GB))"
   ]
  },
  {
   "cell_type": "code",
   "execution_count": 4,
   "metadata": {
    "collapsed": true
   },
   "outputs": [],
   "source": [
    "# all features from the local_info\n",
    "gender = np.zeros(len(local_info))\n",
    "for i in range(0,len(local_info)):\n",
    "    gender[i] = local_info[i][1]\n",
    "major = np.zeros(len(local_info))\n",
    "for i in range(0,len(local_info)):\n",
    "    major[i] = local_info[i][2]\n",
    "dorm = np.zeros(len(local_info))\n",
    "for i in range(0,len(local_info)):\n",
    "    dorm[i] = local_info[i][4]\n",
    "year = np.zeros(len(local_info))\n",
    "for i in range(0,len(local_info)):\n",
    "    year[i] = local_info[i][5]\n",
    "highs = np.zeros(len(local_info))\n",
    "for i in range(0,len(local_info)):\n",
    "    highs[i] = local_info[i][6]"
   ]
  },
  {
   "cell_type": "code",
   "execution_count": 5,
   "metadata": {
    "collapsed": false
   },
   "outputs": [
    {
     "data": {
      "text/plain": [
       "0.05061073999529174"
      ]
     },
     "execution_count": 5,
     "metadata": {},
     "output_type": "execute_result"
    }
   ],
   "source": [
    "# assortativity coefficient for gender\n",
    "gen_dict = {}\n",
    "for i in range(0,len(local_info)):\n",
    "    gen_dict[i] = gender[i]\n",
    "    \n",
    "nx.set_node_attributes(GB, 'gender', gen_dict)\n",
    "nx.attribute_assortativity_coefficient(GB, 'gender')"
   ]
  },
  {
   "cell_type": "code",
   "execution_count": 6,
   "metadata": {
    "collapsed": false
   },
   "outputs": [
    {
     "data": {
      "text/plain": [
       "0.05439011887139384"
      ]
     },
     "execution_count": 6,
     "metadata": {},
     "output_type": "execute_result"
    }
   ],
   "source": [
    "# assortativity coefficient for major\n",
    "major_dict = {}\n",
    "for i in range(0,len(local_info)):\n",
    "    major_dict[i] = major[i]\n",
    "    \n",
    "nx.set_node_attributes(GB, 'major', major_dict)\n",
    "nx.attribute_assortativity_coefficient(GB, 'major')"
   ]
  },
  {
   "cell_type": "code",
   "execution_count": 7,
   "metadata": {
    "collapsed": false
   },
   "outputs": [
    {
     "data": {
      "text/plain": [
       "0.09467841955418972"
      ]
     },
     "execution_count": 7,
     "metadata": {},
     "output_type": "execute_result"
    }
   ],
   "source": [
    "# assortativity coefficient for dormitory\n",
    "dorm_dict = {}\n",
    "for i in range(0,len(local_info)):\n",
    "    dorm_dict[i] = dorm[i]\n",
    "    \n",
    "nx.set_node_attributes(GB, 'dorm', dorm_dict)\n",
    "nx.attribute_assortativity_coefficient(GB, 'dorm')"
   ]
  },
  {
   "cell_type": "code",
   "execution_count": 8,
   "metadata": {
    "collapsed": false
   },
   "outputs": [
    {
     "data": {
      "text/plain": [
       "0.44674462058408704"
      ]
     },
     "execution_count": 8,
     "metadata": {},
     "output_type": "execute_result"
    }
   ],
   "source": [
    "# assortativity coefficient for year\n",
    "year_dict = {}\n",
    "for i in range(0,len(local_info)):\n",
    "    year_dict[i] = year[i]\n",
    "    \n",
    "nx.set_node_attributes(GB, 'year', year_dict)\n",
    "nx.attribute_assortativity_coefficient(GB, 'year')"
   ]
  },
  {
   "cell_type": "code",
   "execution_count": 9,
   "metadata": {
    "collapsed": false
   },
   "outputs": [
    {
     "data": {
      "text/plain": [
       "0.01878365524496972"
      ]
     },
     "execution_count": 9,
     "metadata": {},
     "output_type": "execute_result"
    }
   ],
   "source": [
    "# assortativity coefficient for high school\n",
    "highs_dict = {}\n",
    "for i in range(0,len(local_info)):\n",
    "    highs_dict[i] = highs[i]\n",
    "    \n",
    "nx.set_node_attributes(GB, 'highs', highs_dict)\n",
    "nx.attribute_assortativity_coefficient(GB, 'highs')"
   ]
  },
  {
   "cell_type": "markdown",
   "metadata": {},
   "source": [
    "## 6) Texas "
   ]
  },
  {
   "cell_type": "code",
   "execution_count": 10,
   "metadata": {
    "collapsed": true
   },
   "outputs": [],
   "source": [
    "# Texas university\n",
    "# create the graph GB for this network\n",
    "# save the personal features into the array 'local_info'\n",
    "\n",
    "data = scipy.io.loadmat('universities\\\\Texas80.mat')\n",
    "local_info = data['local_info']\n",
    "A = data['A']\n",
    "\n",
    "strind = scipy.sparse.find(A)[0]\n",
    "colind = scipy.sparse.find(A)[1]\n",
    "\n",
    "GB = nx.DiGraph()\n",
    "GB.add_nodes_from(range(0,len(local_info)))\n",
    "\n",
    "for i in range(0, len(strind)):\n",
    "    GB.add_edge(strind[i],colind[i])"
   ]
  },
  {
   "cell_type": "code",
   "execution_count": 11,
   "metadata": {
    "collapsed": false
   },
   "outputs": [
    {
     "name": "stdout",
     "output_type": "stream",
     "text": [
      "0.163892412814\n"
     ]
    }
   ],
   "source": [
    "# node degree assortativity coefficient for this network\n",
    "print(nx.degree_assortativity_coefficient(GB))"
   ]
  },
  {
   "cell_type": "code",
   "execution_count": 12,
   "metadata": {
    "collapsed": true
   },
   "outputs": [],
   "source": [
    "# all features from the local_info\n",
    "gender = np.zeros(len(local_info))\n",
    "for i in range(0,len(local_info)):\n",
    "    gender[i] = local_info[i][1]\n",
    "major = np.zeros(len(local_info))\n",
    "for i in range(0,len(local_info)):\n",
    "    major[i] = local_info[i][2]\n",
    "dorm = np.zeros(len(local_info))\n",
    "for i in range(0,len(local_info)):\n",
    "    dorm[i] = local_info[i][4]\n",
    "year = np.zeros(len(local_info))\n",
    "for i in range(0,len(local_info)):\n",
    "    year[i] = local_info[i][5]\n",
    "highs = np.zeros(len(local_info))\n",
    "for i in range(0,len(local_info)):\n",
    "    highs[i] = local_info[i][6]"
   ]
  },
  {
   "cell_type": "code",
   "execution_count": 13,
   "metadata": {
    "collapsed": false
   },
   "outputs": [
    {
     "data": {
      "text/plain": [
       "0.07969306814123502"
      ]
     },
     "execution_count": 13,
     "metadata": {},
     "output_type": "execute_result"
    }
   ],
   "source": [
    "# assortativity coefficient for gender\n",
    "gen_dict = {}\n",
    "for i in range(0,len(local_info)):\n",
    "    gen_dict[i] = gender[i]\n",
    "    \n",
    "nx.set_node_attributes(GB, 'gender', gen_dict)\n",
    "nx.attribute_assortativity_coefficient(GB, 'gender')"
   ]
  },
  {
   "cell_type": "code",
   "execution_count": 14,
   "metadata": {
    "collapsed": false
   },
   "outputs": [
    {
     "data": {
      "text/plain": [
       "0.05971272783340577"
      ]
     },
     "execution_count": 14,
     "metadata": {},
     "output_type": "execute_result"
    }
   ],
   "source": [
    "# assortativity coefficient for major\n",
    "major_dict = {}\n",
    "for i in range(0,len(local_info)):\n",
    "    major_dict[i] = major[i]\n",
    "    \n",
    "nx.set_node_attributes(GB, 'major', major_dict)\n",
    "nx.attribute_assortativity_coefficient(GB, 'major')"
   ]
  },
  {
   "cell_type": "code",
   "execution_count": 15,
   "metadata": {
    "collapsed": false
   },
   "outputs": [
    {
     "data": {
      "text/plain": [
       "0.20483760433918657"
      ]
     },
     "execution_count": 15,
     "metadata": {},
     "output_type": "execute_result"
    }
   ],
   "source": [
    "# assortativity coefficient for dormitory\n",
    "dorm_dict = {}\n",
    "for i in range(0,len(local_info)):\n",
    "    dorm_dict[i] = dorm[i]\n",
    "    \n",
    "nx.set_node_attributes(GB, 'dorm', dorm_dict)\n",
    "nx.attribute_assortativity_coefficient(GB, 'dorm')"
   ]
  },
  {
   "cell_type": "code",
   "execution_count": 16,
   "metadata": {
    "collapsed": false
   },
   "outputs": [
    {
     "data": {
      "text/plain": [
       "0.2461946841617454"
      ]
     },
     "execution_count": 16,
     "metadata": {},
     "output_type": "execute_result"
    }
   ],
   "source": [
    "# assortativity coefficient for year\n",
    "year_dict = {}\n",
    "for i in range(0,len(local_info)):\n",
    "    year_dict[i] = year[i]\n",
    "    \n",
    "nx.set_node_attributes(GB, 'year', year_dict)\n",
    "nx.attribute_assortativity_coefficient(GB, 'year')"
   ]
  },
  {
   "cell_type": "code",
   "execution_count": 17,
   "metadata": {
    "collapsed": false
   },
   "outputs": [
    {
     "data": {
      "text/plain": [
       "0.14799284823051478"
      ]
     },
     "execution_count": 17,
     "metadata": {},
     "output_type": "execute_result"
    }
   ],
   "source": [
    "# assortativity coefficient for high school\n",
    "highs_dict = {}\n",
    "for i in range(0,len(local_info)):\n",
    "    highs_dict[i] = highs[i]\n",
    "    \n",
    "nx.set_node_attributes(GB, 'highs', highs_dict)\n",
    "nx.attribute_assortativity_coefficient(GB, 'highs')"
   ]
  },
  {
   "cell_type": "code",
   "execution_count": null,
   "metadata": {
    "collapsed": true
   },
   "outputs": [],
   "source": []
  }
 ],
 "metadata": {
  "kernelspec": {
   "display_name": "Python 3",
   "language": "python",
   "name": "python3"
  },
  "language_info": {
   "codemirror_mode": {
    "name": "ipython",
    "version": 3
   },
   "file_extension": ".py",
   "mimetype": "text/x-python",
   "name": "python",
   "nbconvert_exporter": "python",
   "pygments_lexer": "ipython3",
   "version": "3.4.3"
  }
 },
 "nbformat": 4,
 "nbformat_minor": 0
}
