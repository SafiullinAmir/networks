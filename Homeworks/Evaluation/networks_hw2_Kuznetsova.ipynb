{
 "cells": [
  {
   "cell_type": "markdown",
   "metadata": {},
   "source": [
    "# <center>Network Science</center>"
   ]
  },
  {
   "cell_type": "markdown",
   "metadata": {},
   "source": [
    "## <center>Home Assignment #2: Network models</center>"
   ]
  },
  {
   "cell_type": "markdown",
   "metadata": {},
   "source": [
    "### <center>Student: *Kuznetsova Alexandra*</center>"
   ]
  },
  {
   "cell_type": "markdown",
   "metadata": {},
   "source": [
    "#### <hr /> General Information"
   ]
  },
  {
   "cell_type": "markdown",
   "metadata": {},
   "source": [
    "**Due Date:** 28.02.2016 23:59 <br \\>\n",
    "**Late submission policy:** -0.2 points per day <br \\>\n",
    "\n",
    "\n",
    "Please send your reports to <mailto:network.hse.2016@gmail.com> with message subject of the following structure:<br \\> **[HSE Networks 2015] *{LastName}* *{First Name}* HA*{Number}***\n",
    "\n",
    "Support your computations with figures and comments. <br \\>\n",
    "If you are using IPython Notebook you may use this file as a starting point of your report.<br \\>\n",
    "<br \\>\n",
    "<hr \\>"
   ]
  },
  {
   "cell_type": "markdown",
   "metadata": {},
   "source": [
    "## Problems"
   ]
  },
  {
   "cell_type": "markdown",
   "metadata": {},
   "source": [
    "### Task 1"
   ]
  },
  {
   "cell_type": "markdown",
   "metadata": {},
   "source": [
    "Consider Barabasi and Albert dynamical grow model. Two main ingredients of this model are *network growing* and *prefferential attachment*. Implement two restricted B&A-based models:\n",
    "<br \\>\n",
    "\n",
    "**Model A**\n",
    "<br \\>\n",
    "Lack of prefferential attachment, that is at each time-step form edges uniformly at random while network keeps growing.\n",
    "\n",
    "**Model B**\n",
    "<br \\>\n",
    "Lack of growing, that is fix total number of nodes, on each time-step randomly choose one and form edges with prefferential attachment.\n",
    "<br \\>\n",
    "\n",
    "1. Generate networks according to the models above ($N > 1000$ nodes)\n",
    "2. Compute CDF/PDF, describe the distribution and compute\\describe its properties.\n",
    "3. Illustate the following dependencies: \n",
    "    * average path length to the number of nodes\n",
    "    * average clustering coefficient to the number of nodes\n",
    "    * average node degee to the nodes \"age\"\n",
    "4. Is scale-free property conserved in these models?\n",
    "\n",
    "Analyse results with respect to various parameter settings"
   ]
  },
  {
   "cell_type": "code",
   "execution_count": 1,
   "metadata": {
    "collapsed": false
   },
   "outputs": [],
   "source": [
    "import numpy as np\n",
    "import matplotlib.pyplot as plt\n",
    "import networkx as nx\n",
    "import numpy.random as rnd\n",
    "import pandas as pd\n",
    "%matplotlib inline"
   ]
  },
  {
   "cell_type": "markdown",
   "metadata": {},
   "source": [
    "## Model A "
   ]
  },
  {
   "cell_type": "markdown",
   "metadata": {},
   "source": [
    "1) In order to generate the network ($n>1000$) I've decided firstly to create the initial Erdos-Renyi random graph on the $n = 100$ edges with the probability $p = 0.1$. You can see the distribution of the degrees in the initial graph at the first picture."
   ]
  },
  {
   "cell_type": "code",
   "execution_count": 2,
   "metadata": {
    "collapsed": false
   },
   "outputs": [],
   "source": [
    "def randgp (n, p):\n",
    "    G = nx.Graph()\n",
    "    G.add_nodes_from(range(0,n))\n",
    "    \n",
    "    for i in range(0,n-1):\n",
    "        for j in range(i+1,n):\n",
    "            if rnd.uniform(0,1,1)[0] <= p:\n",
    "                G.add_edge(i,j)\n",
    "        \n",
    "    return G\n",
    "\n",
    "n = 100\n",
    "p = 0.1\n",
    "G = randgp(n,p)\n"
   ]
  },
  {
   "cell_type": "code",
   "execution_count": 4,
   "metadata": {
    "collapsed": false
   },
   "outputs": [
    {
     "data": {
      "text/plain": [
       "<matplotlib.text.Text at 0x284c908>"
      ]
     },
     "execution_count": 4,
     "metadata": {},
     "output_type": "execute_result"
    },
    {
     "data": {
      "image/png": "[encoded data removed]",
      "text/plain": [
       "<matplotlib.figure.Figure at 0x94cd208>"
      ]
     },
     "metadata": {},
     "output_type": "display_data"
    }
   ],
   "source": [
    "# degree distribution in the initial graph\n",
    "degrees = {}\n",
    "for n in G.nodes_iter():\n",
    "    d = G.degree(n)\n",
    "    if d in degrees:\n",
    "        degrees[d] += 1\n",
    "    else:\n",
    "        degrees[d] = 1\n",
    "\n",
    "plt.bar(degrees.keys(), degrees.values(), facecolor = 'g')\n",
    "plt.ylabel('count')\n",
    "plt.xlabel('degree')"
   ]
  },
  {
   "cell_type": "markdown",
   "metadata": {},
   "source": [
    "On the next step it is needed to start the growth process, based on the initial graph. At the each timestep a new node is added and, according to the Model A, this node is connected to the other with $m$ edges. There are 1000 nodes added."
   ]
  },
  {
   "cell_type": "code",
   "execution_count": 5,
   "metadata": {
    "collapsed": false
   },
   "outputs": [],
   "source": [
    "m = 10\n",
    "for t in range(n, n+1001):\n",
    "    G.add_node(t)\n",
    "    s = rnd.uniform(0,1,t-1)\n",
    "    ind = np.argsort(s)[len(s)-m:len(s)]\n",
    "    for j in ind:\n",
    "        G.add_edge(t,j)"
   ]
  },
  {
   "cell_type": "code",
   "execution_count": 6,
   "metadata": {
    "collapsed": false
   },
   "outputs": [],
   "source": [
    "deg = np.zeros(len(nx.nodes(G)))\n",
    "for i in range(0, len(nx.nodes(G))):\n",
    "    deg[i] = nx.degree(G)[i]"
   ]
  },
  {
   "cell_type": "markdown",
   "metadata": {},
   "source": [
    "2) The next two graphs show the probability density function and cumulative density function for the obtained degrees distribution."
   ]
  },
  {
   "cell_type": "code",
   "execution_count": 7,
   "metadata": {
    "collapsed": false
   },
   "outputs": [
    {
     "data": {
      "text/plain": [
       "<matplotlib.text.Text at 0x75c7208>"
      ]
     },
     "execution_count": 7,
     "metadata": {},
     "output_type": "execute_result"
    },
    {
     "data": {
      "image/png": "[encoded data removed]",
      "text/plain": [
       "<matplotlib.figure.Figure at 0x7258128>"
      ]
     },
     "metadata": {},
     "output_type": "display_data"
    }
   ],
   "source": [
    "# degree distribution in the final graph (pdf)\n",
    "n, bins, patches = plt.hist(deg, 35, normed=1, facecolor='g')\n",
    "plt.xlabel('degree')\n",
    "plt.ylabel('density')"
   ]
  },
  {
   "cell_type": "code",
   "execution_count": 8,
   "metadata": {
    "collapsed": false
   },
   "outputs": [
    {
     "data": {
      "text/plain": [
       "<matplotlib.text.Text at 0x76ada90>"
      ]
     },
     "execution_count": 8,
     "metadata": {},
     "output_type": "execute_result"
    },
    {
     "data": {
      "image/png": "[encoded data removed]",
      "text/plain": [
       "<matplotlib.figure.Figure at 0x765ec88>"
      ]
     },
     "metadata": {},
     "output_type": "display_data"
    }
   ],
   "source": [
    "# cdf\n",
    "\n",
    "d = len(np.unique(deg))\n",
    "\n",
    "cdf = np.zeros(d)\n",
    "npdeg = np.array(deg)\n",
    "for i in range(0,d):\n",
    "    cdf[i] = (sum(npdeg<=np.sort(np.unique(npdeg))[i]))/(len(nx.nodes(G)))\n",
    "    \n",
    "plt.step(np.unique(deg), cdf)\n",
    "plt.xlabel('degree')\n",
    "plt.ylabel('probability')"
   ]
  },
  {
   "cell_type": "markdown",
   "metadata": {},
   "source": [
    "The summary statistics for the obtained sample of degrees are demonstrated in the following table. The mean value equals to 19, while the median value is 17 and the maximum is 55."
   ]
  },
  {
   "cell_type": "code",
   "execution_count": 9,
   "metadata": {
    "collapsed": false
   },
   "outputs": [
    {
     "data": {
      "text/plain": [
       "count    1100.000000\n",
       "mean       19.118182\n",
       "std         7.979081\n",
       "min        10.000000\n",
       "25%        13.000000\n",
       "50%        17.000000\n",
       "75%        23.000000\n",
       "max        55.000000\n",
       "dtype: float64"
      ]
     },
     "execution_count": 9,
     "metadata": {},
     "output_type": "execute_result"
    }
   ],
   "source": [
    "pddeg = pd.Series(deg)\n",
    "pddeg.describe()"
   ]
  },
  {
   "cell_type": "markdown",
   "metadata": {},
   "source": [
    "3) Let's simulate the graph construction for the different numbers of nodes added on the step of growth. I've tried the range of ten values of this number: from 1000 to 1900 with the step 100. The average path and the clustering coefficient have been counted for each graph."
   ]
  },
  {
   "cell_type": "code",
   "execution_count": null,
   "metadata": {
    "collapsed": false
   },
   "outputs": [],
   "source": [
    "# initial graph\n",
    "n = 100\n",
    "p = 0.1\n",
    "G = randgp(n,p)\n",
    "\n",
    "# calculation of the average path in the graph and clustering coefficient\n",
    "k = 0\n",
    "avpath = np.zeros(10)\n",
    "ccoef = np.zeros(10)\n",
    "for i in range(1000, 1901, 100):\n",
    "    M = G\n",
    "    m = 10\n",
    "    for t in range(n, n+i):\n",
    "        M.add_node(t)\n",
    "        s = rnd.uniform(0,1,t-1)\n",
    "        ind = np.argsort(s)[len(s)-m:len(s)]\n",
    "        for j in ind:\n",
    "            M.add_edge(t,j)\n",
    "    avpath[k] = nx.average_shortest_path_length(M)\n",
    "    ccoef[k] = nx.transitivity(M)\n",
    "    k = k+1\n",
    "    print(k)\n",
    "    print(avpath)"
   ]
  },
  {
   "cell_type": "markdown",
   "metadata": {},
   "source": [
    "The next graph shows the relation between the average shortest path in the graph and the number of nodes. There is the strong inverse relation, which means, that the connections in the graph become tighter with the growing."
   ]
  },
  {
   "cell_type": "code",
   "execution_count": 180,
   "metadata": {
    "collapsed": false
   },
   "outputs": [
    {
     "data": {
      "text/plain": [
       "[<matplotlib.lines.Line2D at 0x95c1470>]"
      ]
     },
     "execution_count": 180,
     "metadata": {},
     "output_type": "execute_result"
    },
    {
     "data": {
      "image/png": "[encoded data removed]",
      "text/plain": [
       "<matplotlib.figure.Figure at 0xc151dd8>"
      ]
     },
     "metadata": {},
     "output_type": "display_data"
    }
   ],
   "source": [
    "plt.plot(range(1000,1901,100), avpath)"
   ]
  },
  {
   "cell_type": "markdown",
   "metadata": {},
   "source": [
    "The relation between the value of the clustering coefficient and the number of nodes is direct: the more the number of nodes, the more the clustering coefficient of the graph."
   ]
  },
  {
   "cell_type": "code",
   "execution_count": 173,
   "metadata": {
    "collapsed": false
   },
   "outputs": [
    {
     "data": {
      "text/plain": [
       "[<matplotlib.lines.Line2D at 0xc28f9b0>]"
      ]
     },
     "execution_count": 173,
     "metadata": {},
     "output_type": "execute_result"
    },
    {
     "data": {
      "image/png": "[encoded data removed]",
      "text/plain": [
       "<matplotlib.figure.Figure at 0xc41bcc0>"
      ]
     },
     "metadata": {},
     "output_type": "display_data"
    }
   ],
   "source": [
    "plt.plot(range(1000,1901,100), ccoef)"
   ]
  },
  {
   "cell_type": "code",
   "execution_count": null,
   "metadata": {
    "collapsed": false
   },
   "outputs": [],
   "source": [
    "# the relation between degree and age of node\n",
    "M = G\n",
    "m = 10\n",
    "sumdeg = np.zeros(1001)\n",
    "numnodes = np.zeros(1001)\n",
    "for t in range(n, n+1000):\n",
    "    M.add_node(t)\n",
    "    s = rnd.uniform(0,1,t-1)\n",
    "    ind = np.argsort(s)[len(s)-m:len(s)]\n",
    "    for j in ind:\n",
    "        M.add_edge(t,j)\n",
    "    ind = np.array(nx.nodes(M))\n",
    "    ind[ind<1000] = t-n+1\n",
    "    ind[ind>1000] = ind[ind>1000] - 1000 \n",
    "    deg = np.zeros(len(nx.nodes(M)))\n",
    "    for i in range(0, len(nx.nodes(M))):\n",
    "            deg[i] = nx.degree(M)[i]\n",
    "    npdeg = np.array(deg)\n",
    "    for l in np.unique(ind):\n",
    "        sumdeg[l] = sumdeg[l]+sum(npdeg[ind==l])\n",
    "        numnodes[l] = numnodes[l]+sum(ind==l) \n",
    "   "
   ]
  },
  {
   "cell_type": "markdown",
   "metadata": {},
   "source": [
    "The next graph demonstrates the dependancy of the node degree from its age. In our case, there are totally 1000 timesteps.  It can be seen, that there are some fluctuations for the \"young\" nodes, but indeed the whole function is concave.  "
   ]
  },
  {
   "cell_type": "code",
   "execution_count": 9,
   "metadata": {
    "collapsed": false
   },
   "outputs": [
    {
     "data": {
      "text/plain": [
       "<matplotlib.text.Text at 0x18671f98>"
      ]
     },
     "execution_count": 9,
     "metadata": {},
     "output_type": "execute_result"
    },
    {
     "data": {
      "image/png": "[encoded data removed]",
      "text/plain": [
       "<matplotlib.figure.Figure at 0x1889b668>"
      ]
     },
     "metadata": {},
     "output_type": "display_data"
    }
   ],
   "source": [
    "plt.plot(range(0,1001), sumdeg/numnodes)\n",
    "plt.ylabel('Average degree')\n",
    "plt.xlabel('The age of node')"
   ]
  },
  {
   "cell_type": "markdown",
   "metadata": {},
   "source": [
    "4) According to the three graphs above, we can conclude that the scale-free property is not relevant to this model: both average path and clustering coefficient have a relation with the number of nodes in the graph."
   ]
  },
  {
   "cell_type": "markdown",
   "metadata": {},
   "source": [
    "## Model B "
   ]
  },
  {
   "cell_type": "markdown",
   "metadata": {},
   "source": [
    "This model demonstrates the effects of the absence of growing. At the first step I've generated the empty graph with $n = 1000$ nodes, then during the 10000 timesteps the $m=10$ edges were added according to the prefferential attachment."
   ]
  },
  {
   "cell_type": "code",
   "execution_count": 3,
   "metadata": {
    "collapsed": false
   },
   "outputs": [],
   "source": [
    "# initial empty graph\n",
    "n = 1000\n",
    "G2 = nx.Graph()\n",
    "G2.add_nodes_from(range(0,n))\n",
    "\n",
    "# prefferential attachment without growth\n",
    "m = 10\n",
    "\n",
    "setnodes = []\n",
    "for i in range(0,len(nx.nodes(G2))):\n",
    "    setnodes.append(nx.nodes(G2)[i])\n",
    "\n",
    "for t in range(0,10000):\n",
    "    h = len(setnodes)\n",
    "    rndnode = setnodes[rnd.randint(0,h)]\n",
    "    f = rnd.randint(0,h,m)\n",
    "    ind = np.zeros(m)\n",
    "    k = 0\n",
    "    for i in f:\n",
    "        ind[k] = setnodes[i]\n",
    "        k = k+1\n",
    "    for j in ind:\n",
    "        if j!= rndnode:\n",
    "            G2.add_edge(rndnode,j)\n",
    "            setnodes.append(j)\n",
    "            setnodes.append(rndnode)"
   ]
  },
  {
   "cell_type": "markdown",
   "metadata": {},
   "source": [
    "The next two graphs show the distribution of the degrees values."
   ]
  },
  {
   "cell_type": "code",
   "execution_count": 14,
   "metadata": {
    "collapsed": false
   },
   "outputs": [
    {
     "data": {
      "text/plain": [
       "<matplotlib.text.Text at 0xbadc2b0>"
      ]
     },
     "execution_count": 14,
     "metadata": {},
     "output_type": "execute_result"
    },
    {
     "data": {
      "image/png": "[encoded data removed]",
      "text/plain": [
       "<matplotlib.figure.Figure at 0xbab66d8>"
      ]
     },
     "metadata": {},
     "output_type": "display_data"
    }
   ],
   "source": [
    "deg = np.zeros(len(nx.nodes(G2)))\n",
    "for i in range(0, len(nx.nodes(G2))):\n",
    "    deg[i] = nx.degree(G2)[i]\n",
    "# degree distribution in the final graph (pdf)\n",
    "n, bins, patches = plt.hist(deg, 35, normed=1, facecolor='g')\n",
    "plt.ylabel('density')\n",
    "plt.xlabel('degree')"
   ]
  },
  {
   "cell_type": "code",
   "execution_count": 15,
   "metadata": {
    "collapsed": false
   },
   "outputs": [
    {
     "data": {
      "text/plain": [
       "<matplotlib.text.Text at 0xbbbd588>"
      ]
     },
     "execution_count": 15,
     "metadata": {},
     "output_type": "execute_result"
    },
    {
     "data": {
      "image/png": "[encoded data removed]",
      "text/plain": [
       "<matplotlib.figure.Figure at 0xbb58438>"
      ]
     },
     "metadata": {},
     "output_type": "display_data"
    }
   ],
   "source": [
    "# cdf\n",
    "\n",
    "d = len(np.unique(deg))\n",
    "\n",
    "cdf = np.zeros(d)\n",
    "npdeg = np.array(deg)\n",
    "for i in range(0,d):\n",
    "    cdf[i] = (sum(npdeg<=np.sort(np.unique(npdeg))[i]))/(len(nx.nodes(G2)))\n",
    "    \n",
    "plt.step(np.unique(deg), cdf)\n",
    "plt.xlabel('degree')\n",
    "plt.ylabel('probability')"
   ]
  },
  {
   "cell_type": "markdown",
   "metadata": {},
   "source": [
    "The summary statistics for the degrees are in the following table. According to it, the mean degree equals to almost 78, the median value is only 30 and the maximum is 604."
   ]
  },
  {
   "cell_type": "code",
   "execution_count": 87,
   "metadata": {
    "collapsed": false
   },
   "outputs": [
    {
     "data": {
      "text/plain": [
       "count    1000.000000\n",
       "mean       77.886000\n",
       "std       104.382953\n",
       "min         0.000000\n",
       "25%         6.000000\n",
       "50%        30.000000\n",
       "75%       110.250000\n",
       "max       604.000000\n",
       "dtype: float64"
      ]
     },
     "execution_count": 87,
     "metadata": {},
     "output_type": "execute_result"
    }
   ],
   "source": [
    "pddeg = pd.Series(deg)\n",
    "pddeg.describe()"
   ]
  },
  {
   "cell_type": "markdown",
   "metadata": {},
   "source": [
    "For the following ananlysis it is needed to count the values of the shortest average path and the value of the clustering coefficient. The problem is that the final graph often is not connected, so I pick the biggest connected subgraph and use it for calculation. This subgraph is always contains almost all nodes, so I think it reflects the properties of the whole graph correctly."
   ]
  },
  {
   "cell_type": "code",
   "execution_count": null,
   "metadata": {
    "collapsed": false
   },
   "outputs": [],
   "source": [
    "k = 0\n",
    "m = 10\n",
    "avpath = np.zeros(16)\n",
    "ccoef = np.zeros(16)\n",
    "for i in range(1000, 4001, 200):\n",
    "    # initial empty graph\n",
    "    n = i\n",
    "    G2 = nx.Graph()\n",
    "    G2.add_nodes_from(range(0,n))\n",
    "    \n",
    "    setnodes = []\n",
    "    for j in range(0,len(nx.nodes(G2))):\n",
    "        setnodes.append(nx.nodes(G2)[j])\n",
    "    \n",
    "    for t in range(0,10000):\n",
    "        h = len(setnodes)\n",
    "        rndnode = setnodes[rnd.randint(0,h)]\n",
    "        f = rnd.randint(0,h,m)\n",
    "        ind = np.zeros(m)\n",
    "        p = 0\n",
    "        for r in f:\n",
    "            ind[p] = setnodes[r]\n",
    "            p = p+1\n",
    "        for j in ind:\n",
    "            if j!= rndnode:\n",
    "                G2.add_edge(rndnode,j)\n",
    "                setnodes.append(j)\n",
    "                setnodes.append(rndnode)\n",
    "    largest_cc = max(nx.connected_components(G2), key=len)\n",
    "    G3 = G2.subgraph(largest_cc)\n",
    "    avpath[k] = nx.average_shortest_path_length(G3)\n",
    "    ccoef[k] = nx.transitivity(G3)\n",
    "    k = k+1\n",
    "    print(k)\n",
    "    print(avpath)\n",
    "    print(ccoef)"
   ]
  },
  {
   "cell_type": "markdown",
   "metadata": {},
   "source": [
    "3) The graph below shows the direct relation between the average shortest path in the graph and the number of nodes in the graph. This result is opposite to the result in the previous model, but it is meaningful for this model, because there are more nodes in the graph, but the number of edges remains the same."
   ]
  },
  {
   "cell_type": "code",
   "execution_count": 15,
   "metadata": {
    "collapsed": false
   },
   "outputs": [
    {
     "data": {
      "text/plain": [
       "<matplotlib.text.Text at 0xa2e9860>"
      ]
     },
     "execution_count": 15,
     "metadata": {},
     "output_type": "execute_result"
    },
    {
     "data": {
      "image/png": "[encoded data removed]",
      "text/plain": [
       "<matplotlib.figure.Figure at 0xbb82320>"
      ]
     },
     "metadata": {},
     "output_type": "display_data"
    }
   ],
   "source": [
    "plt.plot(avpath)\n",
    "plt.ylabel('average path')\n",
    "plt.xlabel('number of nodes')"
   ]
  },
  {
   "cell_type": "markdown",
   "metadata": {},
   "source": [
    "This graph demonstrates the inverse relation between the clustering coefficient and the number of nodes. The interpretation of this result is the same as in the previous task."
   ]
  },
  {
   "cell_type": "code",
   "execution_count": 16,
   "metadata": {
    "collapsed": false
   },
   "outputs": [
    {
     "data": {
      "text/plain": [
       "<matplotlib.text.Text at 0xbbcdb38>"
      ]
     },
     "execution_count": 16,
     "metadata": {},
     "output_type": "execute_result"
    },
    {
     "data": {
      "image/png": "[encoded data removed]",
      "text/plain": [
       "<matplotlib.figure.Figure at 0xa5d8908>"
      ]
     },
     "metadata": {},
     "output_type": "display_data"
    }
   ],
   "source": [
    "plt.plot(ccoef)\n",
    "plt.ylabel('clustering coefficient')\n",
    "plt.xlabel('number of nodes')"
   ]
  },
  {
   "cell_type": "code",
   "execution_count": 5,
   "metadata": {
    "collapsed": false
   },
   "outputs": [],
   "source": [
    "# the relation between degree and age of node\n",
    "agedegree = np.zeros(10000)\n",
    "\n",
    "# initial empty graph\n",
    "n = 1000\n",
    "G2 = nx.Graph()\n",
    "G2.add_nodes_from(range(0,n))\n",
    "\n",
    "# prefferential attachment without growth\n",
    "m = 10\n",
    "\n",
    "setnodes = []\n",
    "for i in range(0,len(nx.nodes(G2))):\n",
    "    setnodes.append(nx.nodes(G2)[i])\n",
    "\n",
    "deg = np.zeros(len(nx.nodes(G2)))\n",
    "\n",
    "for t in range(0,10000):\n",
    "    h = len(setnodes)\n",
    "    rndnode = setnodes[rnd.randint(0,h)]\n",
    "    f = rnd.randint(0,h,m)\n",
    "    ind = np.zeros(m)\n",
    "    k = 0\n",
    "    for i in f:\n",
    "        ind[k] = setnodes[i]\n",
    "        k = k+1\n",
    "    for j in ind:\n",
    "        if j!= rndnode:\n",
    "            G2.add_edge(rndnode,j)\n",
    "            setnodes.append(j)\n",
    "            setnodes.append(rndnode)\n",
    "            deg[j] = deg[j]+1\n",
    "            deg[rndnode] = deg[rndnode]+1\n",
    "    agedegree[t] = sum(deg)/len(nx.nodes(G2))"
   ]
  },
  {
   "cell_type": "markdown",
   "metadata": {},
   "source": [
    "The relation between the average degree and the age of nodes is linear, because on the each step the fixed number of edges $m$ is added.  "
   ]
  },
  {
   "cell_type": "code",
   "execution_count": 12,
   "metadata": {
    "collapsed": false
   },
   "outputs": [
    {
     "data": {
      "text/plain": [
       "<matplotlib.text.Text at 0xbb67668>"
      ]
     },
     "execution_count": 12,
     "metadata": {},
     "output_type": "execute_result"
    },
    {
     "data": {
      "image/png": "[encoded data removed]",
      "text/plain": [
       "<matplotlib.figure.Figure at 0xbb82898>"
      ]
     },
     "metadata": {},
     "output_type": "display_data"
    }
   ],
   "source": [
    "plt.plot(range(0,10000),agedegree)\n",
    "plt.ylabel('Degree')\n",
    "plt.xlabel('Age')"
   ]
  },
  {
   "cell_type": "markdown",
   "metadata": {},
   "source": [
    "4) For this model and value of the parameter $m$ the scale-free property does not hold."
   ]
  },
  {
   "cell_type": "markdown",
   "metadata": {},
   "source": [
    "### <hr /> Task 2"
   ]
  },
  {
   "cell_type": "markdown",
   "metadata": {},
   "source": [
    "Consider the following  \"Vertex copying model\" of growing network.\n",
    "\n",
    "At every time step a random vertex from already existing vertices is selected and duplicated together with all edges, such that  every edge of the  vertex\n",
    "* is copied with probability $q$\n",
    "* is rewired to any other randomly selected vertex with probability $1-q$\n",
    "\n",
    "\n",
    "Starting state is defined by some small number of randomly connected vertices.\n",
    "\n",
    "The model can generate both directed and undirected networks.\n",
    "\n",
    "1. Generate  graphs based on the model ($N > 1000$ nodes)\n",
    "2. Compute CDF/PDF, describe the distribution and compute\\describe its properties.\n",
    "3. Illustate the following dependencies: \n",
    "    * average path length to the number of nodes\n",
    "    * average clustering coefficient to the number of nodes\n",
    "    * average node degee to the nodes \"age\"\n",
    "    \n",
    "Analyse results with respect to various parameter settings"
   ]
  },
  {
   "cell_type": "markdown",
   "metadata": {},
   "source": [
    "1) Generation of the model"
   ]
  },
  {
   "cell_type": "code",
   "execution_count": 37,
   "metadata": {
    "collapsed": false
   },
   "outputs": [],
   "source": [
    "# the initial graph\n",
    "n = 20\n",
    "p = 0.1\n",
    "q = 0.4\n",
    "G = randgp(n,p)\n",
    "\n",
    "# vertex copying model\n",
    "\n",
    "for t in range(0,1000):\n",
    "    rndnode = nx.nodes(G)[rnd.randint(0,len(nx.nodes(G)))]\n",
    "    G.add_node(n+t)\n",
    "    for i in range(0,len(nx.edges(G,rndnode))):\n",
    "        if rnd.uniform(0,1,1)<=q:\n",
    "            G.add_edge(n+t, nx.edges(G,rndnode)[i][1])\n",
    "        else:\n",
    "            rndnode2 = nx.nodes(G)[rnd.randint(0,len(nx.nodes(G)))]\n",
    "            G.add_edge(n+t, rndnode2)"
   ]
  },
  {
   "cell_type": "markdown",
   "metadata": {},
   "source": [
    "2) The obtained distribution looks similar to the normal distribution"
   ]
  },
  {
   "cell_type": "code",
   "execution_count": 39,
   "metadata": {
    "collapsed": false
   },
   "outputs": [
    {
     "data": {
      "text/plain": [
       "<matplotlib.text.Text at 0xf647048>"
      ]
     },
     "execution_count": 39,
     "metadata": {},
     "output_type": "execute_result"
    },
    {
     "data": {
      "image/png": "[encoded data removed]",
      "text/plain": [
       "<matplotlib.figure.Figure at 0xce03128>"
      ]
     },
     "metadata": {},
     "output_type": "display_data"
    }
   ],
   "source": [
    "deg = np.zeros(len(nx.nodes(G)))\n",
    "for i in range(0, len(nx.nodes(G))):\n",
    "    deg[i] = nx.degree(G)[i]\n",
    "    \n",
    "# degree distribution in the final graph (pdf)\n",
    "n, bins, patches = plt.hist(deg, 35, normed=1, facecolor='g')\n",
    "plt.xlabel('degree')\n",
    "plt.ylabel('density')\n",
    "    "
   ]
  },
  {
   "cell_type": "code",
   "execution_count": 40,
   "metadata": {
    "collapsed": false
   },
   "outputs": [
    {
     "data": {
      "text/plain": [
       "<matplotlib.text.Text at 0xf72fa20>"
      ]
     },
     "execution_count": 40,
     "metadata": {},
     "output_type": "execute_result"
    },
    {
     "data": {
      "image/png": "[encoded data removed]",
      "text/plain": [
       "<matplotlib.figure.Figure at 0xf6c2be0>"
      ]
     },
     "metadata": {},
     "output_type": "display_data"
    }
   ],
   "source": [
    "# cdf\n",
    "\n",
    "d = len(np.unique(deg))\n",
    "\n",
    "cdf = np.zeros(d)\n",
    "npdeg = np.array(deg)\n",
    "for i in range(0,d):\n",
    "    cdf[i] = (sum(npdeg<=np.sort(np.unique(npdeg))[i]))/(len(nx.nodes(G2)))\n",
    "    \n",
    "plt.step(np.unique(deg), cdf)\n",
    "plt.xlabel('degree')\n",
    "plt.ylabel('probability')"
   ]
  },
  {
   "cell_type": "code",
   "execution_count": 41,
   "metadata": {
    "collapsed": false
   },
   "outputs": [
    {
     "data": {
      "text/plain": [
       "count    1020.000000\n",
       "mean       88.156863\n",
       "std        14.907267\n",
       "min        44.000000\n",
       "25%        78.000000\n",
       "50%        88.000000\n",
       "75%        98.000000\n",
       "max       135.000000\n",
       "dtype: float64"
      ]
     },
     "execution_count": 41,
     "metadata": {},
     "output_type": "execute_result"
    }
   ],
   "source": [
    "pddeg = pd.Series(deg)\n",
    "pddeg.describe()"
   ]
  },
  {
   "cell_type": "markdown",
   "metadata": {},
   "source": [
    "3) The analysis of the properties of obtained model:"
   ]
  },
  {
   "cell_type": "code",
   "execution_count": 8,
   "metadata": {
    "collapsed": false
   },
   "outputs": [
    {
     "name": "stdout",
     "output_type": "stream",
     "text": [
      "1\n",
      "[ 1.93200754  1.68347424  0.          1.91487355  0.        ]\n",
      "[ 0.07554979  0.33299008  0.          0.08631164  0.        ]\n"
     ]
    }
   ],
   "source": [
    "avpath = np.zeros(5)\n",
    "ccoef = np.zeros(5)\n",
    "k = 0\n",
    "\n",
    "n = 20\n",
    "p = 0.1\n",
    "q = 0.4\n",
    "G = randgp(n,p)\n",
    "\n",
    "for r in range(1000, 3001, 500):\n",
    "    for t in range(0,2000):\n",
    "        rndnode = nx.nodes(G)[rnd.randint(0,len(nx.nodes(G)))]\n",
    "        G.add_node(n+t)\n",
    "        for i in range(0,len(nx.edges(G,rndnode))):\n",
    "            if rnd.uniform(0,1,1)<=q:\n",
    "                G.add_edge(n+t, nx.edges(G,rndnode)[i][1])\n",
    "            else:\n",
    "                rndnode2 = nx.nodes(G)[rnd.randint(0,len(nx.nodes(G)))]\n",
    "                G.add_edge(n+t, rndnode2)\n",
    "    avpath[k] = nx.average_shortest_path_length(G)\n",
    "    ccoef[k] = nx.transitivity(G)\n",
    "    k = k+1"
   ]
  },
  {
   "cell_type": "code",
   "execution_count": 13,
   "metadata": {
    "collapsed": false
   },
   "outputs": [
    {
     "data": {
      "text/plain": [
       "<matplotlib.text.Text at 0x4106ac50>"
      ]
     },
     "execution_count": 13,
     "metadata": {},
     "output_type": "execute_result"
    },
    {
     "data": {
      "image/png": "[encoded data removed]",
      "text/plain": [
       "<matplotlib.figure.Figure at 0x41082240>"
      ]
     },
     "metadata": {},
     "output_type": "display_data"
    }
   ],
   "source": [
    "plt.plot(avpath)\n",
    "plt.ylabel('average path')\n",
    "plt.xlabel('degree')"
   ]
  },
  {
   "cell_type": "code",
   "execution_count": 15,
   "metadata": {
    "collapsed": false
   },
   "outputs": [
    {
     "data": {
      "text/plain": [
       "<matplotlib.text.Text at 0xf3e1828>"
      ]
     },
     "execution_count": 15,
     "metadata": {},
     "output_type": "execute_result"
    },
    {
     "data": {
      "image/png": "[encoded data removed]",
      "text/plain": [
       "<matplotlib.figure.Figure at 0xf3e2d30>"
      ]
     },
     "metadata": {},
     "output_type": "display_data"
    }
   ],
   "source": [
    "plt.plot(ccoef)\n",
    "plt.ylabel('clustering coefficient')\n",
    "plt.xlabel('degree')"
   ]
  },
  {
   "cell_type": "code",
   "execution_count": null,
   "metadata": {
    "collapsed": true
   },
   "outputs": [],
   "source": []
  }
 ],
 "metadata": {
  "kernelspec": {
   "display_name": "Python 3",
   "language": "python",
   "name": "python3"
  },
  "language_info": {
   "codemirror_mode": {
    "name": "ipython",
    "version": 3
   },
   "file_extension": ".py",
   "mimetype": "text/x-python",
   "name": "python",
   "nbconvert_exporter": "python",
   "pygments_lexer": "ipython3",
   "version": "3.4.3"
  }
 },
 "nbformat": 4,
 "nbformat_minor": 0
}
