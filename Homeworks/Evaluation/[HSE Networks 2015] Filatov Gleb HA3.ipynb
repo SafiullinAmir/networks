{
 "cells": [
  {
   "cell_type": "markdown",
   "metadata": {},
   "source": [
    "# <center> Home assignment 3 </center>\n",
    "## <center> Student: Gleb Filatov </center>"
   ]
  },
  {
   "cell_type": "markdown",
   "metadata": {},
   "source": [
    "## Task 1"
   ]
  },
  {
   "cell_type": "code",
   "execution_count": 1,
   "metadata": {
    "collapsed": true
   },
   "outputs": [],
   "source": [
    "%matplotlib inline\n",
    "import networkx as nx\n",
    "import seaborn as sns\n",
    "import scipy.io\n",
    "from os import listdir\n",
    "from os.path import isfile, join\n"
   ]
  },
  {
   "cell_type": "code",
   "execution_count": 2,
   "metadata": {
    "collapsed": true
   },
   "outputs": [],
   "source": [
    "#process sparse matrix\n",
    "data = scipy.io.loadmat('flickr.mat')\n",
    "names = data['names']\n",
    "matrix = data['A'].tocoo()\n",
    "edges = [edge for edge in zip(matrix.row,matrix.col)]\n",
    "\n",
    "G = nx.DiGraph()\n",
    "G.add_nodes_from(range(len(names)))\n",
    "G.add_edges_from(edges)"
   ]
  },
  {
   "cell_type": "markdown",
   "metadata": {},
   "source": [
    "After doing processing of data, let's compute required statistics. First - degree centrality"
   ]
  },
  {
   "cell_type": "code",
   "execution_count": 3,
   "metadata": {
    "collapsed": false
   },
   "outputs": [
    {
     "name": "stdout",
     "output_type": "stream",
     "text": [
      "['awfulsara', 'drp', 'DrJoanne', 'antimethod', '*Ivan*', 'BombDog', 'deborah lattimore', 'Simon Pais', 'cymagen', 'notraces', 'MaD GiÂ®Lâ\\x80¢â\\x84¢', 'aleyna', '*starlet*', 'lorrainemd', 'Pandarine', 'artofgold', ':Nikola', 'Mareen Fischinger', 'gu@va', 'Mylens', 'bernardo.borghetti', 'hot_luscious', 'romanlily', 'jkottke', 'pixietart', 'slowernet', 'anildash', 'pbowers', 'Joi', 'fraying', 'naftalina007', '.lush', 'Loobylu', 'Buntekuh', 'CherryVega', 'Gayla', 'jakedobkin', 'underbunny', 'fd', 'Airchild', 'maximolly', '* HoNe$t *', 'Sexy Swedish Babe', 'Ya Ya', 'kaneblues', 'Tsunami Notes', '990000', 'overshadowed', 'Tom Coates', 'good morning stradivari']\n"
     ]
    }
   ],
   "source": [
    "cen = nx.centrality.degree_centrality(G)\n",
    "c = sorted(cen.items(), key = lambda x: x[1], reverse = True)\n",
    "top50cen = [names[i[0]].rstrip() for i in c[:50]]\n",
    "print(top50cen)"
   ]
  },
  {
   "cell_type": "markdown",
   "metadata": {},
   "source": [
    "Second - PageRank scores"
   ]
  },
  {
   "cell_type": "code",
   "execution_count": 4,
   "metadata": {
    "collapsed": false
   },
   "outputs": [
    {
     "name": "stdout",
     "output_type": "stream",
     "text": [
      "['awfulsara', 'drp', 'antimethod', 'BombDog', '*Ivan*', 'MaD GiÂ®Lâ\\x80¢â\\x84¢', 'DrJoanne', 'Simon Pais', 'deborah lattimore', 'cymagen', ':Nikola', 'notraces', 'jkottke', 'lorrainemd', 'slowernet', 'artofgold', 'romanlily', '*starlet*', 'Pandarine', 'hot_luscious', 'Mareen Fischinger', 'underbunny', 'fraying', 'Mylens', 'aleyna', '* HoNe$t *', 'gu@va', 'pbowers', 'anildash', 'Loobylu', 'Joi', 'CherryVega', 'Marcelo  Montecino', 'bernardo.borghetti', '!!uAe prince!!', 'Esther_G', 'Departure Lounge', 'gruntzooki', 'Gayla', 'Tom Coates', 'maximolly', 'chromogenic', 'Agridulce', 'naftalina007', 'pixietart', 'aquanerds', 'overshadowed', '.lush', 'jakedobkin', 'fd']\n"
     ]
    }
   ],
   "source": [
    "pr = nx.pagerank(G)\n",
    "s = sorted(pr.items(), key = lambda x: x[1], reverse = True)\n",
    "top50pr = [names[i[0]].rstrip() for i in s[:50]]\n",
    "print(top50pr)"
   ]
  },
  {
   "cell_type": "markdown",
   "metadata": {},
   "source": [
    "Last - Hubs and Authorities score. We'll provide names for each of the scores separatley"
   ]
  },
  {
   "cell_type": "code",
   "execution_count": 6,
   "metadata": {
    "collapsed": false
   },
   "outputs": [
    {
     "name": "stdout",
     "output_type": "stream",
     "text": [
      "Hubs score\n",
      " ['mrpiink', 'automat', 'schizoo23', 'lorrainemd', 'sgoralnick', '*starlet*', 'brynfoto', 'liquid pixel', 'noahstone', 'isherwood', 'Arno-MM', 'scotsman0170', 'WaveSpire', 'tozzer', '...cathzilla', 'cymagen', 'ola_babe1', 'DrJoanne', 'pablokorona', 'demouser', 'jallive', 'macebio', 'marika b', 'drp', 'Osvaldo', 'Crea.tive', 'sheldonschwartz', 'virgu', 'mehmetkale', 'gucci1000', 'Zewalt', 'bernardo.borghetti', 'notraces', 'Grains And Light', 'overshadowed', 'neuskool', 'pblgbp', 'sillydog', 'zaharoula', 'mark daniel', 'astrid~', 'MrTopf', 'spanier', 'ricd', 'schani', 'redmondbarry', 'Mareen Fischinger', 'grow-er', '.lush', 'naftalina007']\n"
     ]
    }
   ],
   "source": [
    "(h,a) = nx.hits(G)\n",
    "hubs = sorted(h.items(), key = lambda x: x[1], reverse = True)\n",
    "auth = sorted(a.items(), key = lambda x: x[1], reverse = True)\n",
    "top50h = [names[i[0]].rstrip() for i in hubs[:50]]\n",
    "top50a = [names[i[0]].rstrip() for i in auth[:50]]\n",
    "print('Hubs score\\n', top50h)"
   ]
  },
  {
   "cell_type": "code",
   "execution_count": 7,
   "metadata": {
    "collapsed": false
   },
   "outputs": [
    {
     "name": "stdout",
     "output_type": "stream",
     "text": [
      "Authorities score\n",
      " ['awfulsara', 'drp', 'DrJoanne', '*Ivan*', 'antimethod', 'BombDog', 'Simon Pais', 'deborah lattimore', 'cymagen', ':Nikola', 'lorrainemd', '*starlet*', 'aleyna', 'artofgold', 'notraces', 'romanlily', 'Pandarine', 'Mylens', 'Mareen Fischinger', 'bernardo.borghetti', 'gu@va', 'Sexy Swedish Babe', 'pbowers', '.lush', 'Merina', 'Esther_G', 'slowernet', 'CherryVega', 'bex_ai', 'nedrosen', 'naftalina007', 'Agridulce', 'callipygian', 'isherwood', 'aircrash', 'Lola The Car Chick', 'liliths_nymph', 'Solarman', 'Ryou in the box', 'pixietart', 'Rachael D', 'fd', 'macwagen', 'underbunny', '* HoNe$t *', 'kunja', 'Home alone', 'bekon', 'tecgirl', 'carf']\n"
     ]
    }
   ],
   "source": [
    "print('Authorities score\\n', top50a)"
   ]
  },
  {
   "cell_type": "markdown",
   "metadata": {},
   "source": [
    "To sum up, let's find names, present in all ranking algorithms\n"
   ]
  },
  {
   "cell_type": "code",
   "execution_count": 8,
   "metadata": {
    "collapsed": false
   },
   "outputs": [
    {
     "data": {
      "text/plain": [
       "{'*starlet*',\n",
       " '.lush',\n",
       " 'DrJoanne',\n",
       " 'Mareen Fischinger',\n",
       " 'bernardo.borghetti',\n",
       " 'cymagen',\n",
       " 'drp',\n",
       " 'lorrainemd',\n",
       " 'naftalina007',\n",
       " 'notraces'}"
      ]
     },
     "execution_count": 8,
     "metadata": {},
     "output_type": "execute_result"
    }
   ],
   "source": [
    "common = set.intersection(set(top50cen),set(top50a),set(top50h),set(top50pr))\n",
    "common"
   ]
  },
  {
   "cell_type": "markdown",
   "metadata": {},
   "source": [
    "## Task 2"
   ]
  },
  {
   "cell_type": "code",
   "execution_count": 11,
   "metadata": {
    "collapsed": false
   },
   "outputs": [
    {
     "data": {
      "text/plain": [
       "<matplotlib.axes._subplots.AxesSubplot at 0x1c372edbda0>"
      ]
     },
     "execution_count": 11,
     "metadata": {},
     "output_type": "execute_result"
    },
    {
     "data": {
      "image/png": "[encoded data removed]",
      "text/plain": [
       "<matplotlib.figure.Figure at 0x1c372edb3c8>"
      ]
     },
     "metadata": {},
     "output_type": "display_data"
    }
   ],
   "source": [
    "files = [f for f in listdir('''D:\\\\DS mag\\\\Network Analysis\\\\HW3\\\\universities''') if \n",
    "         isfile(join('D:\\\\DS mag\\\\Network Analysis\\\\HW3\\\\universities', f))]\n",
    "attr_names = ['status flag', 'gender', 'major', 'second major', 'dorm', 'year', 'high school']\n",
    "assort = {}\n",
    "for file in files:\n",
    "    uni = scipy.io.loadmat('universities\\\\'+file)\n",
    "    node_attr = uni['local_info']\n",
    "    mat = uni['A'].tocoo()\n",
    "    edges_uni = [edge for edge in zip(mat.row,mat.col)]\n",
    "\n",
    "    G_uni = nx.DiGraph()\n",
    "    G_uni.add_nodes_from(range(len(node_attr)))\n",
    "    G_uni.add_edges_from(edges_uni)\n",
    "\n",
    "    #add node attributes\n",
    "    uni_assort = []    \n",
    "    for i,name in zip(range(len(node_attr[0])), attr_names):\n",
    "        attr_dict = {node:value for node,value in zip(G_uni.nodes(),node_attr[:,i] )}\n",
    "        nx.set_node_attributes(G_uni,name,attr_dict)\n",
    "        uni_assort.append(nx.attribute_assortativity_coefficient(G_uni,name))\n",
    "    uni_assort.append(nx.degree_assortativity_coefficient(G_uni))\n",
    "    assort[file]=uni_assort\n",
    "\n",
    "sns.heatmap(list(assort.values()),xticklabels=attr_names+['degree'], yticklabels=list(assort.keys()), annot = True)"
   ]
  },
  {
   "cell_type": "markdown",
   "metadata": {
    "collapsed": true
   },
   "source": [
    "Highest observed assortativity is by status flag calculated at Harvard: 0.54. Least assortative attributes are gender, and both majors for all universities. Next we can notice some interesting properties: for example, high school of a student plays some role (pretty minor though) in Texas and Oklahoma universities, but is almost completly irrelevant at Caltech, Harvard and Princeton. Also dorm is somewhat important for creating friendship ties at Caltech and Oklahoma universitises as opposed to Princeton."
   ]
  },
  {
   "cell_type": "code",
   "execution_count": null,
   "metadata": {
    "collapsed": true
   },
   "outputs": [],
   "source": []
  }
 ],
 "metadata": {
  "kernelspec": {
   "display_name": "Python 3",
   "language": "python",
   "name": "python3"
  },
  "language_info": {
   "codemirror_mode": {
    "name": "ipython",
    "version": 3
   },
   "file_extension": ".py",
   "mimetype": "text/x-python",
   "name": "python",
   "nbconvert_exporter": "python",
   "pygments_lexer": "ipython3",
   "version": "3.5.1"
  }
 },
 "nbformat": 4,
 "nbformat_minor": 0
}
