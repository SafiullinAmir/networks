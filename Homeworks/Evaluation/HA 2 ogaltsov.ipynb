{
 "cells": [
  {
   "cell_type": "markdown",
   "metadata": {},
   "source": [
    "# HA 2\n",
    "## Task 1"
   ]
  },
  {
   "cell_type": "markdown",
   "metadata": {},
   "source": [
    "### Model A"
   ]
  },
  {
   "cell_type": "code",
   "execution_count": 4,
   "metadata": {
    "collapsed": true
   },
   "outputs": [],
   "source": [
    "import numpy as np\n",
    "import networkx as nx\n",
    "import random as rnd\n",
    "import matplotlib.pyplot as plt\n",
    "%matplotlib inline\n",
    "#Functions for CDF and PDF\n",
    "#CDF\n",
    "def CDF(G):\n",
    "    k = nx.degree(G)\n",
    "    value_list = k.values()\n",
    "    pointsCDF = []\n",
    "    point = 0\n",
    "    for i in range(1, max(value_list) + 1):\n",
    "        point = float((point + value_list.count(i)))\n",
    "        prob = point/len(value_list)\n",
    "        pointsCDF.append(prob)\n",
    "    return pointsCDF\n",
    "\n",
    "#PDF\n",
    "def PDF(G):\n",
    "    points = CDF(G)\n",
    "    pointsPDF = []\n",
    "    for i in range(0, len(points)-1):\n",
    "        new_point = points[i+1] - points[i]\n",
    "        pointsPDF.append(new_point)\n",
    "    return pointsPDF"
   ]
  },
  {
   "cell_type": "code",
   "execution_count": 2,
   "metadata": {
    "collapsed": true
   },
   "outputs": [],
   "source": [
    "#Model A\n",
    "def GrowWithoutPref(n0, m, t):\n",
    "    if m > n0:\n",
    "        print 'Error! m must be greater then n0'\n",
    "        \n",
    "    \n",
    "    G = nx.Graph()\n",
    "    G.add_nodes_from(range(1, n0+1)) # add n0 nodes\n",
    "    for i in range(1, t+1):\n",
    "        G.add_node(n0 + i) # add new node\n",
    "        availableNodes = range(1, n0 + i)\n",
    "        count = 1\n",
    "        while count <= m:\n",
    "            selected_node = rnd.choice(availableNodes) # choice some node among all nodes exept the one, that just come in \n",
    "            G.add_edge(n0 + i, selected_node) # add edge between selected node and new-come node\n",
    "            availableNodes.remove(selected_node) # remove selected node for not choose it twice\n",
    "            \n",
    "            count += 1 # repeat it m times\n",
    "    return G"
   ]
  },
  {
   "cell_type": "code",
   "execution_count": null,
   "metadata": {
    "collapsed": false
   },
   "outputs": [],
   "source": [
    "G = GrowWithoutPref(10, 3, 10000)\n",
    "minK = min(G.degree().values())\n"
   ]
  },
  {
   "cell_type": "code",
   "execution_count": 7,
   "metadata": {
    "collapsed": false
   },
   "outputs": [
    {
     "data": {
      "text/plain": [
       "[<matplotlib.lines.Line2D at 0x1d2e61d0>]"
      ]
     },
     "execution_count": 7,
     "metadata": {},
     "output_type": "execute_result"
    },
    {
     "data": {
      "image/png": "[encoded data removed]",
      "text/plain": [
       "<matplotlib.figure.Figure at 0x1db0b6d8>"
      ]
     },
     "metadata": {},
     "output_type": "display_data"
    }
   ],
   "source": [
    "points = CDF(G)\n",
    "plt.plot(np.arange(minK, len(points)+1), points[minK-1:], linewidth=2, color='blue')"
   ]
  },
  {
   "cell_type": "code",
   "execution_count": 9,
   "metadata": {
    "collapsed": false
   },
   "outputs": [
    {
     "data": {
      "text/plain": [
       "[<matplotlib.lines.Line2D at 0x1d6f4940>]"
      ]
     },
     "execution_count": 9,
     "metadata": {},
     "output_type": "execute_result"
    },
    {
     "data": {
      "image/png": "[encoded data removed]",
      "text/plain": [
       "<matplotlib.figure.Figure at 0x1d2f4f28>"
      ]
     },
     "metadata": {},
     "output_type": "display_data"
    }
   ],
   "source": [
    "pdf = PDF(G)\n",
    "plt.plot(np.arange(minK, len(pdf)+1), pdf[minK-1:], linewidth=2, color='blue')\n",
    "# PDF seems to be exponential"
   ]
  },
  {
   "cell_type": "code",
   "execution_count": 10,
   "metadata": {
    "collapsed": false
   },
   "outputs": [
    {
     "name": "stderr",
     "output_type": "stream",
     "text": [
      "C:\\Users\\Alexander\\Anaconda2\\lib\\site-packages\\ipykernel\\__main__.py:3: RuntimeWarning: divide by zero encountered in log\n",
      "  app.launch_new_instance()\n"
     ]
    },
    {
     "data": {
      "text/plain": [
       "[<matplotlib.lines.Line2D at 0x1d3bfa58>]"
      ]
     },
     "execution_count": 10,
     "metadata": {},
     "output_type": "execute_result"
    },
    {
     "data": {
      "image/png": "[encoded data removed]",
      "text/plain": [
       "<matplotlib.figure.Figure at 0x1de24320>"
      ]
     },
     "metadata": {},
     "output_type": "display_data"
    }
   ],
   "source": [
    "# To check it plot it in log scale\n",
    "pdf = PDF(G)\n",
    "plt.plot(np.arange(minK, len(pdf)+1), np.log(pdf[minK-1:]), linewidth=2, color='blue')"
   ]
  },
  {
   "cell_type": "code",
   "execution_count": 13,
   "metadata": {
    "collapsed": true
   },
   "outputs": [],
   "source": [
    "#Average Path Leght\n",
    "def pathLenGrowWithoutPref(n0, m, t):\n",
    "    if m > n0:\n",
    "        print 'Error! m must be greater then n0'\n",
    "        \n",
    "    pathlen = []\n",
    "    G = nx.Graph()\n",
    "    G.add_nodes_from(range(1, n0+1))\n",
    "    for i in range(1, t+1):\n",
    "        G.add_node(n0 + i)\n",
    "        availableNodes = range(1, n0 + i)\n",
    "        count = 1\n",
    "        while count <= m:\n",
    "            selected_node = rnd.choice(availableNodes)\n",
    "            G.add_edge(n0 + i, selected_node)\n",
    "            availableNodes.remove(selected_node)\n",
    "            \n",
    "            count += 1\n",
    "        if (i >= 100)&(i%10 == 0) :\n",
    "            path = nx.average_shortest_path_length(G)\n",
    "            pathlen.append(path)\n",
    "            \n",
    "    return pathlen"
   ]
  },
  {
   "cell_type": "code",
   "execution_count": 14,
   "metadata": {
    "collapsed": false
   },
   "outputs": [],
   "source": [
    "pathlen = pathLenGrowWithoutPref(10, 3, 1000)"
   ]
  },
  {
   "cell_type": "code",
   "execution_count": 25,
   "metadata": {
    "collapsed": false
   },
   "outputs": [
    {
     "data": {
      "text/plain": [
       "<matplotlib.collections.PathCollection at 0x20382e10>"
      ]
     },
     "execution_count": 25,
     "metadata": {},
     "output_type": "execute_result"
    },
    {
     "data": {
      "image/png": "[encoded data removed]",
      "text/plain": [
       "<matplotlib.figure.Figure at 0x1ff85470>"
      ]
     },
     "metadata": {},
     "output_type": "display_data"
    }
   ],
   "source": [
    "# Plot average path leght\n",
    "plt.scatter(np.arange(100, 1001, 10), pathlen, linewidth=2, color='blue')\n"
   ]
  },
  {
   "cell_type": "code",
   "execution_count": 28,
   "metadata": {
    "collapsed": true
   },
   "outputs": [],
   "source": [
    "def clustGrowWithoutPref(n0, m, t):\n",
    "    if m > n0:\n",
    "        print 'Error! m must be greater then n0'\n",
    "        \n",
    "    clustering = []\n",
    "    G = nx.Graph()\n",
    "    G.add_nodes_from(range(1, n0+1))\n",
    "    for i in range(1, t+1):\n",
    "        G.add_node(n0 + i)\n",
    "        availableNodes = range(1, n0 + i)\n",
    "        count = 1\n",
    "        while count <= m:\n",
    "            selected_node = rnd.choice(availableNodes)\n",
    "            G.add_edge(n0 + i, selected_node)\n",
    "            availableNodes.remove(selected_node)\n",
    "            \n",
    "            count += 1\n",
    "        if (i >= 100)&(i%10 == 0) :\n",
    "            clust = nx.average_clustering(G)\n",
    "            clustering.append(clust)\n",
    "            \n",
    "    return clustering"
   ]
  },
  {
   "cell_type": "code",
   "execution_count": 29,
   "metadata": {
    "collapsed": false
   },
   "outputs": [],
   "source": [
    "av_clust_coef = clustGrowWithoutPref(10, 3, 5000)"
   ]
  },
  {
   "cell_type": "code",
   "execution_count": 32,
   "metadata": {
    "collapsed": false
   },
   "outputs": [
    {
     "data": {
      "text/plain": [
       "<matplotlib.collections.PathCollection at 0x2103aa90>"
      ]
     },
     "execution_count": 32,
     "metadata": {},
     "output_type": "execute_result"
    },
    {
     "data": {
      "image/png": "[encoded data removed]",
      "text/plain": [
       "<matplotlib.figure.Figure at 0x20c68ac8>"
      ]
     },
     "metadata": {},
     "output_type": "display_data"
    }
   ],
   "source": [
    "# Plot average clustering coefficient\n",
    "plt.scatter(np.arange(100, 5001, 10), av_clust_coef, s=2, color='blue')"
   ]
  },
  {
   "cell_type": "code",
   "execution_count": 33,
   "metadata": {
    "collapsed": true
   },
   "outputs": [],
   "source": [
    "# Average node degree to the nodes age\n",
    "def avDegreeGrowWithoutPref(n0, m, t):\n",
    "    if m > n0:\n",
    "        print 'Error! m must be greater then n0'\n",
    "    a = [x for x in range(10, 1000) if x%10 == 0] # Точки за которыми будем следить\n",
    "    avNodeDegree = []\n",
    "    for k in a:    # берем точку к и входим в следующий цикл\n",
    "        kdegree = []\n",
    "        G = nx.Graph()\n",
    "        G.add_nodes_from(range(1, n0+1))\n",
    "    \n",
    "        for i in range(1, t+1):                                #\n",
    "            G.add_node(n0 + i)                                 #\n",
    "            availableNodes = range(1, n0 + i)                  #\n",
    "            count = 1                                          # добавили к графу точку и соеденили ее\n",
    "            while count <= m:                                  #\n",
    "                selected_node = rnd.choice(availableNodes)     #\n",
    "                G.add_edge(n0 + i, selected_node)              #\n",
    "                availableNodes.remove(selected_node)           #\n",
    "                                                               #\n",
    "                count += 1                                     #\n",
    "        \n",
    "            if i >= k:\n",
    "                nodeDegree = G.degree().values()[k-1]    # После добавления каждой точки считаем степень вершины,  \n",
    "                kdegree.append(nodeDegree)      # за которой следим, эту степень добавляем в список. Далее считаем среднее\n",
    "        avdeg = np.mean(kdegree)                # этого списка и полученное число добавляем в итоговый список avNodeDegree\n",
    "        avNodeDegree.append(avdeg)\n",
    "        \n",
    "    return avNodeDegree # таким образом отслеживаем эволюцию степени вершины к с ростом графа и считаем среднюю степень \n",
    "                        # вершины за все время роста"
   ]
  },
  {
   "cell_type": "code",
   "execution_count": 34,
   "metadata": {
    "collapsed": true
   },
   "outputs": [],
   "source": [
    "avdegree = avDegreeGrowWithoutPref(10, 3, 2000)"
   ]
  },
  {
   "cell_type": "code",
   "execution_count": 36,
   "metadata": {
    "collapsed": false
   },
   "outputs": [
    {
     "data": {
      "text/plain": [
       "<matplotlib.collections.PathCollection at 0x205eea20>"
      ]
     },
     "execution_count": 36,
     "metadata": {},
     "output_type": "execute_result"
    },
    {
     "data": {
      "image/png": "[encoded data removed]",
      "text/plain": [
       "<matplotlib.figure.Figure at 0x20a36518>"
      ]
     },
     "metadata": {},
     "output_type": "display_data"
    }
   ],
   "source": [
    "#Plot average node degree depends on node's age\n",
    "plt.scatter(np.arange(10, 991, 10), avdegree, s=3, color='blue')"
   ]
  },
  {
   "cell_type": "markdown",
   "metadata": {},
   "source": [
    "### Model B"
   ]
  },
  {
   "cell_type": "code",
   "execution_count": 5,
   "metadata": {
    "collapsed": true
   },
   "outputs": [],
   "source": [
    "def WithPrefAttach(n0, m, t):\n",
    "    if m > n0:\n",
    "        print 'Error! m must be greater then n0'\n",
    "        \n",
    "    G = nx.MultiGraph()  # Пусть G мультиграф, для того чтобы учесть в степени вершин \"совпадающие\" ребра\n",
    "    availableNodes = range(1, n0 + 1)\n",
    "    G.add_nodes_from(availableNodes) # Добавляем n0 точек\n",
    "    i = 1\n",
    "    while i < n0: # Соединяем их по цепочке, для того чтобы изначально получить равную вероятность присоединения\n",
    "        G.add_edge(i, i+1)\n",
    "        i += 1\n",
    "    G.add_edge(n0, 1)\n",
    "    for i in range(1, t+1):\n",
    "        availableNodes = range(1, n0 + 1) \n",
    "        node_degrees = G.degree()\n",
    "        degrees = node_degrees.values()\n",
    "        sumOfDegrees = sum(degrees)\n",
    "        \n",
    "        selected_node = rnd.randint(1, n0) # Случайно выбираем точку\n",
    "        availableNodes.remove(selected_node) # Удаляем ее из списка доступных\n",
    "        count = 1\n",
    "        while count <= m:\n",
    "            k = rnd.choice(availableNodes) # Случайно берем одну из доступных точек\n",
    "            if float(node_degrees[k])/sumOfDegrees >= rnd.random(): # С вероятностью, соот. этой точке, проводим ребро в нее\n",
    "                G.add_edge(selected_node, k)                        # из выбранной\n",
    "                availableNodes.remove(k)   # Убираем k из рассмотрения, чтобы опять не провести в нее ребро\n",
    "                node_degrees = G.degree()        #\n",
    "                degrees = node_degrees.values()  # Обновляем степени вершин\n",
    "                sumOfDegrees = sum(degrees)      #\n",
    "                \n",
    "                count += 1\n",
    "\n",
    "                \n",
    "    return G"
   ]
  },
  {
   "cell_type": "code",
   "execution_count": 6,
   "metadata": {
    "collapsed": false
   },
   "outputs": [],
   "source": [
    "G = WithPrefAttach(10, 2, 1000)\n",
    "minK = min(G.degree().values())"
   ]
  },
  {
   "cell_type": "code",
   "execution_count": 139,
   "metadata": {
    "collapsed": false
   },
   "outputs": [
    {
     "data": {
      "text/plain": [
       "[<matplotlib.lines.Line2D at 0x2217c048>]"
      ]
     },
     "execution_count": 139,
     "metadata": {},
     "output_type": "execute_result"
    },
    {
     "data": {
      "image/png": "[encoded data removed]",
      "text/plain": [
       "<matplotlib.figure.Figure at 0x1b9202b0>"
      ]
     },
     "metadata": {},
     "output_type": "display_data"
    }
   ],
   "source": [
    "points = CDF(G)\n",
    "plt.plot(np.arange(minK, len(points)+1), points[minK-1:], linewidth=2, color='blue')"
   ]
  },
  {
   "cell_type": "code",
   "execution_count": 7,
   "metadata": {
    "collapsed": false
   },
   "outputs": [
    {
     "data": {
      "text/plain": [
       "[<matplotlib.lines.Line2D at 0x1aff3128>]"
      ]
     },
     "execution_count": 7,
     "metadata": {},
     "output_type": "execute_result"
    },
    {
     "data": {
      "image/png": "[encoded data removed]",
      "text/plain": [
       "<matplotlib.figure.Figure at 0x3e1f2e8>"
      ]
     },
     "metadata": {},
     "output_type": "display_data"
    }
   ],
   "source": [
    "pdf = PDF(G)\n",
    "plt.plot(np.arange(minK, len(pdf)+1), pdf[minK-1:], linewidth=2, color='blue')"
   ]
  },
  {
   "cell_type": "code",
   "execution_count": null,
   "metadata": {
    "collapsed": true
   },
   "outputs": [],
   "source": []
  }
 ],
 "metadata": {
  "kernelspec": {
   "display_name": "Python 2",
   "language": "python",
   "name": "python2"
  },
  "language_info": {
   "codemirror_mode": {
    "name": "ipython",
    "version": 2
   },
   "file_extension": ".py",
   "mimetype": "text/x-python",
   "name": "python",
   "nbconvert_exporter": "python",
   "pygments_lexer": "ipython2",
   "version": "2.7.11"
  }
 },
 "nbformat": 4,
 "nbformat_minor": 0
}
