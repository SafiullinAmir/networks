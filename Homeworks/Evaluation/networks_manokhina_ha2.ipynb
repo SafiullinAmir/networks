{
 "cells": [
  {
   "cell_type": "markdown",
   "metadata": {},
   "source": [
    "# <center>Network Science</center>"
   ]
  },
  {
   "cell_type": "markdown",
   "metadata": {},
   "source": [
    "## <center>Home Assignment #2: Network models</center>"
   ]
  },
  {
   "cell_type": "markdown",
   "metadata": {},
   "source": [
    "### <center>Student: *Manokhina Anastasia*</center>"
   ]
  },
  {
   "cell_type": "markdown",
   "metadata": {},
   "source": [
    "#### <hr /> General Information"
   ]
  },
  {
   "cell_type": "markdown",
   "metadata": {},
   "source": [
    "**Due Date:** 28.02.2016 23:59 <br \\>\n",
    "**Late submission policy:** -0.2 points per day <br \\>\n",
    "\n",
    "\n",
    "Please send your reports to <mailto:network.hse.2016@gmail.com> with message subject of the following structure:<br \\> **[HSE Networks 2015] *{LastName}* *{First Name}* HA*{Number}***\n",
    "\n",
    "Support your computations with figures and comments. <br \\>\n",
    "If you are using IPython Notebook you may use this file as a starting point of your report.<br \\>\n",
    "<br \\>\n",
    "<hr \\>"
   ]
  },
  {
   "cell_type": "markdown",
   "metadata": {},
   "source": [
    "## Problems"
   ]
  },
  {
   "cell_type": "markdown",
   "metadata": {},
   "source": [
    "### Task 1"
   ]
  },
  {
   "cell_type": "markdown",
   "metadata": {},
   "source": [
    "Consider Barabasi and Albert dynamical grow model. Two main ingredients of this model are *network growing* and *prefferential attachment*. Implement two restricted B&A-based models:\n",
    "<br \\>\n",
    "\n",
    "**Model A**\n",
    "<br \\>\n",
    "Lack of prefferential attachment, that is at each time-step form edges uniformly at random while network keeps growing.\n",
    "\n",
    "**Model B**\n",
    "<br \\>\n",
    "Lack of growing, that is fix total number of nodes, on each time-step randomly choose one and form edges with prefferential attachment.\n",
    "<br \\>\n",
    "\n",
    "1. Generate networks according to the models above ($N > 1000$ nodes)\n",
    "2. Compute CDF/PDF, describe the distribution and compute\\describe its properties.\n",
    "3. Illustate the following dependencies: \n",
    "    * average path length to the number of nodes\n",
    "    * average clustering coefficient to the number of nodes\n",
    "    * average node degee to the nodes \"age\"\n",
    "4. Is scale-free property conserved in these models?\n",
    "\n",
    "Analyse results with respect to various parameter settings"
   ]
  },
  {
   "cell_type": "markdown",
   "metadata": {},
   "source": [
    "**1. Generate networks according to the models above (N>1000 nodes)**"
   ]
  },
  {
   "cell_type": "code",
   "execution_count": 2,
   "metadata": {
    "collapsed": false,
    "scrolled": true
   },
   "outputs": [],
   "source": [
    "import networkx as nx\n",
    "import random\n",
    "\n",
    "#set the parameters of network\n",
    "n = 1500\n",
    "m = 10\n",
    "\n",
    "#model A\n",
    "def growing_network(n, m):\n",
    "    if m < 1 or  m >= n:\n",
    "        return None\n",
    "    else:\n",
    "        G = nx.empty_graph(m)\n",
    "        for i in range(0, n - m):\n",
    "            rand_nodes = random.sample(G.nodes(), m)\n",
    "            G.add_node(m + i)\n",
    "            edges = zip([m + i]*m, rand_nodes)\n",
    "            G.add_edges_from(edges)\n",
    "        return G"
   ]
  },
  {
   "cell_type": "code",
   "execution_count": 3,
   "metadata": {
    "collapsed": false,
    "scrolled": true
   },
   "outputs": [],
   "source": [
    "gn = growing_network(n, m)"
   ]
  },
  {
   "cell_type": "code",
   "execution_count": 4,
   "metadata": {
    "collapsed": true,
    "scrolled": true
   },
   "outputs": [],
   "source": [
    "%matplotlib inline\n",
    "import numpy as np\n",
    "import matplotlib.pyplot as plt\n",
    "import pandas as pd"
   ]
  },
  {
   "cell_type": "code",
   "execution_count": 5,
   "metadata": {
    "collapsed": true,
    "scrolled": true
   },
   "outputs": [],
   "source": [
    "def _random_subset(seq,m):\n",
    "    \"\"\" Return m unique elements from seq.\n",
    "\n",
    "    This differs from random.sample which can return repeated\n",
    "    elements if seq holds repeated elements.\n",
    "    \"\"\"\n",
    "    targets=set()\n",
    "    while len(targets)<m:\n",
    "        x=random.choice(seq)\n",
    "        targets.add(x)\n",
    "    return targets"
   ]
  },
  {
   "cell_type": "code",
   "execution_count": 6,
   "metadata": {
    "collapsed": false,
    "scrolled": true
   },
   "outputs": [],
   "source": [
    "#model B\n",
    "def pref_attach(n, m):\n",
    "    G = nx.empty_graph(n)\n",
    "    targets=list(range(m))\n",
    "    # List of existing nodes, with nodes repeated once for each adjacent edge\n",
    "    repeated_nodes=[]\n",
    "    # Start adding the other n-m nodes. The first node is m.\n",
    "    source=0\n",
    "    while source<n:\n",
    "        # Add edges to m nodes from the source.\n",
    "        G.add_edges_from(zip([source]*m,targets))\n",
    "        # Add one node to the list for each new edge just created.\n",
    "        repeated_nodes.extend(targets)\n",
    "        # And the new node \"source\" has m edges to add to the list.\n",
    "        repeated_nodes.extend([source]*m)\n",
    "        # Now choose m unique nodes from the existing nodes\n",
    "        # Pick uniformly from repeated_nodes (preferential attachement)\n",
    "        targets = _random_subset(repeated_nodes,m)\n",
    "        source += 1\n",
    "    return G"
   ]
  },
  {
   "cell_type": "code",
   "execution_count": 7,
   "metadata": {
    "collapsed": false,
    "scrolled": true
   },
   "outputs": [],
   "source": [
    "pa = pref_attach(n,m)"
   ]
  },
  {
   "cell_type": "markdown",
   "metadata": {},
   "source": [
    "**2. Compute CDF/PDF, describe the distribution and compute\\describe its properties.**"
   ]
  },
  {
   "cell_type": "code",
   "execution_count": 8,
   "metadata": {
    "collapsed": false,
    "scrolled": true
   },
   "outputs": [
    {
     "data": {
      "text/html": [
       "<div>\n",
       "<table border=\"1\" class=\"dataframe\">\n",
       "  <thead>\n",
       "    <tr style=\"text-align: right;\">\n",
       "      <th></th>\n",
       "      <th>deg</th>\n",
       "      <th>ncount</th>\n",
       "      <th>cumsum</th>\n",
       "      <th>CDF</th>\n",
       "    </tr>\n",
       "  </thead>\n",
       "  <tbody>\n",
       "    <tr>\n",
       "      <th>60</th>\n",
       "      <td>61</td>\n",
       "      <td>0</td>\n",
       "      <td>1497</td>\n",
       "      <td>0.998000</td>\n",
       "    </tr>\n",
       "    <tr>\n",
       "      <th>61</th>\n",
       "      <td>62</td>\n",
       "      <td>0</td>\n",
       "      <td>1497</td>\n",
       "      <td>0.998000</td>\n",
       "    </tr>\n",
       "    <tr>\n",
       "      <th>62</th>\n",
       "      <td>63</td>\n",
       "      <td>0</td>\n",
       "      <td>1497</td>\n",
       "      <td>0.998000</td>\n",
       "    </tr>\n",
       "    <tr>\n",
       "      <th>63</th>\n",
       "      <td>64</td>\n",
       "      <td>1</td>\n",
       "      <td>1498</td>\n",
       "      <td>0.998667</td>\n",
       "    </tr>\n",
       "    <tr>\n",
       "      <th>64</th>\n",
       "      <td>65</td>\n",
       "      <td>0</td>\n",
       "      <td>1498</td>\n",
       "      <td>0.998667</td>\n",
       "    </tr>\n",
       "    <tr>\n",
       "      <th>65</th>\n",
       "      <td>66</td>\n",
       "      <td>0</td>\n",
       "      <td>1498</td>\n",
       "      <td>0.998667</td>\n",
       "    </tr>\n",
       "    <tr>\n",
       "      <th>66</th>\n",
       "      <td>67</td>\n",
       "      <td>0</td>\n",
       "      <td>1498</td>\n",
       "      <td>0.998667</td>\n",
       "    </tr>\n",
       "    <tr>\n",
       "      <th>67</th>\n",
       "      <td>68</td>\n",
       "      <td>1</td>\n",
       "      <td>1499</td>\n",
       "      <td>0.999333</td>\n",
       "    </tr>\n",
       "    <tr>\n",
       "      <th>68</th>\n",
       "      <td>69</td>\n",
       "      <td>0</td>\n",
       "      <td>1499</td>\n",
       "      <td>0.999333</td>\n",
       "    </tr>\n",
       "    <tr>\n",
       "      <th>69</th>\n",
       "      <td>70</td>\n",
       "      <td>1</td>\n",
       "      <td>1500</td>\n",
       "      <td>1.000000</td>\n",
       "    </tr>\n",
       "  </tbody>\n",
       "</table>\n",
       "</div>"
      ],
      "text/plain": [
       "    deg  ncount  cumsum       CDF\n",
       "60   61       0    1497  0.998000\n",
       "61   62       0    1497  0.998000\n",
       "62   63       0    1497  0.998000\n",
       "63   64       1    1498  0.998667\n",
       "64   65       0    1498  0.998667\n",
       "65   66       0    1498  0.998667\n",
       "66   67       0    1498  0.998667\n",
       "67   68       1    1499  0.999333\n",
       "68   69       0    1499  0.999333\n",
       "69   70       1    1500  1.000000"
      ]
     },
     "execution_count": 8,
     "metadata": {},
     "output_type": "execute_result"
    }
   ],
   "source": [
    "#sorted degrees of model A\n",
    "node_degrees = np.array(sorted(nx.degree(gn).values(),reverse=False))\n",
    "\n",
    "#counting unique degrees\n",
    "gn_deg = pd.DataFrame(np.vstack(np.unique(node_degrees, return_counts=True)).T, columns=['deg', 'ncount'])\n",
    "gn_idx = pd.DataFrame(np.arange(node_degrees.max())+1, columns=['deg'])\n",
    "\n",
    "gn_data = pd.merge(gn_idx, gn_deg, 'outer', on='deg').fillna(0)\n",
    "gn_data['cumsum'] = np.cumsum(gn_data['ncount'])\n",
    "gn_data['CDF'] = gn_data['cumsum']/node_degrees.shape[0]\n",
    "gn_data.tail(10)"
   ]
  },
  {
   "cell_type": "code",
   "execution_count": 9,
   "metadata": {
    "collapsed": false,
    "scrolled": true
   },
   "outputs": [
    {
     "data": {
      "text/plain": [
       "<matplotlib.text.Text at 0x1080c4210>"
      ]
     },
     "execution_count": 9,
     "metadata": {},
     "output_type": "execute_result"
    },
    {
     "data": {
      "image/png": "[encoded data removed]",
      "text/plain": [
       "<matplotlib.figure.Figure at 0x10d869a50>"
      ]
     },
     "metadata": {},
     "output_type": "display_data"
    }
   ],
   "source": [
    "#plotting СDF\n",
    "plt.plot(gn_data['deg'], gn_data['CDF'], 'b-', linewidth = 2)\n",
    "plt.title('CDF')\n",
    "plt.xlabel('degrees')"
   ]
  },
  {
   "cell_type": "code",
   "execution_count": 10,
   "metadata": {
    "collapsed": false,
    "scrolled": true
   },
   "outputs": [
    {
     "data": {
      "text/plain": [
       "<matplotlib.text.Text at 0x10e03bf10>"
      ]
     },
     "execution_count": 10,
     "metadata": {},
     "output_type": "execute_result"
    },
    {
     "data": {
      "image/png": "[encoded data removed]",
      "text/plain": [
       "<matplotlib.figure.Figure at 0x10d87b610>"
      ]
     },
     "metadata": {},
     "output_type": "display_data"
    }
   ],
   "source": [
    "#pdf model A\n",
    "plt.plot(gn_data['deg'], gn_data['ncount'], 'b-', linewidth = 2)\n",
    "plt.title('Growing network PDF')\n",
    "plt.xlabel('degrees')\n",
    "plt.ylabel('ncount')"
   ]
  },
  {
   "cell_type": "code",
   "execution_count": 11,
   "metadata": {
    "collapsed": false,
    "scrolled": true
   },
   "outputs": [],
   "source": [
    "#gn_data['ncount'].replace(0, 0.000000001,inplace=True)\n",
    "gn_data['log_freq'] = np.log10(gn_data['ncount'])\n",
    "gn_data['log_idx'] = np.log10(gn_data.index+1)"
   ]
  },
  {
   "cell_type": "markdown",
   "metadata": {},
   "source": [
    "Some of values in table are nor defined (-inf) as we don't have the nodes with degree below zero (ncount = 0, log value undefined)."
   ]
  },
  {
   "cell_type": "code",
   "execution_count": 12,
   "metadata": {
    "collapsed": false,
    "scrolled": true
   },
   "outputs": [
    {
     "data": {
      "text/html": [
       "<div>\n",
       "<table border=\"1\" class=\"dataframe\">\n",
       "  <thead>\n",
       "    <tr style=\"text-align: right;\">\n",
       "      <th></th>\n",
       "      <th>deg</th>\n",
       "      <th>ncount</th>\n",
       "      <th>cumsum</th>\n",
       "      <th>CDF</th>\n",
       "      <th>log_freq</th>\n",
       "      <th>log_idx</th>\n",
       "    </tr>\n",
       "  </thead>\n",
       "  <tbody>\n",
       "    <tr>\n",
       "      <th>0</th>\n",
       "      <td>1</td>\n",
       "      <td>0</td>\n",
       "      <td>0</td>\n",
       "      <td>0.000000</td>\n",
       "      <td>-inf</td>\n",
       "      <td>0.000000</td>\n",
       "    </tr>\n",
       "    <tr>\n",
       "      <th>1</th>\n",
       "      <td>2</td>\n",
       "      <td>0</td>\n",
       "      <td>0</td>\n",
       "      <td>0.000000</td>\n",
       "      <td>-inf</td>\n",
       "      <td>0.301030</td>\n",
       "    </tr>\n",
       "    <tr>\n",
       "      <th>2</th>\n",
       "      <td>3</td>\n",
       "      <td>0</td>\n",
       "      <td>0</td>\n",
       "      <td>0.000000</td>\n",
       "      <td>-inf</td>\n",
       "      <td>0.477121</td>\n",
       "    </tr>\n",
       "    <tr>\n",
       "      <th>3</th>\n",
       "      <td>4</td>\n",
       "      <td>0</td>\n",
       "      <td>0</td>\n",
       "      <td>0.000000</td>\n",
       "      <td>-inf</td>\n",
       "      <td>0.602060</td>\n",
       "    </tr>\n",
       "    <tr>\n",
       "      <th>4</th>\n",
       "      <td>5</td>\n",
       "      <td>0</td>\n",
       "      <td>0</td>\n",
       "      <td>0.000000</td>\n",
       "      <td>-inf</td>\n",
       "      <td>0.698970</td>\n",
       "    </tr>\n",
       "    <tr>\n",
       "      <th>5</th>\n",
       "      <td>6</td>\n",
       "      <td>0</td>\n",
       "      <td>0</td>\n",
       "      <td>0.000000</td>\n",
       "      <td>-inf</td>\n",
       "      <td>0.778151</td>\n",
       "    </tr>\n",
       "    <tr>\n",
       "      <th>6</th>\n",
       "      <td>7</td>\n",
       "      <td>0</td>\n",
       "      <td>0</td>\n",
       "      <td>0.000000</td>\n",
       "      <td>-inf</td>\n",
       "      <td>0.845098</td>\n",
       "    </tr>\n",
       "    <tr>\n",
       "      <th>7</th>\n",
       "      <td>8</td>\n",
       "      <td>0</td>\n",
       "      <td>0</td>\n",
       "      <td>0.000000</td>\n",
       "      <td>-inf</td>\n",
       "      <td>0.903090</td>\n",
       "    </tr>\n",
       "    <tr>\n",
       "      <th>8</th>\n",
       "      <td>9</td>\n",
       "      <td>0</td>\n",
       "      <td>0</td>\n",
       "      <td>0.000000</td>\n",
       "      <td>-inf</td>\n",
       "      <td>0.954243</td>\n",
       "    </tr>\n",
       "    <tr>\n",
       "      <th>9</th>\n",
       "      <td>10</td>\n",
       "      <td>135</td>\n",
       "      <td>135</td>\n",
       "      <td>0.090000</td>\n",
       "      <td>2.130334</td>\n",
       "      <td>1.000000</td>\n",
       "    </tr>\n",
       "    <tr>\n",
       "      <th>10</th>\n",
       "      <td>11</td>\n",
       "      <td>129</td>\n",
       "      <td>264</td>\n",
       "      <td>0.176000</td>\n",
       "      <td>2.110590</td>\n",
       "      <td>1.041393</td>\n",
       "    </tr>\n",
       "    <tr>\n",
       "      <th>11</th>\n",
       "      <td>12</td>\n",
       "      <td>96</td>\n",
       "      <td>360</td>\n",
       "      <td>0.240000</td>\n",
       "      <td>1.982271</td>\n",
       "      <td>1.079181</td>\n",
       "    </tr>\n",
       "    <tr>\n",
       "      <th>12</th>\n",
       "      <td>13</td>\n",
       "      <td>107</td>\n",
       "      <td>467</td>\n",
       "      <td>0.311333</td>\n",
       "      <td>2.029384</td>\n",
       "      <td>1.113943</td>\n",
       "    </tr>\n",
       "    <tr>\n",
       "      <th>13</th>\n",
       "      <td>14</td>\n",
       "      <td>94</td>\n",
       "      <td>561</td>\n",
       "      <td>0.374000</td>\n",
       "      <td>1.973128</td>\n",
       "      <td>1.146128</td>\n",
       "    </tr>\n",
       "    <tr>\n",
       "      <th>14</th>\n",
       "      <td>15</td>\n",
       "      <td>101</td>\n",
       "      <td>662</td>\n",
       "      <td>0.441333</td>\n",
       "      <td>2.004321</td>\n",
       "      <td>1.176091</td>\n",
       "    </tr>\n",
       "  </tbody>\n",
       "</table>\n",
       "</div>"
      ],
      "text/plain": [
       "    deg  ncount  cumsum       CDF  log_freq   log_idx\n",
       "0     1       0       0  0.000000      -inf  0.000000\n",
       "1     2       0       0  0.000000      -inf  0.301030\n",
       "2     3       0       0  0.000000      -inf  0.477121\n",
       "3     4       0       0  0.000000      -inf  0.602060\n",
       "4     5       0       0  0.000000      -inf  0.698970\n",
       "5     6       0       0  0.000000      -inf  0.778151\n",
       "6     7       0       0  0.000000      -inf  0.845098\n",
       "7     8       0       0  0.000000      -inf  0.903090\n",
       "8     9       0       0  0.000000      -inf  0.954243\n",
       "9    10     135     135  0.090000  2.130334  1.000000\n",
       "10   11     129     264  0.176000  2.110590  1.041393\n",
       "11   12      96     360  0.240000  1.982271  1.079181\n",
       "12   13     107     467  0.311333  2.029384  1.113943\n",
       "13   14      94     561  0.374000  1.973128  1.146128\n",
       "14   15     101     662  0.441333  2.004321  1.176091"
      ]
     },
     "execution_count": 12,
     "metadata": {},
     "output_type": "execute_result"
    }
   ],
   "source": [
    "gn_data.head(15)"
   ]
  },
  {
   "cell_type": "code",
   "execution_count": 13,
   "metadata": {
    "collapsed": false,
    "scrolled": true
   },
   "outputs": [
    {
     "data": {
      "image/png": "[encoded data removed]",
      "text/plain": [
       "<matplotlib.figure.Figure at 0x10d87bb10>"
      ]
     },
     "metadata": {},
     "output_type": "display_data"
    }
   ],
   "source": [
    "plt.plot(gn_data['log_idx'], gn_data['log_freq'], 'r.')\n",
    "plt.axis([0, gn_data['log_idx'].max()+1, 0, gn_data['log_freq'].max()+1])\n",
    "plt.title('Rank-frequency plot', fontsize=14)\n",
    "plt.xlabel('log-rank')\n",
    "plt.ylabel('log-frequency')\n",
    "plt.show()"
   ]
  },
  {
   "cell_type": "markdown",
   "metadata": {},
   "source": [
    "Log-log plot doesn't look linear, thus we can't assume the power law here."
   ]
  },
  {
   "cell_type": "code",
   "execution_count": 14,
   "metadata": {
    "collapsed": false,
    "scrolled": true
   },
   "outputs": [],
   "source": [
    "#sorted degrees, model B\n",
    "node_degrees = np.array(sorted(nx.degree(pa).values(),reverse=False))\n",
    "\n",
    "#conting unique degrees\n",
    "pa_deg = pd.DataFrame(np.vstack(np.unique(node_degrees, return_counts=True)).T, columns=['deg', 'ncount'])\n",
    "pa_idx = pd.DataFrame(np.arange(node_degrees.max())+1, columns=['deg'])\n",
    "\n",
    "pa_data = pd.merge(pa_idx, pa_deg, 'outer', on='deg').fillna(0)\n",
    "pa_data['cumsum'] = np.cumsum(pa_data['ncount'])\n",
    "pa_data['CDF'] = pa_data['cumsum']/node_degrees.shape[0]"
   ]
  },
  {
   "cell_type": "code",
   "execution_count": 15,
   "metadata": {
    "collapsed": false,
    "scrolled": true
   },
   "outputs": [
    {
     "data": {
      "text/plain": [
       "<matplotlib.text.Text at 0x10e1f0390>"
      ]
     },
     "execution_count": 15,
     "metadata": {},
     "output_type": "execute_result"
    },
    {
     "data": {
      "image/png": "[encoded data removed]",
      "text/plain": [
       "<matplotlib.figure.Figure at 0x10e064310>"
      ]
     },
     "metadata": {},
     "output_type": "display_data"
    }
   ],
   "source": [
    "#plotting СDF\n",
    "plt.plot(pa_data['deg'], pa_data['CDF'], 'b-', linewidth = 2)\n",
    "plt.title('CDF')\n",
    "plt.xlabel('degrees')"
   ]
  },
  {
   "cell_type": "code",
   "execution_count": 16,
   "metadata": {
    "collapsed": false,
    "scrolled": true
   },
   "outputs": [
    {
     "data": {
      "text/plain": [
       "<matplotlib.text.Text at 0x10e0d7150>"
      ]
     },
     "execution_count": 16,
     "metadata": {},
     "output_type": "execute_result"
    },
    {
     "data": {
      "image/png": "[encoded data removed]",
      "text/plain": [
       "<matplotlib.figure.Figure at 0x10e045910>"
      ]
     },
     "metadata": {},
     "output_type": "display_data"
    }
   ],
   "source": [
    "#pdf model B\n",
    "plt.plot(pa_data['deg'], pa_data['ncount'], 'b-', linewidth = 2)\n",
    "plt.title('Preferential attachement PDF')\n",
    "plt.xlabel('degrees')\n",
    "plt.ylabel('ncount')"
   ]
  },
  {
   "cell_type": "code",
   "execution_count": 17,
   "metadata": {
    "collapsed": false,
    "scrolled": true
   },
   "outputs": [
    {
     "data": {
      "image/png": "[encoded data removed]",
      "text/plain": [
       "<matplotlib.figure.Figure at 0x10e2b8790>"
      ]
     },
     "metadata": {},
     "output_type": "display_data"
    }
   ],
   "source": [
    "pa_data['log_freq'] = np.log10(pa_data['ncount'])\n",
    "pa_data['log_idx'] = np.log10(pa_data.index+1)\n",
    "\n",
    "plt.plot(pa_data['log_idx'], pa_data['log_freq'], 'r.')\n",
    "plt.axis([0, pa_data['log_idx'].max()+1, 0, pa_data['log_freq'].max()+1])\n",
    "plt.title('Rank-frequency plot', fontsize=14)\n",
    "plt.xlabel('log-rank')\n",
    "plt.ylabel('log-frequency')\n",
    "plt.show()"
   ]
  },
  {
   "cell_type": "markdown",
   "metadata": {},
   "source": [
    "In this case log-log plot doesn't look linear for all the nodes, so we can't assume the power law here too."
   ]
  },
  {
   "cell_type": "markdown",
   "metadata": {},
   "source": [
    "**3. Illustate the following dependencies:**\n"
   ]
  },
  {
   "cell_type": "code",
   "execution_count": 18,
   "metadata": {
    "collapsed": false,
    "scrolled": true
   },
   "outputs": [],
   "source": [
    "#average path length to the number of nodes\n",
    "#average clustering coefficient to the number of nodes\n",
    "#average node degree to the node's \"age\"\n",
    "\n",
    "n_nodes = list(range(m, n + 1, 50)) \n",
    "ages = list(reversed(range(m, n - m + 2,50)))"
   ]
  },
  {
   "cell_type": "markdown",
   "metadata": {},
   "source": [
    "I've tried to write the functions collecting wanted parameters at each time step (for every kind of graph, A and B), but it seems working very very slow, even impossible to wait for the result."
   ]
  },
  {
   "cell_type": "code",
   "execution_count": 19,
   "metadata": {
    "collapsed": false,
    "scrolled": true
   },
   "outputs": [],
   "source": [
    "def params_a(n, m):\n",
    "    avg_path_length = []\n",
    "    avg_clust_coef = []\n",
    "    avg_node_degree = []\n",
    "    \n",
    "    G = nx.empty_graph(m)\n",
    "    for i in range(0, n - m):\n",
    "        rand_nodes = random.sample(G.nodes(), m)\n",
    "        G.add_node(m + i)\n",
    "        edges = zip([m + i]*m, rand_nodes)\n",
    "        G.add_edges_from(edges)\n",
    "        avg_path_length.append(nx.average_shortest_path_length(G))\n",
    "        avg_clust_coef.append(nx.average_clustering(G))\n",
    "        avg_node_degree.append(sum(list(G.degree(G.nodes()).values()))/len(list(G.degree(G.nodes()).values())))\n",
    "        \n",
    "    return {\"avg_path_length:\": avg_path_length, \"avg_clust_coef\": avg_clust_coef, \"avg_node_degree\": avg_node_degree}"
   ]
  },
  {
   "cell_type": "code",
   "execution_count": 20,
   "metadata": {
    "collapsed": false,
    "scrolled": true
   },
   "outputs": [],
   "source": [
    "def params_b(n, m):\n",
    "    avg_path_length = []\n",
    "    avg_clust_coef = []\n",
    "    avg_node_degree = []\n",
    "        \n",
    "    G=nx.empty_graph(n)\n",
    "    # Target nodes for new edges\n",
    "    targets=list(range(m))\n",
    "    # List of existing nodes, with nodes repeated once for each adjacent edge\n",
    "    repeated_nodes=[]\n",
    "    # Start adding the other n-m nodes. The first node is m.\n",
    "    source=0\n",
    "    \n",
    "    while source<=n:\n",
    "            # Add edges to m nodes from the source.\n",
    "        G.add_edges_from(zip([source]*m,targets))\n",
    "            # Add one node to the list for each new edge just created.\n",
    "        repeated_nodes.extend(targets)\n",
    "            # And the new node \"source\" has m edges to add to the list.\n",
    "        repeated_nodes.extend([source]*m)\n",
    "            # Now choose m unique nodes from the existing nodes\n",
    "            # Pick uniformly from repeated_nodes (preferential attachement)\n",
    "        targets = _random_subset(repeated_nodes,m)\n",
    "        source += 1\n",
    "            \n",
    "        avg_path_length.append(nx.average_shortest_path_length(G))\n",
    "        avg_clust_coef.append(nx.average_clustering(G))\n",
    "        avg_node_degree.append(sum(list(G.degree(G.nodes()).values()))/len(list(G.degree(G.nodes()).values())))\n",
    "            \n",
    "    return {\"avg_path_length\": avg_path_length, \"avg_clust_coef\": avg_clust_coef, \"avg_node_degree\": avg_node_degree}"
   ]
  },
  {
   "cell_type": "markdown",
   "metadata": {},
   "source": [
    "So I decided to count the parameters after every 50 time steps just in loop. It worked much faster:"
   ]
  },
  {
   "cell_type": "code",
   "execution_count": 21,
   "metadata": {
    "collapsed": false,
    "scrolled": true
   },
   "outputs": [],
   "source": [
    "#for model A\n",
    "avg_path_length_a = []\n",
    "avg_clust_coef_a = []\n",
    "avg_node_degree_a = []\n",
    "\n",
    "\n",
    "G = nx.empty_graph(m)\n",
    "for j in range(0, n, 50):\n",
    "    rand_nodes = random.sample(G.nodes(), m)\n",
    "    G.add_node(m + j)\n",
    "    edges = zip([m + j]*m, rand_nodes)\n",
    "    G.add_edges_from(edges)\n",
    "    avg_path_length_a.append(nx.average_shortest_path_length(G))\n",
    "    avg_clust_coef_a.append(nx.average_clustering(G))\n",
    "    avg_node_degree_a.append(sum(list(G.degree(G.nodes()).values()))/len(list(G.degree(G.nodes()).values())))"
   ]
  },
  {
   "cell_type": "code",
   "execution_count": null,
   "metadata": {
    "collapsed": false,
    "scrolled": true
   },
   "outputs": [],
   "source": [
    "#for model B\n",
    "\n",
    "avg_path_length_b = []\n",
    "avg_clust_coef_b = []\n",
    "avg_node_degree_b = []\n",
    "\n",
    "G=nx.empty_graph(n)\n",
    "for j in range(0, n):   \n",
    "    # Target nodes for new edges\n",
    "    targets=list(range(m))\n",
    "    # List of existing nodes, with nodes repeated once for each adjacent edge\n",
    "    repeated_nodes=[]\n",
    "    # Start adding the other n-m nodes. The first node is m.\n",
    "\n",
    "    # Add edges to m nodes from the source.\n",
    "    G.add_edges_from(zip([j]*m,targets))\n",
    "    # Add one node to the list for each new edge just created.\n",
    "    repeated_nodes.extend(targets)\n",
    "    # And the new node \"source\" has m edges to add to the list.\n",
    "    repeated_nodes.extend([j]*m)\n",
    "    # Now choose m unique nodes from the existing nodes\n",
    "    # Pick uniformly from repeated_nodes (preferential attachement)\n",
    "    targets = _random_subset(repeated_nodes,m)\n",
    "\n",
    "    if j%50 == 0 and j!=0:\n",
    "        avg_path_length_b.append(nx.average_shortest_path_length(G))        \n",
    "    else:\n",
    "        continue\n",
    "        #avg_path_length_b.append(n*2) # assume a number which is greater than number of nodes aka \"infinity\"\n",
    "    avg_clust_coef_b.append(nx.average_clustering(G))\n",
    "    avg_node_degree_b.append(sum(list(G.degree(G.nodes()).values()))/len(list(G.degree(G.nodes()).values())))\n",
    "            "
   ]
  },
  {
   "cell_type": "code",
   "execution_count": 62,
   "metadata": {
    "collapsed": false,
    "scrolled": true
   },
   "outputs": [],
   "source": [
    "avg_path_length_b = []\n",
    "avg_clust_coef_b = []\n",
    "avg_node_degree_b = []\n",
    "\n",
    "\n",
    "G = nx.empty_graph(n)\n",
    "for j in range(n):\n",
    "    targets=list(range(m))\n",
    "        # List of existing nodes, with nodes repeated once for each adjacent edge\n",
    "    repeated_nodes=[]\n",
    "        # Start adding the other n-m nodes. The first node is m.\n",
    "        # Add edges to m nodes from the source.\n",
    "    G.add_edges_from(zip([j]*m,targets))\n",
    "        # Add one node to the list for each new edge just created.\n",
    "    repeated_nodes.extend(targets)\n",
    "        # And the new node \"source\" has m edges to add to the list.\n",
    "    repeated_nodes.extend([j]*m)\n",
    "        # Now choose m unique nodes from the existing nodes\n",
    "        # Pick uniformly from repeated_nodes (preferential attachement)\n",
    "    targets = _random_subset(repeated_nodes,m)\n",
    "    j += 1\n",
    "    if not nx.is_connected(G):\n",
    "        if j % 50 == 0:    \n",
    "            avg_path_length_b.append(0)\n",
    "            avg_clust_coef_b.append(nx.average_clustering(G))\n",
    "            avg_node_degree_b.append(0)\n",
    "    else:    \n",
    "        if j % 50 == 0:\n",
    "            avg_path_length_b.append(nx.average_shortest_path_length(G))\n",
    "            avg_clust_coef_b.append(nx.average_clustering(G))\n",
    "            avg_node_degree_b.append(sum(list(G.degree(G.nodes()).values()))/len(list(G.degree(G.nodes()).values())))\n"
   ]
  },
  {
   "cell_type": "code",
   "execution_count": 69,
   "metadata": {
    "collapsed": false
   },
   "outputs": [
    {
     "name": "stdout",
     "output_type": "stream",
     "text": [
      "('path lengths', [0, 0, 0, 0, 0, 0, 0, 0, 0, 0, 0, 0, 0, 0, 0, 0, 0, 0, 0, 0, 0, 0, 0, 0, 0, 0, 0, 0, 0, 1.986706693351123])\n",
      "('clustering', [0.02891156462585034, 0.06116264687693259, 0.09411693572767399, 0.12725749961930866, 0.16047415468324913, 0.1937292840415105, 0.22700655402957545, 0.26029772924774247, 0.2935982076572277, 0.32690521605459916, 0.3602169837661042, 0.3935323271971309, 0.42685042515550986, 0.4601706900156179, 0.4934926901941745, 0.5268161015806099, 0.5601406760450697, 0.5934662204065724, 0.6267925820206035, 0.6601196386767528, 0.6934472913740701, 0.7267754590611435, 0.7601040747445892, 0.7934330825678791, 0.8267624355894972, 0.8600920940726007, 0.8934220241538774, 0.9267521967970173, 0.960082586962241, 0.9934131729415813])\n",
      "('avg node degree', [0, 0, 0, 0, 0, 0, 0, 0, 0, 0, 0, 0, 0, 0, 0, 0, 0, 0, 0, 0, 0, 0, 0, 0, 0, 0, 0, 0, 0, 19])\n"
     ]
    }
   ],
   "source": [
    "#let's see the result of counting the parameters of model B\n",
    "print('path lengths',avg_path_length_b)\n",
    "print('clustering',avg_clust_coef_b)\n",
    "print('avg node degree',avg_node_degree_b)"
   ]
  },
  {
   "cell_type": "markdown",
   "metadata": {
    "collapsed": false
   },
   "source": [
    "**The problem is that in model B we have to wait till the end of time period to make graph connected, as first approximation assumes n isolated nodes, which is very hard to connect my m edges at every time step. That's why I set up non-defined values (path lengths and average node degree) to zero.**"
   ]
  },
  {
   "cell_type": "markdown",
   "metadata": {
    "collapsed": true
   },
   "source": [
    "Plotting parameter values in time:\n",
    "#1. average path length to the number of nodes"
   ]
  },
  {
   "cell_type": "code",
   "execution_count": 36,
   "metadata": {
    "collapsed": false,
    "scrolled": true
   },
   "outputs": [
    {
     "data": {
      "text/plain": [
       "<matplotlib.text.Text at 0x10edfa710>"
      ]
     },
     "execution_count": 36,
     "metadata": {},
     "output_type": "execute_result"
    },
    {
     "data": {
      "image/png": "[encoded data removed]",
      "text/plain": [
       "<matplotlib.figure.Figure at 0x10e3191d0>"
      ]
     },
     "metadata": {},
     "output_type": "display_data"
    }
   ],
   "source": [
    "#avg_path_length\n",
    "plt.plot(n_nodes, avg_path_length_a, 'b-', linewidth = 2)\n",
    "plt.title('Model A: average path length to the number of nodes')\n",
    "plt.xlabel('number of nodes')\n",
    "plt.ylabel('avg path length')"
   ]
  },
  {
   "cell_type": "code",
   "execution_count": 64,
   "metadata": {
    "collapsed": false,
    "scrolled": true
   },
   "outputs": [
    {
     "data": {
      "text/plain": [
       "<matplotlib.text.Text at 0x10e684f90>"
      ]
     },
     "execution_count": 64,
     "metadata": {},
     "output_type": "execute_result"
    },
    {
     "data": {
      "image/png": "[encoded data removed]",
      "text/plain": [
       "<matplotlib.figure.Figure at 0x10f32e050>"
      ]
     },
     "metadata": {},
     "output_type": "display_data"
    }
   ],
   "source": [
    "plt.plot(n_nodes, avg_path_length_b, 'b-', linewidth = 2)\n",
    "plt.title('Model B: average path length to the number of nodes')\n",
    "plt.xlabel('number of nodes')\n",
    "plt.ylabel('avg path length')"
   ]
  },
  {
   "cell_type": "markdown",
   "metadata": {},
   "source": [
    "#2. average clustering coefficient to the number of nodes"
   ]
  },
  {
   "cell_type": "code",
   "execution_count": 53,
   "metadata": {
    "collapsed": false,
    "scrolled": true
   },
   "outputs": [
    {
     "data": {
      "text/plain": [
       "<matplotlib.text.Text at 0x10f0773d0>"
      ]
     },
     "execution_count": 53,
     "metadata": {},
     "output_type": "execute_result"
    },
    {
     "data": {
      "image/png": "[encoded data removed]",
      "text/plain": [
       "<matplotlib.figure.Figure at 0x10dee05d0>"
      ]
     },
     "metadata": {},
     "output_type": "display_data"
    }
   ],
   "source": [
    "plt.plot(n_nodes, avg_clust_coef_a, 'b-', linewidth = 2)\n",
    "plt.title('Model A: average clustering coefficient to the number of nodes')\n",
    "plt.xlabel('number of nodes')\n",
    "plt.ylabel(\"avg_clust_coef\")"
   ]
  },
  {
   "cell_type": "code",
   "execution_count": 65,
   "metadata": {
    "collapsed": false,
    "scrolled": true
   },
   "outputs": [
    {
     "data": {
      "text/plain": [
       "<matplotlib.text.Text at 0x109227990>"
      ]
     },
     "execution_count": 65,
     "metadata": {},
     "output_type": "execute_result"
    },
    {
     "data": {
      "image/png": "[encoded data removed]",
      "text/plain": [
       "<matplotlib.figure.Figure at 0x10e707890>"
      ]
     },
     "metadata": {},
     "output_type": "display_data"
    }
   ],
   "source": [
    "plt.plot(n_nodes, avg_clust_coef_b, 'b-', linewidth = 2)\n",
    "plt.title('Model B: average clustering coefficient to the number of nodes')\n",
    "plt.xlabel('number of nodes')\n",
    "plt.ylabel(\"avg_clust_coef\")"
   ]
  },
  {
   "cell_type": "markdown",
   "metadata": {},
   "source": [
    "#3. average node degree to the node's \"age\""
   ]
  },
  {
   "cell_type": "code",
   "execution_count": 127,
   "metadata": {
    "collapsed": false,
    "scrolled": true
   },
   "outputs": [
    {
     "data": {
      "text/plain": [
       "<matplotlib.text.Text at 0x1063ba390>"
      ]
     },
     "execution_count": 127,
     "metadata": {},
     "output_type": "execute_result"
    },
    {
     "data": {
      "image/png": "[encoded data removed]",
      "text/plain": [
       "<matplotlib.figure.Figure at 0x10646e750>"
      ]
     },
     "metadata": {},
     "output_type": "display_data"
    }
   ],
   "source": [
    "plt.plot(n_nodes, avg_node_degree_a, 'b-', linewidth = 2)\n",
    "plt.title('Model A: average node degree to the node\\'s \"age\"')\n",
    "plt.xlabel('node\\'s \"age\"')\n",
    "plt.ylabel('average node degree')"
   ]
  },
  {
   "cell_type": "code",
   "execution_count": 67,
   "metadata": {
    "collapsed": false,
    "scrolled": true
   },
   "outputs": [
    {
     "data": {
      "text/plain": [
       "<matplotlib.text.Text at 0x10f7c17d0>"
      ]
     },
     "execution_count": 67,
     "metadata": {},
     "output_type": "execute_result"
    },
    {
     "data": {
      "image/png": "[encoded data removed]",
      "text/plain": [
       "<matplotlib.figure.Figure at 0x10df9ed50>"
      ]
     },
     "metadata": {},
     "output_type": "display_data"
    }
   ],
   "source": [
    "plt.plot(n_nodes, avg_node_degree_b, 'b-', linewidth = 2)\n",
    "plt.title('Model B: average node degree to the node\\'s \"age\"')\n",
    "plt.xlabel('node\\'s \"age\"')\n",
    "plt.ylabel('average node degree')\n",
    " "
   ]
  },
  {
   "cell_type": "markdown",
   "metadata": {},
   "source": [
    "**4. Is scale-free property conserved in these models?**"
   ]
  },
  {
   "cell_type": "markdown",
   "metadata": {},
   "source": [
    "A scale-free network is a network whose degree distribution follows a power law, at least asymptotically. Barabási–Albert model is actually the first scale-free model, but as we see, both factors -- growing and preferential attachement idea -- are sufficient here, as without any of them network stops being scale-free."
   ]
  },
  {
   "cell_type": "markdown",
   "metadata": {},
   "source": [
    "### <hr /> Task 2"
   ]
  },
  {
   "cell_type": "markdown",
   "metadata": {},
   "source": [
    "Consider the following  \"Vertex copying model\" of growing network.\n",
    "\n",
    "At every time step a random vertex from already existing vertices is selected and duplicated together with all edges, such that  every edge of the  vertex\n",
    "* is copied with probability $q$\n",
    "* is rewired to any other randomly selected vertex with probability $1-q$\n",
    "\n",
    "\n",
    "Starting state is defined by some small number of randomly connected vertices.\n",
    "\n",
    "The model can generate both directed and undirected networks.\n",
    "\n",
    "1. Generate  graphs based on the model ($N > 1000$ nodes)\n",
    "2. Compute CDF/PDF, describe the distribution and compute\\describe its properties.\n",
    "3. Illustate the following dependencies: \n",
    "    * average path length to the number of nodes\n",
    "    * average clustering coefficient to the number of nodes\n",
    "    * average node degee to the nodes \"age\"\n",
    "    \n",
    "Analyse results with respect to various parameter settings"
   ]
  },
  {
   "cell_type": "markdown",
   "metadata": {},
   "source": [
    "**1. Generate graph based on the model (N>1000 nodes)**"
   ]
  },
  {
   "cell_type": "code",
   "execution_count": 164,
   "metadata": {
    "collapsed": false,
    "scrolled": true
   },
   "outputs": [],
   "source": [
    "n = 1500\n",
    "\n",
    "def vertex_copy_netw(n, q):\n",
    "    if q > 1:\n",
    "        return None\n",
    "    else:\n",
    "        nds = 100\n",
    "        G = nx.gnp_random_graph(nds, 0.5)      \n",
    "        count = 0\n",
    "        while count<n:          \n",
    "            r_vertex = random.choice(G.nodes())\n",
    "            G.add_node(nds+count)   \n",
    "            for neighbor in G.neighbors(r_vertex):\n",
    "                prob = random.uniform(0, 1) \n",
    "                if prob <= q:\n",
    "                    G.add_edge(nds+count,neighbor)               \n",
    "                else:\n",
    "                    G.remove_edge(r_vertex, random.choice(G.neighbors(r_vertex)))  \n",
    "                    G.add_edge(r_vertex, random.choice(G.nodes())) \n",
    "            count += 1\n",
    "    return G"
   ]
  },
  {
   "cell_type": "code",
   "execution_count": 165,
   "metadata": {
    "collapsed": false,
    "scrolled": true
   },
   "outputs": [],
   "source": [
    "vcn = vertex_copy_netw(n, 0.5)"
   ]
  },
  {
   "cell_type": "markdown",
   "metadata": {},
   "source": [
    "**2. СDF and PDF**"
   ]
  },
  {
   "cell_type": "code",
   "execution_count": 167,
   "metadata": {
    "collapsed": false,
    "scrolled": true
   },
   "outputs": [
    {
     "data": {
      "text/html": [
       "<div>\n",
       "<table border=\"1\" class=\"dataframe\">\n",
       "  <thead>\n",
       "    <tr style=\"text-align: right;\">\n",
       "      <th></th>\n",
       "      <th>deg</th>\n",
       "      <th>ncount</th>\n",
       "      <th>cumsum</th>\n",
       "      <th>CDF</th>\n",
       "    </tr>\n",
       "  </thead>\n",
       "  <tbody>\n",
       "    <tr>\n",
       "      <th>111</th>\n",
       "      <td>112</td>\n",
       "      <td>0</td>\n",
       "      <td>1595</td>\n",
       "      <td>0.996875</td>\n",
       "    </tr>\n",
       "    <tr>\n",
       "      <th>112</th>\n",
       "      <td>113</td>\n",
       "      <td>2</td>\n",
       "      <td>1597</td>\n",
       "      <td>0.998125</td>\n",
       "    </tr>\n",
       "    <tr>\n",
       "      <th>113</th>\n",
       "      <td>114</td>\n",
       "      <td>1</td>\n",
       "      <td>1598</td>\n",
       "      <td>0.998750</td>\n",
       "    </tr>\n",
       "    <tr>\n",
       "      <th>114</th>\n",
       "      <td>115</td>\n",
       "      <td>1</td>\n",
       "      <td>1599</td>\n",
       "      <td>0.999375</td>\n",
       "    </tr>\n",
       "    <tr>\n",
       "      <th>115</th>\n",
       "      <td>116</td>\n",
       "      <td>0</td>\n",
       "      <td>1599</td>\n",
       "      <td>0.999375</td>\n",
       "    </tr>\n",
       "    <tr>\n",
       "      <th>116</th>\n",
       "      <td>117</td>\n",
       "      <td>0</td>\n",
       "      <td>1599</td>\n",
       "      <td>0.999375</td>\n",
       "    </tr>\n",
       "    <tr>\n",
       "      <th>117</th>\n",
       "      <td>118</td>\n",
       "      <td>0</td>\n",
       "      <td>1599</td>\n",
       "      <td>0.999375</td>\n",
       "    </tr>\n",
       "    <tr>\n",
       "      <th>118</th>\n",
       "      <td>119</td>\n",
       "      <td>0</td>\n",
       "      <td>1599</td>\n",
       "      <td>0.999375</td>\n",
       "    </tr>\n",
       "    <tr>\n",
       "      <th>119</th>\n",
       "      <td>120</td>\n",
       "      <td>0</td>\n",
       "      <td>1599</td>\n",
       "      <td>0.999375</td>\n",
       "    </tr>\n",
       "    <tr>\n",
       "      <th>120</th>\n",
       "      <td>121</td>\n",
       "      <td>1</td>\n",
       "      <td>1600</td>\n",
       "      <td>1.000000</td>\n",
       "    </tr>\n",
       "  </tbody>\n",
       "</table>\n",
       "</div>"
      ],
      "text/plain": [
       "     deg  ncount  cumsum       CDF\n",
       "111  112       0    1595  0.996875\n",
       "112  113       2    1597  0.998125\n",
       "113  114       1    1598  0.998750\n",
       "114  115       1    1599  0.999375\n",
       "115  116       0    1599  0.999375\n",
       "116  117       0    1599  0.999375\n",
       "117  118       0    1599  0.999375\n",
       "118  119       0    1599  0.999375\n",
       "119  120       0    1599  0.999375\n",
       "120  121       1    1600  1.000000"
      ]
     },
     "execution_count": 167,
     "metadata": {},
     "output_type": "execute_result"
    }
   ],
   "source": [
    "node_degrees = np.array(sorted(nx.degree(vcn).values(),reverse=False))\n",
    "\n",
    "vcn_deg = pd.DataFrame(np.vstack(np.unique(node_degrees, return_counts=True)).T, columns=['deg', 'ncount'])\n",
    "vcn_idx = pd.DataFrame(np.arange(node_degrees.max())+1, columns=['deg'])\n",
    "\n",
    "vcn_data = pd.merge(vcn_idx, vcn_deg, 'outer', on='deg', sort=True).fillna(0)\n",
    "vcn_data['cumsum'] = np.cumsum(vcn_data['ncount'])\n",
    "vcn_data['CDF'] = vcn_data['cumsum']/node_degrees.shape[0]\n",
    "vcn_data.tail(10)"
   ]
  },
  {
   "cell_type": "code",
   "execution_count": 197,
   "metadata": {
    "collapsed": false
   },
   "outputs": [
    {
     "data": {
      "text/plain": [
       "<matplotlib.text.Text at 0x111584310>"
      ]
     },
     "execution_count": 197,
     "metadata": {},
     "output_type": "execute_result"
    },
    {
     "data": {
      "image/png": "[encoded data removed]",
      "text/plain": [
       "<matplotlib.figure.Figure at 0x1829d9c50>"
      ]
     },
     "metadata": {},
     "output_type": "display_data"
    }
   ],
   "source": [
    "#plotting СDF\n",
    "plt.plot(vcn_data['deg'], vcn_data['CDF'], 'b-', linewidth = 2)\n",
    "plt.title('Vertex copying model CDF')\n",
    "plt.xlabel('degrees')"
   ]
  },
  {
   "cell_type": "code",
   "execution_count": 169,
   "metadata": {
    "collapsed": false
   },
   "outputs": [
    {
     "data": {
      "text/plain": [
       "<matplotlib.text.Text at 0x1829bd450>"
      ]
     },
     "execution_count": 169,
     "metadata": {},
     "output_type": "execute_result"
    },
    {
     "data": {
      "image/png": "[encoded data removed]",
      "text/plain": [
       "<matplotlib.figure.Figure at 0x1829d0310>"
      ]
     },
     "metadata": {},
     "output_type": "display_data"
    }
   ],
   "source": [
    "plt.plot(vcn_data['deg'], vcn_data['ncount'], 'b-', linewidth = 2)\n",
    "plt.title('Vertex copying model PDF')\n",
    "plt.xlabel('degrees')\n",
    "plt.ylabel('ncount')"
   ]
  },
  {
   "cell_type": "code",
   "execution_count": 170,
   "metadata": {
    "collapsed": true
   },
   "outputs": [],
   "source": [
    "vcn_data['log_freq'] = np.log10(vcn_data['ncount'])\n",
    "vcn_data['log_idx'] = np.log10(vcn_data.index+1)"
   ]
  },
  {
   "cell_type": "code",
   "execution_count": 171,
   "metadata": {
    "collapsed": false
   },
   "outputs": [
    {
     "data": {
      "image/png": "[encoded data removed]",
      "text/plain": [
       "<matplotlib.figure.Figure at 0x110242c90>"
      ]
     },
     "metadata": {},
     "output_type": "display_data"
    }
   ],
   "source": [
    "plt.plot(vcn_data['log_idx'], vcn_data['log_freq'], 'r.')\n",
    "plt.axis([0, vcn_data['log_idx'].max()+1, 0, vcn_data['log_freq'].max()+1])\n",
    "plt.title('Rank-frequency plot', fontsize=14)\n",
    "plt.xlabel('log-rank')\n",
    "plt.ylabel('log-frequency')\n",
    "plt.show()"
   ]
  },
  {
   "cell_type": "markdown",
   "metadata": {},
   "source": [
    "We see that this model is also not scale-free."
   ]
  },
  {
   "cell_type": "markdown",
   "metadata": {},
   "source": [
    "**3. Parameters:**"
   ]
  },
  {
   "cell_type": "code",
   "execution_count": 183,
   "metadata": {
    "collapsed": false
   },
   "outputs": [],
   "source": [
    "avg_path_length = []\n",
    "avg_clust_coef = []\n",
    "avg_node_degree = []\n",
    "    \n",
    "n_nodes = []\n",
    "q=0.5\n",
    "nds = 100\n",
    "G = nx.gnp_random_graph(nds, 0.5)      \n",
    "count = 0\n",
    "while count<n:          \n",
    "    r_vertex = random.choice(G.nodes())\n",
    "    G.add_node(nds+count)   \n",
    "    for neighbor in G.neighbors(r_vertex):\n",
    "        prob = random.uniform(0, 1) \n",
    "        if prob <= q:\n",
    "            G.add_edge(nds+count,neighbor)               \n",
    "        else:\n",
    "            G.remove_edge(r_vertex, random.choice(G.neighbors(r_vertex)))  \n",
    "            G.add_edge(r_vertex, random.choice(G.nodes())) \n",
    "\n",
    "    if not nx.is_connected(G) and count %50 == 0:\n",
    "        avg_path_length.append(0)           \n",
    "        avg_node_degree.append(0)\n",
    "        avg_clust_coef.append(nx.average_clustering(G))\n",
    "        n_nodes.append(len(G.nodes()))\n",
    "    elif count %50 == 0:\n",
    "        avg_path_length.append(nx.average_shortest_path_length(G))           \n",
    "        avg_node_degree.append(sum(list(G.degree(G.nodes()).values()))/len(list(G.degree(G.nodes()).values())))\n",
    "        avg_clust_coef.append(nx.average_clustering(G))\n",
    "        n_nodes.append(len(G.nodes()))\n",
    "    count += 1\n",
    " "
   ]
  },
  {
   "cell_type": "code",
   "execution_count": 184,
   "metadata": {
    "collapsed": false
   },
   "outputs": [
    {
     "data": {
      "text/plain": [
       "<matplotlib.text.Text at 0x110832cd0>"
      ]
     },
     "execution_count": 184,
     "metadata": {},
     "output_type": "execute_result"
    },
    {
     "data": {
      "image/png": "[encoded data removed]",
      "text/plain": [
       "<matplotlib.figure.Figure at 0x1829abdd0>"
      ]
     },
     "metadata": {},
     "output_type": "display_data"
    }
   ],
   "source": [
    "plt.plot(n_nodes, avg_path_length, 'b-', linewidth = 2)\n",
    "plt.title('VCN: average path length to the number of nodes')\n",
    "plt.xlabel('number of nodes')\n",
    "plt.ylabel(\"avg_path_length\")"
   ]
  },
  {
   "cell_type": "markdown",
   "metadata": {},
   "source": [
    "By this plot we see that the graph happened to become not connected twice, but then the mechanism made it connected on next iteration."
   ]
  },
  {
   "cell_type": "code",
   "execution_count": 178,
   "metadata": {
    "collapsed": false
   },
   "outputs": [
    {
     "data": {
      "text/plain": [
       "<matplotlib.text.Text at 0x110869b10>"
      ]
     },
     "execution_count": 178,
     "metadata": {},
     "output_type": "execute_result"
    },
    {
     "data": {
      "image/png": "[encoded data removed]",
      "text/plain": [
       "<matplotlib.figure.Figure at 0x182982710>"
      ]
     },
     "metadata": {},
     "output_type": "display_data"
    }
   ],
   "source": [
    "plt.plot(n_nodes, avg_clust_coef, 'b-', linewidth = 2)\n",
    "plt.title('VCN: average clustering coefficient to the number of nodes')\n",
    "plt.xlabel('number of nodes')\n",
    "plt.ylabel(\"avg_clust_coef\")"
   ]
  },
  {
   "cell_type": "code",
   "execution_count": 192,
   "metadata": {
    "collapsed": true
   },
   "outputs": [],
   "source": [
    "ages = list(reversed(range(100, 1600, 50)))"
   ]
  },
  {
   "cell_type": "code",
   "execution_count": 196,
   "metadata": {
    "collapsed": false
   },
   "outputs": [
    {
     "data": {
      "text/plain": [
       "<matplotlib.text.Text at 0x182942290>"
      ]
     },
     "execution_count": 196,
     "metadata": {},
     "output_type": "execute_result"
    },
    {
     "data": {
      "image/png": "[encoded data removed]",
      "text/plain": [
       "<matplotlib.figure.Figure at 0x1106690d0>"
      ]
     },
     "metadata": {},
     "output_type": "display_data"
    }
   ],
   "source": [
    "plt.plot(n_nodes, ages, 'b-', linewidth = 2)\n",
    "plt.title('VCN: average node degree to the node\\'s \"age\"')\n",
    "plt.xlabel('ages')\n",
    "plt.ylabel(\"avg_node_degree\")"
   ]
  },
  {
   "cell_type": "markdown",
   "metadata": {},
   "source": [
    "This model's behaviour is different from those from the first task. It's always (or almost always) returns connected graph, so we can count the change every parameter and"
   ]
  },
  {
   "cell_type": "code",
   "execution_count": null,
   "metadata": {
    "collapsed": true
   },
   "outputs": [],
   "source": []
  }
 ],
 "metadata": {
  "kernelspec": {
   "display_name": "Python 2",
   "language": "python",
   "name": "python2"
  },
  "language_info": {
   "codemirror_mode": {
    "name": "ipython",
    "version": 2
   },
   "file_extension": ".py",
   "mimetype": "text/x-python",
   "name": "python",
   "nbconvert_exporter": "python",
   "pygments_lexer": "ipython2",
   "version": "2.7.10"
  }
 },
 "nbformat": 4,
 "nbformat_minor": 0
}
