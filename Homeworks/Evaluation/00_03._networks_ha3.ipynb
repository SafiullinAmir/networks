{
 "cells": [
  {
   "cell_type": "markdown",
   "metadata": {},
   "source": [
    "# <center>Network Science</center>"
   ]
  },
  {
   "cell_type": "markdown",
   "metadata": {},
   "source": [
    "## <center>Home Assignment #3: Centralities and Assortativity</center>"
   ]
  },
  {
   "cell_type": "markdown",
   "metadata": {},
   "source": [
    "### <center>Student: Elena Andreeva</center>"
   ]
  },
  {
   "cell_type": "markdown",
   "metadata": {},
   "source": [
    "#### <hr /> General Information"
   ]
  },
  {
   "cell_type": "markdown",
   "metadata": {},
   "source": [
    "**Due Date:** 13.03.2016 23:59 <br \\>\n",
    "**Late submission policy:** -0.2 points per day <br \\>\n",
    "\n",
    "\n",
    "Please send your reports to <network.hse.2016@gmail.com> with message subject of the following structure:<br \\> **[HSE Networks 2015] *{LastName}* *{First Name}* HA*{Number}***\n",
    "\n",
    "Support your computations with figures and comments. <br \\>\n",
    "If you are using IPython Notebook you may use this file as a starting point of your report.<br \\>\n",
    "<br \\>\n",
    "<hr \\>"
   ]
  },
  {
   "cell_type": "markdown",
   "metadata": {},
   "source": [
    "## Problems"
   ]
  },
  {
   "cell_type": "markdown",
   "metadata": {},
   "source": [
    "### Task 1"
   ]
  },
  {
   "cell_type": "markdown",
   "metadata": {},
   "source": [
    "Compute degree centrality, Pagerank and  HubAuthorities scores for the [flickr](https://www.hse.ru/data/2016/02/24/1139618969/flickr.mat) network. \n",
    "\n",
    "Data contains sparse matrix A and list of user names.\n",
    "This is a “denser” part of the Flickr photo sharing site friendship graph from 2006. Edge direction corresponds to friendship requests (following). Some of the links are reciprocal,others not.  \n",
    "\n",
    "Provide top 50 names in each ranking, compare results\n",
    "\n",
    "You can load .mat files with the following commands:"
   ]
  },
  {
   "cell_type": "code",
   "execution_count": 1,
   "metadata": {
    "collapsed": false
   },
   "outputs": [],
   "source": [
    "import scipy.io\n",
    "\n",
    "data = scipy.io.loadmat('flickr.mat')"
   ]
  },
  {
   "cell_type": "code",
   "execution_count": 2,
   "metadata": {
    "collapsed": false
   },
   "outputs": [],
   "source": [
    "# Constructing the graph\n",
    "import networkx as nx\n",
    "indexes = data['A'].nonzero()\n",
    "shape = data['A'].shape\n",
    "G = nx.DiGraph()\n",
    "G.add_nodes_from(range(0, shape[0]))\n",
    "\n",
    "for i in range(0, len(indexes[0])):\n",
    "    G.add_edge(indexes[0][i], indexes[1][i])\n"
   ]
  },
  {
   "cell_type": "code",
   "execution_count": 3,
   "metadata": {
    "collapsed": false
   },
   "outputs": [
    {
     "name": "stdout",
     "output_type": "stream",
     "text": [
      "Top 50 users by degree_centrality (in)\n",
      "1134\tawfulsara                                           \n",
      "795\tdrp                                                 \n",
      "786\t*Ivan*                                              \n",
      "760\tantimethod                                          \n",
      "740\tDrJoanne                                            \n",
      "725\tBombDog                                             \n",
      "647\tSimon Pais                                          \n",
      "639\tdeborah lattimore                                   \n",
      "611\tMaD GiÂ®Lâ¢â¢                                     \n",
      "526\tnotraces                                            \n",
      "526\t:Nikola                                             \n",
      "524\tcymagen                                             \n",
      "520\taleyna                                              \n",
      "497\tlorrainemd                                          \n",
      "495\tartofgold                                           \n",
      "485\t*starlet*                                           \n",
      "484\tromanlily                                           \n",
      "469\tPandarine                                           \n",
      "442\tjkottke                                             \n",
      "442\thot_luscious                                        \n",
      "432\tMareen Fischinger                                   \n",
      "432\tMylens                                              \n",
      "418\tslowernet                                           \n",
      "415\tgu@va                                               \n",
      "402\tbernardo.borghetti                                  \n",
      "387\tCherryVega                                          \n",
      "387\tpbowers                                             \n",
      "377\tunderbunny                                          \n",
      "354\tLoobylu                                             \n",
      "354\tMerina                                              \n",
      "352\t* HoNe$t *                                          \n",
      "345\t.lush                                               \n",
      "343\tfraying                                             \n",
      "342\tpixietart                                           \n",
      "327\tnaftalina007                                        \n",
      "325\tfd                                                  \n",
      "323\taquanerds                                           \n",
      "322\tJoi                                                 \n",
      "321\tEsther_G                                            \n",
      "318\tcarf                                                \n",
      "316\tMarcelo  Montecino                                  \n",
      "316\t!!uAe prince!!                                      \n",
      "316\tSexy Swedish Babe                                   \n",
      "314\tcallipygian                                         \n",
      "313\tAgridulce                                           \n",
      "312\tLeast Wanted                                        \n",
      "309\tGayla                                               \n",
      "294\tanildash                                            \n",
      "289\ttecgirl                                             \n",
      "289\treddirtrose                                         \n"
     ]
    }
   ],
   "source": [
    "# Degree centrality top (in)\n",
    "degree_centr = []\n",
    "for node in G.nodes():\n",
    "    degree_centr.append((data['names'][node],G.in_degree(node)))\n",
    "degree_centr_in = sorted(degree_centr, key = lambda x: -x[1])[0:50]\n",
    "print(\"Top 50 users by degree_centrality (in)\")\n",
    "for user in degree_centr_in:\n",
    "    print(\"{}\\t{}\".format(user[1], user[0].encode(\"utf-8\")))"
   ]
  },
  {
   "cell_type": "code",
   "execution_count": 4,
   "metadata": {
    "collapsed": false
   },
   "outputs": [
    {
     "name": "stdout",
     "output_type": "stream",
     "text": [
      "Top 50 users by degree_centrality (out)\n",
      "185\tanildash                                            \n",
      "174\ttozzer                                              \n",
      "170\tAtiRanA                                             \n",
      "166\tpixietart                                           \n",
      "163\tjakedobkin                                          \n",
      "162\tBuntekuh                                            \n",
      "161\tbrainware3000                                       \n",
      "161\tJakes_World                                         \n",
      "160\tmaximolly                                           \n",
      "158\tAndreia Lopes                                       \n",
      "157\telvis1967                                           \n",
      "157\tinthegan                                            \n",
      "155\t990000                                              \n",
      "154\t: Esther                                            \n",
      "153\tdmoore                                              \n",
      "153\tkathryn                                             \n",
      "153\tCharles Machado                                     \n",
      "153\tspanier                                             \n",
      "152\tdrp                                                 \n",
      "151\tWhat What                                           \n",
      "151\trivello                                             \n",
      "151\tmehmetkale                                          \n",
      "150\tblackbeltjones                                      \n",
      "150\tdianeham                                            \n",
      "150\tLucilia                                             \n",
      "150\tmeadows                                             \n",
      "150\taracay                                              \n",
      "149\tpro keds                                            \n",
      "148\ta nameless yeast                                    \n",
      "148\tcooks                                               \n",
      "148\tnickf                                               \n",
      "148\tvirgu                                               \n",
      "148\ttantek                                              \n",
      "148\tZsaj                                                \n",
      "148\tPhotographer Dre                                    \n",
      "147\tjayallen                                            \n",
      "146\tcymagen                                             \n",
      "145\tgardengal                                           \n",
      "145\tme4ta                                               \n",
      "145\tmypapercrane                                        \n",
      "144\tjudith                                              \n",
      "144\tAirchild                                            \n",
      "144\tribena                                              \n",
      "144\troamin                                              \n",
      "143\tmdintoronto                                         \n",
      "142\tlucycat                                             \n",
      "142\tkiller robot                                        \n",
      "142\tchomp                                               \n",
      "141\tWaldgeister                                         \n",
      "141\tghostbones                                          \n"
     ]
    }
   ],
   "source": [
    "# Degree centrality top (out)\n",
    "degree_centr = []\n",
    "for node in G.nodes():\n",
    "    degree_centr.append((data['names'][node],G.out_degree(node)))\n",
    "degree_centr_out = sorted(degree_centr, key = lambda x: -x[1])[0:50]\n",
    "print(\"Top 50 users by degree_centrality (out)\")\n",
    "for user in degree_centr_out:\n",
    "    print(\"{}\\t{}\".format(user[1], user[0].encode(\"utf-8\")))\n"
   ]
  },
  {
   "cell_type": "markdown",
   "metadata": {},
   "source": [
    " Ok, let's find out, how many users are in both tops."
   ]
  },
  {
   "cell_type": "code",
   "execution_count": 5,
   "metadata": {
    "collapsed": false
   },
   "outputs": [
    {
     "name": "stdout",
     "output_type": "stream",
     "text": [
      "drp                                                 \n",
      "pixietart                                           \n",
      "anildash                                            \n",
      "cymagen                                             \n"
     ]
    }
   ],
   "source": [
    "dc_out = set()\n",
    "for user in degree_centr_out:\n",
    "    dc_out.add(user[0])\n",
    "dc_in = set()\n",
    "both_dc = set()\n",
    "for user in degree_centr_in:\n",
    "    dc_in.add(user[0])\n",
    "for user in dc_out:\n",
    "    if user not in dc_in:\n",
    "        continue\n",
    "    print(user)\n",
    "    both_dc.add(user)\n"
   ]
  },
  {
   "cell_type": "markdown",
   "metadata": {
    "collapsed": false
   },
   "source": [
    "The next top is about PageRank. I guess, the PageRank top must have many users, that got in \"in-degree\" top, as lot's of links point on them."
   ]
  },
  {
   "cell_type": "code",
   "execution_count": 6,
   "metadata": {
    "collapsed": false
   },
   "outputs": [
    {
     "name": "stdout",
     "output_type": "stream",
     "text": [
      "Top 50 PageRank users\n",
      "0.00186995591718 awfulsara                                           \n",
      "0.0013201765653 drp                                                 \n",
      "0.00127208160583 antimethod                                          \n",
      "0.0012308598497 BombDog                                             \n",
      "0.00113290988364 *Ivan*                                              \n",
      "0.00110660270486 MaD GiÂ®Lâ¢â¢                                     \n",
      "0.00101887312259 DrJoanne                                            \n",
      "0.000989214537391 Simon Pais                                          \n",
      "0.000947320054751 deborah lattimore                                   \n",
      "0.000911100661548 cymagen                                             \n",
      "0.000880914077451 :Nikola                                             \n",
      "0.000851872844206 notraces                                            \n",
      "0.000813980943262 lorrainemd                                          \n",
      "0.000812260260259 jkottke                                             \n",
      "0.000789635837093 romanlily                                           \n",
      "0.000784638107169 slowernet                                           \n",
      "0.00078284699174 artofgold                                           \n",
      "0.000774326198311 *starlet*                                           \n",
      "0.000754775429609 hot_luscious                                        \n",
      "0.000727945020952 Pandarine                                           \n",
      "0.000687923323014 Mareen Fischinger                                   \n",
      "0.000676664632419 underbunny                                          \n",
      "0.000666701950922 aleyna                                              \n",
      "0.000663331920348 Mylens                                              \n",
      "0.000660784672825 fraying                                             \n",
      "0.000643122675742 * HoNe$t *                                          \n",
      "0.000635326308704 gu@va                                               \n",
      "0.000632629748284 pbowers                                             \n",
      "0.000618891914228 Loobylu                                             \n",
      "0.000614027601778 Joi                                                 \n",
      "0.000613504568238 CherryVega                                          \n",
      "0.000610795847848 anildash                                            \n",
      "0.000598068799426 !!uAe prince!!                                      \n",
      "0.000588605512014 Marcelo  Montecino                                  \n",
      "0.000585328600515 bernardo.borghetti                                  \n",
      "0.000575988032043 Esther_G                                            \n",
      "0.000573514692548 Departure Lounge                                    \n",
      "0.000564302235543 gruntzooki                                          \n",
      "0.000554252093785 Gayla                                               \n",
      "0.00055222598822 Tom Coates                                          \n",
      "0.000545311756194 maximolly                                           \n",
      "0.000536212255064 chromogenic                                         \n",
      "0.000532360567893 aquanerds                                           \n",
      "0.000529541064117 naftalina007                                        \n",
      "0.00052767110646 Agridulce                                           \n",
      "0.000525678671242 pixietart                                           \n",
      "0.000524348856202 .lush                                               \n",
      "0.000517533599874 overshadowed                                        \n",
      "0.000513896538048 fd                                                  \n",
      "0.000505155755506 carf                                                \n"
     ]
    }
   ],
   "source": [
    "# PageRank\n",
    "alp = 0.8\n",
    "pr = nx.pagerank(G, alpha=alp, max_iter=1000)\n",
    "pr_top = sorted(pr.items(), key = lambda x: -x[1])[0:50]\n",
    "pr_top_set = set()\n",
    "print(\"Top 50 PageRank users\")\n",
    "for user in pr_top:\n",
    "    print(\"{} {}\".format(user[1], data['names'][user[0]].encode(\"utf-8\")))\n",
    "    pr_top_set.add(data['names'][user[0]])"
   ]
  },
  {
   "cell_type": "code",
   "execution_count": 7,
   "metadata": {
    "collapsed": false
   },
   "outputs": [
    {
     "name": "stdout",
     "output_type": "stream",
     "text": [
      "Intersection PageRank and degree-out \n",
      "pixietart                                           \n",
      "maximolly                                           \n",
      "drp                                                 \n",
      "anildash                                            \n",
      "cymagen                                             \n",
      "Users in intersection: 5\n",
      "\n",
      "Intersection PageRank and degree-in\n",
      "hot_luscious                                        \n",
      "CherryVega                                          \n",
      "slowernet                                           \n",
      "Mylens                                              \n",
      "carf                                                \n",
      "pixietart                                           \n",
      "Agridulce                                           \n",
      "naftalina007                                        \n",
      "gu@va                                               \n",
      "fraying                                             \n",
      "Loobylu                                             \n",
      "aleyna                                              \n",
      "pbowers                                             \n",
      "Pandarine                                           \n",
      "drp                                                 \n",
      "Gayla                                               \n",
      "underbunny                                          \n",
      "deborah lattimore                                   \n",
      "aquanerds                                           \n",
      "Marcelo  Montecino                                  \n",
      "artofgold                                           \n",
      "awfulsara                                           \n",
      "lorrainemd                                          \n",
      ":Nikola                                             \n",
      "bernardo.borghetti                                  \n",
      ".lush                                               \n",
      "jkottke                                             \n",
      "anildash                                            \n",
      "Esther_G                                            \n",
      "antimethod                                          \n",
      "romanlily                                           \n",
      "*starlet*                                           \n",
      "Joi                                                 \n",
      "DrJoanne                                            \n",
      "!!uAe prince!!                                      \n",
      "cymagen                                             \n",
      "notraces                                            \n",
      "*Ivan*                                              \n",
      "MaD GiÂ®Lâ¢â¢                                     \n",
      "Simon Pais                                          \n",
      "fd                                                  \n",
      "* HoNe$t *                                          \n",
      "BombDog                                             \n",
      "Mareen Fischinger                                   \n",
      "Users in intersection: 44\n"
     ]
    }
   ],
   "source": [
    "# Let's check the intersection between PageRank top and degree_centralities tops\n",
    "print(\"Intersection PageRank and degree-out \")\n",
    "count = 0 \n",
    "for user in pr_top_set:\n",
    "    if user in dc_out:\n",
    "        print user\n",
    "        count += 1\n",
    "print (\"Users in intersection: {}\".format(count))\n",
    "print(\"\\nIntersection PageRank and degree-in\")\n",
    "count = 0\n",
    "for user in pr_top_set:\n",
    "    if user in dc_in:\n",
    "        print user\n",
    "        count += 1\n",
    "print (\"Users in intersection: {}\".format(count))"
   ]
  },
  {
   "cell_type": "markdown",
   "metadata": {},
   "source": [
    "So, my guess was quite right - 44 users from the top of \"in-degree\" got into top on Page Rank. And, interesting fact - 4 users, that got into both \"degree\" tops got in PageRank top too!\n",
    "The next step is to build top-50 Hubs and Authorities. I suppose, that our 4 users will get into both of tops. I also suppose, that Authorities and In-degrees will have a big intersection, as well as Out-degrees and Hubs. Let's check it."
   ]
  },
  {
   "cell_type": "code",
   "execution_count": 8,
   "metadata": {
    "collapsed": false
   },
   "outputs": [
    {
     "name": "stdout",
     "output_type": "stream",
     "text": [
      "Hubs top:\n",
      "\n",
      "0.000589060455139\tmrpiink\t\n",
      "0.000585837904157\tautomat\t\n",
      "0.000577658016738\tschizoo23\t\n",
      "0.00055872016857\tlorrainemd\t(In-degree,PageRank)\n",
      "0.000550810713606\tsgoralnick\t\n",
      "0.000543889060531\t*starlet*\t(In-degree,PageRank)\n",
      "0.000536905156737\tbrynfoto\t\n",
      "0.000529979918205\tliquid pixel\t\n",
      "0.000517658021219\tnoahstone\t\n",
      "0.000516133458287\tisherwood\t\n",
      "0.000513472966666\tArno-MM\t\n",
      "0.000508661271453\tscotsman0170\t\n",
      "0.000507479510422\tWaveSpire\t\n",
      "0.000501112336149\ttozzer\t(Out-degree)\n",
      "0.00049786514595\t...cathzilla\t\n",
      "0.000495505457874\tcymagen\t(Out-degree,In-degree,PageRank)\n",
      "0.000494654807593\tola_babe1\t\n",
      "0.000488947747202\tDrJoanne\t(In-degree,PageRank)\n",
      "0.000486682876206\tpablokorona\t\n",
      "0.000486212851927\tdemouser\t\n",
      "0.000484262629846\tjallive\t\n",
      "0.00048411279957\tmacebio\t\n",
      "0.000482783744172\tmarika b\t\n",
      "0.000480730748293\tdrp\t(Out-degree,In-degree,PageRank)\n",
      "0.000479738112111\tOsvaldo\t\n",
      "0.000478720696014\tCrea.tive\t\n",
      "0.000475369730467\tsheldonschwartz\t\n",
      "0.000472349340854\tvirgu\t(Out-degree)\n",
      "0.000471911781431\tmehmetkale\t(Out-degree)\n",
      "0.000469088929227\tgucci1000\t\n",
      "0.000467449516631\tZewalt\t\n",
      "0.000462208675781\tbernardo.borghetti\t(In-degree,PageRank)\n",
      "0.000461906191837\tnotraces\t(In-degree,PageRank)\n",
      "0.000461140580931\tGrains And Light\t\n",
      "0.000459920704691\tovershadowed\t(PageRank)\n",
      "0.000459907106938\tneuskool\t\n",
      "0.000457228552059\tpblgbp\t\n",
      "0.000455977337199\tsillydog\t\n",
      "0.000452188738106\tzaharoula\t\n",
      "0.000451604026057\tmark daniel\t\n",
      "0.000448466621621\tastrid~\t\n",
      "0.000446597048639\tMrTopf\t\n",
      "0.000445252213162\tspanier\t(Out-degree)\n",
      "0.000444599581579\tricd\t\n",
      "0.000443137963045\tschani\t\n",
      "0.000440922404676\tredmondbarry\t\n",
      "0.000440296630638\tMareen Fischinger\t(In-degree,PageRank)\n",
      "0.00043986899028\tgrow-er\t\n",
      "0.000439614582899\t.lush\t(In-degree,PageRank)\n",
      "0.000438624199343\tnaftalina007\t(In-degree,PageRank)\n",
      "In-degree top intersection: 10\n",
      "Out-degree top intersection: 6\n",
      "PageRank top intersection: 11\n"
     ]
    }
   ],
   "source": [
    "(hubs, auths) = nx.hits(G)\n",
    "hubs_top = sorted(hubs.items(), key = lambda x: -x[1])[0:50]\n",
    "auths_top = sorted(auths.items(), key = lambda x: -x[1])[0:50]\n",
    "hubs_set = set()\n",
    "\n",
    "out_d_inters = 0\n",
    "in_d_inters = 0\n",
    "pr_inters = 0\n",
    "print(\"Hubs top:\\n\")\n",
    "for hub in hubs_top:\n",
    "    username = data['names'][hub[0]].encode(\"utf-8\")\n",
    "    status = []\n",
    "    if username in dc_out:\n",
    "        status.append(\"Out-degree\")\n",
    "        out_d_inters += 1\n",
    "    if username in dc_in:\n",
    "        status.append(\"In-degree\")\n",
    "        in_d_inters += 1\n",
    "    if username in pr_top_set:\n",
    "        status.append(\"PageRank\")\n",
    "        pr_inters += 1\n",
    "    status = \"(\" + \",\".join(status) + \")\" if len(status) > 0 else \"\"\n",
    "    print(\"{}\\t{}\\t{}\".format(hub[1], username.strip(), status))\n",
    "    hubs_set.add(username)\n",
    "print(\"In-degree top intersection: {}\".format(in_d_inters))   \n",
    "print(\"Out-degree top intersection: {}\".format(out_d_inters))  \n",
    "print(\"PageRank top intersection: {}\".format(pr_inters))  "
   ]
  },
  {
   "cell_type": "code",
   "execution_count": 9,
   "metadata": {
    "collapsed": false
   },
   "outputs": [
    {
     "name": "stdout",
     "output_type": "stream",
     "text": [
      "Auths top:\n",
      "\n",
      "0.00339652885621\tawfulsara\t(In-degree,PageRank)\n",
      "0.00255993479745\tdrp\t(Out-degree,In-degree,PageRank,Hubs)\n",
      "0.00250711114245\tDrJoanne\t(In-degree,PageRank,Hubs)\n",
      "0.00224604143983\t*Ivan*\t(In-degree,PageRank)\n",
      "0.00220053873489\tantimethod\t(In-degree,PageRank)\n",
      "0.00215780914846\tBombDog\t(In-degree,PageRank)\n",
      "0.00204474149824\tSimon Pais\t(In-degree,PageRank)\n",
      "0.00182896126509\tdeborah lattimore\t(In-degree,PageRank)\n",
      "0.00176300080906\tcymagen\t(Out-degree,In-degree,PageRank,Hubs)\n",
      "0.00170858289198\t:Nikola\t(In-degree,PageRank)\n",
      "0.00164976848217\tlorrainemd\t(In-degree,PageRank,Hubs)\n",
      "0.00160194813583\t*starlet*\t(In-degree,PageRank,Hubs)\n",
      "0.00160010255952\taleyna\t(In-degree,PageRank)\n",
      "0.00146577993629\tartofgold\t(In-degree,PageRank)\n",
      "0.00137519240679\tnotraces\t(In-degree,PageRank,Hubs)\n",
      "0.00131934121392\tromanlily\t(In-degree,PageRank)\n",
      "0.00130700897056\tPandarine\t(In-degree,PageRank)\n",
      "0.00129001994661\tMylens\t(In-degree,PageRank)\n",
      "0.00121194554301\tMareen Fischinger\t(In-degree,PageRank,Hubs)\n",
      "0.00120230686388\tbernardo.borghetti\t(In-degree,PageRank,Hubs)\n",
      "0.00111027611503\tgu@va\t(In-degree,PageRank)\n",
      "0.00110088715337\tSexy Swedish Babe\t(In-degree)\n",
      "0.00110067495347\tpbowers\t(In-degree,PageRank)\n",
      "0.00108780704163\t.lush\t(In-degree,PageRank,Hubs)\n",
      "0.00107618730393\tMerina\t(In-degree)\n",
      "0.00105342556286\tEsther_G\t(In-degree,PageRank)\n",
      "0.00104026513679\tslowernet\t(In-degree,PageRank)\n",
      "0.00103186880421\tCherryVega\t(In-degree,PageRank)\n",
      "0.00101695644944\tbex_ai\t\n",
      "0.00101552745324\tnedrosen\t\n",
      "0.00101163788862\tnaftalina007\t(In-degree,PageRank,Hubs)\n",
      "0.00100955610499\tAgridulce\t(In-degree,PageRank)\n",
      "0.000957457124393\tcallipygian\t(In-degree)\n",
      "0.000930975087876\tisherwood\t(Hubs)\n",
      "0.000926287910007\taircrash\t\n",
      "0.000920871763902\tLola The Car Chick\t\n",
      "0.000899784462392\tliliths_nymph\t\n",
      "0.00089239506596\tSolarman\t\n",
      "0.000886267009019\tRyou in the box\t\n",
      "0.000886156154714\tpixietart\t(Out-degree,In-degree,PageRank)\n",
      "0.000883714821028\tRachael D\t\n",
      "0.000865066856069\tfd\t(In-degree,PageRank)\n",
      "0.000863380104854\tmacwagen\t\n",
      "0.000855380024615\tunderbunny\t(In-degree,PageRank)\n",
      "0.000853199718341\t* HoNe$t *\t(In-degree,PageRank)\n",
      "0.000849294983346\tkunja\t\n",
      "0.000848002010041\tHome alone\t\n",
      "0.000841384510956\tbekon\t\n",
      "0.000833030113479\ttecgirl\t(In-degree)\n",
      "0.000829108021285\tcarf\t(In-degree,PageRank)\n",
      "In-degree top intersection: 37\n",
      "Out-degree top intersection: 3\n",
      "PageRank top intersection: 33\n",
      "Hubs top intersection: 11\n"
     ]
    }
   ],
   "source": [
    "out_d_inters = 0\n",
    "in_d_inters = 0\n",
    "pr_inters = 0\n",
    "hubs_inters = 0\n",
    "print(\"Auths top:\\n\")\n",
    "for auth in auths_top:\n",
    "    username = data['names'][auth[0]].encode(\"utf-8\")\n",
    "    status = []\n",
    "    if username in dc_out:\n",
    "        status.append(\"Out-degree\")\n",
    "        out_d_inters += 1\n",
    "    if username in dc_in:\n",
    "        status.append(\"In-degree\")\n",
    "        in_d_inters += 1\n",
    "    if username in pr_top_set:\n",
    "        status.append(\"PageRank\")\n",
    "        pr_inters += 1\n",
    "    if username in hubs_set:\n",
    "        status.append(\"Hubs\")\n",
    "        hubs_inters += 1\n",
    "    status = \"(\" + \",\".join(status) + \")\" if len(status) > 0 else \"\"\n",
    "    print(\"{}\\t{}\\t{}\".format(auth[1], username.strip(), status))\n",
    "print(\"In-degree top intersection: {}\".format(in_d_inters))   \n",
    "print(\"Out-degree top intersection: {}\".format(out_d_inters))  \n",
    "print(\"PageRank top intersection: {}\".format(pr_inters))  \n",
    "print(\"Hubs top intersection: {}\".format(hubs_inters))  "
   ]
  },
  {
   "cell_type": "markdown",
   "metadata": {},
   "source": [
    "As we see, indeed, top-authorities intersects with top of in-degrees. That is kinda obvious. While hubs top is more interesting -- top-3 hubs were not in any other tops at all. "
   ]
  },
  {
   "cell_type": "markdown",
   "metadata": {},
   "source": [
    "### <hr /> Task 2"
   ]
  },
  {
   "cell_type": "markdown",
   "metadata": {},
   "source": [
    "Here are the [Facebook friendship graphs](https://www.hse.ru/data/2016/03/05/1125656999/universities.zip) from several US universities from 2005 (one year after fb launch).\n",
    "\n",
    "Data contains a A matrix (sparse) and a \"local_info\" variable, one row per node: \n",
    "a student/faculty status flag, gender, major, second major/minor (if applicable), dorm/house, year, and high school. \n",
    "Missing data is coded 0.\n",
    "\n",
    "Compute node degree assortativity (mixining by node degree) and assortativity coefficient (modularity) for gender, major, dormitory, year, high school for all universities and compare the results."
   ]
  },
  {
   "cell_type": "code",
   "execution_count": 24,
   "metadata": {
    "collapsed": false
   },
   "outputs": [
    {
     "data": {
      "text/plain": [
       "['Berkeley13.mat',\n",
       " 'Caltech36.mat',\n",
       " 'Harvard1.mat',\n",
       " 'Oklahoma97.mat',\n",
       " 'Princeton12.mat',\n",
       " 'Texas80.mat']"
      ]
     },
     "execution_count": 24,
     "metadata": {},
     "output_type": "execute_result"
    }
   ],
   "source": [
    "import os\n",
    "folder = \"fb_university/\"\n",
    "universities = os.listdir(folder)\n",
    "universities"
   ]
  },
  {
   "cell_type": "code",
   "execution_count": 25,
   "metadata": {
    "collapsed": false
   },
   "outputs": [],
   "source": [
    "class ListTable(list):    \n",
    "    def _repr_html_(self):\n",
    "        html = [\"<table>\"]\n",
    "        for row in self:\n",
    "            html.append(\"<tr>\")            \n",
    "            for col in row:\n",
    "                html.append(\"<td>{0}</td>\".format(col))           \n",
    "            html.append(\"</tr>\")\n",
    "        html.append(\"</table>\")\n",
    "        return ''.join(html)"
   ]
  },
  {
   "cell_type": "code",
   "execution_count": 31,
   "metadata": {
    "collapsed": false
   },
   "outputs": [
    {
     "name": "stdout",
     "output_type": "stream",
     "text": [
      "Berkeley13.mat\n",
      "Caltech36.mat\n",
      "Harvard1.mat\n",
      "Oklahoma97.mat\n",
      "Princeton12.mat\n",
      "Texas80.mat\n"
     ]
    }
   ],
   "source": [
    "attr_names = [\"status\", \"gender\", \"major\", \"minor\", \"dorm\", \"year\", \"school\"]\n",
    "table = ListTable()\n",
    "table.append([\"university\", \"degree assort.\", \"gender\", \"major\", \"dorm\", \"year\", \"school\"])\n",
    "\n",
    "    \n",
    "for uni in universities:\n",
    "    print(uni)\n",
    "    # Create graph from .mat\n",
    "    data = scipy.io.loadmat(folder + uni)\n",
    "    shape = data['local_info'].shape\n",
    "    indexes = data['A'].nonzero()\n",
    "    shape = data['A'].shape\n",
    "    G = nx.DiGraph()\n",
    "    G.add_nodes_from(range(0, shape[0]))\n",
    "\n",
    "    for i in range(0, len(indexes[0])):\n",
    "        G.add_edge(indexes[0][i], indexes[1][i])\n",
    "        \n",
    "    # Setting nodes attributes \n",
    "    shape = data['local_info'].shape\n",
    "    attr_dicts = []\n",
    "    for i in range(0, shape[1]):\n",
    "        attr_dicts.append(dict())\n",
    "        \n",
    "    for student in range(0, shape[0]):\n",
    "        for attr in range(0, shape[1]):  \n",
    "            if data['local_info'][student, attr] != 0:\n",
    "                attr_dicts[attr][student] = data['local_info'][student, attr]\n",
    "\n",
    "    for i in range(0, shape[1]):\n",
    "        nx.set_node_attributes(G, attr_names[i], attr_dicts[i]) \n",
    "    \n",
    "    # Actually counting the coeffs\n",
    "    row = []\n",
    "    row.append(uni)\n",
    "    row.append(nx.degree_assortativity_coefficient(G))\n",
    "    row.append(nx.attribute_assortativity_coefficient(G, \"gender\"))\n",
    "    row.append(nx.attribute_assortativity_coefficient(G, \"major\"))\n",
    "    row.append(nx.attribute_assortativity_coefficient(G, \"dorm\"))\n",
    "    row.append(nx.attribute_assortativity_coefficient(G, \"year\"))\n",
    "    row.append(nx.attribute_assortativity_coefficient(G, \"school\"))\n",
    "    table.append(row)"
   ]
  },
  {
   "cell_type": "code",
   "execution_count": 32,
   "metadata": {
    "collapsed": false
   },
   "outputs": [
    {
     "data": {
      "text/html": [
       "<table><tr><td>university</td><td>degree assort.</td><td>gender</td><td>major</td><td>dorm</td><td>year</td><td>school</td></tr><tr><td>Berkeley13.mat</td><td>0.0103134590889</td><td>0.0409228376393</td><td>0.058255029946</td><td>0.14727644076</td><td>0.308121015806</td><td>0.0773753653543</td></tr><tr><td>Caltech36.mat</td><td>-0.0652729511948</td><td>0.0463314364559</td><td>0.0347194237236</td><td>0.349153100873</td><td>0.237531904813</td><td>0.00266977930658</td></tr><tr><td>Harvard1.mat</td><td>0.145054887671</td><td>0.0452699773794</td><td>0.0496769283286</td><td>0.12567663505</td><td>0.421159642116</td><td>0.0239867253741</td></tr><tr><td>Oklahoma97.mat</td><td>0.0736732579392</td><td>0.0928372959827</td><td>0.0363790887617</td><td>0.280335243729</td><td>0.20116469147</td><td>0.139468406924</td></tr><tr><td>Princeton12.mat</td><td>0.091092123568</td><td>0.0506107399953</td><td>0.0543901188714</td><td>0.0946784195542</td><td>0.446744620584</td><td>0.018783655245</td></tr><tr><td>Texas80.mat</td><td>0.163892412814</td><td>0.0796930681412</td><td>0.0597127278334</td><td>0.204837604339</td><td>0.246194684162</td><td>0.147992848231</td></tr></table>"
      ],
      "text/plain": [
       "[['university', 'degree assort.', 'gender', 'major', 'dorm', 'year', 'school'],\n",
       " ['Berkeley13.mat',\n",
       "  0.010313459088874384,\n",
       "  0.040922837639318366,\n",
       "  0.05825502994601474,\n",
       "  0.1472764407599782,\n",
       "  0.30812101580623874,\n",
       "  0.07737536535425947],\n",
       " ['Caltech36.mat',\n",
       "  -0.065272951194823445,\n",
       "  0.04633143645586916,\n",
       "  0.03471942372358318,\n",
       "  0.3491531008726444,\n",
       "  0.23753190481288217,\n",
       "  0.0026697793065768665],\n",
       " ['Harvard1.mat',\n",
       "  0.14505488767109062,\n",
       "  0.04526997737944215,\n",
       "  0.04967692832862897,\n",
       "  0.1256766350495582,\n",
       "  0.4211596421160827,\n",
       "  0.02398672537405967],\n",
       " ['Oklahoma97.mat',\n",
       "  0.073673257939208994,\n",
       "  0.09283729598272784,\n",
       "  0.03637908876173665,\n",
       "  0.2803352437288318,\n",
       "  0.20116469146973584,\n",
       "  0.1394684069241975],\n",
       " ['Princeton12.mat',\n",
       "  0.091092123567965089,\n",
       "  0.050610739995292,\n",
       "  0.054390118871393854,\n",
       "  0.09467841955418976,\n",
       "  0.44674462058408704,\n",
       "  0.018783655244969687],\n",
       " ['Texas80.mat',\n",
       "  0.16389241281404168,\n",
       "  0.07969306814123502,\n",
       "  0.059712727833405754,\n",
       "  0.20483760433918666,\n",
       "  0.24619468416174536,\n",
       "  0.14799284823051484]]"
      ]
     },
     "execution_count": 32,
     "metadata": {},
     "output_type": "execute_result"
    }
   ],
   "source": [
    "table"
   ]
  },
  {
   "cell_type": "markdown",
   "metadata": {
    "collapsed": true
   },
   "source": [
    "From the table above we see, that almost on all universities the biggest influence had the \"year\" attribute. That is kinda obvious - students from the same year of study are more likely to be friends, than students from different years. Only in Oklahoma and Caltech this attribute is not the first one (though it is the second) -- the same dormitory plays the most important role in these universities.\n",
    "So, dormitory is also important attribute - the sudents from the same dormitory are more likely to be friends. As to the other attributes, the school plays role only in Oklahoma and Texas (I wonder, why), major and gender do not hame that much influence on connections. \n",
    "It is interesting, that node degree attribute's ole differs greatly from one university to another. The highest impact this attribute has in Texas, then - in Harvard (and node degree is more important, that event dormitory there).  In Princeton and Oklahoma node degree is twice as low, in Berkeley have almost no influence and in Caltech it has even negative impact. How very interesting..."
   ]
  },
  {
   "cell_type": "code",
   "execution_count": null,
   "metadata": {
    "collapsed": true
   },
   "outputs": [],
   "source": []
  }
 ],
 "metadata": {
  "kernelspec": {
   "display_name": "Python 2",
   "language": "python",
   "name": "python2"
  },
  "language_info": {
   "codemirror_mode": {
    "name": "ipython",
    "version": 2
   },
   "file_extension": ".py",
   "mimetype": "text/x-python",
   "name": "python",
   "nbconvert_exporter": "python",
   "pygments_lexer": "ipython2",
   "version": "2.7.11"
  }
 },
 "nbformat": 4,
 "nbformat_minor": 0
}
