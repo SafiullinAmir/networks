{
 "cells": [
  {
   "cell_type": "markdown",
   "metadata": {},
   "source": [
    "# <center>Structural Analysis and Visualization of Networks</center>"
   ]
  },
  {
   "cell_type": "markdown",
   "metadata": {},
   "source": [
    "## <center>Home Assignment #4: Community Detection Algorithms"
   ]
  },
  {
   "cell_type": "markdown",
   "metadata": {},
   "source": [
    "### <center>Student: *{Yevgeniya Kosheleva}*</center>"
   ]
  },
  {
   "cell_type": "markdown",
   "metadata": {},
   "source": [
    "#### <hr /> General Information"
   ]
  },
  {
   "cell_type": "markdown",
   "metadata": {},
   "source": [
    "**Due Date:** 03.04.2016 23:59 <br \\>\n",
    "**Late submission policy:** the task will not be graded! <br \\>\n",
    "\n",
    "\n",
    "Please send your reports to <network.hse.2016@gmail.com> with message subject of the following structure:<br \\> **[HSE Networks 2015] *{LastName}* *{First Name}* HA*{Number}***\n",
    "\n",
    "Support your computations with figures and comments. <br \\>\n",
    "If you are using IPython Notebook you may use this file as a starting point of your report.<br \\>\n",
    "<br \\>\n",
    "<hr \\>"
   ]
  },
  {
   "cell_type": "markdown",
   "metadata": {},
   "source": [
    "## Problems"
   ]
  },
  {
   "cell_type": "markdown",
   "metadata": {},
   "source": [
    "### Task 1* (For those who have not done that during the seminar)"
   ]
  },
  {
   "cell_type": "markdown",
   "metadata": {},
   "source": [
    "On this seminar your are asked to implement simple community detection algorightm. It is called [Markov Cluster Algorithm](http://micans.org/mcl/) (MCL).\n",
    "\n",
    "Implement Markor Clustering Algorithm\n",
    "\n",
    "**Input:** Transition matrix $T = D^{-1}A$\n",
    "\n",
    "**Output:** Adjacency matrix $M^*$\n",
    "\n",
    "1. Set $M = T$\n",
    "2. **repeat:**\n",
    "    3. *Expansion Step:* $M = M^p$ (usually $p=2$)\n",
    "    4. *Inflation Step:* Raise every entry of $M$ to the power $\\alpha$ (usualy $\\alpha=2$)\n",
    "    5. *Renormalize:* Normalize each row by its sum\n",
    "    6. *Prunning:* Replace entries that are close to $0$ by pure $0$\n",
    "7. **until** $M$ converges\n",
    "8. $M^* = M$\n",
    "<br\\>\n",
    "<br\\>\n",
    "\n",
    "As a result you should get a cluster matrix s.t. elements of the cluster correspont to nonzero elements of the columns of the matrix. \n",
    "<br\\>\n",
    "* Run this method for network [1](https://www.hse.ru/data/2016/03/15/1127695811/network1.mat), [2](https://www.hse.ru/data/2016/03/15/1127699956/network2.mat) and [3](https://www.hse.ru/data/2016/03/15/1127703057/network3.mat).\n",
    "* Play with the parameters ($p$, $\\alpha$, zero tolerance), analyse the results\n",
    "\n",
    "<hr />\n"
   ]
  },
  {
   "cell_type": "code",
   "execution_count": 18,
   "metadata": {
    "collapsed": false
   },
   "outputs": [],
   "source": [
    "import numpy as np\n",
    "import logging\n",
    "import scipy.io\n",
    "import networkx as nx\n",
    "import matplotlib.pyplot as plt\n",
    "%matplotlib inline\n",
    "import pandas as pd"
   ]
  },
  {
   "cell_type": "code",
   "execution_count": 19,
   "metadata": {
    "collapsed": true
   },
   "outputs": [],
   "source": [
    "def normalize(A):\n",
    "    column_sums = A.sum(axis=0)\n",
    "    new_matrix = A / column_sums[np.newaxis, :]\n",
    "    return new_matrix"
   ]
  },
  {
   "cell_type": "code",
   "execution_count": 20,
   "metadata": {
    "collapsed": true
   },
   "outputs": [],
   "source": [
    "def add_diag(A, mult_factor):\n",
    "    return A + mult_factor * np.identity(A.shape[0])"
   ]
  },
  {
   "cell_type": "code",
   "execution_count": 21,
   "metadata": {
    "collapsed": false
   },
   "outputs": [],
   "source": [
    "def stop(M, i):\n",
    "    #if i%5==4:\n",
    "    m = np.max( M**2 - M) - np.min( M**2 - M)\n",
    "    #print(np.max( M**2 - M),np.min( M**2 - M),i)\n",
    "    if m==0:\n",
    "            #print (\"Stop at iteration %s\" % i)\n",
    "            return True\n",
    "    return False"
   ]
  },
  {
   "cell_type": "code",
   "execution_count": 22,
   "metadata": {
    "collapsed": true
   },
   "outputs": [],
   "source": [
    "def get_clusters(A):\n",
    "    clusters = []\n",
    "\n",
    "    for i, r in enumerate((A>0).tolist()):\n",
    "        if r[i]:\n",
    "            clusters.append(A[i,:]>0)\n",
    "\n",
    "    clust_map  ={}\n",
    "    for cn , c in enumerate(clusters):\n",
    "        for x in  [ i for i, x in enumerate(c) if x ]:\n",
    "            clust_map[cn] = clust_map.get(cn, [])  + [x]\n",
    "\n",
    "    return clust_map"
   ]
  },
  {
   "cell_type": "code",
   "execution_count": 23,
   "metadata": {
    "collapsed": true
   },
   "outputs": [],
   "source": [
    "def inflate(A, inflate_factor):\n",
    "    return normalize(np.power(A, inflate_factor))\n",
    "\n",
    "def expand(A, expand_factor):\n",
    "    return np.linalg.matrix_power(A, expand_factor)"
   ]
  },
  {
   "cell_type": "code",
   "execution_count": 24,
   "metadata": {
    "collapsed": true
   },
   "outputs": [],
   "source": [
    "def mcl(M, expand_factor = 2, inflate_factor = 2, max_loop = 10 , mult_factor = 1):\n",
    "    M = add_diag(M, mult_factor)\n",
    "    M = normalize(M)\n",
    "\n",
    "    for i in range(max_loop):\n",
    "        logging.info(\"loop\", i)\n",
    "        M = inflate(M, inflate_factor)\n",
    "        M = expand(M, expand_factor)\n",
    "        if stop(M, i): break\n",
    "\n",
    "    clusters = get_clusters(M)\n",
    "    return M, clusters"
   ]
  },
  {
   "cell_type": "code",
   "execution_count": 25,
   "metadata": {
    "collapsed": true
   },
   "outputs": [],
   "source": [
    "def networkx_mcl(G, expand_factor = 2, inflate_factor = 2, max_loop = 10 , mult_factor = 1):\n",
    "    A = nx.adjacency_matrix(G)\n",
    "    return mcl(np.array(A.todense()), expand_factor, inflate_factor, max_loop, mult_factor)"
   ]
  },
  {
   "cell_type": "code",
   "execution_count": 26,
   "metadata": {
    "collapsed": true
   },
   "outputs": [],
   "source": [
    "def draw(G, A, cluster_map):\n",
    "\n",
    "    clust_map = {}\n",
    "    for k, vals in cluster_map.items():\n",
    "        for v in vals:\n",
    "            clust_map[v] = k\n",
    "\n",
    "    colors = []\n",
    "    for i in range(len(G.nodes())):\n",
    "        colors.append(clust_map.get(i, 100))\n",
    "\n",
    "    pos = nx.spring_layout(G)\n",
    "\n",
    "    from matplotlib.pylab import matshow, show, cm\n",
    "    plt.figure(2)\n",
    "    nx.draw_networkx_nodes(G, pos,node_size = 200, node_color =colors , cmap=plt.cm.Blues,greed =False )\n",
    "    nx.draw_networkx_edges(G,pos, alpha=0.5)\n",
    "    matshow(A, fignum=1, cmap=cm.gray)\n",
    "    plt.show()\n",
    "    show()"
   ]
  },
  {
   "cell_type": "markdown",
   "metadata": {},
   "source": [
    "### Network1"
   ]
  },
  {
   "cell_type": "code",
   "execution_count": 27,
   "metadata": {
    "collapsed": false
   },
   "outputs": [
    {
     "name": "stdout",
     "output_type": "stream",
     "text": [
      "Number of clusters 4\n"
     ]
    },
    {
     "data": {
      "image/png": "[encoded data removed]",
      "text/plain": [
       "<matplotlib.figure.Figure at 0x10a474690>"
      ]
     },
     "metadata": {},
     "output_type": "display_data"
    },
    {
     "data": {
      "image/png": "[encoded data removed]",
      "text/plain": [
       "<matplotlib.figure.Figure at 0x10a409290>"
      ]
     },
     "metadata": {},
     "output_type": "display_data"
    }
   ],
   "source": [
    "data = scipy.io.loadmat('/Users/Evgenia/Downloads/network1.mat')\n",
    "A = data['A'].astype('float')\n",
    "\n",
    "A=np.matrix(A)\n",
    "G=nx.from_numpy_matrix(A)\n",
    "M, clusters = networkx_mcl(G,expand_factor = 3, inflate_factor = 2, max_loop = 100 , mult_factor = 1)\n",
    "print \"Number of clusters\", len(clusters)\n",
    "draw(G, M, clusters)"
   ]
  },
  {
   "cell_type": "markdown",
   "metadata": {},
   "source": [
    "Analyse parameters (print number of clusters)"
   ]
  },
  {
   "cell_type": "code",
   "execution_count": 11,
   "metadata": {
    "collapsed": false
   },
   "outputs": [
    {
     "data": {
      "text/html": [
       "<div>\n",
       "<table border=\"1\" class=\"dataframe\">\n",
       "  <thead>\n",
       "    <tr style=\"text-align: right;\">\n",
       "      <th></th>\n",
       "      <th>p = 1</th>\n",
       "      <th>p = 2</th>\n",
       "      <th>p = 3</th>\n",
       "      <th>p = 4</th>\n",
       "      <th>p = 5</th>\n",
       "      <th>p = 6</th>\n",
       "      <th>p = 7</th>\n",
       "      <th>p = 8</th>\n",
       "      <th>p = 9</th>\n",
       "      <th>p = 10</th>\n",
       "    </tr>\n",
       "  </thead>\n",
       "  <tbody>\n",
       "    <tr>\n",
       "      <th>a = 1</th>\n",
       "      <td>128</td>\n",
       "      <td>128</td>\n",
       "      <td>128</td>\n",
       "      <td>128</td>\n",
       "      <td>128</td>\n",
       "      <td>128</td>\n",
       "      <td>128</td>\n",
       "      <td>128</td>\n",
       "      <td>128</td>\n",
       "      <td>128</td>\n",
       "    </tr>\n",
       "    <tr>\n",
       "      <th>a = 2</th>\n",
       "      <td>128</td>\n",
       "      <td>4</td>\n",
       "      <td>4</td>\n",
       "      <td>4</td>\n",
       "      <td>1</td>\n",
       "      <td>1</td>\n",
       "      <td>1</td>\n",
       "      <td>1</td>\n",
       "      <td>1</td>\n",
       "      <td>1</td>\n",
       "    </tr>\n",
       "    <tr>\n",
       "      <th>a = 3</th>\n",
       "      <td>128</td>\n",
       "      <td>127</td>\n",
       "      <td>4</td>\n",
       "      <td>4</td>\n",
       "      <td>4</td>\n",
       "      <td>4</td>\n",
       "      <td>4</td>\n",
       "      <td>2</td>\n",
       "      <td>1</td>\n",
       "      <td>1</td>\n",
       "    </tr>\n",
       "    <tr>\n",
       "      <th>a = 4</th>\n",
       "      <td>128</td>\n",
       "      <td>128</td>\n",
       "      <td>4</td>\n",
       "      <td>4</td>\n",
       "      <td>4</td>\n",
       "      <td>4</td>\n",
       "      <td>4</td>\n",
       "      <td>4</td>\n",
       "      <td>4</td>\n",
       "      <td>4</td>\n",
       "    </tr>\n",
       "    <tr>\n",
       "      <th>a = 5</th>\n",
       "      <td>128</td>\n",
       "      <td>128</td>\n",
       "      <td>4</td>\n",
       "      <td>4</td>\n",
       "      <td>4</td>\n",
       "      <td>4</td>\n",
       "      <td>4</td>\n",
       "      <td>4</td>\n",
       "      <td>4</td>\n",
       "      <td>4</td>\n",
       "    </tr>\n",
       "    <tr>\n",
       "      <th>a = 6</th>\n",
       "      <td>128</td>\n",
       "      <td>128</td>\n",
       "      <td>4</td>\n",
       "      <td>4</td>\n",
       "      <td>4</td>\n",
       "      <td>4</td>\n",
       "      <td>4</td>\n",
       "      <td>4</td>\n",
       "      <td>4</td>\n",
       "      <td>4</td>\n",
       "    </tr>\n",
       "    <tr>\n",
       "      <th>a = 7</th>\n",
       "      <td>128</td>\n",
       "      <td>128</td>\n",
       "      <td>4</td>\n",
       "      <td>4</td>\n",
       "      <td>4</td>\n",
       "      <td>4</td>\n",
       "      <td>4</td>\n",
       "      <td>4</td>\n",
       "      <td>4</td>\n",
       "      <td>4</td>\n",
       "    </tr>\n",
       "    <tr>\n",
       "      <th>a = 8</th>\n",
       "      <td>128</td>\n",
       "      <td>128</td>\n",
       "      <td>5</td>\n",
       "      <td>4</td>\n",
       "      <td>4</td>\n",
       "      <td>4</td>\n",
       "      <td>4</td>\n",
       "      <td>4</td>\n",
       "      <td>4</td>\n",
       "      <td>4</td>\n",
       "    </tr>\n",
       "    <tr>\n",
       "      <th>a = 9</th>\n",
       "      <td>128</td>\n",
       "      <td>128</td>\n",
       "      <td>5</td>\n",
       "      <td>4</td>\n",
       "      <td>4</td>\n",
       "      <td>4</td>\n",
       "      <td>4</td>\n",
       "      <td>4</td>\n",
       "      <td>4</td>\n",
       "      <td>4</td>\n",
       "    </tr>\n",
       "    <tr>\n",
       "      <th>a = 10</th>\n",
       "      <td>128</td>\n",
       "      <td>128</td>\n",
       "      <td>6</td>\n",
       "      <td>4</td>\n",
       "      <td>4</td>\n",
       "      <td>4</td>\n",
       "      <td>4</td>\n",
       "      <td>4</td>\n",
       "      <td>4</td>\n",
       "      <td>4</td>\n",
       "    </tr>\n",
       "  </tbody>\n",
       "</table>\n",
       "</div>"
      ],
      "text/plain": [
       "        p = 1  p = 2  p = 3  p = 4  p = 5  p = 6  p = 7  p = 8  p = 9  p = 10\n",
       "a = 1     128    128    128    128    128    128    128    128    128     128\n",
       "a = 2     128      4      4      4      1      1      1      1      1       1\n",
       "a = 3     128    127      4      4      4      4      4      2      1       1\n",
       "a = 4     128    128      4      4      4      4      4      4      4       4\n",
       "a = 5     128    128      4      4      4      4      4      4      4       4\n",
       "a = 6     128    128      4      4      4      4      4      4      4       4\n",
       "a = 7     128    128      4      4      4      4      4      4      4       4\n",
       "a = 8     128    128      5      4      4      4      4      4      4       4\n",
       "a = 9     128    128      5      4      4      4      4      4      4       4\n",
       "a = 10    128    128      6      4      4      4      4      4      4       4"
      ]
     },
     "execution_count": 11,
     "metadata": {},
     "output_type": "execute_result"
    }
   ],
   "source": [
    "df = {a: [] for a in range(1,11)}\n",
    "for ex_f in range(1,11):\n",
    "    for inf_f in range (1,11):\n",
    "        M, clusters = networkx_mcl(G,expand_factor = ex_f, inflate_factor = inf_f, max_loop = 100)\n",
    "        df[ex_f].append(len(clusters))\n",
    "index = [\"a = \"+str(i) for i in range (1,11)]\n",
    "columns = [\"p = \"+str(i) for i in range (1,11)]\n",
    "data=pd.DataFrame(df, index = index)\n",
    "data.columns = columns\n",
    "data"
   ]
  },
  {
   "cell_type": "markdown",
   "metadata": {},
   "source": [
    "### Network2"
   ]
  },
  {
   "cell_type": "code",
   "execution_count": 86,
   "metadata": {
    "collapsed": false
   },
   "outputs": [
    {
     "name": "stdout",
     "output_type": "stream",
     "text": [
      "Number of clusters 4\n"
     ]
    },
    {
     "data": {
      "image/png": "[encoded data removed]",
      "text/plain": [
       "<matplotlib.figure.Figure at 0x10d474a90>"
      ]
     },
     "metadata": {},
     "output_type": "display_data"
    },
    {
     "data": {
      "image/png": "[encoded data removed]",
      "text/plain": [
       "<matplotlib.figure.Figure at 0x10ebeccd0>"
      ]
     },
     "metadata": {},
     "output_type": "display_data"
    }
   ],
   "source": [
    "data = scipy.io.loadmat('/Users/Evgenia/Downloads/network2.mat')\n",
    "A = data['A'].astype('float')\n",
    "\n",
    "A=np.matrix(A)\n",
    "G=nx.from_numpy_matrix(A)\n",
    "M, clusters = networkx_mcl(G,expand_factor = 3, inflate_factor = 3, max_loop = 100 , mult_factor = 1)\n",
    "print \"Number of clusters\", len(clusters)\n",
    "draw(G, M, clusters)"
   ]
  },
  {
   "cell_type": "markdown",
   "metadata": {},
   "source": [
    "Analyse parameters (print number of clusters)"
   ]
  },
  {
   "cell_type": "code",
   "execution_count": 13,
   "metadata": {
    "collapsed": false
   },
   "outputs": [
    {
     "data": {
      "text/html": [
       "<div>\n",
       "<table border=\"1\" class=\"dataframe\">\n",
       "  <thead>\n",
       "    <tr style=\"text-align: right;\">\n",
       "      <th></th>\n",
       "      <th>p = 1</th>\n",
       "      <th>p = 2</th>\n",
       "      <th>p = 3</th>\n",
       "      <th>p = 4</th>\n",
       "      <th>p = 5</th>\n",
       "      <th>p = 6</th>\n",
       "      <th>p = 7</th>\n",
       "      <th>p = 8</th>\n",
       "      <th>p = 9</th>\n",
       "      <th>p = 10</th>\n",
       "    </tr>\n",
       "  </thead>\n",
       "  <tbody>\n",
       "    <tr>\n",
       "      <th>a = 1</th>\n",
       "      <td>128</td>\n",
       "      <td>128</td>\n",
       "      <td>128</td>\n",
       "      <td>128</td>\n",
       "      <td>128</td>\n",
       "      <td>128</td>\n",
       "      <td>128</td>\n",
       "      <td>128</td>\n",
       "      <td>128</td>\n",
       "      <td>128</td>\n",
       "    </tr>\n",
       "    <tr>\n",
       "      <th>a = 2</th>\n",
       "      <td>128</td>\n",
       "      <td>6</td>\n",
       "      <td>1</td>\n",
       "      <td>1</td>\n",
       "      <td>1</td>\n",
       "      <td>1</td>\n",
       "      <td>1</td>\n",
       "      <td>1</td>\n",
       "      <td>1</td>\n",
       "      <td>1</td>\n",
       "    </tr>\n",
       "    <tr>\n",
       "      <th>a = 3</th>\n",
       "      <td>128</td>\n",
       "      <td>128</td>\n",
       "      <td>4</td>\n",
       "      <td>1</td>\n",
       "      <td>1</td>\n",
       "      <td>1</td>\n",
       "      <td>1</td>\n",
       "      <td>1</td>\n",
       "      <td>1</td>\n",
       "      <td>1</td>\n",
       "    </tr>\n",
       "    <tr>\n",
       "      <th>a = 4</th>\n",
       "      <td>128</td>\n",
       "      <td>128</td>\n",
       "      <td>4</td>\n",
       "      <td>4</td>\n",
       "      <td>1</td>\n",
       "      <td>1</td>\n",
       "      <td>1</td>\n",
       "      <td>1</td>\n",
       "      <td>1</td>\n",
       "      <td>1</td>\n",
       "    </tr>\n",
       "    <tr>\n",
       "      <th>a = 5</th>\n",
       "      <td>128</td>\n",
       "      <td>128</td>\n",
       "      <td>5</td>\n",
       "      <td>4</td>\n",
       "      <td>1</td>\n",
       "      <td>1</td>\n",
       "      <td>1</td>\n",
       "      <td>1</td>\n",
       "      <td>1</td>\n",
       "      <td>1</td>\n",
       "    </tr>\n",
       "    <tr>\n",
       "      <th>a = 6</th>\n",
       "      <td>128</td>\n",
       "      <td>128</td>\n",
       "      <td>9</td>\n",
       "      <td>4</td>\n",
       "      <td>4</td>\n",
       "      <td>1</td>\n",
       "      <td>1</td>\n",
       "      <td>1</td>\n",
       "      <td>1</td>\n",
       "      <td>1</td>\n",
       "    </tr>\n",
       "    <tr>\n",
       "      <th>a = 7</th>\n",
       "      <td>128</td>\n",
       "      <td>128</td>\n",
       "      <td>10</td>\n",
       "      <td>4</td>\n",
       "      <td>4</td>\n",
       "      <td>1</td>\n",
       "      <td>1</td>\n",
       "      <td>1</td>\n",
       "      <td>1</td>\n",
       "      <td>1</td>\n",
       "    </tr>\n",
       "    <tr>\n",
       "      <th>a = 8</th>\n",
       "      <td>128</td>\n",
       "      <td>128</td>\n",
       "      <td>12</td>\n",
       "      <td>4</td>\n",
       "      <td>4</td>\n",
       "      <td>2</td>\n",
       "      <td>1</td>\n",
       "      <td>1</td>\n",
       "      <td>1</td>\n",
       "      <td>1</td>\n",
       "    </tr>\n",
       "    <tr>\n",
       "      <th>a = 9</th>\n",
       "      <td>128</td>\n",
       "      <td>128</td>\n",
       "      <td>14</td>\n",
       "      <td>6</td>\n",
       "      <td>4</td>\n",
       "      <td>4</td>\n",
       "      <td>1</td>\n",
       "      <td>1</td>\n",
       "      <td>1</td>\n",
       "      <td>1</td>\n",
       "    </tr>\n",
       "    <tr>\n",
       "      <th>a = 10</th>\n",
       "      <td>128</td>\n",
       "      <td>128</td>\n",
       "      <td>16</td>\n",
       "      <td>9</td>\n",
       "      <td>4</td>\n",
       "      <td>4</td>\n",
       "      <td>1</td>\n",
       "      <td>1</td>\n",
       "      <td>1</td>\n",
       "      <td>1</td>\n",
       "    </tr>\n",
       "  </tbody>\n",
       "</table>\n",
       "</div>"
      ],
      "text/plain": [
       "        p = 1  p = 2  p = 3  p = 4  p = 5  p = 6  p = 7  p = 8  p = 9  p = 10\n",
       "a = 1     128    128    128    128    128    128    128    128    128     128\n",
       "a = 2     128      6      1      1      1      1      1      1      1       1\n",
       "a = 3     128    128      4      1      1      1      1      1      1       1\n",
       "a = 4     128    128      4      4      1      1      1      1      1       1\n",
       "a = 5     128    128      5      4      1      1      1      1      1       1\n",
       "a = 6     128    128      9      4      4      1      1      1      1       1\n",
       "a = 7     128    128     10      4      4      1      1      1      1       1\n",
       "a = 8     128    128     12      4      4      2      1      1      1       1\n",
       "a = 9     128    128     14      6      4      4      1      1      1       1\n",
       "a = 10    128    128     16      9      4      4      1      1      1       1"
      ]
     },
     "execution_count": 13,
     "metadata": {},
     "output_type": "execute_result"
    }
   ],
   "source": [
    "df = {a: [] for a in range(1,11)}\n",
    "for ex_f in range(1,11):\n",
    "    for inf_f in range (1,11):\n",
    "        M, clusters = networkx_mcl(G,expand_factor = ex_f, inflate_factor = inf_f, max_loop = 100)\n",
    "        df[ex_f].append(len(clusters))\n",
    "index = [\"a = \"+str(i) for i in range (1,11)]\n",
    "columns = [\"p = \"+str(i) for i in range (1,11)]\n",
    "data=pd.DataFrame(df, index = index)\n",
    "data.columns = columns\n",
    "data"
   ]
  },
  {
   "cell_type": "markdown",
   "metadata": {},
   "source": [
    "### Network3"
   ]
  },
  {
   "cell_type": "code",
   "execution_count": 88,
   "metadata": {
    "collapsed": false
   },
   "outputs": [
    {
     "name": "stdout",
     "output_type": "stream",
     "text": [
      "Number of clusters 2\n"
     ]
    },
    {
     "data": {
      "image/png": "[encoded data removed]",
      "text/plain": [
       "<matplotlib.figure.Figure at 0x10eccbb10>"
      ]
     },
     "metadata": {},
     "output_type": "display_data"
    },
    {
     "data": {
      "image/png": "[encoded data removed]",
      "text/plain": [
       "<matplotlib.figure.Figure at 0x111f28bd0>"
      ]
     },
     "metadata": {},
     "output_type": "display_data"
    }
   ],
   "source": [
    "data = scipy.io.loadmat('/Users/Evgenia/Downloads/network3.mat')\n",
    "A = data['A'].astype('float')\n",
    "\n",
    "A=np.matrix(A)\n",
    "G=nx.from_numpy_matrix(A)\n",
    "M, clusters = networkx_mcl(G,expand_factor = 3, inflate_factor = 4, max_loop = 100 , mult_factor = 1)\n",
    "print \"Number of clusters\", len(clusters)\n",
    "draw(G, M, clusters)"
   ]
  },
  {
   "cell_type": "markdown",
   "metadata": {},
   "source": [
    "Analyse parameters (print number of clusters)"
   ]
  },
  {
   "cell_type": "code",
   "execution_count": 15,
   "metadata": {
    "collapsed": false
   },
   "outputs": [
    {
     "data": {
      "text/html": [
       "<div>\n",
       "<table border=\"1\" class=\"dataframe\">\n",
       "  <thead>\n",
       "    <tr style=\"text-align: right;\">\n",
       "      <th></th>\n",
       "      <th>p = 1</th>\n",
       "      <th>p = 2</th>\n",
       "      <th>p = 3</th>\n",
       "      <th>p = 4</th>\n",
       "      <th>p = 5</th>\n",
       "      <th>p = 6</th>\n",
       "      <th>p = 7</th>\n",
       "      <th>p = 8</th>\n",
       "      <th>p = 9</th>\n",
       "      <th>p = 10</th>\n",
       "    </tr>\n",
       "  </thead>\n",
       "  <tbody>\n",
       "    <tr>\n",
       "      <th>a = 1</th>\n",
       "      <td>128</td>\n",
       "      <td>128</td>\n",
       "      <td>128</td>\n",
       "      <td>128</td>\n",
       "      <td>128</td>\n",
       "      <td>128</td>\n",
       "      <td>128</td>\n",
       "      <td>128</td>\n",
       "      <td>128</td>\n",
       "      <td>128</td>\n",
       "    </tr>\n",
       "    <tr>\n",
       "      <th>a = 2</th>\n",
       "      <td>128</td>\n",
       "      <td>128</td>\n",
       "      <td>1</td>\n",
       "      <td>1</td>\n",
       "      <td>1</td>\n",
       "      <td>1</td>\n",
       "      <td>1</td>\n",
       "      <td>1</td>\n",
       "      <td>1</td>\n",
       "      <td>1</td>\n",
       "    </tr>\n",
       "    <tr>\n",
       "      <th>a = 3</th>\n",
       "      <td>128</td>\n",
       "      <td>128</td>\n",
       "      <td>1</td>\n",
       "      <td>1</td>\n",
       "      <td>1</td>\n",
       "      <td>1</td>\n",
       "      <td>1</td>\n",
       "      <td>1</td>\n",
       "      <td>1</td>\n",
       "      <td>1</td>\n",
       "    </tr>\n",
       "    <tr>\n",
       "      <th>a = 4</th>\n",
       "      <td>128</td>\n",
       "      <td>128</td>\n",
       "      <td>2</td>\n",
       "      <td>1</td>\n",
       "      <td>1</td>\n",
       "      <td>1</td>\n",
       "      <td>1</td>\n",
       "      <td>1</td>\n",
       "      <td>1</td>\n",
       "      <td>1</td>\n",
       "    </tr>\n",
       "    <tr>\n",
       "      <th>a = 5</th>\n",
       "      <td>128</td>\n",
       "      <td>128</td>\n",
       "      <td>9</td>\n",
       "      <td>1</td>\n",
       "      <td>1</td>\n",
       "      <td>1</td>\n",
       "      <td>1</td>\n",
       "      <td>1</td>\n",
       "      <td>1</td>\n",
       "      <td>1</td>\n",
       "    </tr>\n",
       "    <tr>\n",
       "      <th>a = 6</th>\n",
       "      <td>128</td>\n",
       "      <td>128</td>\n",
       "      <td>21</td>\n",
       "      <td>1</td>\n",
       "      <td>1</td>\n",
       "      <td>1</td>\n",
       "      <td>1</td>\n",
       "      <td>1</td>\n",
       "      <td>1</td>\n",
       "      <td>1</td>\n",
       "    </tr>\n",
       "    <tr>\n",
       "      <th>a = 7</th>\n",
       "      <td>128</td>\n",
       "      <td>128</td>\n",
       "      <td>32</td>\n",
       "      <td>4</td>\n",
       "      <td>1</td>\n",
       "      <td>1</td>\n",
       "      <td>1</td>\n",
       "      <td>1</td>\n",
       "      <td>1</td>\n",
       "      <td>1</td>\n",
       "    </tr>\n",
       "    <tr>\n",
       "      <th>a = 8</th>\n",
       "      <td>128</td>\n",
       "      <td>128</td>\n",
       "      <td>38</td>\n",
       "      <td>42</td>\n",
       "      <td>1</td>\n",
       "      <td>1</td>\n",
       "      <td>1</td>\n",
       "      <td>1</td>\n",
       "      <td>1</td>\n",
       "      <td>1</td>\n",
       "    </tr>\n",
       "    <tr>\n",
       "      <th>a = 9</th>\n",
       "      <td>128</td>\n",
       "      <td>128</td>\n",
       "      <td>42</td>\n",
       "      <td>110</td>\n",
       "      <td>1</td>\n",
       "      <td>1</td>\n",
       "      <td>1</td>\n",
       "      <td>1</td>\n",
       "      <td>1</td>\n",
       "      <td>1</td>\n",
       "    </tr>\n",
       "    <tr>\n",
       "      <th>a = 10</th>\n",
       "      <td>128</td>\n",
       "      <td>128</td>\n",
       "      <td>43</td>\n",
       "      <td>126</td>\n",
       "      <td>1</td>\n",
       "      <td>1</td>\n",
       "      <td>1</td>\n",
       "      <td>1</td>\n",
       "      <td>1</td>\n",
       "      <td>1</td>\n",
       "    </tr>\n",
       "  </tbody>\n",
       "</table>\n",
       "</div>"
      ],
      "text/plain": [
       "        p = 1  p = 2  p = 3  p = 4  p = 5  p = 6  p = 7  p = 8  p = 9  p = 10\n",
       "a = 1     128    128    128    128    128    128    128    128    128     128\n",
       "a = 2     128    128      1      1      1      1      1      1      1       1\n",
       "a = 3     128    128      1      1      1      1      1      1      1       1\n",
       "a = 4     128    128      2      1      1      1      1      1      1       1\n",
       "a = 5     128    128      9      1      1      1      1      1      1       1\n",
       "a = 6     128    128     21      1      1      1      1      1      1       1\n",
       "a = 7     128    128     32      4      1      1      1      1      1       1\n",
       "a = 8     128    128     38     42      1      1      1      1      1       1\n",
       "a = 9     128    128     42    110      1      1      1      1      1       1\n",
       "a = 10    128    128     43    126      1      1      1      1      1       1"
      ]
     },
     "execution_count": 15,
     "metadata": {},
     "output_type": "execute_result"
    }
   ],
   "source": [
    "df = {a: [] for a in range(1,11)}\n",
    "for ex_f in range(1,11):\n",
    "    for inf_f in range (1,11):\n",
    "        M, clusters = networkx_mcl(G,expand_factor = ex_f, inflate_factor = inf_f, max_loop = 100)\n",
    "        df[ex_f].append(len(clusters))\n",
    "index = [\"a = \"+str(i) for i in range (1,11)]\n",
    "columns = [\"p = \"+str(i) for i in range (1,11)]\n",
    "data=pd.DataFrame(df, index = index)\n",
    "data.columns = columns\n",
    "data"
   ]
  },
  {
   "cell_type": "markdown",
   "metadata": {},
   "source": [
    "### Task 2"
   ]
  },
  {
   "cell_type": "markdown",
   "metadata": {},
   "source": [
    "Load [Yahoo Music network](https://www.hse.ru/data/2016/03/15/1127704844/music_data.mat). Edges in this network appear if enough number of users have given ratings to both music bands. Note, that edges are weighted with similarity of the ratings.\n",
    "\n",
    "* Implement *multilevel spectral recursive partitioning* algorithm that was described during the lecture\n",
    "* Visualize community structure of the network and output some of the dense clusters (with interpretation, if you can)\n",
    "\n",
    "You can load .mat files with the following commands:"
   ]
  },
  {
   "cell_type": "code",
   "execution_count": 36,
   "metadata": {
    "collapsed": false
   },
   "outputs": [],
   "source": [
    "import scipy.io\n",
    "\n",
    "data = scipy.io.loadmat('/Users/Evgenia/Downloads/music_data.mat')\n",
    "G = nx.from_scipy_sparse_matrix(data[\"A\"],create_using=nx.Graph(),edge_attribute='weight')\n",
    "keys = [i for i in range (data[\"A\"].shape[0])]\n",
    "values_names = [i for i in data[\"artists\"]]\n",
    "names = dict(zip(keys, values_names))\n",
    "nx.set_node_attributes(G, 'names',names)\n"
   ]
  },
  {
   "cell_type": "markdown",
   "metadata": {},
   "source": [
    "Function of Spectral graph partitioning algorithm"
   ]
  },
  {
   "cell_type": "code",
   "execution_count": 38,
   "metadata": {
    "collapsed": false
   },
   "outputs": [],
   "source": [
    "def spectral_partitioning (G):\n",
    "    # networkx has a method for finding the Laplacian\n",
    "    laplacian = nx.normalized_laplacian_matrix(G,weight='weight')\n",
    "    # Use to compute the Fiedler vector, which corresponds to the\n",
    "    # second smallest eigenvalue of the Laplacian\n",
    "    w, v =scipy.sparse.linalg.eigs (laplacian,which='SR' )\n",
    "    algebraic_connectivity = w[1] \n",
    "    fiedler_vector = v[:,1].T\n",
    "    clusters = []\n",
    "    part_vec = zip(fiedler_vector.tolist(),G.nodes())\n",
    "    G1_v, G2_v =[], []\n",
    "    for (v,n) in part_vec:\n",
    "        \n",
    "        if v.real<0: G1_v.append(n)\n",
    "        else: G2_v.append(n)\n",
    "    clusters.append(G1_v)\n",
    "    clusters.append(G2_v)\n",
    "    return clusters\n",
    "\n"
   ]
  },
  {
   "cell_type": "markdown",
   "metadata": {},
   "source": [
    "Multilevel spectral recursive partitioning with known number of levels and fix minimum number of nodes"
   ]
  },
  {
   "cell_type": "code",
   "execution_count": 58,
   "metadata": {
    "collapsed": false
   },
   "outputs": [],
   "source": [
    "def multilevel_spectral_partitioning (G, levels=2, min_nodes = 10):\n",
    "    clusters = [G.nodes()]\n",
    "    levels = levels\n",
    "    for i in range (levels):\n",
    "        clusters_next = []\n",
    "        for cluster in clusters:\n",
    "            new_clusters = spectral_partitioning (G.subgraph(cluster))\n",
    "            if (len(new_clusters[0]) > min_nodes) and (len(new_clusters[1]) > min_nodes):\n",
    "                clusters_next.append(new_clusters[0]); clusters_next.append(new_clusters[1])\n",
    "            else: clusters_next.append(cluster)\n",
    "        clusters = clusters_next\n",
    "    clust_map={i: r for i, r in enumerate(clusters)}\n",
    "    return clusters            \n"
   ]
  },
  {
   "cell_type": "markdown",
   "metadata": {},
   "source": [
    "Implement multilevel spectral recursive partitioning algorithm  with levels = 40"
   ]
  },
  {
   "cell_type": "code",
   "execution_count": 59,
   "metadata": {
    "collapsed": false
   },
   "outputs": [],
   "source": [
    "cl = multilevel_spectral_partitioning(G,levels=40)\n"
   ]
  },
  {
   "cell_type": "code",
   "execution_count": 62,
   "metadata": {
    "collapsed": false
   },
   "outputs": [
    {
     "name": "stdout",
     "output_type": "stream",
     "text": [
      "Number of clusters =  570\n"
     ]
    }
   ],
   "source": [
    "print \"Number of clusters = \",len(cl)"
   ]
  },
  {
   "cell_type": "code",
   "execution_count": 53,
   "metadata": {
    "collapsed": false
   },
   "outputs": [
    {
     "data": {
      "text/plain": [
       "[u'Wild Cherry                                        ',\n",
       " u'Hot Chocolate                                      ',\n",
       " u'Jones Girls                                        ',\n",
       " u'Jean Knight                                        ',\n",
       " u'Patrice Rushen                                     ',\n",
       " u'The Blackbyrds                                     ',\n",
       " u'Enchantment                                        ',\n",
       " u'Love Unlimited Orchestra                           ',\n",
       " u'The Brothers Johnson                               ',\n",
       " u'Brick                                              ',\n",
       " u'Ashford & Simpson                                  ']"
      ]
     },
     "execution_count": 53,
     "metadata": {},
     "output_type": "execute_result"
    }
   ],
   "source": [
    "nx.get_node_attributes(G.subgraph(cl[27]),\"names\").values()"
   ]
  },
  {
   "cell_type": "code",
   "execution_count": 64,
   "metadata": {
    "collapsed": false
   },
   "outputs": [
    {
     "data": {
      "text/plain": [
       "[u'Scott Joplin                                       ',\n",
       " u'Eartha Kitt                                        ',\n",
       " u'Julie London                                       ',\n",
       " u'Martin Denny                                       ',\n",
       " u'Dave Brubeck Quartet                               ',\n",
       " u'Marlene Dietrich                                   ',\n",
       " u'Cab Calloway                                       ',\n",
       " u'Fats Waller                                        ',\n",
       " u'Louis Prima                                        ',\n",
       " u'Benny Goodman                                      ',\n",
       " u'Marilyn Monroe                                     ',\n",
       " u'Paolo Conte                                        ',\n",
       " u'Dean Martin                                        ',\n",
       " u'Burt Bacharach                                     ',\n",
       " u'The Andrews Sisters                                ',\n",
       " u'Gene Krupa                                         ',\n",
       " u'The Rat Pack                                       ',\n",
       " u'Louis Jordan                                       ',\n",
       " u'Les Paul                                           ',\n",
       " u'Jelly Roll Morton                                  ']"
      ]
     },
     "execution_count": 64,
     "metadata": {},
     "output_type": "execute_result"
    }
   ],
   "source": [
    "nx.get_node_attributes(G.subgraph(cl[106]),\"names\").values()"
   ]
  },
  {
   "cell_type": "code",
   "execution_count": null,
   "metadata": {
    "collapsed": true
   },
   "outputs": [],
   "source": []
  }
 ],
 "metadata": {
  "kernelspec": {
   "display_name": "Python 2",
   "language": "python",
   "name": "python2"
  },
  "language_info": {
   "codemirror_mode": {
    "name": "ipython",
    "version": 2
   },
   "file_extension": ".py",
   "mimetype": "text/x-python",
   "name": "python",
   "nbconvert_exporter": "python",
   "pygments_lexer": "ipython2",
   "version": "2.7.11"
  }
 },
 "nbformat": 4,
 "nbformat_minor": 0
}
