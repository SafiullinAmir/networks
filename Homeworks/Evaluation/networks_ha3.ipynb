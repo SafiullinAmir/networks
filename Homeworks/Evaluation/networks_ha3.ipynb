{
 "cells": [
  {
   "cell_type": "markdown",
   "metadata": {},
   "source": [
    "# <center>Network Science</center>"
   ]
  },
  {
   "cell_type": "markdown",
   "metadata": {},
   "source": [
    "## <center>Home Assignment #3: Centralities and Assortativity</center>"
   ]
  },
  {
   "cell_type": "markdown",
   "metadata": {},
   "source": [
    "### <center>Student: *Mukhomorova Olga*</center>"
   ]
  },
  {
   "cell_type": "markdown",
   "metadata": {},
   "source": [
    "#### <hr /> General Information"
   ]
  },
  {
   "cell_type": "markdown",
   "metadata": {},
   "source": [
    "**Due Date:** 13.03.2016 23:59 <br \\>\n",
    "**Late submission policy:** -0.2 points per day <br \\>\n",
    "\n",
    "\n",
    "Please send your reports to <network.hse.2016@gmail.com> with message subject of the following structure:<br \\> **[HSE Networks 2015] *{LastName}* *{First Name}* HA*{Number}***\n",
    "\n",
    "Support your computations with figures and comments. <br \\>\n",
    "If you are using IPython Notebook you may use this file as a starting point of your report.<br \\>\n",
    "<br \\>\n",
    "<hr \\>"
   ]
  },
  {
   "cell_type": "markdown",
   "metadata": {},
   "source": [
    "## Problems"
   ]
  },
  {
   "cell_type": "markdown",
   "metadata": {},
   "source": [
    "### Task 1"
   ]
  },
  {
   "cell_type": "markdown",
   "metadata": {},
   "source": [
    "Compute degree centrality, Pagerank and  HubAuthorities scores for the [flickr](https://www.hse.ru/data/2016/02/24/1139618969/flickr.mat) network. \n",
    "\n",
    "Data contains sparse matrix A and list of user names.\n",
    "This is a “denser” part of the Flickr photo sharing site friendship graph from 2006. Edge direction corresponds to friendship requests (following). Some of the links are reciprocal,others not.  \n",
    "\n",
    "Provide top 50 names in each ranking, compare results\n",
    "\n",
    "You can load .mat files with the following commands:"
   ]
  },
  {
   "cell_type": "code",
   "execution_count": 1,
   "metadata": {
    "collapsed": false
   },
   "outputs": [],
   "source": [
    "import scipy.io\n",
    "import os\n",
    "import matplotlib.pyplot as plt\n",
    "import networkx as nx\n",
    "%matplotlib inline\n",
    "\n",
    "os.chdir('C:/Jupyter/notebooks')\n",
    "data = scipy.io.loadmat('flickr.mat')"
   ]
  },
  {
   "cell_type": "code",
   "execution_count": 2,
   "metadata": {
    "collapsed": false
   },
   "outputs": [],
   "source": [
    "G = nx.DiGraph(data['A'])"
   ]
  },
  {
   "cell_type": "markdown",
   "metadata": {},
   "source": [
    "We have directed graph. It means, that node degree centrality metric should be calculated for incoming and outcoming edges separately. We also have HITS algorthm, which returns two rankings for hubs and authorities (oucoming and incoming):\n",
    "![](https://i.gyazo.com/ae21a777b034c707d62a0668b9eb63cc.png)\n",
    "\n",
    "But what should we do with PageRank algorithm? It's definition is the following:\n",
    ">In short PageRank is a “vote”, by all the other pages on the Web, about how important a page is. A link to a page counts as a vote of support. If there’s no link there’s no support (but it’s an abstention from voting rather than a vote against the page).\n",
    "Quoting from the original Google paper, PageRank is defined like this:\n",
    "We assume page A has pages T1...Tn which point to it (i.e., are citations). The parameter d is a damping factor which can be set between 0 and 1. We usually set d to 0.85. There are more details about d in the next section. Also C(A) is defined as the number of links going out of page A. The PageRank of a page A is given as follows:\n",
    "PR(A) = (1-d) + d (PR(T1)/C(T1) + ... + PR(Tn)/C(Tn))\n",
    "\n",
    "(source http://www.cs.princeton.edu/~chazelle/courses/BIB/pagerank.htm)\n",
    "\n",
    "This means, that inportance of node A depends on incoming edges (in other words PR is based on incoming links to webpage and their 'quality' and 'importance') and we shoud compare separately degree centrality, pagerank, authorities for incoming and degree centrality, hubs for outcoming."
   ]
  },
  {
   "cell_type": "code",
   "execution_count": 3,
   "metadata": {
    "collapsed": false
   },
   "outputs": [],
   "source": [
    "import operator\n",
    "\n",
    "#degree centrality\n",
    "#INCOMING\n",
    "dc_in = sorted(nx.in_degree_centrality(G).items(), key=operator.itemgetter(1))\n",
    "dc_in.reverse()\n",
    "dc_in = dc_in[:50]\n",
    "#OUTCOMING\n",
    "dc_out = sorted(nx.out_degree_centrality(G).items(), key=operator.itemgetter(1))\n",
    "dc_out.reverse()\n",
    "dc_out = dc_out[:50]\n",
    "\n",
    "#pagerank\n",
    "pr = sorted(nx.pagerank(G).items(), key=operator.itemgetter(1))\n",
    "pr.reverse()\n",
    "pr = pr[:50]\n",
    "\n",
    "#hubauthorities\n",
    "h,a = nx.hits(G)\n",
    "hubs = sorted(h.items(), key=operator.itemgetter(1))\n",
    "auth = sorted(a.items(), key=operator.itemgetter(1))\n",
    "hubs.reverse(); auth.reverse()\n",
    "hubs = hubs[:50]; auth = auth[:50]"
   ]
  },
  {
   "cell_type": "markdown",
   "metadata": {
    "collapsed": true
   },
   "source": [
    "To compare 50-long ranked vectors, we will use **kendalltau (KT)** ranking correlation measure:"
   ]
  },
  {
   "cell_type": "code",
   "execution_count": 5,
   "metadata": {
    "collapsed": false
   },
   "outputs": [
    {
     "name": "stdout",
     "output_type": "stream",
     "text": [
      "For INCOMING edges:\n",
      "KT coefficient between in degree centrality and pagerank: 0.118367346939\n",
      "KT coefficient between in degree centrality and authorities: -0.0367346938776\n",
      "KT coefficient between authorities and pagerank: -0.216326530612\n",
      "\n",
      "For OUTCOMING edges:\n",
      "KT coefficient between out degree centrality and hubs: 0.17387755102\n"
     ]
    }
   ],
   "source": [
    "import scipy.stats\n",
    "import numpy as np\n",
    "\n",
    "print 'For INCOMING edges:'\n",
    "print 'KT coefficient between '+'in degree centrality '+'and '+'pagerank'+': '+ str(scipy.stats.kendalltau(np.array([int(i[0]) for i in dc_in]) ,np.array([int(i[0]) for i in pr]))[0])\n",
    "print 'KT coefficient between '+'in degree centrality '+'and '+'authorities'+': '+ str(scipy.stats.kendalltau(np.array([int(i[0]) for i in dc_in]) ,np.array([int(i[0]) for i in auth]))[0])\n",
    "print 'KT coefficient between '+'authorities '+'and '+'pagerank'+': '+ str(scipy.stats.kendalltau(np.array([int(i[0]) for i in auth]) ,np.array([int(i[0]) for i in pr]))[0])\n",
    "print''\n",
    "print 'For OUTCOMING edges:'\n",
    "print 'KT coefficient between '+'out degree centrality '+'and '+'hubs'+': '+ str(scipy.stats.kendalltau(np.array([int(i[0]) for i in dc_out]) ,np.array([int(i[0]) for i in hubs]))[0])"
   ]
  },
  {
   "cell_type": "markdown",
   "metadata": {
    "collapsed": true
   },
   "source": [
    "Kendall’s tau is a measure of the correspondence between two rankings. Values close to 1 indicate strong agreement, values close to -1 indicate strong disagreement.\n",
    "\n",
    "----------------------------------------------------------------------\n",
    "Now we will provide top-50 names for each type of ranking:"
   ]
  },
  {
   "cell_type": "code",
   "execution_count": 6,
   "metadata": {
    "collapsed": false
   },
   "outputs": [
    {
     "name": "stdout",
     "output_type": "stream",
     "text": [
      "In degree centrality (top 50 followed):\n",
      "['awfulsara', 'drp', '*Ivan*', 'antimethod', 'DrJoanne', 'BombDog', 'Simon Pais', 'deborah lattimore', 'MaD Gi\\xc3\\x82\\xc2\\xaeL\\xc3\\xa2\\xc2\\x80\\xc2\\xa2\\xc3\\xa2\\xc2\\x84\\xc2\\xa2', ':Nikola', 'notraces', 'cymagen', 'aleyna', 'lorrainemd', 'artofgold', '*starlet*', 'romanlily', 'Pandarine', 'hot_luscious', 'jkottke', 'Mylens', 'Mareen Fischinger', 'slowernet', 'gu@va', 'bernardo.borghetti', 'pbowers', 'CherryVega', 'underbunny', 'Merina', 'Loobylu', '* HoNe$t *', '.lush', 'fraying', 'pixietart', 'naftalina007', 'fd', 'aquanerds', 'Joi', 'Esther_G', 'carf', 'Sexy Swedish Babe', '!!uAe prince!!', 'Marcelo  Montecino', 'callipygian', 'Agridulce', 'Least Wanted', 'Gayla', 'anildash', 'reddirtrose', 'tecgirl']\n",
      "\n",
      "Out degree centrality (top 50 that follow others):\n",
      "['anildash', 'tozzer', 'AtiRanA', 'pixietart', 'jakedobkin', 'Buntekuh', 'Jakes_World', 'brainware3000', 'maximolly', 'Andreia Lopes', 'inthegan', 'elvis1967', '990000', ': Esther', 'spanier', 'Charles Machado', 'kathryn', 'dmoore', 'drp', 'mehmetkale', 'rivello', 'What What', 'aracay', 'meadows', 'Lucilia', 'dianeham', 'blackbeltjones', 'pro keds', 'Photographer Dre', 'Zsaj', 'tantek', 'virgu', 'nickf', 'cooks', 'a nameless yeast', 'jayallen', 'cymagen', 'mypapercrane', 'me4ta', 'gardengal', 'roamin', 'ribena', 'Airchild', 'judith', 'mdintoronto', 'chomp', 'killer robot', 'lucycat', 'biscotte72', 'Yahoockr']\n",
      "\n",
      "Pagerank (top 50 important users):\n",
      "['awfulsara', 'drp', 'antimethod', 'BombDog', '*Ivan*', 'MaD Gi\\xc3\\x82\\xc2\\xaeL\\xc3\\xa2\\xc2\\x80\\xc2\\xa2\\xc3\\xa2\\xc2\\x84\\xc2\\xa2', 'DrJoanne', 'Simon Pais', 'deborah lattimore', 'cymagen', ':Nikola', 'notraces', 'jkottke', 'lorrainemd', 'slowernet', 'artofgold', 'romanlily', '*starlet*', 'Pandarine', 'hot_luscious', 'Mareen Fischinger', 'underbunny', 'fraying', 'Mylens', 'aleyna', '* HoNe$t *', 'gu@va', 'pbowers', 'anildash', 'Loobylu', 'Joi', 'CherryVega', 'Marcelo  Montecino', 'bernardo.borghetti', '!!uAe prince!!', 'Esther_G', 'Departure Lounge', 'gruntzooki', 'Gayla', 'Tom Coates', 'maximolly', 'chromogenic', 'Agridulce', 'naftalina007', 'pixietart', 'aquanerds', 'overshadowed', '.lush', 'jakedobkin', 'fd']\n",
      "\n",
      "Hubs (top 50  that follow others):\n",
      "['mrpiink', 'automat', 'schizoo23', 'lorrainemd', 'sgoralnick', '*starlet*', 'brynfoto', 'liquid pixel', 'noahstone', 'isherwood', 'Arno-MM', 'scotsman0170', 'WaveSpire', 'tozzer', '...cathzilla', 'cymagen', 'ola_babe1', 'DrJoanne', 'pablokorona', 'demouser', 'jallive', 'macebio', 'marika b', 'drp', 'Osvaldo', 'Crea.tive', 'sheldonschwartz', 'virgu', 'mehmetkale', 'gucci1000', 'Zewalt', 'bernardo.borghetti', 'notraces', 'Grains And Light', 'overshadowed', 'neuskool', 'pblgbp', 'sillydog', 'zaharoula', 'mark daniel', 'astrid~', 'MrTopf', 'spanier', 'ricd', 'schani', 'redmondbarry', 'Mareen Fischinger', 'grow-er', '.lush', 'naftalina007']\n",
      "\n",
      "Authorities (top 50 followed):\n",
      "['awfulsara', 'drp', 'DrJoanne', '*Ivan*', 'antimethod', 'BombDog', 'Simon Pais', 'deborah lattimore', 'cymagen', ':Nikola', 'lorrainemd', '*starlet*', 'aleyna', 'artofgold', 'notraces', 'romanlily', 'Pandarine', 'Mylens', 'Mareen Fischinger', 'bernardo.borghetti', 'gu@va', 'Sexy Swedish Babe', 'pbowers', '.lush', 'Merina', 'Esther_G', 'slowernet', 'CherryVega', 'bex_ai', 'nedrosen', 'naftalina007', 'Agridulce', 'callipygian', 'isherwood', 'aircrash', 'Lola The Car Chick', 'liliths_nymph', 'Solarman', 'Ryou in the box', 'pixietart', 'Rachael D', 'fd', 'macwagen', 'underbunny', '* HoNe$t *', 'kunja', 'Home alone', 'bekon', 'tecgirl', 'carf']\n",
      "\n"
     ]
    }
   ],
   "source": [
    "print 'In degree centrality (top 50 followed):'\n",
    "print map(str.strip,[data['names'][i].encode(\"utf-8\") for i in [int(i[0]) for i in dc_in]])\n",
    "print ''\n",
    "print 'Out degree centrality (top 50 that follow others):'\n",
    "print map(str.strip,[data['names'][i].encode(\"utf-8\") for i in [int(i[0]) for i in dc_out]])\n",
    "print ''\n",
    "print 'Pagerank (top 50 important users):'\n",
    "print map(str.strip,[data['names'][i].encode(\"utf-8\") for i in [int(i[0]) for i in pr]])\n",
    "print ''\n",
    "print 'Hubs (top 50  that follow others):'\n",
    "print map(str.strip,[data['names'][i].encode(\"utf-8\") for i in [int(i[0]) for i in hubs]])\n",
    "print ''\n",
    "print 'Authorities (top 50 followed):'\n",
    "print map(str.strip,[data['names'][i].encode(\"utf-8\") for i in [int(i[0]) for i in auth]])\n",
    "print ''"
   ]
  },
  {
   "cell_type": "markdown",
   "metadata": {},
   "source": [
    "### <hr /> Task 2"
   ]
  },
  {
   "cell_type": "markdown",
   "metadata": {},
   "source": [
    "Here are the [Facebook friendship graphs](https://www.hse.ru/data/2016/03/05/1125656999/universities.zip) from several US universities from 2005 (one year after fb launch).\n",
    "\n",
    "Data contains a A matrix (sparse) and a \"local_info\" variable, one row per node: \n",
    "a student/faculty status flag, gender, major, second major/minor (if applicable), dorm/house, year, and high school. \n",
    "Missing data is coded 0.\n",
    "\n",
    "Compute node degree assortativity (mixining by node degree) and assortativity coefficient (modularity) for gender, major, dormitory, year, high school for all universities and compare the results."
   ]
  },
  {
   "cell_type": "code",
   "execution_count": 7,
   "metadata": {
    "collapsed": true
   },
   "outputs": [],
   "source": [
    "import numpy as np\n",
    "os.chdir('C:/Jupyter/notebooks')\n",
    "berkeley = scipy.io.loadmat('Berkeley13.mat')"
   ]
  },
  {
   "cell_type": "code",
   "execution_count": 13,
   "metadata": {
    "collapsed": false
   },
   "outputs": [
    {
     "name": "stdout",
     "output_type": "stream",
     "text": [
      "node degree assortativity (mixining by node degree) 0.01031\n",
      "assortativity coefficient for gender (cat): 0.0409228376393\n",
      "assortativity coefficient for major (cat): 0.058255029946\n",
      "assortativity coefficient for dormitory (num): 0.14727644076\n",
      "assortativity coefficient for year (num): 0.308121015806\n",
      "assortativity coefficient for high school (num): 0.0773753653543\n"
     ]
    }
   ],
   "source": [
    "#berkeley\n",
    "G = nx.DiGraph(berkeley['A'])\n",
    "br=nx.degree_assortativity_coefficient(G)\n",
    "print 'node degree assortativity (mixining by node degree) '+str(\"%3.5f\"%br)\n",
    "#assuming that gender is categorical feature\n",
    "nx.set_node_attributes(G, '1', dict(zip(list(np.arange(len(G))), [int(i[1]) for i in berkeley['local_info']])))\n",
    "#assuming that major is categorical feature\n",
    "nx.set_node_attributes(G, '2', dict(zip(list(np.arange(len(G))), [int(i[2]) for i in berkeley['local_info']])))\n",
    "#assuming that dormitory is numerical feature\n",
    "nx.set_node_attributes(G, '3', dict(zip(list(np.arange(len(G))), [int(i[4]) for i in berkeley['local_info']])))\n",
    "#assuming that year is numerical feature\n",
    "nx.set_node_attributes(G, '4', dict(zip(list(np.arange(len(G))), [int(i[5]) for i in berkeley['local_info']])))\n",
    "#assuming that high school is numerical feature\n",
    "nx.set_node_attributes(G, '5', dict(zip(list(np.arange(len(G))), [int(i[6]) for i in berkeley['local_info']])))\n",
    "b1=nx.attribute_assortativity_coefficient(G,'1')\n",
    "b2=nx.attribute_assortativity_coefficient(G,'2')\n",
    "b3=nx.attribute_assortativity_coefficient(G,'3')\n",
    "b4=nx.attribute_assortativity_coefficient(G,'4')\n",
    "b5=nx.attribute_assortativity_coefficient(G,'5')\n",
    "print 'assortativity coefficient for gender (cat): '+str(b1)\n",
    "print 'assortativity coefficient for major (cat): '+str(b2)\n",
    "print 'assortativity coefficient for dormitory (num): '+str(b3)\n",
    "print 'assortativity coefficient for year (num): '+str(b4)\n",
    "print 'assortativity coefficient for high school (num): '+str(b5)"
   ]
  },
  {
   "cell_type": "code",
   "execution_count": 14,
   "metadata": {
    "collapsed": false
   },
   "outputs": [
    {
     "name": "stdout",
     "output_type": "stream",
     "text": [
      "node degree assortativity (mixining by node degree) -0.06527\n",
      "assortativity coefficient for gender (cat): 0.0463314364559\n",
      "assortativity coefficient for major (cat): 0.0347194237236\n",
      "assortativity coefficient for dormitory (num): 0.349153100873\n",
      "assortativity coefficient for year (num): 0.237531904813\n",
      "assortativity coefficient for high school (num): 0.00266977930658\n"
     ]
    }
   ],
   "source": [
    "#Caltech\n",
    "Caltech = scipy.io.loadmat('Caltech36.mat')\n",
    "G = nx.DiGraph(Caltech['A'])\n",
    "cr=nx.degree_assortativity_coefficient(G)\n",
    "print 'node degree assortativity (mixining by node degree) '+str(\"%3.5f\"%cr)\n",
    "#assuming that gender is categorical feature\n",
    "nx.set_node_attributes(G, '1', dict(zip(list(np.arange(len(G))), [int(i[1]) for i in Caltech['local_info']])))\n",
    "#assuming that major is categorical feature\n",
    "nx.set_node_attributes(G, '2', dict(zip(list(np.arange(len(G))), [int(i[2]) for i in Caltech['local_info']])))\n",
    "#assuming that dormitory is numerical feature\n",
    "nx.set_node_attributes(G, '3', dict(zip(list(np.arange(len(G))), [int(i[4]) for i in Caltech['local_info']])))\n",
    "#assuming that year is numerical feature\n",
    "nx.set_node_attributes(G, '4', dict(zip(list(np.arange(len(G))), [int(i[5]) for i in Caltech['local_info']])))\n",
    "#assuming that high school is numerical feature\n",
    "nx.set_node_attributes(G, '5', dict(zip(list(np.arange(len(G))), [int(i[6]) for i in Caltech['local_info']])))\n",
    "c1=nx.attribute_assortativity_coefficient(G,'1')\n",
    "c2=nx.attribute_assortativity_coefficient(G,'2')\n",
    "c3=nx.attribute_assortativity_coefficient(G,'3')\n",
    "c4=nx.attribute_assortativity_coefficient(G,'4')\n",
    "c5=nx.attribute_assortativity_coefficient(G,'5')\n",
    "print 'assortativity coefficient for gender (cat): '+str(c1)\n",
    "print 'assortativity coefficient for major (cat): '+str(c2)\n",
    "print 'assortativity coefficient for dormitory (num): '+str(c3)\n",
    "print 'assortativity coefficient for year (num): '+str(c4)\n",
    "print 'assortativity coefficient for high school (num): '+str(c5)"
   ]
  },
  {
   "cell_type": "code",
   "execution_count": 15,
   "metadata": {
    "collapsed": false
   },
   "outputs": [
    {
     "name": "stdout",
     "output_type": "stream",
     "text": [
      "node degree assortativity (mixining by node degree) 0.14505\n",
      "assortativity coefficient for gender (cat): 0.0452699773794\n",
      "assortativity coefficient for major (cat): 0.0496769283286\n",
      "assortativity coefficient for dormitory (num): 0.12567663505\n",
      "assortativity coefficient for year (num): 0.421159642116\n",
      "assortativity coefficient for high school (num): 0.0239867253741\n"
     ]
    }
   ],
   "source": [
    "#Harvard\n",
    "Harvard = scipy.io.loadmat('Harvard1.mat')\n",
    "G = nx.DiGraph(Harvard['A'])\n",
    "hr=nx.degree_assortativity_coefficient(G)\n",
    "print 'node degree assortativity (mixining by node degree) '+str(\"%3.5f\"%hr)\n",
    "#assuming that gender is categorical feature\n",
    "nx.set_node_attributes(G, '1', dict(zip(list(np.arange(len(G))), [int(i[1]) for i in Harvard['local_info']])))\n",
    "#assuming that major is categorical feature\n",
    "nx.set_node_attributes(G, '2', dict(zip(list(np.arange(len(G))), [int(i[2]) for i in Harvard['local_info']])))\n",
    "#assuming that dormitory is numerical feature\n",
    "nx.set_node_attributes(G, '3', dict(zip(list(np.arange(len(G))), [int(i[4]) for i in Harvard['local_info']])))\n",
    "#assuming that year is numerical feature\n",
    "nx.set_node_attributes(G, '4', dict(zip(list(np.arange(len(G))), [int(i[5]) for i in Harvard['local_info']])))\n",
    "#assuming that high school is numerical feature\n",
    "nx.set_node_attributes(G, '5', dict(zip(list(np.arange(len(G))), [int(i[6]) for i in Harvard['local_info']])))\n",
    "h1=nx.attribute_assortativity_coefficient(G,'1')\n",
    "h2=nx.attribute_assortativity_coefficient(G,'2')\n",
    "h3=nx.attribute_assortativity_coefficient(G,'3')\n",
    "h4=nx.attribute_assortativity_coefficient(G,'4')\n",
    "h5=nx.attribute_assortativity_coefficient(G,'5')\n",
    "print 'assortativity coefficient for gender (cat): '+str(h1)\n",
    "print 'assortativity coefficient for major (cat): '+str(h2)\n",
    "print 'assortativity coefficient for dormitory (num): '+str(h3)\n",
    "print 'assortativity coefficient for year (num): '+str(h4)\n",
    "print 'assortativity coefficient for high school (num): '+str(h5)"
   ]
  },
  {
   "cell_type": "code",
   "execution_count": 16,
   "metadata": {
    "collapsed": false
   },
   "outputs": [
    {
     "name": "stdout",
     "output_type": "stream",
     "text": [
      "node degree assortativity (mixining by node degree) 0.07367\n",
      "assortativity coefficient for gender (cat): 0.0928372959827\n",
      "assortativity coefficient for major (cat): 0.0363790887617\n",
      "assortativity coefficient for dormitory (num): 0.280335243729\n",
      "assortativity coefficient for year (num): 0.20116469147\n",
      "assortativity coefficient for high school (num): 0.139468406924\n"
     ]
    }
   ],
   "source": [
    "#Oklahoma\n",
    "Oklahoma = scipy.io.loadmat('Oklahoma97.mat')\n",
    "G = nx.DiGraph(Oklahoma['A'])\n",
    "o_r=nx.degree_assortativity_coefficient(G)\n",
    "print 'node degree assortativity (mixining by node degree) '+str(\"%3.5f\"%o_r)\n",
    "#assuming that gender is categorical feature\n",
    "nx.set_node_attributes(G, '1', dict(zip(list(np.arange(len(G))), [int(i[1]) for i in Oklahoma['local_info']])))\n",
    "#assuming that major is categorical feature\n",
    "nx.set_node_attributes(G, '2', dict(zip(list(np.arange(len(G))), [int(i[2]) for i in Oklahoma['local_info']])))\n",
    "#assuming that dormitory is numerical feature\n",
    "nx.set_node_attributes(G, '3', dict(zip(list(np.arange(len(G))), [int(i[4]) for i in Oklahoma['local_info']])))\n",
    "#assuming that year is numerical feature\n",
    "nx.set_node_attributes(G, '4', dict(zip(list(np.arange(len(G))), [int(i[5]) for i in Oklahoma['local_info']])))\n",
    "#assuming that high school is numerical feature\n",
    "nx.set_node_attributes(G, '5', dict(zip(list(np.arange(len(G))), [int(i[6]) for i in Oklahoma['local_info']])))\n",
    "o1=nx.attribute_assortativity_coefficient(G,'1')\n",
    "o2=nx.attribute_assortativity_coefficient(G,'2')\n",
    "o3=nx.attribute_assortativity_coefficient(G,'3')\n",
    "o4=nx.attribute_assortativity_coefficient(G,'4')\n",
    "o5=nx.attribute_assortativity_coefficient(G,'5')\n",
    "print 'assortativity coefficient for gender (cat): '+str(o1)\n",
    "print 'assortativity coefficient for major (cat): '+str(o2)\n",
    "print 'assortativity coefficient for dormitory (num): '+str(o3)\n",
    "print 'assortativity coefficient for year (num): '+str(o4)\n",
    "print 'assortativity coefficient for high school (num): '+str(o5)"
   ]
  },
  {
   "cell_type": "code",
   "execution_count": 17,
   "metadata": {
    "collapsed": false
   },
   "outputs": [
    {
     "name": "stdout",
     "output_type": "stream",
     "text": [
      "node degree assortativity (mixining by node degree) 0.09109\n",
      "assortativity coefficient for gender (cat): 0.0506107399953\n",
      "assortativity coefficient for major (cat): 0.0543901188714\n",
      "assortativity coefficient for dormitory (num): 0.0946784195542\n",
      "assortativity coefficient for year (num): 0.446744620584\n",
      "assortativity coefficient for high school (num): 0.018783655245\n"
     ]
    }
   ],
   "source": [
    "#Princeton\n",
    "Princeton = scipy.io.loadmat('Princeton12.mat')\n",
    "G = nx.DiGraph(Princeton['A'])\n",
    "pr=nx.degree_assortativity_coefficient(G)\n",
    "print 'node degree assortativity (mixining by node degree) '+str(\"%3.5f\"%pr)\n",
    "#assuming that gender is categorical feature\n",
    "nx.set_node_attributes(G, '1', dict(zip(list(np.arange(len(G))), [int(i[1]) for i in Princeton['local_info']])))\n",
    "#assuming that major is categorical feature\n",
    "nx.set_node_attributes(G, '2', dict(zip(list(np.arange(len(G))), [int(i[2]) for i in Princeton['local_info']])))\n",
    "#assuming that dormitory is numerical feature\n",
    "nx.set_node_attributes(G, '3', dict(zip(list(np.arange(len(G))), [int(i[4]) for i in Princeton['local_info']])))\n",
    "#assuming that year is numerical feature\n",
    "nx.set_node_attributes(G, '4', dict(zip(list(np.arange(len(G))), [int(i[5]) for i in Princeton['local_info']])))\n",
    "#assuming that high school is numerical feature\n",
    "nx.set_node_attributes(G, '5', dict(zip(list(np.arange(len(G))), [int(i[6]) for i in Princeton['local_info']])))\n",
    "p1=nx.attribute_assortativity_coefficient(G,'1')\n",
    "p2=nx.attribute_assortativity_coefficient(G,'2')\n",
    "p3=nx.attribute_assortativity_coefficient(G,'3')\n",
    "p4=nx.attribute_assortativity_coefficient(G,'4')\n",
    "p5=nx.attribute_assortativity_coefficient(G,'5')\n",
    "print 'assortativity coefficient for gender (cat): '+str(p1)\n",
    "print 'assortativity coefficient for major (cat): '+str(p2)\n",
    "print 'assortativity coefficient for dormitory (num): '+str(p3)\n",
    "print 'assortativity coefficient for year (num): '+str(p4)\n",
    "print 'assortativity coefficient for high school (num): '+str(p5)"
   ]
  },
  {
   "cell_type": "code",
   "execution_count": 18,
   "metadata": {
    "collapsed": false
   },
   "outputs": [
    {
     "name": "stdout",
     "output_type": "stream",
     "text": [
      "node degree assortativity (mixining by node degree) 0.16389\n",
      "assortativity coefficient for gender (cat): 0.0796930681412\n",
      "assortativity coefficient for major (cat): 0.0597127278334\n",
      "assortativity coefficient for dormitory (num): 0.204837604339\n",
      "assortativity coefficient for year (num): 0.246194684162\n",
      "assortativity coefficient for high school (num): 0.147992848231\n"
     ]
    }
   ],
   "source": [
    "#Texas\n",
    "Texas = scipy.io.loadmat('Texas80.mat')\n",
    "G = nx.DiGraph(Texas['A'])\n",
    "tr=nx.degree_assortativity_coefficient(G)\n",
    "print 'node degree assortativity (mixining by node degree) '+str(\"%3.5f\"%tr)\n",
    "#assuming that gender is categorical feature\n",
    "nx.set_node_attributes(G, '1', dict(zip(list(np.arange(len(G))), [int(i[1]) for i in Texas['local_info']])))\n",
    "#assuming that major is categorical feature\n",
    "nx.set_node_attributes(G, '2', dict(zip(list(np.arange(len(G))), [int(i[2]) for i in Texas['local_info']])))\n",
    "#assuming that dormitory is numerical feature\n",
    "nx.set_node_attributes(G, '3', dict(zip(list(np.arange(len(G))), [int(i[4]) for i in Texas['local_info']])))\n",
    "#assuming that year is numerical feature\n",
    "nx.set_node_attributes(G, '4', dict(zip(list(np.arange(len(G))), [int(i[5]) for i in Texas['local_info']])))\n",
    "#assuming that high school is numerical feature\n",
    "nx.set_node_attributes(G, '5', dict(zip(list(np.arange(len(G))), [int(i[6]) for i in Texas['local_info']])))\n",
    "t1=nx.attribute_assortativity_coefficient(G,'1')\n",
    "t2=nx.attribute_assortativity_coefficient(G,'2')\n",
    "t3=nx.attribute_assortativity_coefficient(G,'3')\n",
    "t4=nx.attribute_assortativity_coefficient(G,'4')\n",
    "t5=nx.attribute_assortativity_coefficient(G,'5')\n",
    "print 'assortativity coefficient for gender (cat): '+str(t1)\n",
    "print 'assortativity coefficient for major (cat): '+str(t2)\n",
    "print 'assortativity coefficient for dormitory (num): '+str(t3)\n",
    "print 'assortativity coefficient for year (num): '+str(t4)\n",
    "print 'assortativity coefficient for high school (num): '+str(t5)"
   ]
  },
  {
   "cell_type": "markdown",
   "metadata": {},
   "source": [
    "Now we will compare results"
   ]
  },
  {
   "cell_type": "code",
   "execution_count": 43,
   "metadata": {
    "collapsed": false
   },
   "outputs": [
    {
     "data": {
      "text/plain": [
       "<matplotlib.text.Text at 0x19bab8d0>"
      ]
     },
     "execution_count": 43,
     "metadata": {},
     "output_type": "execute_result"
    },
    {
     "data": {
      "image/png": "[encoded data removed]",
      "text/plain": [
       "<matplotlib.figure.Figure at 0x719f2860>"
      ]
     },
     "metadata": {},
     "output_type": "display_data"
    }
   ],
   "source": [
    "x=['berkeley','caltech','harvard','oklahoma','prenceton','texas']\n",
    "y=[br, cr, hr, o_r, pr, tr]\n",
    "axes = plt.figure().add_subplot(111)\n",
    "plt.plot(y, 'ro')\n",
    "axes.set_xticklabels(x)\n",
    "plt.title('node degree assortativity')"
   ]
  },
  {
   "cell_type": "code",
   "execution_count": 44,
   "metadata": {
    "collapsed": false
   },
   "outputs": [
    {
     "data": {
      "text/plain": [
       "<matplotlib.text.Text at 0x87a25828>"
      ]
     },
     "execution_count": 44,
     "metadata": {},
     "output_type": "execute_result"
    },
    {
     "data": {
      "image/png": "[encoded data removed]",
      "text/plain": [
       "<matplotlib.figure.Figure at 0x18933780>"
      ]
     },
     "metadata": {},
     "output_type": "display_data"
    }
   ],
   "source": [
    "y=[b1, c1, h1, o1, p1, t1]\n",
    "axes = plt.figure().add_subplot(111)\n",
    "plt.plot(y, 'ro')\n",
    "axes.set_xticklabels(x)\n",
    "plt.title('assortativity coefficient for gender')"
   ]
  },
  {
   "cell_type": "code",
   "execution_count": 45,
   "metadata": {
    "collapsed": false
   },
   "outputs": [
    {
     "data": {
      "text/plain": [
       "<matplotlib.text.Text at 0x95130cf8>"
      ]
     },
     "execution_count": 45,
     "metadata": {},
     "output_type": "execute_result"
    },
    {
     "data": {
      "image/png": "[encoded data removed]",
      "text/plain": [
       "<matplotlib.figure.Figure at 0x87a25588>"
      ]
     },
     "metadata": {},
     "output_type": "display_data"
    }
   ],
   "source": [
    "y=[b2, c2, h2, o2, p2, t2]\n",
    "axes = plt.figure().add_subplot(111)\n",
    "plt.plot(y, 'ro')\n",
    "axes.set_xticklabels(x)\n",
    "plt.title('assortativity coefficient for major')"
   ]
  },
  {
   "cell_type": "code",
   "execution_count": 46,
   "metadata": {
    "collapsed": false
   },
   "outputs": [
    {
     "data": {
      "text/plain": [
       "<matplotlib.text.Text at 0x3a908fd0>"
      ]
     },
     "execution_count": 46,
     "metadata": {},
     "output_type": "execute_result"
    },
    {
     "data": {
      "image/png": "[encoded data removed]",
      "text/plain": [
       "<matplotlib.figure.Figure at 0x951306d8>"
      ]
     },
     "metadata": {},
     "output_type": "display_data"
    }
   ],
   "source": [
    "y=[b3, c3, h3, o3, p3, t3]\n",
    "axes = plt.figure().add_subplot(111)\n",
    "plt.plot(y, 'ro')\n",
    "axes.set_xticklabels(x)\n",
    "plt.title('assortativity coefficient for dormitory')"
   ]
  },
  {
   "cell_type": "code",
   "execution_count": 47,
   "metadata": {
    "collapsed": false
   },
   "outputs": [
    {
     "data": {
      "text/plain": [
       "<matplotlib.text.Text at 0x45957390>"
      ]
     },
     "execution_count": 47,
     "metadata": {},
     "output_type": "execute_result"
    },
    {
     "data": {
      "image/png": "[encoded data removed]",
      "text/plain": [
       "<matplotlib.figure.Figure at 0x8ece1eb8>"
      ]
     },
     "metadata": {},
     "output_type": "display_data"
    }
   ],
   "source": [
    "y=[b4, c4, h4, o4, p4, t4]\n",
    "axes = plt.figure().add_subplot(111)\n",
    "plt.plot(y, 'ro')\n",
    "axes.set_xticklabels(x)\n",
    "plt.title('assortativity coefficient for year')"
   ]
  },
  {
   "cell_type": "code",
   "execution_count": 48,
   "metadata": {
    "collapsed": false
   },
   "outputs": [
    {
     "data": {
      "text/plain": [
       "<matplotlib.text.Text at 0x7208ecf8>"
      ]
     },
     "execution_count": 48,
     "metadata": {},
     "output_type": "execute_result"
    },
    {
     "data": {
      "image/png": "[encoded data removed]",
      "text/plain": [
       "<matplotlib.figure.Figure at 0x2e4fae48>"
      ]
     },
     "metadata": {},
     "output_type": "display_data"
    }
   ],
   "source": [
    "y=[b5, c5, h5, o5, p5, t5]\n",
    "axes = plt.figure().add_subplot(111)\n",
    "plt.plot(y, 'ro')\n",
    "axes.set_xticklabels(x)\n",
    "plt.title('assortativity coefficient for high school')"
   ]
  },
  {
   "cell_type": "code",
   "execution_count": null,
   "metadata": {
    "collapsed": true
   },
   "outputs": [],
   "source": []
  }
 ],
 "metadata": {
  "kernelspec": {
   "display_name": "Python 2",
   "language": "python",
   "name": "python2"
  },
  "language_info": {
   "codemirror_mode": {
    "name": "ipython",
    "version": 2
   },
   "file_extension": ".py",
   "mimetype": "text/x-python",
   "name": "python",
   "nbconvert_exporter": "python",
   "pygments_lexer": "ipython2",
   "version": "2.7.10"
  }
 },
 "nbformat": 4,
 "nbformat_minor": 0
}
