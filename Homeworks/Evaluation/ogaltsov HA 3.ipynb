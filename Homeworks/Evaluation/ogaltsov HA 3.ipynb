{
 "cells": [
  {
   "cell_type": "markdown",
   "metadata": {},
   "source": [
    "# HA 3"
   ]
  },
  {
   "cell_type": "markdown",
   "metadata": {},
   "source": [
    "## Task 1"
   ]
  },
  {
   "cell_type": "markdown",
   "metadata": {},
   "source": [
    "### Degree centrality"
   ]
  },
  {
   "cell_type": "code",
   "execution_count": 2,
   "metadata": {
    "collapsed": false
   },
   "outputs": [],
   "source": [
    "import numpy as np\n",
    "import networkx as nx\n",
    "import scipy.io \n",
    "\n",
    "data = scipy.io.loadmat('C:/Users/Alexander/Desktop/scripts/flickr.mat') # Loading data"
   ]
  },
  {
   "cell_type": "code",
   "execution_count": 5,
   "metadata": {
    "collapsed": true
   },
   "outputs": [],
   "source": [
    "A = data['A']\n",
    "G = nx.from_scipy_sparse_matrix(A, create_using=nx.DiGraph()) # Form oriented graph from sparse matrix"
   ]
  },
  {
   "cell_type": "code",
   "execution_count": 6,
   "metadata": {
    "collapsed": true
   },
   "outputs": [],
   "source": [
    "k = nx.in_degree_centrality(G)\n",
    "degree_cent = sorted(k.iteritems(), key=lambda(m, v): (-v, m)) # Sort in-degrees because I believe its the most adequate \n",
    "# of popularity"
   ]
  },
  {
   "cell_type": "code",
   "execution_count": 11,
   "metadata": {
    "collapsed": false
   },
   "outputs": [
    {
     "name": "stdout",
     "output_type": "stream",
     "text": [
      "KitschKat                                           \n",
      "cutoutwitch                                         \n",
      "Sparrows' Friend                                    \n",
      "shutterBRI                                          \n",
      "Sarcasmo                                            \n",
      "nosuchuserexists                                    \n",
      "callipygian                                         \n",
      "dopiaza                                             \n",
      "Loester                                             \n",
      "bloo                                                \n",
      "Mary B.                                             \n",
      "The Procrastinating Doc                             \n",
      "zorra                                               \n",
      "Digitalyn                                           \n",
      "ArSiSa                                              \n",
      "JPaul23                                             \n",
      "sneezypb                                            \n",
      "vimanaboy                                           \n",
      "rodenbeck1                                          \n",
      "J Chris A                                           \n",
      "heydrienne                                          \n",
      "Szmytke                                             \n",
      "planximihi                                          \n",
      "lolay                                               \n",
      "Diego Jock                                          \n",
      "Lunapath                                            \n",
      "BenODen                                             \n",
      "3e                                                  \n",
      "kvalentine                                          \n",
      "lissame                                             \n",
      "abstract                                            \n",
      "floresita                                           \n",
      "centrs                                              \n",
      "desdemona                                           \n",
      "noe0712                                             \n",
      "Ben McLeod                                          \n",
      "Elegant Mood                                        \n",
      "Salvor                                              \n",
      "metalli                                             \n",
      "zesser                                              \n",
      "Mlissa                                              \n",
      "SchrÃ¶edinger's Cat                                 \n",
      "aprilbaby03                                         \n",
      "mysterion                                           \n",
      "Wingdingo                                           \n",
      "Michael Czeiszperger                                \n",
      "firechick                                           \n",
      "Desi                                                \n",
      "planeta hilda                                       \n",
      "orly_bragais                                        \n"
     ]
    }
   ],
   "source": [
    "toplist_degree_cent = []\n",
    "\n",
    "for n in degree_cent[0:50]:\n",
    "    name_n = n[0]    \n",
    "    name = data['names'][name_n-1]\n",
    "    print name\n",
    "    toplist_degree_cent.append(name)\n"
   ]
  },
  {
   "cell_type": "markdown",
   "metadata": {},
   "source": [
    "### PageRank"
   ]
  },
  {
   "cell_type": "code",
   "execution_count": 12,
   "metadata": {
    "collapsed": true
   },
   "outputs": [],
   "source": [
    "k = nx.pagerank(G)\n",
    "page_rank = sorted(k.iteritems(), key=lambda(m, v): (-v, m))"
   ]
  },
  {
   "cell_type": "code",
   "execution_count": 13,
   "metadata": {
    "collapsed": false
   },
   "outputs": [
    {
     "name": "stdout",
     "output_type": "stream",
     "text": [
      "KitschKat                                           \n",
      "cutoutwitch                                         \n",
      "shutterBRI                                          \n",
      "nosuchuserexists                                    \n",
      "Sparrows' Friend                                    \n",
      "Loester                                             \n",
      "Sarcasmo                                            \n",
      "callipygian                                         \n",
      "dopiaza                                             \n",
      "The Procrastinating Doc                             \n",
      "Mary B.                                             \n",
      "bloo                                                \n",
      "rodenbeck1                                          \n",
      "Digitalyn                                           \n",
      "planximihi                                          \n",
      "ArSiSa                                              \n",
      "sneezypb                                            \n",
      "JPaul23                                             \n",
      "vimanaboy                                           \n",
      "J Chris A                                           \n",
      "heydrienne                                          \n",
      "3e                                                  \n",
      "centrs                                              \n",
      "Szmytke                                             \n",
      "zorra                                               \n",
      "abstract                                            \n",
      "lolay                                               \n",
      "BenODen                                             \n",
      "Desi                                                \n",
      "kvalentine                                          \n",
      "Salvor                                              \n",
      "Lunapath                                            \n",
      "Mlissa                                              \n",
      "Diego Jock                                          \n",
      "SchrÃ¶edinger's Cat                                 \n",
      "metalli                                             \n",
      "nune                                                \n",
      "snooze                                              \n",
      "firechick                                           \n",
      "Basel                                               \n",
      "justin                                              \n",
      "Shooz                                               \n",
      "Wingdingo                                           \n",
      "noe0712                                             \n",
      "desdemona                                           \n",
      "Elegant Mood                                        \n",
      "ferminadaza                                         \n",
      "floresita                                           \n",
      "Rebecca Blood                                       \n",
      "Ben McLeod                                          \n"
     ]
    }
   ],
   "source": [
    "toplist_page_rank = []\n",
    "\n",
    "for n in page_rank[0:50]:\n",
    "    name_n = n[0]    \n",
    "    name = data['names'][name_n-1]\n",
    "    print name\n",
    "    toplist_page_rank.append(name)"
   ]
  },
  {
   "cell_type": "markdown",
   "metadata": {},
   "source": [
    "### HubsAuthorities"
   ]
  },
  {
   "cell_type": "code",
   "execution_count": 14,
   "metadata": {
    "collapsed": true
   },
   "outputs": [],
   "source": [
    "k = nx.hits(G)"
   ]
  },
  {
   "cell_type": "code",
   "execution_count": 15,
   "metadata": {
    "collapsed": true
   },
   "outputs": [],
   "source": [
    "h, a = k\n",
    "degree_hub = sorted(h.iteritems(), key=lambda(m, v): (-v, m))"
   ]
  },
  {
   "cell_type": "code",
   "execution_count": 16,
   "metadata": {
    "collapsed": false
   },
   "outputs": [
    {
     "name": "stdout",
     "output_type": "stream",
     "text": [
      "rgp.flickr                                          \n",
      "*jenny b                                            \n",
      "Burkhard Schroeder                                  \n",
      "Digitalyn                                           \n",
      "Rick Leche (LabLover)                               \n",
      "JPaul23                                             \n",
      "pacatatu                                            \n",
      "Fred Casagrande                                     \n",
      "mindimer                                            \n",
      "Images of Elbows                                    \n",
      "(( flower GIRL ))                                   \n",
      "â´JeWelrEsSâ´                                     \n",
      "JORGE EBERT                                         \n",
      "pablo72                                             \n",
      "Miek37                                              \n",
      "The Procrastinating Doc                             \n",
      "cyprest                                             \n",
      "Sarcasmo                                            \n",
      "darkpisces                                          \n",
      "Ø§ÙÙÙÙÙÙÙÙØ§Ø³ÙÙÙÙÙÙÙ                \n",
      "Vira-latas de NiterÃ³i                              \n",
      "bananaa                                             \n",
      "erbasalvia                                          \n",
      "cutoutwitch                                         \n",
      "mandapanda191                                       \n",
      "geborges                                            \n",
      "Elinesca                                            \n",
      "Mc Lau                                              \n",
      "ToniBlay                                            \n",
      "amoory                                              \n",
      "ern                                                 \n",
      "Diego Jock                                          \n",
      "bloo                                                \n",
      "sweetney                                            \n",
      "ferminadaza                                         \n",
      "Ambiance-Moushkila                                  \n",
      "reynena                                             \n",
      "simply simple                                       \n",
      "ffhcd                                               \n",
      "Ø§ÙØ´Ø¨Ø­                                          \n",
      "focajonathan                                        \n",
      "lardus                                              \n",
      "overdramatic                                        \n",
      "intimate slow hands killer                          \n",
      "ijliao                                              \n",
      "123tomo                                             \n",
      "heydrienne                                          \n",
      "Shayne King                                         \n",
      "floresita                                           \n",
      "noe0712                                             \n"
     ]
    }
   ],
   "source": [
    "toplist_hubs = []\n",
    "\n",
    "for n in degree_hub[0:50]:\n",
    "    name_n = n[0]    \n",
    "    name = data['names'][name_n-1]\n",
    "    print name\n",
    "    toplist_hubs.append(name)"
   ]
  },
  {
   "cell_type": "code",
   "execution_count": 17,
   "metadata": {
    "collapsed": true
   },
   "outputs": [],
   "source": [
    "degree_auth = sorted(a.iteritems(), key=lambda(m, v): (-v, m))"
   ]
  },
  {
   "cell_type": "code",
   "execution_count": 18,
   "metadata": {
    "collapsed": false
   },
   "outputs": [
    {
     "name": "stdout",
     "output_type": "stream",
     "text": [
      "KitschKat                                           \n",
      "cutoutwitch                                         \n",
      "Sarcasmo                                            \n",
      "Sparrows' Friend                                    \n",
      "shutterBRI                                          \n",
      "nosuchuserexists                                    \n",
      "callipygian                                         \n",
      "dopiaza                                             \n",
      "The Procrastinating Doc                             \n",
      "Mary B.                                             \n",
      "Digitalyn                                           \n",
      "JPaul23                                             \n",
      "zorra                                               \n",
      "ArSiSa                                              \n",
      "bloo                                                \n",
      "sneezypb                                            \n",
      "vimanaboy                                           \n",
      "Szmytke                                             \n",
      "heydrienne                                          \n",
      "Diego Jock                                          \n",
      "lolay                                               \n",
      "aprilbaby03                                         \n",
      "BenODen                                             \n",
      "floresita                                           \n",
      "lissame                                             \n",
      "metalli                                             \n",
      "planximihi                                          \n",
      "Lunapath                                            \n",
      "marino_dive                                         \n",
      "Kid Wrangler                                        \n",
      "noe0712                                             \n",
      "Wingdingo                                           \n",
      "mysterion                                           \n",
      "Images of Elbows                                    \n",
      "HKDivine                                            \n",
      "simpologist                                         \n",
      "Co0oL BoY                                           \n",
      "olega                                               \n",
      "naturalist                                          \n",
      "desdemona                                           \n",
      "xXx_Mr Delicious_xXx                                \n",
      "Ben McLeod                                          \n",
      "siderevs                                            \n",
      "3e                                                  \n",
      "abstract                                            \n",
      "1_ralf                                              \n",
      "Moderna de mierda                                   \n",
      "tmelillo                                            \n",
      "planeta hilda                                       \n",
      "zesser                                              \n"
     ]
    }
   ],
   "source": [
    "toplist_auth = []\n",
    "\n",
    "for n in degree_auth[0:50]:\n",
    "    name_n = n[0]    \n",
    "    name = data['names'][name_n-1]\n",
    "    print name\n",
    "    toplist_auth.append(name)"
   ]
  },
  {
   "cell_type": "code",
   "execution_count": 19,
   "metadata": {
    "collapsed": true
   },
   "outputs": [],
   "source": [
    "import scipy.stats as st"
   ]
  },
  {
   "cell_type": "code",
   "execution_count": 20,
   "metadata": {
    "collapsed": true
   },
   "outputs": [],
   "source": [
    "degree_rank = st.kendalltau(toplist_degree_cent, toplist_page_rank)"
   ]
  },
  {
   "cell_type": "code",
   "execution_count": 21,
   "metadata": {
    "collapsed": false
   },
   "outputs": [
    {
     "name": "stdout",
     "output_type": "stream",
     "text": [
      "KendalltauResult(correlation=-0.005714285714285716, pvalue=0.95330734821467933)\n"
     ]
    }
   ],
   "source": [
    "print degree_rank # Bad correlation between degree and pagerank, they seem to be independent"
   ]
  },
  {
   "cell_type": "code",
   "execution_count": 22,
   "metadata": {
    "collapsed": false
   },
   "outputs": [
    {
     "name": "stdout",
     "output_type": "stream",
     "text": [
      "KendalltauResult(correlation=0.08081632653061227, pvalue=0.40760203606084022)\n"
     ]
    }
   ],
   "source": [
    "degree_auth = st.kendalltau(toplist_degree_cent, toplist_auth) # This rankings(degree and authority) are independent too\n",
    "print degree_auth"
   ]
  },
  {
   "cell_type": "code",
   "execution_count": 23,
   "metadata": {
    "collapsed": false
   },
   "outputs": [
    {
     "name": "stdout",
     "output_type": "stream",
     "text": [
      "KendalltauResult(correlation=0.12653061224489801, pvalue=0.19478506056732614)\n"
     ]
    }
   ],
   "source": [
    "rank_auth = st.kendalltau(toplist_page_rank, toplist_auth) # More correlation, but always not significant\n",
    "print rank_auth"
   ]
  },
  {
   "cell_type": "markdown",
   "metadata": {},
   "source": [
    "## Task 2"
   ]
  },
  {
   "cell_type": "code",
   "execution_count": 3,
   "metadata": {
    "collapsed": false
   },
   "outputs": [],
   "source": [
    "data = scipy.io.loadmat('Berkeley13.mat')"
   ]
  },
  {
   "cell_type": "code",
   "execution_count": 4,
   "metadata": {
    "collapsed": true
   },
   "outputs": [],
   "source": [
    "A = data['A']\n",
    "G = nx.from_scipy_sparse_matrix(A, create_using=nx.DiGraph())"
   ]
  },
  {
   "cell_type": "code",
   "execution_count": 5,
   "metadata": {
    "collapsed": false
   },
   "outputs": [
    {
     "name": "stdout",
     "output_type": "stream",
     "text": [
      "0.0103134590889\n"
     ]
    }
   ],
   "source": [
    "k = nx.degree_assortativity_coefficient(G) #Degree assortativity coef.\n",
    "print k # Its pretty small, so similarity in connections is not caused due to node degree"
   ]
  },
  {
   "cell_type": "code",
   "execution_count": 6,
   "metadata": {
    "collapsed": true
   },
   "outputs": [],
   "source": [
    "gender = []\n",
    "for i in data['local_info']:\n",
    "    gender.append(i[1])\n",
    "# I've created dictionary of node number as a key and gender as a value to use later in set_node_attribute function\n",
    "a = range(0, 22937)\n",
    "gender_dict = dict(zip(a, gender))"
   ]
  },
  {
   "cell_type": "code",
   "execution_count": 7,
   "metadata": {
    "collapsed": false
   },
   "outputs": [
    {
     "name": "stdout",
     "output_type": "stream",
     "text": [
      "2004 11002 9931\n"
     ]
    }
   ],
   "source": [
    "count0 = 0\n",
    "count1 = 0\n",
    "count2 = 0\n",
    "for i in gender:\n",
    "    if i == 0:\n",
    "        count0 += 1\n",
    "    if i == 1:\n",
    "        count1 += 1\n",
    "    if i == 2:\n",
    "        count2 += 1\n",
    "print count0, count1, count2      \n",
    "# One can see that number of missing gender values is pretty high, and absense of gender may be itself measure of similarity\n",
    "# in connections, so I decided not to replace it"
   ]
  },
  {
   "cell_type": "code",
   "execution_count": 8,
   "metadata": {
    "collapsed": true
   },
   "outputs": [],
   "source": [
    "nx.set_node_attributes(G, name='gender', values=gender_dict)"
   ]
  },
  {
   "cell_type": "code",
   "execution_count": 10,
   "metadata": {
    "collapsed": false
   },
   "outputs": [
    {
     "name": "stdout",
     "output_type": "stream",
     "text": [
      "0.0409228376393\n"
     ]
    }
   ],
   "source": [
    "gender_coef = nx.attribute_assortativity_coefficient(G, attribute='gender')\n",
    "print gender_coef #Also not so high"
   ]
  },
  {
   "cell_type": "code",
   "execution_count": 13,
   "metadata": {
    "collapsed": false
   },
   "outputs": [],
   "source": [
    "major = []\n",
    "dormitory = [] \n",
    "year = []\n",
    "highschool = []\n",
    "for i in data['local_info']:\n",
    "    major.append(i[2])\n",
    "    dormitory.append(i[3])\n",
    "    year.append(i[4])\n",
    "    highschool.append(i[5])"
   ]
  },
  {
   "cell_type": "code",
   "execution_count": 31,
   "metadata": {
    "collapsed": false
   },
   "outputs": [],
   "source": [
    "import random as rnd\n",
    "for i in range(0, len(major)):\n",
    "    if major[i] == 0:\n",
    "        major[i] = rnd.randint(289, 394)\n",
    "        \n",
    "# Replace all zero values to random value between 289 (min nonzero value) and 394(max nonzero value)"
   ]
  },
  {
   "cell_type": "code",
   "execution_count": 33,
   "metadata": {
    "collapsed": false
   },
   "outputs": [
    {
     "name": "stdout",
     "output_type": "stream",
     "text": [
      "0.0544595959631\n"
     ]
    }
   ],
   "source": [
    "a = range(0, 22937)\n",
    "major_dict = dict(zip(a, major))\n",
    "nx.set_node_attributes(G, name='major', values=major_dict)\n",
    "major_coef = nx.attribute_assortativity_coefficient(G, attribute='major')\n",
    "print major_coef # Also small coef."
   ]
  },
  {
   "cell_type": "code",
   "execution_count": 36,
   "metadata": {
    "collapsed": false
   },
   "outputs": [],
   "source": [
    "# Lets write a function to calculate this coefs\n",
    "def coef(G, info, coef_type):\n",
    "    if coef_type == 'gender':\n",
    "        k = 1\n",
    "    if coef_type == 'major':\n",
    "        k = 2\n",
    "    if coef_type == 'dormitory':\n",
    "        k = 3\n",
    "    if coef_type == 'year':\n",
    "        k = 4\n",
    "    if coef_type == 'high school':\n",
    "        k = 5\n",
    "    coef_type_list = []\n",
    "    for i in info:\n",
    "        coef_type_list.append(i[k])\n",
    "    a = range(0, 22937)\n",
    "    dictionary = dict(zip(a, coef_type_list))    \n",
    "    nx.set_node_attributes(G, name=coef_type, values=dictionary)    \n",
    "    coef = nx.attribute_assortativity_coefficient(G, attribute=coef_type)\n",
    "    \n",
    "    return coef"
   ]
  },
  {
   "cell_type": "code",
   "execution_count": 37,
   "metadata": {
    "collapsed": false
   },
   "outputs": [
    {
     "name": "stdout",
     "output_type": "stream",
     "text": [
      "0.0165608759492\n"
     ]
    }
   ],
   "source": [
    "dorm_coef = coef(G, data['local_info'], 'dormitory')\n",
    "print dorm_coef "
   ]
  },
  {
   "cell_type": "code",
   "execution_count": 39,
   "metadata": {
    "collapsed": false
   },
   "outputs": [
    {
     "name": "stdout",
     "output_type": "stream",
     "text": [
      "0.14727644076\n"
     ]
    }
   ],
   "source": [
    "year_coef = coef(G, data['local_info'], 'year')\n",
    "print year_coef \n",
    "# There is some assortativiry in year  "
   ]
  },
  {
   "cell_type": "code",
   "execution_count": 42,
   "metadata": {
    "collapsed": false
   },
   "outputs": [
    {
     "name": "stdout",
     "output_type": "stream",
     "text": [
      "0.308121015806\n"
     ]
    }
   ],
   "source": [
    "high_coef = coef(G, data['local_info'], 'high school')\n",
    "print high_coef\n",
    "# Yes, connections due to high school are very similar"
   ]
  },
  {
   "cell_type": "code",
   "execution_count": 48,
   "metadata": {
    "collapsed": true
   },
   "outputs": [],
   "source": [
    "# Lets modify function for evaluating coefs\n",
    "def coefficient(data_path):\n",
    "    data = scipy.io.loadmat(data_path)\n",
    "\n",
    "    A = data['A']\n",
    "    G = nx.from_scipy_sparse_matrix(A, create_using=nx.DiGraph())\n",
    "    \n",
    "    k = nx.degree_assortativity_coefficient(G)\n",
    "    a = range(0, 22937)\n",
    "    gender = []\n",
    "    major = []\n",
    "    dormitory = [] \n",
    "    year = []\n",
    "    highschool = []\n",
    "    for i in data['local_info']:\n",
    "        gender.append(i[1])\n",
    "        major.append(i[2])\n",
    "        dormitory.append(i[3])\n",
    "        year.append(i[4])\n",
    "        highschool.append(i[5])\n",
    "    gender_dic = dict(zip(a, gender))\n",
    "    major_dic = dict(zip(a, major))\n",
    "    dormitory_dic = dict(zip(a, dormitory))\n",
    "    year_dic = dict(zip(a, year))\n",
    "    high_dic = dict(zip(a, highschool))\n",
    "    nx.set_node_attributes(G, name='gender', values=gender_dic)  \n",
    "    nx.set_node_attributes(G, name='major', values=major_dic)\n",
    "    nx.set_node_attributes(G, name='dormitory', values=dormitory_dic)\n",
    "    nx.set_node_attributes(G, name='year', values=year_dic)\n",
    "    nx.set_node_attributes(G, name='high school', values=high_dic)\n",
    "    coef_gen = nx.attribute_assortativity_coefficient(G, attribute='gender')\n",
    "    coef_m = nx.attribute_assortativity_coefficient(G, attribute='major')\n",
    "    coef_dor = nx.attribute_assortativity_coefficient(G, attribute='dormitory')\n",
    "    coef_year = nx.attribute_assortativity_coefficient(G, attribute='year')\n",
    "    coef_high = nx.attribute_assortativity_coefficient(G, attribute='high school')\n",
    "    l = {'degree_assortativity': k, 'gender_assort': coef_gen, 'major_assort': coef_m, 'dormitory_assort': coef_dor, \n",
    "         'year_assort': coef_year, 'high school assort': coef_high}\n",
    "    return l\n",
    "    \n"
   ]
  },
  {
   "cell_type": "code",
   "execution_count": 49,
   "metadata": {
    "collapsed": false
   },
   "outputs": [],
   "source": [
    "caltech = coefficient('C:/Users/Alexander/Desktop/scripts/Caltech36.mat')\n"
   ]
  },
  {
   "cell_type": "code",
   "execution_count": 50,
   "metadata": {
    "collapsed": false
   },
   "outputs": [
    {
     "name": "stdout",
     "output_type": "stream",
     "text": [
      "{'year_assort': 0.3491531008726444, 'major_assort': 0.03471942372358318, 'dormitory_assort': 0.010674575827566271, 'gender_assort': 0.04633143645586916, 'degree_assortativity': -0.065272951194823445, 'high school assort': 0.2375319048128821}\n"
     ]
    }
   ],
   "source": [
    "print caltech # Also strong year and high_school assortivity"
   ]
  },
  {
   "cell_type": "code",
   "execution_count": 51,
   "metadata": {
    "collapsed": true
   },
   "outputs": [],
   "source": [
    "harvard = coefficient('C:/Users/Alexander/Desktop/scripts/Harvard1.mat')"
   ]
  },
  {
   "cell_type": "code",
   "execution_count": 52,
   "metadata": {
    "collapsed": false
   },
   "outputs": [
    {
     "name": "stdout",
     "output_type": "stream",
     "text": [
      "{'year_assort': 0.12567663504955817, 'major_assort': 0.04967692832862898, 'dormitory_assort': 0.025226846211301897, 'gender_assort': 0.04526997737944205, 'degree_assortativity': 0.14505488767109062, 'high school assort': 0.4211596421160826}\n"
     ]
    }
   ],
   "source": [
    "print harvard # Very strong high school assort. and year assort., but now degree assort is pretty high too"
   ]
  },
  {
   "cell_type": "code",
   "execution_count": 54,
   "metadata": {
    "collapsed": false
   },
   "outputs": [],
   "source": [
    "okl = coefficient('C:/Users/Alexander/Desktop/scripts/Oklahoma97.mat')"
   ]
  },
  {
   "cell_type": "code",
   "execution_count": 55,
   "metadata": {
    "collapsed": false
   },
   "outputs": [
    {
     "name": "stdout",
     "output_type": "stream",
     "text": [
      "{'year_assort': 0.28033524372883173, 'major_assort': 0.03637908876173665, 'dormitory_assort': 0.012034234644928967, 'gender_assort': 0.09283729598272797, 'degree_assortativity': 0.073673257939208994, 'high school assort': 0.20116469146973587}\n"
     ]
    }
   ],
   "source": [
    "print okl # The same picture here, high school and year assort."
   ]
  },
  {
   "cell_type": "code",
   "execution_count": 56,
   "metadata": {
    "collapsed": true
   },
   "outputs": [],
   "source": [
    "princeton = coefficient('C:/Users/Alexander/Desktop/scripts/Princeton12.mat')"
   ]
  },
  {
   "cell_type": "code",
   "execution_count": 57,
   "metadata": {
    "collapsed": false
   },
   "outputs": [
    {
     "name": "stdout",
     "output_type": "stream",
     "text": [
      "{'year_assort': 0.09467841955418972, 'major_assort': 0.05439011887139384, 'dormitory_assort': 0.015189252032913315, 'gender_assort': 0.05061073999529174, 'degree_assortativity': 0.091092123567965089, 'high school assort': 0.44674462058408704}\n"
     ]
    }
   ],
   "source": [
    "print princeton # Only high school assort here"
   ]
  },
  {
   "cell_type": "code",
   "execution_count": 58,
   "metadata": {
    "collapsed": true
   },
   "outputs": [],
   "source": [
    "texas = coefficient('C:/Users/Alexander/Desktop/scripts/Texas80.mat')"
   ]
  },
  {
   "cell_type": "code",
   "execution_count": 59,
   "metadata": {
    "collapsed": false
   },
   "outputs": [
    {
     "name": "stdout",
     "output_type": "stream",
     "text": [
      "{'year_assort': 0.10347623371775427, 'major_assort': 0.03445109949356564, 'dormitory_assort': 0.00966428248292944, 'gender_assort': 0.03371837430130829, 'degree_assortativity': 0.16389241281404168, 'high school assort': 0.1306300918008183}\n"
     ]
    }
   ],
   "source": [
    "print texas # picture slightly differs from above, here degree assort is stronger, but pattern is the same"
   ]
  }
 ],
 "metadata": {
  "kernelspec": {
   "display_name": "Python 2",
   "language": "python",
   "name": "python2"
  },
  "language_info": {
   "codemirror_mode": {
    "name": "ipython",
    "version": 2
   },
   "file_extension": ".py",
   "mimetype": "text/x-python",
   "name": "python",
   "nbconvert_exporter": "python",
   "pygments_lexer": "ipython2",
   "version": "2.7.11"
  }
 },
 "nbformat": 4,
 "nbformat_minor": 0
}
