{
 "cells": [
  {
   "cell_type": "markdown",
   "metadata": {},
   "source": [
    "# <center>Network Science</center>"
   ]
  },
  {
   "cell_type": "markdown",
   "metadata": {},
   "source": [
    "## <center>Home Assignment #3: Centralities and Assortativity</center>"
   ]
  },
  {
   "cell_type": "markdown",
   "metadata": {},
   "source": [
    "### <center>Student: *{Рубцов Василий}*</center>"
   ]
  },
  {
   "cell_type": "markdown",
   "metadata": {},
   "source": [
    "#### <hr /> General Information"
   ]
  },
  {
   "cell_type": "markdown",
   "metadata": {},
   "source": [
    "**Due Date:** 13.03.2016 23:59 <br \\>\n",
    "**Late submission policy:** -0.2 points per day <br \\>\n",
    "\n",
    "\n",
    "Please send your reports to <network.hse.2016@gmail.com> with message subject of the following structure:<br \\> **[HSE Networks 2015] *{LastName}* *{First Name}* HA*{Number}***\n",
    "\n",
    "Support your computations with figures and comments. <br \\>\n",
    "If you are using IPython Notebook you may use this file as a starting point of your report.<br \\>\n",
    "<br \\>\n",
    "<hr \\>"
   ]
  },
  {
   "cell_type": "markdown",
   "metadata": {},
   "source": [
    "## Problems"
   ]
  },
  {
   "cell_type": "markdown",
   "metadata": {},
   "source": [
    "### Task 1"
   ]
  },
  {
   "cell_type": "markdown",
   "metadata": {},
   "source": [
    "Compute degree centrality, Pagerank and  HubAuthorities scores for the [flickr](https://www.hse.ru/data/2016/02/24/1139618969/flickr.mat) network. \n",
    "\n",
    "Data contains sparse matrix A and list of user names.\n",
    "This is a “denser” part of the Flickr photo sharing site friendship graph from 2006. Edge direction corresponds to friendship requests (following). Some of the links are reciprocal,others not.  \n",
    "\n",
    "Provide top 50 names in each ranking, compare results\n",
    "\n",
    "You can load .mat files with the following commands:"
   ]
  },
  {
   "cell_type": "code",
   "execution_count": 45,
   "metadata": {
    "collapsed": false
   },
   "outputs": [],
   "source": [
    "import scipy.io\n",
    "import networkx as nx\n",
    "import numpy as np\n",
    "data = scipy.io.loadmat('flickr.mat')\n",
    "import matplotlib.pyplot as plt\n",
    "%matplotlib inline\n",
    "import re\n",
    "from astropy.table import Table, Column"
   ]
  },
  {
   "cell_type": "code",
   "execution_count": 51,
   "metadata": {
    "collapsed": false
   },
   "outputs": [],
   "source": [
    "names = [re.sub(\"\\s\\s+\", '', st) for st in data['names']]\n",
    "A = data['A']\n",
    "\n",
    "strind = scipy.sparse.find(A)[0]\n",
    "colind = scipy.sparse.find(A)[1]\n",
    "\n",
    "# create a directed graph\n",
    "G = nx.DiGraph()\n",
    "G.add_nodes_from(names)\n",
    "\n",
    "for i in range(0, len(strind)):\n",
    "    G.add_edge(names[strind[i]],names[colind[i]])\n",
    "\n",
    "    \n",
    "#let's compute in and out degree centrality\n",
    "\n",
    "dc_in = nx.in_degree_centrality(G)\n",
    "degtop_in = sorted(dc_in, key=dc_in.__getitem__, reverse = True)[:50] #50 users with the higher degree centrality\n",
    "\n",
    "dc_out = nx.out_degree_centrality(G)\n",
    "degtop_out = sorted(dc_out, key=dc_out.__getitem__, reverse = True)[:50]"
   ]
  },
  {
   "cell_type": "code",
   "execution_count": 47,
   "metadata": {
    "collapsed": false
   },
   "outputs": [],
   "source": [
    "#Let's compute pagerank \n",
    "pr = nx.pagerank(G)\n",
    "prtop = sorted(pr, key=pr.__getitem__, reverse = True)[:50]"
   ]
  },
  {
   "cell_type": "code",
   "execution_count": 48,
   "metadata": {
    "collapsed": false
   },
   "outputs": [],
   "source": [
    "#let's compute hubs and authorities and the 50th best\n",
    "h,a = nx.hits(G)\n",
    "\n",
    "hh = sorted(h, key = h.__getitem__, reverse = True)[:50]"
   ]
  },
  {
   "cell_type": "code",
   "execution_count": 49,
   "metadata": {
    "collapsed": false
   },
   "outputs": [],
   "source": [
    "aa = sorted(a, key = a.__getitem__, reverse = True)[:50]"
   ]
  },
  {
   "cell_type": "code",
   "execution_count": 52,
   "metadata": {
    "collapsed": false
   },
   "outputs": [
    {
     "data": {
      "text/html": [
       "&lt;Table masked=False length=50&gt;\n",
       "<table id=\"table467555608\">\n",
       "<thead><tr><th>in degree_centrality</th><th>out degree_centrality</th><th>page_rank</th><th>hubs</th><th>authorities</th></tr></thead>\n",
       "<thead><tr><th>str576</th><th>str512</th><th>str576</th><th>str576</th><th>str576</th></tr></thead>\n",
       "<tr><td>awfulsara</td><td>anildash</td><td>awfulsara</td><td>mrpiink</td><td>awfulsara</td></tr>\n",
       "<tr><td>drp</td><td>tozzer</td><td>drp</td><td>automat</td><td>drp</td></tr>\n",
       "<tr><td>*Ivan*</td><td>AtiRanA</td><td>antimethod</td><td>schizoo23</td><td>DrJoanne</td></tr>\n",
       "<tr><td>antimethod</td><td>pixietart</td><td>BombDog</td><td>lorrainemd</td><td>*Ivan*</td></tr>\n",
       "<tr><td>DrJoanne</td><td>jakedobkin</td><td>*Ivan*</td><td>sgoralnick</td><td>antimethod</td></tr>\n",
       "<tr><td>BombDog</td><td>Buntekuh</td><td>MaD GiÂ®Lâ¢â¢</td><td>*starlet*</td><td>BombDog</td></tr>\n",
       "<tr><td>Simon Pais</td><td>brainware3000</td><td>DrJoanne</td><td>brynfoto</td><td>Simon Pais</td></tr>\n",
       "<tr><td>deborah lattimore</td><td>Jakes_World</td><td>Simon Pais</td><td>liquid pixel</td><td>deborah lattimore</td></tr>\n",
       "<tr><td>MaD GiÂ®Lâ¢â¢</td><td>maximolly</td><td>deborah lattimore</td><td>noahstone</td><td>cymagen</td></tr>\n",
       "<tr><td>:Nikola</td><td>Andreia Lopes</td><td>cymagen</td><td>isherwood</td><td>:Nikola</td></tr>\n",
       "<tr><td>...</td><td>...</td><td>...</td><td>...</td><td>...</td></tr>\n",
       "<tr><td>MarceloMontecino</td><td>ribena</td><td>maximolly</td><td>astrid~</td><td>Rachael D</td></tr>\n",
       "<tr><td>Sexy Swedish Babe</td><td>judith</td><td>chromogenic</td><td>MrTopf</td><td>fd</td></tr>\n",
       "<tr><td>!!uAe prince!!</td><td>roamin</td><td>Agridulce</td><td>spanier</td><td>macwagen</td></tr>\n",
       "<tr><td>callipygian</td><td>Airchild</td><td>naftalina007</td><td>ricd</td><td>underbunny</td></tr>\n",
       "<tr><td>Agridulce</td><td>mdintoronto</td><td>pixietart</td><td>schani</td><td>* HoNe$t *</td></tr>\n",
       "<tr><td>Least Wanted</td><td>killer robot</td><td>aquanerds</td><td>redmondbarry</td><td>kunja</td></tr>\n",
       "<tr><td>Gayla</td><td>lucycat</td><td>overshadowed</td><td>Mareen Fischinger</td><td>Home alone</td></tr>\n",
       "<tr><td>anildash</td><td>chomp</td><td>.lush</td><td>grow-er</td><td>bekon</td></tr>\n",
       "<tr><td>reddirtrose</td><td>2005tigarn</td><td>jakedobkin</td><td>.lush</td><td>tecgirl</td></tr>\n",
       "<tr><td>tecgirl</td><td>ghostbones</td><td>fd</td><td>naftalina007</td><td>carf</td></tr>\n",
       "</table>"
      ],
      "text/plain": [
       "<Table masked=False length=50>\n",
       "in degree_centrality out degree_centrality ...    authorities   \n",
       "       str576                str512        ...       str576     \n",
       "-------------------- --------------------- ... -----------------\n",
       "           awfulsara              anildash ...         awfulsara\n",
       "                 drp                tozzer ...               drp\n",
       "              *Ivan*               AtiRanA ...          DrJoanne\n",
       "          antimethod             pixietart ...            *Ivan*\n",
       "            DrJoanne            jakedobkin ...        antimethod\n",
       "             BombDog              Buntekuh ...           BombDog\n",
       "          Simon Pais         brainware3000 ...        Simon Pais\n",
       "   deborah lattimore           Jakes_World ... deborah lattimore\n",
       "     MaD GiÂ®Lâ¢â¢             maximolly ...           cymagen\n",
       "             :Nikola         Andreia Lopes ...           :Nikola\n",
       "                 ...                   ... ...               ...\n",
       "    MarceloMontecino                ribena ...         Rachael D\n",
       "   Sexy Swedish Babe                judith ...                fd\n",
       "      !!uAe prince!!                roamin ...          macwagen\n",
       "         callipygian              Airchild ...        underbunny\n",
       "           Agridulce           mdintoronto ...        * HoNe$t *\n",
       "        Least Wanted          killer robot ...             kunja\n",
       "               Gayla               lucycat ...        Home alone\n",
       "            anildash                 chomp ...             bekon\n",
       "         reddirtrose            2005tigarn ...           tecgirl\n",
       "             tecgirl            ghostbones ...              carf"
      ]
     },
     "execution_count": 52,
     "metadata": {},
     "output_type": "execute_result"
    }
   ],
   "source": [
    "t = Table([degtop_in, degtop_out, prtop, hh, aa], names=('in degree_centrality','out degree_centrality','page_rank','hubs', 'authorities'))\n",
    "t"
   ]
  },
  {
   "cell_type": "markdown",
   "metadata": {},
   "source": [
    "### <hr /> Task 2"
   ]
  },
  {
   "cell_type": "markdown",
   "metadata": {},
   "source": [
    "Here are the [Facebook friendship graphs](https://www.hse.ru/data/2016/03/05/1125656999/universities.zip) from several US universities from 2005 (one year after fb launch).\n",
    "\n",
    "Data contains a A matrix (sparse) and a \"local_info\" variable, one row per node: \n",
    "a student/faculty status flag, gender, major, second major/minor (if applicable), dorm/house, year, and high school. \n",
    "Missing data is coded 0.\n",
    "\n",
    "Compute node degree assortativity (mixining by node degree) and assortativity coefficient (modularity) for gender, major, dormitory, year, high school for all universities and compare the results."
   ]
  },
  {
   "cell_type": "code",
   "execution_count": 41,
   "metadata": {
    "collapsed": false
   },
   "outputs": [],
   "source": [
    "#Let's define the function which will be returns the coefficient of assortative mixing of each categories\n",
    "def assort(string):\n",
    "    dataB = scipy.io.loadmat(string)\n",
    "    GB = nx.from_scipy_sparse_matrix(dataB['A'], create_using=nx.DiGraph())\n",
    "    loc_infB = dataB['local_info']\n",
    "    l = [nx.degree_assortativity_coefficient(GB)]\n",
    "    for i in range(7):\n",
    "        nx.set_node_attributes(GB, i ,{k:loc_infB[k][i] for k in range(len(loc_infB))})\n",
    "        l.append(nx.attribute_assortativity_coefficient(GB, i))\n",
    "    return l"
   ]
  },
  {
   "cell_type": "code",
   "execution_count": 42,
   "metadata": {
    "collapsed": false
   },
   "outputs": [
    {
     "data": {
      "text/html": [
       "&lt;Table masked=False length=8&gt;\n",
       "<table id=\"table530139008\">\n",
       "<thead><tr><th>University</th><th>Berkeley</th><th>Caltech</th><th>Harvard</th><th>Oklahoma</th><th>Princeton</th><th>Texas</th></tr></thead>\n",
       "<thead><tr><th>str640</th><th>float64</th><th>float64</th><th>float64</th><th>float64</th><th>float64</th><th>float64</th></tr></thead>\n",
       "<tr><td>degree assortativity</td><td>0.0103</td><td>-0.0653</td><td>0.1451</td><td>0.0737</td><td>0.0911</td><td>0.1639</td></tr>\n",
       "<tr><td>status flag</td><td>0.2746</td><td>0.2441</td><td>0.5426</td><td>0.1946</td><td>0.4822</td><td>0.2886</td></tr>\n",
       "<tr><td>gender</td><td>0.0409</td><td>0.0463</td><td>0.0453</td><td>0.0928</td><td>0.0506</td><td>0.0797</td></tr>\n",
       "<tr><td>major</td><td>0.0583</td><td>0.0347</td><td>0.0497</td><td>0.0364</td><td>0.0544</td><td>0.0597</td></tr>\n",
       "<tr><td>minor</td><td>0.0166</td><td>0.0107</td><td>0.0252</td><td>0.0120</td><td>0.0152</td><td>0.0188</td></tr>\n",
       "<tr><td>living</td><td>0.1473</td><td>0.3492</td><td>0.1257</td><td>0.2803</td><td>0.0947</td><td>0.2048</td></tr>\n",
       "<tr><td>year</td><td>0.3081</td><td>0.2375</td><td>0.4212</td><td>0.2012</td><td>0.4467</td><td>0.2462</td></tr>\n",
       "<tr><td>high school</td><td>0.0774</td><td>0.0027</td><td>0.0240</td><td>0.1395</td><td>0.0188</td><td>0.1480</td></tr>\n",
       "</table>"
      ],
      "text/plain": [
       "<Table masked=False length=8>\n",
       "     University      Berkeley Caltech Harvard Oklahoma Princeton  Texas \n",
       "       str640        float64  float64 float64 float64   float64  float64\n",
       "-------------------- -------- ------- ------- -------- --------- -------\n",
       "degree assortativity   0.0103 -0.0653  0.1451   0.0737    0.0911  0.1639\n",
       "         status flag   0.2746  0.2441  0.5426   0.1946    0.4822  0.2886\n",
       "              gender   0.0409  0.0463  0.0453   0.0928    0.0506  0.0797\n",
       "               major   0.0583  0.0347  0.0497   0.0364    0.0544  0.0597\n",
       "               minor   0.0166  0.0107  0.0252   0.0120    0.0152  0.0188\n",
       "              living   0.1473  0.3492  0.1257   0.2803    0.0947  0.2048\n",
       "                year   0.3081  0.2375  0.4212   0.2012    0.4467  0.2462\n",
       "         high school   0.0774  0.0027  0.0240   0.1395    0.0188  0.1480"
      ]
     },
     "execution_count": 42,
     "metadata": {},
     "output_type": "execute_result"
    }
   ],
   "source": [
    "#let's print assortative mixing in each univesity\n",
    "uni = ['degree assortativity', 'status flag', 'gender', 'major', 'minor', 'living', 'year','high school']\n",
    "tab = Table([uni, assort('Berkeley13.mat'), assort('Caltech36.mat'), assort('Harvard1.mat'), assort('Oklahoma97.mat'), assort('Princeton12.mat'), assort('Texas80.mat') ], \n",
    "            names=('University', 'Berkeley','Caltech','Harvard', 'Oklahoma', 'Princeton', 'Texas'))\n",
    "nn = ['Berkeley','Caltech','Harvard', 'Oklahoma', 'Princeton', 'Texas']\n",
    "for n in nn:\n",
    "    tab[n].format = '%.4f'\n",
    "tab"
   ]
  }
 ],
 "metadata": {
  "kernelspec": {
   "display_name": "Python 3",
   "language": "python",
   "name": "python3"
  },
  "language_info": {
   "codemirror_mode": {
    "name": "ipython",
    "version": 3
   },
   "file_extension": ".py",
   "mimetype": "text/x-python",
   "name": "python",
   "nbconvert_exporter": "python",
   "pygments_lexer": "ipython3",
   "version": "3.4.3"
  }
 },
 "nbformat": 4,
 "nbformat_minor": 0
}
