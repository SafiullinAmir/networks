{
 "cells": [
  {
   "cell_type": "markdown",
   "metadata": {},
   "source": [
    "# <center>Structural Analysis and Visualization of Networks</center>"
   ]
  },
  {
   "cell_type": "markdown",
   "metadata": {},
   "source": [
    "## <center>Home Assignment #4: Community Detection Algorithms"
   ]
  },
  {
   "cell_type": "markdown",
   "metadata": {},
   "source": [
    "### <center>Student: *Maxim Ushakov*</center>"
   ]
  },
  {
   "cell_type": "markdown",
   "metadata": {},
   "source": [
    "#### <hr /> General Information"
   ]
  },
  {
   "cell_type": "markdown",
   "metadata": {},
   "source": [
    "**Due Date:** 03.04.2016 23:59 <br \\>\n",
    "**Late submission policy:** the task will not be graded! <br \\>\n",
    "\n",
    "\n",
    "Please send your reports to <network.hse.2016@gmail.com> with message subject of the following structure:<br \\> **[HSE Networks 2015] *{LastName}* *{First Name}* HA*{Number}***\n",
    "\n",
    "Support your computations with figures and comments. <br \\>\n",
    "If you are using IPython Notebook you may use this file as a starting point of your report.<br \\>\n",
    "<br \\>\n",
    "<hr \\>"
   ]
  },
  {
   "cell_type": "markdown",
   "metadata": {},
   "source": [
    "## Problems"
   ]
  },
  {
   "cell_type": "markdown",
   "metadata": {},
   "source": [
    "### Task 1* (For those who have not done that during the seminar)"
   ]
  },
  {
   "cell_type": "markdown",
   "metadata": {},
   "source": [
    "On this seminar your are asked to implement simple community detection algorightm. It is called [Markov Cluster Algorithm](http://micans.org/mcl/) (MCL).\n",
    "\n",
    "Implement Markor Clustering Algorithm\n",
    "\n",
    "**Input:** Transition matrix $T = D^{-1}A$\n",
    "\n",
    "**Output:** Adjacency matrix $M^*$\n",
    "\n",
    "1. Set $M = T$\n",
    "2. **repeat:**\n",
    "    3. *Expansion Step:* $M = M^p$ (usually $p=2$)\n",
    "    4. *Inflation Step:* Raise every entry of $M$ to the power $\\alpha$ (usualy $\\alpha=2$)\n",
    "    5. *Renormalize:* Normalize each row by its sum\n",
    "    6. *Prunning:* Replace entries that are close to $0$ by pure $0$\n",
    "7. **until** $M$ converges\n",
    "8. $M^* = M$\n",
    "<br\\>\n",
    "<br\\>\n",
    "\n",
    "As a result you should get a cluster matrix s.t. elements of the cluster correspont to nonzero elements of the columns of the matrix. \n",
    "<br\\>\n",
    "* Run this method for network [1](https://www.hse.ru/data/2016/03/15/1127695811/network1.mat), [2](https://www.hse.ru/data/2016/03/15/1127699956/network2.mat) and [3](https://www.hse.ru/data/2016/03/15/1127703057/network3.mat).\n",
    "* Play with the parameters ($p$, $\\alpha$, zero tolerance), analyse the results\n",
    "\n",
    "<hr />\n"
   ]
  },
  {
   "cell_type": "code",
   "execution_count": 177,
   "metadata": {
    "collapsed": false
   },
   "outputs": [],
   "source": [
    "import scipy.io\n",
    "import numpy as np\n",
    "import scipy.sparse as sparse\n",
    "import numpy.linalg as linalg\n",
    "\n",
    "#read the data\n",
    "data1 = scipy.io.loadmat('network1.mat')\n",
    "A1 = data1['A'].astype('float')\n",
    "label1 = data1['Comm']\n",
    "data2 = scipy.io.loadmat('network2.mat')\n",
    "A2 = data2['A'].astype('float')\n",
    "label2 = data2['Comm']\n",
    "data3 = scipy.io.loadmat('network3.mat')\n",
    "A3 = data3['A'].astype('float')\n",
    "label3 = data3['Comm']"
   ]
  },
  {
   "cell_type": "code",
   "execution_count": 196,
   "metadata": {
    "collapsed": false
   },
   "outputs": [],
   "source": [
    "def MCL(A, p, alpha, tol):\n",
    "    step = 1\n",
    "    eps2 = 0.0001\n",
    "    col_sums = A.sum(axis = 0)\n",
    "    T = A / col_sums[np.newaxis, :]\n",
    "    M = T\n",
    "    while step <= 100:\n",
    "        #print('step ', step)\n",
    "        step += 1\n",
    "        # Expancion step:\n",
    "        M1 = np.linalg.matrix_power(M, p)\n",
    "        # Inflation step:\n",
    "        M1 = np.power(M1, alpha)\n",
    "        col_sums = M1.sum(axis = 0)\n",
    "        M1 = M1 / col_sums[np.newaxis, :]\n",
    "        M1[M1<=tol] = 0\n",
    "        if np.linalg.norm(M - M1) < eps2:\n",
    "            return M1, step\n",
    "        else:\n",
    "            M = M1.copy()  "
   ]
  },
  {
   "cell_type": "code",
   "execution_count": 213,
   "metadata": {
    "collapsed": false
   },
   "outputs": [],
   "source": [
    "def check_result(M, label):\n",
    "    accuracy = 0.0\n",
    "    \n",
    "    #denominator\n",
    "    den = 0\n",
    "    for i in range(len(label)):\n",
    "        for j in range(len(label)):\n",
    "            if M[i,j] > 0 and label[i] == label[j]:\n",
    "                accuracy += 1\n",
    "            if M[i,j] > 0:\n",
    "                den += 1\n",
    "    accuracy /= den\n",
    "    return accuracy"
   ]
  },
  {
   "cell_type": "code",
   "execution_count": 214,
   "metadata": {
    "collapsed": false
   },
   "outputs": [
    {
     "name": "stdout",
     "output_type": "stream",
     "text": [
      "p=2, alpha=2.000000, eps=0.005000, av_acc=1.000000, av_num_step=14.000000\n",
      "p=2, alpha=2.000000, eps=0.001000, av_acc=1.000000, av_num_step=16.000000\n",
      "p=2, alpha=4.000000, eps=0.005000, av_acc=1.000000, av_num_step=5.000000\n",
      "p=2, alpha=4.000000, eps=0.001000, av_acc=1.000000, av_num_step=5.000000\n",
      "p=2, alpha=8.000000, eps=0.005000, av_acc=1.000000, av_num_step=4.000000\n",
      "p=2, alpha=8.000000, eps=0.001000, av_acc=1.000000, av_num_step=4.000000\n",
      "p=4, alpha=2.000000, eps=0.005000, av_acc=0.500000, av_num_step=16.333333\n",
      "p=4, alpha=2.000000, eps=0.001000, av_acc=0.500000, av_num_step=16.333333\n",
      "p=4, alpha=4.000000, eps=0.005000, av_acc=0.750000, av_num_step=8.666667\n",
      "p=4, alpha=4.000000, eps=0.001000, av_acc=0.750000, av_num_step=9.000000\n",
      "p=4, alpha=8.000000, eps=0.005000, av_acc=1.000000, av_num_step=7.000000\n",
      "p=4, alpha=8.000000, eps=0.001000, av_acc=0.992188, av_num_step=7.000000\n",
      "p=8, alpha=2.000000, eps=0.005000, av_acc=0.500000, av_num_step=15.000000\n",
      "p=8, alpha=2.000000, eps=0.001000, av_acc=0.250000, av_num_step=15.000000\n",
      "p=8, alpha=4.000000, eps=0.005000, av_acc=0.500000, av_num_step=11.666667\n",
      "p=8, alpha=4.000000, eps=0.001000, av_acc=0.500000, av_num_step=11.666667\n",
      "p=8, alpha=8.000000, eps=0.005000, av_acc=0.500000, av_num_step=8.333333\n",
      "p=8, alpha=8.000000, eps=0.001000, av_acc=0.500000, av_num_step=8.333333\n"
     ]
    }
   ],
   "source": [
    "p_mass = [2, 4, 8]\n",
    "alpha_mass = [2, 4, 8]\n",
    "eps_mass = [0.005, 0.001]\n",
    "\n",
    "for p in p_mass:\n",
    "    for alpha in alpha_mass:\n",
    "        for eps in eps_mass:\n",
    "            M1, num_steps1 = MCL(A1, p, alpha, eps)\n",
    "            acc1 = check_result(M1, label1)\n",
    "            M2, num_steps2 = MCL(A2, p, alpha, eps)\n",
    "            acc2 = check_result(M2, label2)\n",
    "            M3, num_steps3 = MCL(A3, p, alpha, eps)\n",
    "            acc3 = check_result(M3, label3)\n",
    "            print('p=%d, alpha=%f, eps=%f, av_acc=%f, av_num_step=%f' % (p, alpha, eps, (acc1+acc2+acc3)/3, (num_steps1+num_steps2+num_steps3)/3))\n",
    "            "
   ]
  },
  {
   "cell_type": "markdown",
   "metadata": {},
   "source": [
    "As we can see from results, the algorithm works better with small $p$ ($p\\ge 2$). Increasing of $\\alpha$ doesn't influence the result significantly, however, $\\frac{\\alpha}{p}$ should be great for accurate results. Also increasement of $\\alpha$ reduces the number of steps. It seems that zero tolerance parameter $\\varepsilon$ doesn't impact on results significantly, but too small values of $\\varepsilon$ may lead to a little unaccuracy and increasement of steps to proceed, but large values of zero tolerance may lead to mistakes, or even bugs (if $\\varepsilon > 1$, then matrix will be turn to $0$ on the first step).   "
   ]
  },
  {
   "cell_type": "markdown",
   "metadata": {},
   "source": [
    "### Task 2"
   ]
  },
  {
   "cell_type": "markdown",
   "metadata": {},
   "source": [
    "Load [Yahoo Music network](https://www.hse.ru/data/2016/03/15/1127704844/music_data.mat). Edges in this network appear if enough number of users have given ratings to both music bands. Note, that edges are weighted with similarity of the ratings.\n",
    "\n",
    "* Implement *multilevel spectral recursive partitioning* algorithm that was described during the lecture\n",
    "* Visualize community structure of the network and output some of the dense clusters (with interpretation, if you can)\n",
    "\n",
    "You can load .mat files with the following commands:"
   ]
  },
  {
   "cell_type": "code",
   "execution_count": 232,
   "metadata": {
    "collapsed": false
   },
   "outputs": [],
   "source": [
    "import scipy.io\n",
    "import scipy.sparse.linalg as slinalg\n",
    "\n",
    "data = scipy.io.loadmat('music_data.mat')\n",
    "artists = data['artists']\n",
    "A = data['A'].astype('float')"
   ]
  },
  {
   "cell_type": "code",
   "execution_count": 246,
   "metadata": {
    "collapsed": false
   },
   "outputs": [],
   "source": [
    "def MSRP(A, num_clusters):\n",
    "    \n",
    "    D = sparse.csr_matrix(np.diagflat(A.sum(1)))                     \n",
    "    L = D - A                                       \n",
    "    eig_val, eig_vec = slinalg.eigsh(L, 2, D, which = 'SM')\n",
    "    s = [(i, eig_vec[i,1]) for i in range(len(eig_vec[:,1]))]\n",
    "    s = sorted(s, key=lambda v: v[1], reverse = False)\n",
    "    \n",
    "    d = [(i, s[i+1][1]-s[i][1]) for i in range(len(s)-1)]\n",
    "    d = sorted(d, key=lambda v: v[1], reverse = True)\n",
    "    diff_ids = [v[0] for v in d[0:num_clusters]].append(0)\n",
    "    print(diff_ids)\n",
    "    diff_ids = sorted(diff_ids)\n",
    "    \n",
    "    cl = []\n",
    "    cl_id = 0\n",
    "    for bind in range(len(1, diff_ids)):\n",
    "        cl_id += 1\n",
    "        cl.extend([(v[0], cl_id) for v in s[diff_ids[bind-1]:(diff_ids[bind]+1)]])\n",
    "    \n",
    "    return cl    "
   ]
  },
  {
   "cell_type": "code",
   "execution_count": 247,
   "metadata": {
    "collapsed": false
   },
   "outputs": [
    {
     "name": "stdout",
     "output_type": "stream",
     "text": [
      "None\n"
     ]
    },
    {
     "ename": "TypeError",
     "evalue": "'NoneType' object is not iterable",
     "output_type": "error",
     "traceback": [
      "\u001b[1;31m---------------------------------------------------------------------------\u001b[0m",
      "\u001b[1;31mTypeError\u001b[0m                                 Traceback (most recent call last)",
      "\u001b[1;32m<ipython-input-247-119fb057806e>\u001b[0m in \u001b[0;36m<module>\u001b[1;34m()\u001b[0m\n\u001b[1;32m----> 1\u001b[1;33m \u001b[0mcl\u001b[0m \u001b[1;33m=\u001b[0m \u001b[0mMSRP\u001b[0m\u001b[1;33m(\u001b[0m\u001b[0mA\u001b[0m\u001b[1;33m,\u001b[0m \u001b[1;36m4\u001b[0m\u001b[1;33m)\u001b[0m\u001b[1;33m\u001b[0m\u001b[0m\n\u001b[0m",
      "\u001b[1;32m<ipython-input-246-5229a6dcb3f2>\u001b[0m in \u001b[0;36mMSRP\u001b[1;34m(A, num_clusters)\u001b[0m\n\u001b[0;32m     11\u001b[0m     \u001b[0mdiff_ids\u001b[0m \u001b[1;33m=\u001b[0m \u001b[1;33m[\u001b[0m\u001b[0mv\u001b[0m\u001b[1;33m[\u001b[0m\u001b[1;36m0\u001b[0m\u001b[1;33m]\u001b[0m \u001b[1;32mfor\u001b[0m \u001b[0mv\u001b[0m \u001b[1;32min\u001b[0m \u001b[0md\u001b[0m\u001b[1;33m[\u001b[0m\u001b[1;36m0\u001b[0m\u001b[1;33m:\u001b[0m\u001b[0mnum_clusters\u001b[0m\u001b[1;33m]\u001b[0m\u001b[1;33m]\u001b[0m\u001b[1;33m.\u001b[0m\u001b[0mappend\u001b[0m\u001b[1;33m(\u001b[0m\u001b[1;36m0\u001b[0m\u001b[1;33m)\u001b[0m\u001b[1;33m\u001b[0m\u001b[0m\n\u001b[0;32m     12\u001b[0m     \u001b[0mprint\u001b[0m\u001b[1;33m(\u001b[0m\u001b[0mdiff_ids\u001b[0m\u001b[1;33m)\u001b[0m\u001b[1;33m\u001b[0m\u001b[0m\n\u001b[1;32m---> 13\u001b[1;33m     \u001b[0mdiff_ids\u001b[0m \u001b[1;33m=\u001b[0m \u001b[0msorted\u001b[0m\u001b[1;33m(\u001b[0m\u001b[0mdiff_ids\u001b[0m\u001b[1;33m)\u001b[0m\u001b[1;33m\u001b[0m\u001b[0m\n\u001b[0m\u001b[0;32m     14\u001b[0m \u001b[1;33m\u001b[0m\u001b[0m\n\u001b[0;32m     15\u001b[0m     \u001b[0mcl\u001b[0m \u001b[1;33m=\u001b[0m \u001b[1;33m[\u001b[0m\u001b[1;33m]\u001b[0m\u001b[1;33m\u001b[0m\u001b[0m\n",
      "\u001b[1;31mTypeError\u001b[0m: 'NoneType' object is not iterable"
     ]
    }
   ],
   "source": [
    "cl = MSRP(A, 4)"
   ]
  },
  {
   "cell_type": "code",
   "execution_count": null,
   "metadata": {
    "collapsed": true
   },
   "outputs": [],
   "source": []
  }
 ],
 "metadata": {
  "kernelspec": {
   "display_name": "Python 3",
   "language": "python",
   "name": "python3"
  },
  "language_info": {
   "codemirror_mode": {
    "name": "ipython",
    "version": 3
   },
   "file_extension": ".py",
   "mimetype": "text/x-python",
   "name": "python",
   "nbconvert_exporter": "python",
   "pygments_lexer": "ipython3",
   "version": "3.5.1"
  }
 },
 "nbformat": 4,
 "nbformat_minor": 0
}
