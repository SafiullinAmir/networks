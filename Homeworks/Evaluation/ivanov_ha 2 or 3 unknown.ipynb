{
 "cells": [
  {
   "cell_type": "markdown",
   "metadata": {},
   "source": [
    "# <center>Network Science</center>"
   ]
  },
  {
   "cell_type": "markdown",
   "metadata": {},
   "source": [
    "## <center>Home Assignment #3: Centralities and Assortativity</center>"
   ]
  },
  {
   "cell_type": "markdown",
   "metadata": {},
   "source": [
    "### <center>Student: *Ivanov Alexander*</center>"
   ]
  },
  {
   "cell_type": "markdown",
   "metadata": {},
   "source": [
    "#### <hr /> General Information"
   ]
  },
  {
   "cell_type": "markdown",
   "metadata": {},
   "source": [
    "## Problems"
   ]
  },
  {
   "cell_type": "markdown",
   "metadata": {},
   "source": [
    "### Task 1"
   ]
  },
  {
   "cell_type": "markdown",
   "metadata": {},
   "source": [
    "Compute degree centrality, Pagerank and  HubAuthorities scores for the [flickr](https://www.hse.ru/data/2016/02/24/1139618969/flickr.mat) network. \n",
    "\n",
    "Data contains sparse matrix A and list of user names.\n",
    "This is a “denser” part of the Flickr photo sharing site friendship graph from 2006. Edge direction corresponds to friendship requests (following). Some of the links are reciprocal,others not.  \n",
    "\n",
    "Provide top 50 names in each ranking, compare results\n",
    "\n",
    "You can load .mat files with the following commands:"
   ]
  },
  {
   "cell_type": "code",
   "execution_count": 1,
   "metadata": {
    "collapsed": false
   },
   "outputs": [
    {
     "data": {
      "text/plain": [
       "{'A': <15724x15724 sparse matrix of type '<class 'numpy.float64'>'\n",
       " \twith 510983 stored elements in Compressed Sparse Column format>,\n",
       " '__globals__': [],\n",
       " '__header__': b'MATLAB 5.0 MAT-file, Platform: MACI64, Created on: Wed Feb 25 10:16:45 2015',\n",
       " '__version__': '1.0',\n",
       " 'names': array(['Eric                                                ',\n",
       "        'Jason Classon                                       ',\n",
       "        'neb                                                 ', ...,\n",
       "        'randem_shotzz                                       ',\n",
       "        'Extra Girl                                          ',\n",
       "        'miss_kash5aah                                       '], \n",
       "       dtype='<U52')}"
      ]
     },
     "execution_count": 1,
     "metadata": {},
     "output_type": "execute_result"
    }
   ],
   "source": [
    "import scipy.io\n",
    "\n",
    "data = scipy.io.loadmat('flickr.mat')\n",
    "data"
   ]
  },
  {
   "cell_type": "code",
   "execution_count": 2,
   "metadata": {
    "collapsed": false
   },
   "outputs": [],
   "source": [
    "import networkx as nx\n",
    "\n",
    "G = nx.from_scipy_sparse_matrix(data['A'])"
   ]
  },
  {
   "cell_type": "markdown",
   "metadata": {},
   "source": [
    "### Degree centrality"
   ]
  },
  {
   "cell_type": "code",
   "execution_count": 28,
   "metadata": {
    "collapsed": false
   },
   "outputs": [
    {
     "data": {
      "text/plain": [
       "[(1464, 0.0730776569356993),\n",
       " (3746, 0.05088087515105261),\n",
       " (5628, 0.04999045983590918),\n",
       " (10845, 0.04973605546015392),\n",
       " (2128, 0.047955224829867076)]"
      ]
     },
     "execution_count": 28,
     "metadata": {},
     "output_type": "execute_result"
    }
   ],
   "source": [
    "import operator\n",
    "\n",
    "dc = nx.degree_centrality(G)\n",
    "sorted(dc.items(), key=operator.itemgetter(1), reverse=True)[:5]"
   ]
  },
  {
   "cell_type": "markdown",
   "metadata": {},
   "source": [
    "### Pagerank"
   ]
  },
  {
   "cell_type": "code",
   "execution_count": 31,
   "metadata": {
    "collapsed": false
   },
   "outputs": [
    {
     "data": {
      "text/plain": [
       "[(1464, 0.0013670099046681743),\n",
       " (12812, 0.0009510328362520395),\n",
       " (10845, 0.00095076748769142949),\n",
       " (5628, 0.00094035390737385195),\n",
       " (3746, 0.00091590906273374378)]"
      ]
     },
     "execution_count": 31,
     "metadata": {},
     "output_type": "execute_result"
    }
   ],
   "source": [
    "import numpy as np\n",
    "import matplotlib.pyplot as plt\n",
    "%matplotlib inline\n",
    "\n",
    "pr = nx.pagerank(G)\n",
    "sorted(pr.items(), key=operator.itemgetter(1), reverse=True)[:5]"
   ]
  },
  {
   "cell_type": "markdown",
   "metadata": {},
   "source": [
    "###  HubAuthorities"
   ]
  },
  {
   "cell_type": "code",
   "execution_count": 36,
   "metadata": {
    "collapsed": false
   },
   "outputs": [
    {
     "data": {
      "text/plain": [
       "[(1464, 0.0019714026926766458),\n",
       " (3746, 0.0015227490705169943),\n",
       " (2128, 0.0014456270554596138),\n",
       " (10845, 0.0013480868284343017),\n",
       " (4012, 0.0012995143171966022)]"
      ]
     },
     "execution_count": 36,
     "metadata": {},
     "output_type": "execute_result"
    }
   ],
   "source": [
    "ha = nx.hits(G)\n",
    "\n",
    "#hubs\n",
    "sorted(ha[0].items(), key=operator.itemgetter(1), reverse=True)[:5]"
   ]
  },
  {
   "cell_type": "code",
   "execution_count": 37,
   "metadata": {
    "collapsed": false,
    "scrolled": true
   },
   "outputs": [
    {
     "data": {
      "text/plain": [
       "[(1464, 0.0019714026926834563),\n",
       " (3746, 0.0015227490705218979),\n",
       " (2128, 0.0014456270554513585),\n",
       " (10845, 0.0013480868284372559),\n",
       " (4012, 0.0012995143172002011)]"
      ]
     },
     "execution_count": 37,
     "metadata": {},
     "output_type": "execute_result"
    }
   ],
   "source": [
    "# authorities\n",
    "sorted(ha[1].items(), key=operator.itemgetter(1), reverse=True)[:5]"
   ]
  },
  {
   "cell_type": "markdown",
   "metadata": {},
   "source": [
    "### <hr /> Task 2"
   ]
  },
  {
   "cell_type": "markdown",
   "metadata": {},
   "source": [
    "Here are the [Facebook friendship graphs](https://www.hse.ru/data/2016/03/05/1125656999/universities.zip) from several US universities from 2005 (one year after fb launch).\n",
    "\n",
    "Data contains a A matrix (sparse) and a \"local_info\" variable, one row per node: \n",
    "a student/faculty status flag, gender, major, second major/minor (if applicable), dorm/house, year, and high school. \n",
    "Missing data is coded 0.\n",
    "\n",
    "Compute node degree assortativity (mixining by node degree) and assortativity coefficient (modularity) for gender, major, dormitory, year, high school for all universities and compare the results."
   ]
  },
  {
   "cell_type": "code",
   "execution_count": 60,
   "metadata": {
    "collapsed": false
   },
   "outputs": [
    {
     "data": {
      "text/plain": [
       "{'A': <22937x22937 sparse matrix of type '<class 'numpy.float64'>'\n",
       " \twith 1704888 stored elements in Compressed Sparse Column format>,\n",
       " '__globals__': [],\n",
       " '__header__': b'MATLAB 5.0 MAT-file, Platform: MACI64, Created on: Fri Feb 11 20:02:04 2011',\n",
       " '__version__': '1.0',\n",
       " 'local_info': array([[   1,    1,  374, ...,  208, 2006, 1384],\n",
       "        [   1,    1,  367, ...,    0, 2008, 3093],\n",
       "        [   2,    2,  319, ...,    0, 2005, 2248],\n",
       "        ..., \n",
       "        [   1,    1,    0, ...,  257, 2009, 2868],\n",
       "        [   2,    1,  314, ...,  316, 2001, 2618],\n",
       "        [   1,    1,  329, ...,  273,    0, 2048]], dtype=uint16)}"
      ]
     },
     "execution_count": 60,
     "metadata": {},
     "output_type": "execute_result"
    }
   ],
   "source": [
    "Berkeley = scipy.io.loadmat('Berkeley13.mat')\n",
    "Berkeley"
   ]
  },
  {
   "cell_type": "code",
   "execution_count": 112,
   "metadata": {
    "collapsed": true
   },
   "outputs": [],
   "source": [
    "BerkeleyG = nx.from_scipy_sparse_matrix(Berkeley['A'])\n",
    "for i in range(len(Berkeley['local_info'])):\n",
    "    BerkeleyG.node[i]['gender']    = Berkeley['local_info'][:,1][i]\n",
    "    BerkeleyG.node[i]['major']     = Berkeley['local_info'][:,2][i]\n",
    "    BerkeleyG.node[i]['dormitory'] = Berkeley['local_info'][:,4][i]\n",
    "    BerkeleyG.node[i]['year']      = Berkeley['local_info'][:,5][i]\n",
    "    BerkeleyG.node[i]['school']    = Berkeley['local_info'][:,6][i]\n",
    "BerkeleyDegree      = nx.degree_assortativity_coefficient(BerkeleyG)\n",
    "BerkeleyGender      = nx.attribute_assortativity_coefficient(BerkeleyG, 'gender')\n",
    "BerkeleyMajor       = nx.attribute_assortativity_coefficient(BerkeleyG, 'major')\n",
    "BerkeleyDormitory   = nx.attribute_assortativity_coefficient(BerkeleyG, 'dormitory')\n",
    "BerkeleyYear        = nx.attribute_assortativity_coefficient(BerkeleyG, 'year')\n",
    "BerkeleySchool      = nx.attribute_assortativity_coefficient(BerkeleyG, 'school')"
   ]
  },
  {
   "cell_type": "code",
   "execution_count": 115,
   "metadata": {
    "collapsed": true
   },
   "outputs": [],
   "source": [
    "Caltech = scipy.io.loadmat('Caltech36.mat')\n",
    "CaltechG = nx.from_scipy_sparse_matrix(Caltech['A'])\n",
    "for i in range(len(Caltech['local_info'])):\n",
    "    CaltechG.node[i]['gender']    = Caltech['local_info'][:,1][i]\n",
    "    CaltechG.node[i]['major']     = Caltech['local_info'][:,2][i]\n",
    "    CaltechG.node[i]['dormitory'] = Caltech['local_info'][:,4][i]\n",
    "    CaltechG.node[i]['year']      = Caltech['local_info'][:,5][i]\n",
    "    CaltechG.node[i]['school']    = Caltech['local_info'][:,6][i]\n",
    "CaltechDegree      = nx.degree_assortativity_coefficient(CaltechG)\n",
    "CaltechGender      = nx.attribute_assortativity_coefficient(CaltechG, 'gender')\n",
    "CaltechMajor       = nx.attribute_assortativity_coefficient(CaltechG, 'major')\n",
    "CaltechDormitory   = nx.attribute_assortativity_coefficient(CaltechG, 'dormitory')\n",
    "CaltechYear        = nx.attribute_assortativity_coefficient(CaltechG, 'year')\n",
    "CaltechSchool      = nx.attribute_assortativity_coefficient(CaltechG, 'school')"
   ]
  },
  {
   "cell_type": "code",
   "execution_count": 119,
   "metadata": {
    "collapsed": true
   },
   "outputs": [],
   "source": [
    "Harvard = scipy.io.loadmat('Harvard1.mat')\n",
    "HarvardG = nx.from_scipy_sparse_matrix(Harvard['A'])\n",
    "for i in range(len(Harvard['local_info'])):\n",
    "    HarvardG.node[i]['gender']    = Harvard['local_info'][:,1][i]\n",
    "    HarvardG.node[i]['major']     = Harvard['local_info'][:,2][i]\n",
    "    HarvardG.node[i]['dormitory'] = Harvard['local_info'][:,4][i]\n",
    "    HarvardG.node[i]['year']      = Harvard['local_info'][:,5][i]\n",
    "    HarvardG.node[i]['school']    = Harvard['local_info'][:,6][i]\n",
    "HarvardDegree      = nx.degree_assortativity_coefficient(HarvardG)\n",
    "HarvardGender      = nx.attribute_assortativity_coefficient(HarvardG, 'gender')\n",
    "HarvardMajor       = nx.attribute_assortativity_coefficient(HarvardG, 'major')\n",
    "HarvardDormitory   = nx.attribute_assortativity_coefficient(HarvardG, 'dormitory')\n",
    "HarvardYear        = nx.attribute_assortativity_coefficient(HarvardG, 'year')\n",
    "HarvardSchool      = nx.attribute_assortativity_coefficient(HarvardG, 'school')"
   ]
  },
  {
   "cell_type": "code",
   "execution_count": 123,
   "metadata": {
    "collapsed": true
   },
   "outputs": [],
   "source": [
    "Oklahoma = scipy.io.loadmat('Oklahoma97.mat')\n",
    "OklahomaG = nx.from_scipy_sparse_matrix(Oklahoma['A'])\n",
    "for i in range(len(Oklahoma['local_info'])):\n",
    "    OklahomaG.node[i]['gender']    = Oklahoma['local_info'][:,1][i]\n",
    "    OklahomaG.node[i]['major']     = Oklahoma['local_info'][:,2][i]\n",
    "    OklahomaG.node[i]['dormitory'] = Oklahoma['local_info'][:,4][i]\n",
    "    OklahomaG.node[i]['year']      = Oklahoma['local_info'][:,5][i]\n",
    "    OklahomaG.node[i]['school']    = Oklahoma['local_info'][:,6][i]\n",
    "OklahomaDegree      = nx.degree_assortativity_coefficient(OklahomaG)\n",
    "OklahomaGender      = nx.attribute_assortativity_coefficient(OklahomaG, 'gender')\n",
    "OklahomaMajor       = nx.attribute_assortativity_coefficient(OklahomaG, 'major')\n",
    "OklahomaDormitory   = nx.attribute_assortativity_coefficient(OklahomaG, 'dormitory')\n",
    "OklahomaYear        = nx.attribute_assortativity_coefficient(OklahomaG, 'year')\n",
    "OklahomaSchool      = nx.attribute_assortativity_coefficient(OklahomaG, 'school')"
   ]
  },
  {
   "cell_type": "code",
   "execution_count": 124,
   "metadata": {
    "collapsed": true
   },
   "outputs": [],
   "source": [
    "Princeton = scipy.io.loadmat('Princeton12.mat')\n",
    "PrincetonG = nx.from_scipy_sparse_matrix(Princeton['A'])\n",
    "for i in range(len(Princeton['local_info'])):\n",
    "    PrincetonG.node[i]['gender']    = Princeton['local_info'][:,1][i]\n",
    "    PrincetonG.node[i]['major']     = Princeton['local_info'][:,2][i]\n",
    "    PrincetonG.node[i]['dormitory'] = Princeton['local_info'][:,4][i]\n",
    "    PrincetonG.node[i]['year']      = Princeton['local_info'][:,5][i]\n",
    "    PrincetonG.node[i]['school']    = Princeton['local_info'][:,6][i]\n",
    "PrincetonDegree      = nx.degree_assortativity_coefficient(PrincetonG)\n",
    "PrincetonGender      = nx.attribute_assortativity_coefficient(PrincetonG, 'gender')\n",
    "PrincetonMajor       = nx.attribute_assortativity_coefficient(PrincetonG, 'major')\n",
    "PrincetonDormitory   = nx.attribute_assortativity_coefficient(PrincetonG, 'dormitory')\n",
    "PrincetonYear        = nx.attribute_assortativity_coefficient(PrincetonG, 'year')\n",
    "PrincetonSchool      = nx.attribute_assortativity_coefficient(PrincetonG, 'school')"
   ]
  },
  {
   "cell_type": "code",
   "execution_count": 125,
   "metadata": {
    "collapsed": true
   },
   "outputs": [],
   "source": [
    "Texas = scipy.io.loadmat('Texas80.mat')\n",
    "TexasG = nx.from_scipy_sparse_matrix(Texas['A'])\n",
    "for i in range(len(Texas['local_info'])):\n",
    "    TexasG.node[i]['gender']    = Texas['local_info'][:,1][i]\n",
    "    TexasG.node[i]['major']     = Texas['local_info'][:,2][i]\n",
    "    TexasG.node[i]['dormitory'] = Texas['local_info'][:,4][i]\n",
    "    TexasG.node[i]['year']      = Texas['local_info'][:,5][i]\n",
    "    TexasG.node[i]['school']    = Texas['local_info'][:,6][i]\n",
    "TexasDegree      = nx.degree_assortativity_coefficient(TexasG)\n",
    "TexasGender      = nx.attribute_assortativity_coefficient(TexasG, 'gender')\n",
    "TexasMajor       = nx.attribute_assortativity_coefficient(TexasG, 'major')\n",
    "TexasDormitory   = nx.attribute_assortativity_coefficient(TexasG, 'dormitory')\n",
    "TexasYear        = nx.attribute_assortativity_coefficient(TexasG, 'year')\n",
    "TexasSchool      = nx.attribute_assortativity_coefficient(TexasG, 'school')"
   ]
  },
  {
   "cell_type": "code",
   "execution_count": 129,
   "metadata": {
    "collapsed": true
   },
   "outputs": [],
   "source": [
    "import pandas as pd\n",
    "\n",
    "dat = {\n",
    "    'Berkeley': [BerkeleyDegree,  BerkeleyGender,  BerkeleyMajor,  BerkeleyDormitory,  BerkeleyYear,  BerkeleySchool],\n",
    "    'Caltech':  [CaltechDegree,   CaltechGender,   CaltechMajor,   CaltechDormitory,   CaltechYear,   CaltechSchool],\n",
    "    'Harvard':  [HarvardDegree,   HarvardGender,   HarvardMajor,   HarvardDormitory,   HarvardYear,   HarvardSchool],\n",
    "    'Oklahoma': [OklahomaDegree,  OklahomaGender,  OklahomaMajor,  OklahomaDormitory,  OklahomaYear,  OklahomaSchool],\n",
    "    'Princeton':[PrincetonDegree, PrincetonGender, PrincetonMajor, PrincetonDormitory, PrincetonYear, PrincetonSchool],\n",
    "    'Texas':    [TexasDegree,     TexasGender,     TexasMajor,     TexasDormitory,     TexasYear,     TexasSchool]\n",
    "    }\n",
    "\n",
    "index = ['Degree', 'Gender', 'Major', 'Dormitory', 'Year', 'School']\n",
    "\n",
    "table = pd.DataFrame(data = dat, index = index)"
   ]
  },
  {
   "cell_type": "code",
   "execution_count": 130,
   "metadata": {
    "collapsed": false,
    "scrolled": true
   },
   "outputs": [
    {
     "data": {
      "text/html": [
       "<div>\n",
       "<table border=\"1\" class=\"dataframe\">\n",
       "  <thead>\n",
       "    <tr style=\"text-align: right;\">\n",
       "      <th></th>\n",
       "      <th>Berkeley</th>\n",
       "      <th>Caltech</th>\n",
       "      <th>Harvard</th>\n",
       "      <th>Oklahoma</th>\n",
       "      <th>Princeton</th>\n",
       "      <th>Texas</th>\n",
       "    </tr>\n",
       "  </thead>\n",
       "  <tbody>\n",
       "    <tr>\n",
       "      <th>Degree</th>\n",
       "      <td>0.010313</td>\n",
       "      <td>-0.065273</td>\n",
       "      <td>0.145055</td>\n",
       "      <td>0.073673</td>\n",
       "      <td>0.091092</td>\n",
       "      <td>0.163892</td>\n",
       "    </tr>\n",
       "    <tr>\n",
       "      <th>Gender</th>\n",
       "      <td>0.040923</td>\n",
       "      <td>0.046331</td>\n",
       "      <td>0.045270</td>\n",
       "      <td>0.092837</td>\n",
       "      <td>0.050611</td>\n",
       "      <td>0.079693</td>\n",
       "    </tr>\n",
       "    <tr>\n",
       "      <th>Major</th>\n",
       "      <td>0.058255</td>\n",
       "      <td>0.034719</td>\n",
       "      <td>0.049677</td>\n",
       "      <td>0.036379</td>\n",
       "      <td>0.054390</td>\n",
       "      <td>0.059713</td>\n",
       "    </tr>\n",
       "    <tr>\n",
       "      <th>Dormitory</th>\n",
       "      <td>0.147276</td>\n",
       "      <td>0.349153</td>\n",
       "      <td>0.125677</td>\n",
       "      <td>0.280335</td>\n",
       "      <td>0.094678</td>\n",
       "      <td>0.204838</td>\n",
       "    </tr>\n",
       "    <tr>\n",
       "      <th>Year</th>\n",
       "      <td>0.308121</td>\n",
       "      <td>0.237532</td>\n",
       "      <td>0.421160</td>\n",
       "      <td>0.201165</td>\n",
       "      <td>0.446745</td>\n",
       "      <td>0.246195</td>\n",
       "    </tr>\n",
       "    <tr>\n",
       "      <th>School</th>\n",
       "      <td>0.077375</td>\n",
       "      <td>0.002670</td>\n",
       "      <td>0.023987</td>\n",
       "      <td>0.139468</td>\n",
       "      <td>0.018784</td>\n",
       "      <td>0.147993</td>\n",
       "    </tr>\n",
       "  </tbody>\n",
       "</table>\n",
       "</div>"
      ],
      "text/plain": [
       "           Berkeley   Caltech   Harvard  Oklahoma  Princeton     Texas\n",
       "Degree     0.010313 -0.065273  0.145055  0.073673   0.091092  0.163892\n",
       "Gender     0.040923  0.046331  0.045270  0.092837   0.050611  0.079693\n",
       "Major      0.058255  0.034719  0.049677  0.036379   0.054390  0.059713\n",
       "Dormitory  0.147276  0.349153  0.125677  0.280335   0.094678  0.204838\n",
       "Year       0.308121  0.237532  0.421160  0.201165   0.446745  0.246195\n",
       "School     0.077375  0.002670  0.023987  0.139468   0.018784  0.147993"
      ]
     },
     "execution_count": 130,
     "metadata": {},
     "output_type": "execute_result"
    }
   ],
   "source": [
    "table"
   ]
  },
  {
   "cell_type": "markdown",
   "metadata": {},
   "source": [
    "So from the table we can see that most assortative graph index is yaer. Caltech, oklahoma and Texas have not so much similar age of the student (but high enough instead of another indeces), but Berkeley Havard and Princeton have the biggest assortative coefficients in the table. It means there is very big probability in case of choosing some students from this universities that age of this students will be close to average. So another interesting enough high correlation is dormitory. Princeton Texas and Caltech have strong probability that 2-3 persons from 10 will be from one dormitory. Another coefficients is too small to explain this as strong assorative. So it means in another cases students differ very much.  "
   ]
  }
 ],
 "metadata": {
  "kernelspec": {
   "display_name": "Python 3",
   "language": "python",
   "name": "python3"
  },
  "language_info": {
   "codemirror_mode": {
    "name": "ipython",
    "version": 3
   },
   "file_extension": ".py",
   "mimetype": "text/x-python",
   "name": "python",
   "nbconvert_exporter": "python",
   "pygments_lexer": "ipython3",
   "version": "3.5.1"
  }
 },
 "nbformat": 4,
 "nbformat_minor": 0
}
