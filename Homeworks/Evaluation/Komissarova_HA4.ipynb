{
 "cells": [
  {
   "cell_type": "markdown",
   "metadata": {},
   "source": [
    "# <center>Structural Analysis and Visualization of Networks</center>"
   ]
  },
  {
   "cell_type": "markdown",
   "metadata": {},
   "source": [
    "## <center>Home Assignment #4: Community Detection Algorithms"
   ]
  },
  {
   "cell_type": "markdown",
   "metadata": {},
   "source": [
    "### <center>Student: *{Your Name}*</center>"
   ]
  },
  {
   "cell_type": "markdown",
   "metadata": {},
   "source": [
    "#### <hr /> General Information"
   ]
  },
  {
   "cell_type": "markdown",
   "metadata": {},
   "source": [
    "**Due Date:** 03.04.2016 23:59 <br \\>\n",
    "**Late submission policy:** the task will not be graded! <br \\>\n",
    "\n",
    "\n",
    "Please send your reports to <network.hse.2016@gmail.com> with message subject of the following structure:<br \\> **[HSE Networks 2015] *{LastName}* *{First Name}* HA*{Number}***\n",
    "\n",
    "Support your computations with figures and comments. <br \\>\n",
    "If you are using IPython Notebook you may use this file as a starting point of your report.<br \\>\n",
    "<br \\>\n",
    "<hr \\>"
   ]
  },
  {
   "cell_type": "markdown",
   "metadata": {},
   "source": [
    "## Problems"
   ]
  },
  {
   "cell_type": "markdown",
   "metadata": {},
   "source": [
    "### Task 1* (For those who have not done that during the seminar)"
   ]
  },
  {
   "cell_type": "markdown",
   "metadata": {},
   "source": [
    "On this seminar your are asked to implement simple community detection algorightm. It is called [Markov Cluster Algorithm](http://micans.org/mcl/) (MCL).\n",
    "\n",
    "Implement Markor Clustering Algorithm\n",
    "\n",
    "**Input:** Transition matrix $T = D^{-1}A$\n",
    "\n",
    "**Output:** Adjacency matrix $M^*$\n",
    "\n",
    "1. Set $M = T$\n",
    "2. **repeat:**\n",
    "    3. *Expansion Step:* $M = M^p$ (usually $p=2$)\n",
    "    4. *Inflation Step:* Raise every entry of $M$ to the power $\\alpha$ (usualy $\\alpha=2$)\n",
    "    5. *Renormalize:* Normalize each row by its sum\n",
    "    6. *Prunning:* Replace entries that are close to $0$ by pure $0$\n",
    "7. **until** $M$ converges\n",
    "8. $M^* = M$\n",
    "<br\\>\n",
    "<br\\>\n",
    "\n",
    "As a result you should get a cluster matrix s.t. elements of the cluster correspont to nonzero elements of the columns of the matrix. \n",
    "<br\\>\n",
    "* Run this method for network [1](https://www.hse.ru/data/2016/03/15/1127695811/network1.mat), [2](https://www.hse.ru/data/2016/03/15/1127699956/network2.mat) and [3](https://www.hse.ru/data/2016/03/15/1127703057/network3.mat).\n",
    "* Play with the parameters ($p$, $\\alpha$, zero tolerance), analyse the results\n",
    "\n",
    "<hr />\n"
   ]
  },
  {
   "cell_type": "code",
   "execution_count": 3,
   "metadata": {
    "collapsed": true
   },
   "outputs": [],
   "source": [
    "import numpy as np\n",
    "import pandas as pd\n",
    "import matplotlib.pyplot as plt\n",
    "plt.xkcd()\n",
    "import networkx as nx\n",
    "import scipy\n",
    "import scipy.io\n",
    "%matplotlib inline"
   ]
  },
  {
   "cell_type": "code",
   "execution_count": 4,
   "metadata": {
    "collapsed": false
   },
   "outputs": [
    {
     "data": {
      "image/png": "[encoded data removed]",
      "text/plain": [
       "<matplotlib.figure.Figure at 0x387e160>"
      ]
     },
     "metadata": {},
     "output_type": "display_data"
    }
   ],
   "source": [
    "data = scipy.io.loadmat('network1.mat')\n",
    "A = data['A'].astype('float')\n",
    "plt.spy(A)\n",
    "comm = data['Comm']"
   ]
  },
  {
   "cell_type": "code",
   "execution_count": 98,
   "metadata": {
    "collapsed": false
   },
   "outputs": [],
   "source": [
    "def MCL(A, tol, p, alpha):\n",
    "    step = 1\n",
    "    col_sums = A.sum(axis = 0)\n",
    "    T = A / col_sums[np.newaxis, :]\n",
    "    #print(T[1:20][1:20])\n",
    "    M = T\n",
    "    print('1')\n",
    "    while(1):\n",
    "        #print 'step ', step\n",
    "        step += 1\n",
    "        # Expancion step:\n",
    "        M1 = np.linalg.matrix_power(M, p)\n",
    "        # Inflation step:\n",
    "        M1 = np.power(M1, alpha)\n",
    "        col_sums = M1.sum(axis = 0)\n",
    "        M1 = M1 / col_sums[np.newaxis, :]\n",
    "        M1[M1<=tol] = 0\n",
    "        if np.linalg.norm(M - M1) == 0:\n",
    "            return M1\n",
    "        else:\n",
    "            M = M1.copy()\n"
   ]
  },
  {
   "cell_type": "code",
   "execution_count": 101,
   "metadata": {
    "collapsed": false
   },
   "outputs": [
    {
     "name": "stdout",
     "output_type": "stream",
     "text": [
      "1\n",
      "(1, 1, 0.1, 1L)\n",
      "('max accuracy', 1L)\n"
     ]
    }
   ],
   "source": [
    "#p = [1,2,3]\n",
    "#alpha = [1,2,3]\n",
    "#tol = [0.1,0.05,0.01]\n",
    "n=M.shape[0]\n",
    "max_temp = 0;\n",
    "for k in xrange(0,1):\n",
    "    #print('step',k)\n",
    "    M=MCL(A,0.01,2,2)#tol[k],p[k],alpha[k])\n",
    "    temp=0\n",
    "    \n",
    "    for i in xrange(0,n):\n",
    "        for j in xrange(0,n):\n",
    "            if (M[i][j]==1):\n",
    "                if (comm[i]==comm[j]):\n",
    "                    temp=temp+1\n",
    "    temp = temp/n;\n",
    "    \n",
    "    print(p[k],alpha[k],tol[k],temp)\n",
    "    if (temp>max_temp):\n",
    "        max_temp=temp\n",
    "print('max accuracy',max_temp)"
   ]
  },
  {
   "cell_type": "code",
   "execution_count": 102,
   "metadata": {
    "collapsed": false
   },
   "outputs": [
    {
     "data": {
      "image/png": "[encoded data removed]",
      "text/plain": [
       "<matplotlib.figure.Figure at 0xc950550>"
      ]
     },
     "metadata": {},
     "output_type": "display_data"
    }
   ],
   "source": [
    "data = scipy.io.loadmat('network2.mat')\n",
    "A = data['A'].astype('float')\n",
    "plt.spy(A)\n",
    "comm = data['Comm']"
   ]
  },
  {
   "cell_type": "code",
   "execution_count": 104,
   "metadata": {
    "collapsed": false
   },
   "outputs": [
    {
     "name": "stdout",
     "output_type": "stream",
     "text": [
      "1\n",
      "(1, 1, 0.1, 1L)\n",
      "('max accuracy', 1L)\n"
     ]
    }
   ],
   "source": [
    "n=M.shape[0]\n",
    "max_temp = 0;\n",
    "for k in xrange(0,1):\n",
    "    #print('step',k)\n",
    "    M=MCL(A,0.01,2,2)#tol[k],p[k],alpha[k])\n",
    "    temp=0\n",
    "    \n",
    "    for i in xrange(0,n):\n",
    "        for j in xrange(0,n):\n",
    "            if (M[i][j]==1):\n",
    "                if (comm[i]==comm[j]):\n",
    "                    temp=temp+1\n",
    "    temp = temp/n;\n",
    "    \n",
    "    print(p[k],alpha[k],tol[k],temp)\n",
    "    if (temp>max_temp):\n",
    "        max_temp=temp\n",
    "print('max accuracy',max_temp)\n"
   ]
  },
  {
   "cell_type": "code",
   "execution_count": 105,
   "metadata": {
    "collapsed": false
   },
   "outputs": [
    {
     "data": {
      "image/png": "[encoded data removed]",
      "text/plain": [
       "<matplotlib.figure.Figure at 0xc9c8a58>"
      ]
     },
     "metadata": {},
     "output_type": "display_data"
    }
   ],
   "source": [
    "data = scipy.io.loadmat('network3.mat')\n",
    "A = data['A'].astype('float')\n",
    "plt.spy(A)\n",
    "comm = data['Comm']"
   ]
  },
  {
   "cell_type": "code",
   "execution_count": 106,
   "metadata": {
    "collapsed": false
   },
   "outputs": [
    {
     "name": "stdout",
     "output_type": "stream",
     "text": [
      "1\n",
      "(1, 1, 0.1, 1L)\n",
      "('max accuracy', 1L)\n"
     ]
    }
   ],
   "source": [
    "n=M.shape[0]\n",
    "max_temp = 0;\n",
    "for k in xrange(0,1):\n",
    "    #print('step',k)\n",
    "    M=MCL(A,0.01,2,2)#tol[k],p[k],alpha[k])\n",
    "    temp=0\n",
    "    \n",
    "    for i in xrange(0,n):\n",
    "        for j in xrange(0,n):\n",
    "            if (M[i][j]==1):\n",
    "                if (comm[i]==comm[j]):\n",
    "                    temp=temp+1\n",
    "    temp = temp/n;\n",
    "    \n",
    "    print(p[k],alpha[k],tol[k],temp)\n",
    "    if (temp>max_temp):\n",
    "        max_temp=temp\n",
    "print('max accuracy',max_temp)\n"
   ]
  },
  {
   "cell_type": "markdown",
   "metadata": {},
   "source": [
    "We get that this model works very good. The equracy of classifiing equals to 1. "
   ]
  },
  {
   "cell_type": "markdown",
   "metadata": {},
   "source": [
    "### Task 2"
   ]
  },
  {
   "cell_type": "code",
   "execution_count": 52,
   "metadata": {
    "collapsed": false
   },
   "outputs": [
    {
     "name": "stdout",
     "output_type": "stream",
     "text": [
      "[[ 0.  0.  0. ...,  0.  0.  0.]\n",
      " [ 0.  0.  0. ...,  0.  0.  0.]\n",
      " [ 0.  0.  0. ...,  0.  0.  0.]\n",
      " ..., \n",
      " [ 0.  0.  0. ...,  0.  0.  0.]\n",
      " [ 0.  0.  0. ...,  0.  0.  0.]\n",
      " [ 0.  0.  0. ...,  0.  0.  0.]]\n"
     ]
    },
    {
     "data": {
      "text/plain": [
       "(128L, 128L)"
      ]
     },
     "execution_count": 52,
     "metadata": {},
     "output_type": "execute_result"
    }
   ],
   "source": [
    "#print(M[1:10,1:10])\n",
    "print(M)\n",
    "M.shape"
   ]
  },
  {
   "cell_type": "markdown",
   "metadata": {},
   "source": [
    "Load [Yahoo Music network](https://www.hse.ru/data/2016/03/15/1127704844/music_data.mat). Edges in this network appear if enough number of users have given ratings to both music bands. Note, that edges are weighted with similarity of the ratings.\n",
    "\n",
    "* Implement *multilevel spectral recursive partitioning* algorithm that was described during the lecture\n",
    "* Visualize community structure of the network and output some of the dense clusters (with interpretation, if you can)\n",
    "\n",
    "You can load .mat files with the following commands:"
   ]
  },
  {
   "cell_type": "code",
   "execution_count": 15,
   "metadata": {
    "collapsed": false
   },
   "outputs": [],
   "source": [
    "#import scipy.io\n",
    "import scipy.sparse \n",
    "data2 = scipy.io.loadmat('music_data.mat')"
   ]
  },
  {
   "cell_type": "code",
   "execution_count": 16,
   "metadata": {
    "collapsed": false
   },
   "outputs": [],
   "source": [
    "a = data2['A']\n",
    "artists = data2['artists']\n"
   ]
  },
  {
   "cell_type": "code",
   "execution_count": 80,
   "metadata": {
    "collapsed": false
   },
   "outputs": [
    {
     "name": "stdout",
     "output_type": "stream",
     "text": [
      "{1: 1}\n",
      "{1: 1, 2: 5}\n",
      "{1: 11, 2: 6, 3: 8}\n"
     ]
    }
   ],
   "source": [
    "n=9276\n",
    "class_labels = [c for c in np.linspace(0,0,n)]\n",
    "num_labels = {0: n}\n",
    "a[a>0] = 1\n",
    "temp = 0\n",
    "\n",
    "stop_size = 1000\n",
    "b={1:10,2:5}\n",
    "b.update({3:7}) \n",
    "b.keys()\n",
    "for i in b.keys():\n",
    "    b[i]=b[i]+1\n",
    "s = [1, -1, -1]\n",
    "num_labels = {1:3}\n",
    "class_labels = [1, 1, 1]\n",
    "for i in xrange(0,3):\n",
    "    if (s[i]==-1):\n",
    "        num_labels[class_labels[i]] = num_labels[class_labels[i]] - 1    \n",
    "print(num_labels)\n",
    "\n",
    "num_labels.update({step:5})\n",
    "print(num_labels)\n",
    "print(b)\n",
    "flag=False"
   ]
  },
  {
   "cell_type": "code",
   "execution_count": 82,
   "metadata": {
    "collapsed": false,
    "scrolled": true
   },
   "outputs": [
    {
     "name": "stdout",
     "output_type": "stream",
     "text": [
      "('step ', 2)\n",
      "('1', {1: 9276})\n",
      "('2', {1: 1803})\n",
      "('3', {1: 1803, 2: 7473})\n",
      "how\n",
      "{1: 1803, 2: 7473}\n",
      "[1, 2]\n"
     ]
    },
    {
     "ename": "KeyboardInterrupt",
     "evalue": "",
     "output_type": "error",
     "traceback": [
      "\u001b[1;31m---------------------------------------------------------------------------\u001b[0m",
      "\u001b[1;31mKeyboardInterrupt\u001b[0m                         Traceback (most recent call last)",
      "\u001b[1;32m<ipython-input-82-2176d8042bfb>\u001b[0m in \u001b[0;36m<module>\u001b[1;34m()\u001b[0m\n\u001b[0;32m     44\u001b[0m         \u001b[1;32mfor\u001b[0m \u001b[0mj\u001b[0m \u001b[1;32min\u001b[0m \u001b[0mxrange\u001b[0m\u001b[1;33m(\u001b[0m\u001b[1;36m0\u001b[0m\u001b[1;33m,\u001b[0m\u001b[0mn\u001b[0m\u001b[1;33m)\u001b[0m\u001b[1;33m:\u001b[0m\u001b[1;33m\u001b[0m\u001b[0m\n\u001b[0;32m     45\u001b[0m             \u001b[1;32mif\u001b[0m \u001b[1;33m(\u001b[0m\u001b[0ms\u001b[0m\u001b[1;33m[\u001b[0m\u001b[0mi\u001b[0m\u001b[1;33m]\u001b[0m\u001b[1;33m==\u001b[0m\u001b[1;33m-\u001b[0m\u001b[1;36m1\u001b[0m\u001b[1;33m)\u001b[0m\u001b[1;33m:\u001b[0m\u001b[1;33m\u001b[0m\u001b[0m\n\u001b[1;32m---> 46\u001b[1;33m                 \u001b[1;32mif\u001b[0m \u001b[1;33m(\u001b[0m\u001b[0ma\u001b[0m\u001b[1;33m[\u001b[0m\u001b[0mi\u001b[0m\u001b[1;33m,\u001b[0m\u001b[0mj\u001b[0m\u001b[1;33m]\u001b[0m\u001b[1;33m==\u001b[0m\u001b[1;36m1\u001b[0m \u001b[1;32mand\u001b[0m \u001b[0ms\u001b[0m\u001b[1;33m[\u001b[0m\u001b[0mj\u001b[0m\u001b[1;33m]\u001b[0m\u001b[1;33m==\u001b[0m\u001b[1;36m1\u001b[0m\u001b[1;33m)\u001b[0m\u001b[1;33m:\u001b[0m\u001b[1;33m\u001b[0m\u001b[0m\n\u001b[0m\u001b[0;32m     47\u001b[0m                     \u001b[0ma\u001b[0m\u001b[1;33m[\u001b[0m\u001b[0mi\u001b[0m\u001b[1;33m,\u001b[0m\u001b[0mj\u001b[0m\u001b[1;33m]\u001b[0m\u001b[1;33m=\u001b[0m\u001b[1;36m0\u001b[0m\u001b[1;33m\u001b[0m\u001b[0m\n\u001b[0;32m     48\u001b[0m                     \u001b[0ma\u001b[0m\u001b[1;33m[\u001b[0m\u001b[0mj\u001b[0m\u001b[1;33m,\u001b[0m\u001b[0mi\u001b[0m\u001b[1;33m]\u001b[0m\u001b[1;33m=\u001b[0m\u001b[1;36m0\u001b[0m\u001b[1;33m\u001b[0m\u001b[0m\n",
      "\u001b[1;32mC:\\Users\\1\\Anaconda2\\lib\\site-packages\\scipy\\sparse\\csc.pyc\u001b[0m in \u001b[0;36m__getitem__\u001b[1;34m(self, key)\u001b[0m\n\u001b[0;32m    148\u001b[0m         \u001b[1;31m# Use CSR to implement fancy indexing.\u001b[0m\u001b[1;33m\u001b[0m\u001b[1;33m\u001b[0m\u001b[0m\n\u001b[0;32m    149\u001b[0m \u001b[1;33m\u001b[0m\u001b[0m\n\u001b[1;32m--> 150\u001b[1;33m         \u001b[0mrow\u001b[0m\u001b[1;33m,\u001b[0m \u001b[0mcol\u001b[0m \u001b[1;33m=\u001b[0m \u001b[0mself\u001b[0m\u001b[1;33m.\u001b[0m\u001b[0m_unpack_index\u001b[0m\u001b[1;33m(\u001b[0m\u001b[0mkey\u001b[0m\u001b[1;33m)\u001b[0m\u001b[1;33m\u001b[0m\u001b[0m\n\u001b[0m\u001b[0;32m    151\u001b[0m         \u001b[1;31m# Things that return submatrices. row or col is a int or slice.\u001b[0m\u001b[1;33m\u001b[0m\u001b[1;33m\u001b[0m\u001b[0m\n\u001b[0;32m    152\u001b[0m         if (isinstance(row, slice) or isinstance(col, slice) or\n",
      "\u001b[1;32mC:\\Users\\1\\Anaconda2\\lib\\site-packages\\scipy\\sparse\\sputils.pyc\u001b[0m in \u001b[0;36m_unpack_index\u001b[1;34m(self, index)\u001b[0m\n\u001b[0;32m    266\u001b[0m \u001b[1;33m\u001b[0m\u001b[0m\n\u001b[0;32m    267\u001b[0m         \u001b[1;31m# Next, check for validity, or transform the index as needed.\u001b[0m\u001b[1;33m\u001b[0m\u001b[1;33m\u001b[0m\u001b[0m\n\u001b[1;32m--> 268\u001b[1;33m         \u001b[0mrow\u001b[0m\u001b[1;33m,\u001b[0m \u001b[0mcol\u001b[0m \u001b[1;33m=\u001b[0m \u001b[0mself\u001b[0m\u001b[1;33m.\u001b[0m\u001b[0m_check_boolean\u001b[0m\u001b[1;33m(\u001b[0m\u001b[0mrow\u001b[0m\u001b[1;33m,\u001b[0m \u001b[0mcol\u001b[0m\u001b[1;33m)\u001b[0m\u001b[1;33m\u001b[0m\u001b[0m\n\u001b[0m\u001b[0;32m    269\u001b[0m         \u001b[1;32mreturn\u001b[0m \u001b[0mrow\u001b[0m\u001b[1;33m,\u001b[0m \u001b[0mcol\u001b[0m\u001b[1;33m\u001b[0m\u001b[0m\n\u001b[0;32m    270\u001b[0m \u001b[1;33m\u001b[0m\u001b[0m\n",
      "\u001b[1;32mC:\\Users\\1\\Anaconda2\\lib\\site-packages\\scipy\\sparse\\sputils.pyc\u001b[0m in \u001b[0;36m_check_boolean\u001b[1;34m(self, row, col)\u001b[0m\n\u001b[0;32m    311\u001b[0m         \u001b[1;31m# Supporting sparse boolean indexing with both row and col does\u001b[0m\u001b[1;33m\u001b[0m\u001b[1;33m\u001b[0m\u001b[0m\n\u001b[0;32m    312\u001b[0m         \u001b[1;31m# not work because spmatrix.ndim is always 2.\u001b[0m\u001b[1;33m\u001b[0m\u001b[1;33m\u001b[0m\u001b[0m\n\u001b[1;32m--> 313\u001b[1;33m         \u001b[1;32mif\u001b[0m \u001b[0misspmatrix\u001b[0m\u001b[1;33m(\u001b[0m\u001b[0mrow\u001b[0m\u001b[1;33m)\u001b[0m \u001b[1;32mor\u001b[0m \u001b[0misspmatrix\u001b[0m\u001b[1;33m(\u001b[0m\u001b[0mcol\u001b[0m\u001b[1;33m)\u001b[0m\u001b[1;33m:\u001b[0m\u001b[1;33m\u001b[0m\u001b[0m\n\u001b[0m\u001b[0;32m    314\u001b[0m             raise IndexError(\"Indexing with sparse matrices is not supported\"\n\u001b[0;32m    315\u001b[0m                     \u001b[1;34m\" except boolean indexing where matrix and index are equal\"\u001b[0m\u001b[1;33m\u001b[0m\u001b[0m\n",
      "\u001b[1;32mC:\\Users\\1\\Anaconda2\\lib\\site-packages\\scipy\\sparse\\base.pyc\u001b[0m in \u001b[0;36misspmatrix\u001b[1;34m(x)\u001b[0m\n\u001b[0;32m    869\u001b[0m \u001b[1;33m\u001b[0m\u001b[0m\n\u001b[0;32m    870\u001b[0m \u001b[1;32mdef\u001b[0m \u001b[0misspmatrix\u001b[0m\u001b[1;33m(\u001b[0m\u001b[0mx\u001b[0m\u001b[1;33m)\u001b[0m\u001b[1;33m:\u001b[0m\u001b[1;33m\u001b[0m\u001b[0m\n\u001b[1;32m--> 871\u001b[1;33m     \u001b[1;32mreturn\u001b[0m \u001b[0misinstance\u001b[0m\u001b[1;33m(\u001b[0m\u001b[0mx\u001b[0m\u001b[1;33m,\u001b[0m \u001b[0mspmatrix\u001b[0m\u001b[1;33m)\u001b[0m\u001b[1;33m\u001b[0m\u001b[0m\n\u001b[0m\u001b[0;32m    872\u001b[0m \u001b[1;33m\u001b[0m\u001b[0m\n\u001b[0;32m    873\u001b[0m \u001b[0missparse\u001b[0m \u001b[1;33m=\u001b[0m \u001b[0misspmatrix\u001b[0m\u001b[1;33m\u001b[0m\u001b[0m\n",
      "\u001b[1;31mKeyboardInterrupt\u001b[0m: "
     ]
    }
   ],
   "source": [
    "n=9276\n",
    "class_labels = [c for c in np.linspace(1,1,n)]\n",
    "num_labels = {1: n}\n",
    "a[a>0] = 1\n",
    "temp = 0\n",
    "\n",
    "stop_size = 1000\n",
    "\n",
    "flag=False\n",
    "step=1\n",
    "\n",
    "for k in xrange(0,5):\n",
    "    step = step+1\n",
    "    print('step ',step)\n",
    "    temp = 0\n",
    "    d = np.diagflat(a.sum(axis = 1))  \n",
    "    d = scipy.sparse.csr_matrix(d)                     \n",
    "    l = d - a                                       \n",
    "    la, v = scipy.sparse.linalg.eigsh(l, k=2,  M = d, which = 'SM')  \n",
    "    s = np.linspace(1,1,n)\n",
    "    s[v[:,1]<0] = -1\n",
    "    if (sum(s)==n or sum(s)==-n):#новый класс не выделился\n",
    "        break\n",
    "    print('1',num_labels)\n",
    "    for i in xrange(0,n):\n",
    "        if (s[i]==-1):\n",
    "            num_labels[class_labels[i]] = num_labels[class_labels[i]] - 1 #уменьшили число элементов в старом классе\n",
    "            #print(num_labels[class_labels[i]])\n",
    "            class_labels[i]=int(step) #приписали новый класс\n",
    "            temp = temp+1\n",
    "    print('2',num_labels)\n",
    "    num_labels.update({step:temp}) #добавили новый класс с кол-вом элементов в нем\n",
    "    print('3',num_labels)\n",
    "    flag=False\n",
    "    print('how')\n",
    "    print(num_labels)\n",
    "    print(num_labels.keys())\n",
    "    for i in num_labels.keys():\n",
    "        if (num_labels[i]>stop_size):#если нашли хотя бы 1 большего размера\n",
    "            flag = True\n",
    "    if (flag == False):\n",
    "        break\n",
    "    for i in xrange(0,n):#переписываем матрицу а, удаляем ребра\n",
    "        for j in xrange(0,n):   \n",
    "            if (s[i]==-1):\n",
    "                if (a[i,j]==1 and s[j]==1):\n",
    "                    a[i,j]=0\n",
    "                    a[j,i]=0\n",
    "    print('ended', step)\n",
    "        \n",
    "#print(la)\n",
    "#print(v)"
   ]
  },
  {
   "cell_type": "code",
   "execution_count": 29,
   "metadata": {
    "collapsed": false
   },
   "outputs": [
    {
     "name": "stdout",
     "output_type": "stream",
     "text": [
      "[  3.01352303e-04  -4.49602695e-04   9.77264492e-05 ...,  -5.22943357e-04\n",
      "  -4.78629496e-04  -2.01260944e-04]\n"
     ]
    }
   ],
   "source": [
    "#s = np.linspace(1,1,n)\n",
    "#print(v[:,1])\n",
    "#s[v[:,1]<0] = -1"
   ]
  },
  {
   "cell_type": "markdown",
   "metadata": {},
   "source": [
    "Unfortunately, the program time was too much to solved this task.\n",
    "        "
   ]
  },
  {
   "cell_type": "code",
   "execution_count": null,
   "metadata": {
    "collapsed": true
   },
   "outputs": [],
   "source": []
  }
 ],
 "metadata": {
  "kernelspec": {
   "display_name": "Python 2",
   "language": "python",
   "name": "python2"
  },
  "language_info": {
   "codemirror_mode": {
    "name": "ipython",
    "version": 2
   },
   "file_extension": ".py",
   "mimetype": "text/x-python",
   "name": "python",
   "nbconvert_exporter": "python",
   "pygments_lexer": "ipython2",
   "version": "2.7.11"
  }
 },
 "nbformat": 4,
 "nbformat_minor": 0
}
