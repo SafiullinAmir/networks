{
 "cells": [
  {
   "cell_type": "markdown",
   "metadata": {},
   "source": [
    "# <center>Network Science</center>"
   ]
  },
  {
   "cell_type": "markdown",
   "metadata": {},
   "source": [
    "## <center>Home Assignment #3: Centralities and Assortativity</center>"
   ]
  },
  {
   "cell_type": "markdown",
   "metadata": {},
   "source": [
    "### <center>Student: *{Kosheleva Yevgeniya}*</center>"
   ]
  },
  {
   "cell_type": "markdown",
   "metadata": {},
   "source": [
    "#### <hr /> General Information"
   ]
  },
  {
   "cell_type": "markdown",
   "metadata": {},
   "source": [
    "**Due Date:** 13.03.2016 23:59 <br \\>\n",
    "**Late submission policy:** -0.2 points per day <br \\>\n",
    "\n",
    "\n",
    "Please send your reports to <mailto:network.hse.2016@gmail.com> with message subject of the following structure:<br \\> **[HSE Networks 2015] *{LastName}* *{First Name}* HA*{Number}***\n",
    "\n",
    "Support your computations with figures and comments. <br \\>\n",
    "If you are using IPython Notebook you may use this file as a starting point of your report.<br \\>\n",
    "<br \\>\n",
    "<hr \\>"
   ]
  },
  {
   "cell_type": "markdown",
   "metadata": {},
   "source": [
    "## Problems"
   ]
  },
  {
   "cell_type": "markdown",
   "metadata": {},
   "source": [
    "### Task 1"
   ]
  },
  {
   "cell_type": "markdown",
   "metadata": {},
   "source": [
    "Compute degree centrality, Pagerank and  HubAuthorities scores for the [flickr](https://snap.stanford.edu/data/web-flickr.html) network. \n",
    "\n",
    "Data contains sparse matrix A and list of user names.\n",
    "This is a “denser” part of the Flickr photo sharing site friendship graph from 2006. Edge direction corresponds to friendship requests (following). Some of the links are reciprocal,others not.  \n",
    "\n",
    "Provide top 50 names in each ranking, compare results\n",
    "\n",
    "You can load .mat files with the following commands:"
   ]
  },
  {
   "cell_type": "code",
   "execution_count": 1,
   "metadata": {
    "collapsed": true
   },
   "outputs": [],
   "source": [
    "import scipy.io\n",
    "import networkx as nx\n",
    "%matplotlib inline\n",
    "import matplotlib.pyplot as plt\n",
    "import matplotlib\n",
    "import operator\n",
    "import pandas as pd\n",
    "import scipy.spatial as spt\n",
    "import numpy as np\n",
    "import scipy.stats"
   ]
  },
  {
   "cell_type": "markdown",
   "metadata": {},
   "source": [
    "Create graph:"
   ]
  },
  {
   "cell_type": "code",
   "execution_count": 2,
   "metadata": {
    "collapsed": false
   },
   "outputs": [],
   "source": [
    "\n",
    "data1 = scipy.io.loadmat('/Users/Evgenia/Desktop/Данные/flickr.mat')\n",
    "G = nx.from_scipy_sparse_matrix(data1[\"A\"],create_using=nx.DiGraph())"
   ]
  },
  {
   "cell_type": "markdown",
   "metadata": {},
   "source": [
    "Compute the degree centrality:"
   ]
  },
  {
   "cell_type": "code",
   "execution_count": 3,
   "metadata": {
    "collapsed": false
   },
   "outputs": [],
   "source": [
    "degree_centrality = nx.degree_centrality(G)\n",
    "sorted_degree = sorted(degree_centrality.items(), key=operator.itemgetter(1), reverse=True)[:50]"
   ]
  },
  {
   "cell_type": "markdown",
   "metadata": {},
   "source": [
    "Compute the in-degree centrality for nodes:"
   ]
  },
  {
   "cell_type": "code",
   "execution_count": 4,
   "metadata": {
    "collapsed": false
   },
   "outputs": [],
   "source": [
    "in_degree_centrality = nx.in_degree_centrality(G)\n",
    "sorted_in_degree = sorted(in_degree_centrality.items(), key=operator.itemgetter(1), reverse=True)[:50]"
   ]
  },
  {
   "cell_type": "markdown",
   "metadata": {},
   "source": [
    "Compute the out-degree centrality for nodes:"
   ]
  },
  {
   "cell_type": "code",
   "execution_count": 5,
   "metadata": {
    "collapsed": false
   },
   "outputs": [],
   "source": [
    "out_degree_centrality = nx.out_degree_centrality(G)\n",
    "sorted_out_degree = sorted(out_degree_centrality.items(), key=operator.itemgetter(1), reverse=True)[:50]"
   ]
  },
  {
   "cell_type": "markdown",
   "metadata": {},
   "source": [
    "Return the PageRank of the nodes:"
   ]
  },
  {
   "cell_type": "code",
   "execution_count": 6,
   "metadata": {
    "collapsed": false
   },
   "outputs": [],
   "source": [
    "pr = nx.pagerank(G)\n",
    "sorted_pr = sorted(pr.items(), key=operator.itemgetter(1), reverse=True)[:50]\n"
   ]
  },
  {
   "cell_type": "markdown",
   "metadata": {},
   "source": [
    "Return HITS hubs and authorities values for nodes:"
   ]
  },
  {
   "cell_type": "code",
   "execution_count": 7,
   "metadata": {
    "collapsed": false
   },
   "outputs": [],
   "source": [
    "h,a = nx.hits(G)\n",
    "sorted_h = sorted(h.items(), key=operator.itemgetter(1), reverse=True)[:50]\n",
    "sorted_a = sorted(a.items(), key=operator.itemgetter(1), reverse=True)[:50]"
   ]
  },
  {
   "cell_type": "code",
   "execution_count": 8,
   "metadata": {
    "collapsed": false
   },
   "outputs": [],
   "source": [
    "df={\"sorted_degree\":[data1[\"names\"][i[0]] for i in sorted_degree],\"sorted_in_degree\":[data1[\"names\"][i[0]] for i in sorted_in_degree],\\\n",
    "    \"sorted_out_degree\":[data1[\"names\"][i[0]] for i in sorted_out_degree],\\\n",
    "    \"sorted_pr\":[data1[\"names\"][i[0]] for i in sorted_pr],\n",
    "    \"h\":[data1[\"names\"][i[0]] for i in sorted_h],\"a\":[data1[\"names\"][i[0]] for i in sorted_a]}"
   ]
  },
  {
   "cell_type": "code",
   "execution_count": 9,
   "metadata": {
    "collapsed": false
   },
   "outputs": [
    {
     "data": {
      "text/html": [
       "<div>\n",
       "<table border=\"1\" class=\"dataframe\">\n",
       "  <thead>\n",
       "    <tr style=\"text-align: right;\">\n",
       "      <th></th>\n",
       "      <th>degree centrality</th>\n",
       "      <th>in degree centrality</th>\n",
       "      <th>out degree centrality</th>\n",
       "      <th>PageRank</th>\n",
       "      <th>hubs</th>\n",
       "      <th>authorities</th>\n",
       "    </tr>\n",
       "  </thead>\n",
       "  <tbody>\n",
       "    <tr>\n",
       "      <th>0</th>\n",
       "      <td>awfulsara                                     ...</td>\n",
       "      <td>awfulsara                                     ...</td>\n",
       "      <td>anildash                                      ...</td>\n",
       "      <td>awfulsara                                     ...</td>\n",
       "      <td>mrpiink                                       ...</td>\n",
       "      <td>awfulsara                                     ...</td>\n",
       "    </tr>\n",
       "    <tr>\n",
       "      <th>1</th>\n",
       "      <td>drp                                           ...</td>\n",
       "      <td>drp                                           ...</td>\n",
       "      <td>tozzer                                        ...</td>\n",
       "      <td>drp                                           ...</td>\n",
       "      <td>automat                                       ...</td>\n",
       "      <td>drp                                           ...</td>\n",
       "    </tr>\n",
       "    <tr>\n",
       "      <th>2</th>\n",
       "      <td>DrJoanne                                      ...</td>\n",
       "      <td>*Ivan*                                        ...</td>\n",
       "      <td>AtiRanA                                       ...</td>\n",
       "      <td>antimethod                                    ...</td>\n",
       "      <td>schizoo23                                     ...</td>\n",
       "      <td>DrJoanne                                      ...</td>\n",
       "    </tr>\n",
       "    <tr>\n",
       "      <th>3</th>\n",
       "      <td>antimethod                                    ...</td>\n",
       "      <td>antimethod                                    ...</td>\n",
       "      <td>pixietart                                     ...</td>\n",
       "      <td>BombDog                                       ...</td>\n",
       "      <td>lorrainemd                                    ...</td>\n",
       "      <td>*Ivan*                                        ...</td>\n",
       "    </tr>\n",
       "    <tr>\n",
       "      <th>4</th>\n",
       "      <td>*Ivan*                                        ...</td>\n",
       "      <td>DrJoanne                                      ...</td>\n",
       "      <td>jakedobkin                                    ...</td>\n",
       "      <td>*Ivan*                                        ...</td>\n",
       "      <td>sgoralnick                                    ...</td>\n",
       "      <td>antimethod                                    ...</td>\n",
       "    </tr>\n",
       "    <tr>\n",
       "      <th>5</th>\n",
       "      <td>BombDog                                       ...</td>\n",
       "      <td>BombDog                                       ...</td>\n",
       "      <td>Buntekuh                                      ...</td>\n",
       "      <td>MaD GiÂ®Lâ¢â¢                               ...</td>\n",
       "      <td>*starlet*                                     ...</td>\n",
       "      <td>BombDog                                       ...</td>\n",
       "    </tr>\n",
       "    <tr>\n",
       "      <th>6</th>\n",
       "      <td>deborah lattimore                             ...</td>\n",
       "      <td>Simon Pais                                    ...</td>\n",
       "      <td>brainware3000                                 ...</td>\n",
       "      <td>DrJoanne                                      ...</td>\n",
       "      <td>brynfoto                                      ...</td>\n",
       "      <td>Simon Pais                                    ...</td>\n",
       "    </tr>\n",
       "    <tr>\n",
       "      <th>7</th>\n",
       "      <td>Simon Pais                                    ...</td>\n",
       "      <td>deborah lattimore                             ...</td>\n",
       "      <td>Jakes_World                                   ...</td>\n",
       "      <td>Simon Pais                                    ...</td>\n",
       "      <td>liquid pixel                                  ...</td>\n",
       "      <td>deborah lattimore                             ...</td>\n",
       "    </tr>\n",
       "    <tr>\n",
       "      <th>8</th>\n",
       "      <td>cymagen                                       ...</td>\n",
       "      <td>MaD GiÂ®Lâ¢â¢                               ...</td>\n",
       "      <td>maximolly                                     ...</td>\n",
       "      <td>deborah lattimore                             ...</td>\n",
       "      <td>noahstone                                     ...</td>\n",
       "      <td>cymagen                                       ...</td>\n",
       "    </tr>\n",
       "    <tr>\n",
       "      <th>9</th>\n",
       "      <td>notraces                                      ...</td>\n",
       "      <td>notraces                                      ...</td>\n",
       "      <td>Andreia Lopes                                 ...</td>\n",
       "      <td>cymagen                                       ...</td>\n",
       "      <td>isherwood                                     ...</td>\n",
       "      <td>:Nikola                                       ...</td>\n",
       "    </tr>\n",
       "    <tr>\n",
       "      <th>10</th>\n",
       "      <td>MaD GiÂ®Lâ¢â¢                               ...</td>\n",
       "      <td>:Nikola                                       ...</td>\n",
       "      <td>elvis1967                                     ...</td>\n",
       "      <td>:Nikola                                       ...</td>\n",
       "      <td>Arno-MM                                       ...</td>\n",
       "      <td>lorrainemd                                    ...</td>\n",
       "    </tr>\n",
       "    <tr>\n",
       "      <th>11</th>\n",
       "      <td>aleyna                                        ...</td>\n",
       "      <td>cymagen                                       ...</td>\n",
       "      <td>inthegan                                      ...</td>\n",
       "      <td>notraces                                      ...</td>\n",
       "      <td>scotsman0170                                  ...</td>\n",
       "      <td>*starlet*                                     ...</td>\n",
       "    </tr>\n",
       "    <tr>\n",
       "      <th>12</th>\n",
       "      <td>*starlet*                                     ...</td>\n",
       "      <td>aleyna                                        ...</td>\n",
       "      <td>990000                                        ...</td>\n",
       "      <td>jkottke                                       ...</td>\n",
       "      <td>WaveSpire                                     ...</td>\n",
       "      <td>aleyna                                        ...</td>\n",
       "    </tr>\n",
       "    <tr>\n",
       "      <th>13</th>\n",
       "      <td>lorrainemd                                    ...</td>\n",
       "      <td>lorrainemd                                    ...</td>\n",
       "      <td>: Esther                                      ...</td>\n",
       "      <td>lorrainemd                                    ...</td>\n",
       "      <td>tozzer                                        ...</td>\n",
       "      <td>artofgold                                     ...</td>\n",
       "    </tr>\n",
       "    <tr>\n",
       "      <th>14</th>\n",
       "      <td>Pandarine                                     ...</td>\n",
       "      <td>artofgold                                     ...</td>\n",
       "      <td>dmoore                                        ...</td>\n",
       "      <td>slowernet                                     ...</td>\n",
       "      <td>...cathzilla                                  ...</td>\n",
       "      <td>notraces                                      ...</td>\n",
       "    </tr>\n",
       "    <tr>\n",
       "      <th>15</th>\n",
       "      <td>artofgold                                     ...</td>\n",
       "      <td>*starlet*                                     ...</td>\n",
       "      <td>kathryn                                       ...</td>\n",
       "      <td>artofgold                                     ...</td>\n",
       "      <td>cymagen                                       ...</td>\n",
       "      <td>romanlily                                     ...</td>\n",
       "    </tr>\n",
       "    <tr>\n",
       "      <th>16</th>\n",
       "      <td>:Nikola                                       ...</td>\n",
       "      <td>romanlily                                     ...</td>\n",
       "      <td>Charles Machado                               ...</td>\n",
       "      <td>romanlily                                     ...</td>\n",
       "      <td>ola_babe1                                     ...</td>\n",
       "      <td>Pandarine                                     ...</td>\n",
       "    </tr>\n",
       "    <tr>\n",
       "      <th>17</th>\n",
       "      <td>Mareen Fischinger                             ...</td>\n",
       "      <td>Pandarine                                     ...</td>\n",
       "      <td>spanier                                       ...</td>\n",
       "      <td>*starlet*                                     ...</td>\n",
       "      <td>DrJoanne                                      ...</td>\n",
       "      <td>Mylens                                        ...</td>\n",
       "    </tr>\n",
       "    <tr>\n",
       "      <th>18</th>\n",
       "      <td>gu@va                                         ...</td>\n",
       "      <td>jkottke                                       ...</td>\n",
       "      <td>drp                                           ...</td>\n",
       "      <td>Pandarine                                     ...</td>\n",
       "      <td>pablokorona                                   ...</td>\n",
       "      <td>Mareen Fischinger                             ...</td>\n",
       "    </tr>\n",
       "    <tr>\n",
       "      <th>19</th>\n",
       "      <td>Mylens                                        ...</td>\n",
       "      <td>hot_luscious                                  ...</td>\n",
       "      <td>What What                                     ...</td>\n",
       "      <td>hot_luscious                                  ...</td>\n",
       "      <td>demouser                                      ...</td>\n",
       "      <td>bernardo.borghetti                            ...</td>\n",
       "    </tr>\n",
       "    <tr>\n",
       "      <th>20</th>\n",
       "      <td>bernardo.borghetti                            ...</td>\n",
       "      <td>Mareen Fischinger                             ...</td>\n",
       "      <td>rivello                                       ...</td>\n",
       "      <td>Mareen Fischinger                             ...</td>\n",
       "      <td>jallive                                       ...</td>\n",
       "      <td>gu@va                                         ...</td>\n",
       "    </tr>\n",
       "    <tr>\n",
       "      <th>21</th>\n",
       "      <td>hot_luscious                                  ...</td>\n",
       "      <td>Mylens                                        ...</td>\n",
       "      <td>mehmetkale                                    ...</td>\n",
       "      <td>underbunny                                    ...</td>\n",
       "      <td>macebio                                       ...</td>\n",
       "      <td>Sexy Swedish Babe                             ...</td>\n",
       "    </tr>\n",
       "    <tr>\n",
       "      <th>22</th>\n",
       "      <td>romanlily                                     ...</td>\n",
       "      <td>slowernet                                     ...</td>\n",
       "      <td>blackbeltjones                                ...</td>\n",
       "      <td>fraying                                       ...</td>\n",
       "      <td>marika b                                      ...</td>\n",
       "      <td>pbowers                                       ...</td>\n",
       "    </tr>\n",
       "    <tr>\n",
       "      <th>23</th>\n",
       "      <td>jkottke                                       ...</td>\n",
       "      <td>gu@va                                         ...</td>\n",
       "      <td>dianeham                                      ...</td>\n",
       "      <td>Mylens                                        ...</td>\n",
       "      <td>drp                                           ...</td>\n",
       "      <td>.lush                                         ...</td>\n",
       "    </tr>\n",
       "    <tr>\n",
       "      <th>24</th>\n",
       "      <td>pixietart                                     ...</td>\n",
       "      <td>bernardo.borghetti                            ...</td>\n",
       "      <td>Lucilia                                       ...</td>\n",
       "      <td>aleyna                                        ...</td>\n",
       "      <td>Osvaldo                                       ...</td>\n",
       "      <td>Merina                                        ...</td>\n",
       "    </tr>\n",
       "    <tr>\n",
       "      <th>25</th>\n",
       "      <td>slowernet                                     ...</td>\n",
       "      <td>CherryVega                                    ...</td>\n",
       "      <td>meadows                                       ...</td>\n",
       "      <td>* HoNe$t *                                    ...</td>\n",
       "      <td>Crea.tive                                     ...</td>\n",
       "      <td>Esther_G                                      ...</td>\n",
       "    </tr>\n",
       "    <tr>\n",
       "      <th>26</th>\n",
       "      <td>anildash                                      ...</td>\n",
       "      <td>pbowers                                       ...</td>\n",
       "      <td>aracay                                        ...</td>\n",
       "      <td>gu@va                                         ...</td>\n",
       "      <td>sheldonschwartz                               ...</td>\n",
       "      <td>slowernet                                     ...</td>\n",
       "    </tr>\n",
       "    <tr>\n",
       "      <th>27</th>\n",
       "      <td>pbowers                                       ...</td>\n",
       "      <td>underbunny                                    ...</td>\n",
       "      <td>pro keds                                      ...</td>\n",
       "      <td>pbowers                                       ...</td>\n",
       "      <td>virgu                                         ...</td>\n",
       "      <td>CherryVega                                    ...</td>\n",
       "    </tr>\n",
       "    <tr>\n",
       "      <th>28</th>\n",
       "      <td>Joi                                           ...</td>\n",
       "      <td>Loobylu                                       ...</td>\n",
       "      <td>a nameless yeast                              ...</td>\n",
       "      <td>anildash                                      ...</td>\n",
       "      <td>mehmetkale                                    ...</td>\n",
       "      <td>bex_ai                                        ...</td>\n",
       "    </tr>\n",
       "    <tr>\n",
       "      <th>29</th>\n",
       "      <td>fraying                                       ...</td>\n",
       "      <td>Merina                                        ...</td>\n",
       "      <td>cooks                                         ...</td>\n",
       "      <td>Loobylu                                       ...</td>\n",
       "      <td>gucci1000                                     ...</td>\n",
       "      <td>nedrosen                                      ...</td>\n",
       "    </tr>\n",
       "    <tr>\n",
       "      <th>30</th>\n",
       "      <td>naftalina007                                  ...</td>\n",
       "      <td>* HoNe$t *                                    ...</td>\n",
       "      <td>nickf                                         ...</td>\n",
       "      <td>Joi                                           ...</td>\n",
       "      <td>Zewalt                                        ...</td>\n",
       "      <td>naftalina007                                  ...</td>\n",
       "    </tr>\n",
       "    <tr>\n",
       "      <th>31</th>\n",
       "      <td>.lush                                         ...</td>\n",
       "      <td>.lush                                         ...</td>\n",
       "      <td>virgu                                         ...</td>\n",
       "      <td>CherryVega                                    ...</td>\n",
       "      <td>bernardo.borghetti                            ...</td>\n",
       "      <td>Agridulce                                     ...</td>\n",
       "    </tr>\n",
       "    <tr>\n",
       "      <th>32</th>\n",
       "      <td>Loobylu                                       ...</td>\n",
       "      <td>fraying                                       ...</td>\n",
       "      <td>tantek                                        ...</td>\n",
       "      <td>Marcelo  Montecino                            ...</td>\n",
       "      <td>notraces                                      ...</td>\n",
       "      <td>callipygian                                   ...</td>\n",
       "    </tr>\n",
       "    <tr>\n",
       "      <th>33</th>\n",
       "      <td>Buntekuh                                      ...</td>\n",
       "      <td>pixietart                                     ...</td>\n",
       "      <td>Zsaj                                          ...</td>\n",
       "      <td>bernardo.borghetti                            ...</td>\n",
       "      <td>Grains And Light                              ...</td>\n",
       "      <td>isherwood                                     ...</td>\n",
       "    </tr>\n",
       "    <tr>\n",
       "      <th>34</th>\n",
       "      <td>CherryVega                                    ...</td>\n",
       "      <td>naftalina007                                  ...</td>\n",
       "      <td>Photographer Dre                              ...</td>\n",
       "      <td>!!uAe prince!!                                ...</td>\n",
       "      <td>overshadowed                                  ...</td>\n",
       "      <td>aircrash                                      ...</td>\n",
       "    </tr>\n",
       "    <tr>\n",
       "      <th>35</th>\n",
       "      <td>Gayla                                         ...</td>\n",
       "      <td>fd                                            ...</td>\n",
       "      <td>jayallen                                      ...</td>\n",
       "      <td>Esther_G                                      ...</td>\n",
       "      <td>neuskool                                      ...</td>\n",
       "      <td>Lola The Car Chick                            ...</td>\n",
       "    </tr>\n",
       "    <tr>\n",
       "      <th>36</th>\n",
       "      <td>jakedobkin                                    ...</td>\n",
       "      <td>aquanerds                                     ...</td>\n",
       "      <td>cymagen                                       ...</td>\n",
       "      <td>Departure Lounge                              ...</td>\n",
       "      <td>pblgbp                                        ...</td>\n",
       "      <td>liliths_nymph                                 ...</td>\n",
       "    </tr>\n",
       "    <tr>\n",
       "      <th>37</th>\n",
       "      <td>underbunny                                    ...</td>\n",
       "      <td>Joi                                           ...</td>\n",
       "      <td>gardengal                                     ...</td>\n",
       "      <td>gruntzooki                                    ...</td>\n",
       "      <td>sillydog                                      ...</td>\n",
       "      <td>Solarman                                      ...</td>\n",
       "    </tr>\n",
       "    <tr>\n",
       "      <th>38</th>\n",
       "      <td>fd                                            ...</td>\n",
       "      <td>Esther_G                                      ...</td>\n",
       "      <td>me4ta                                         ...</td>\n",
       "      <td>Gayla                                         ...</td>\n",
       "      <td>zaharoula                                     ...</td>\n",
       "      <td>Ryou in the box                               ...</td>\n",
       "    </tr>\n",
       "    <tr>\n",
       "      <th>39</th>\n",
       "      <td>Airchild                                      ...</td>\n",
       "      <td>carf                                          ...</td>\n",
       "      <td>mypapercrane                                  ...</td>\n",
       "      <td>Tom Coates                                    ...</td>\n",
       "      <td>mark daniel                                   ...</td>\n",
       "      <td>pixietart                                     ...</td>\n",
       "    </tr>\n",
       "    <tr>\n",
       "      <th>40</th>\n",
       "      <td>maximolly                                     ...</td>\n",
       "      <td>Marcelo  Montecino                            ...</td>\n",
       "      <td>judith                                        ...</td>\n",
       "      <td>maximolly                                     ...</td>\n",
       "      <td>astrid~                                       ...</td>\n",
       "      <td>Rachael D                                     ...</td>\n",
       "    </tr>\n",
       "    <tr>\n",
       "      <th>41</th>\n",
       "      <td>* HoNe$t *                                    ...</td>\n",
       "      <td>!!uAe prince!!                                ...</td>\n",
       "      <td>Airchild                                      ...</td>\n",
       "      <td>chromogenic                                   ...</td>\n",
       "      <td>MrTopf                                        ...</td>\n",
       "      <td>fd                                            ...</td>\n",
       "    </tr>\n",
       "    <tr>\n",
       "      <th>42</th>\n",
       "      <td>Sexy Swedish Babe                             ...</td>\n",
       "      <td>Sexy Swedish Babe                             ...</td>\n",
       "      <td>ribena                                        ...</td>\n",
       "      <td>Agridulce                                     ...</td>\n",
       "      <td>spanier                                       ...</td>\n",
       "      <td>macwagen                                      ...</td>\n",
       "    </tr>\n",
       "    <tr>\n",
       "      <th>43</th>\n",
       "      <td>Ya Ya                                         ...</td>\n",
       "      <td>callipygian                                   ...</td>\n",
       "      <td>roamin                                        ...</td>\n",
       "      <td>naftalina007                                  ...</td>\n",
       "      <td>ricd                                          ...</td>\n",
       "      <td>underbunny                                    ...</td>\n",
       "    </tr>\n",
       "    <tr>\n",
       "      <th>44</th>\n",
       "      <td>kaneblues                                     ...</td>\n",
       "      <td>Agridulce                                     ...</td>\n",
       "      <td>mdintoronto                                   ...</td>\n",
       "      <td>pixietart                                     ...</td>\n",
       "      <td>schani                                        ...</td>\n",
       "      <td>* HoNe$t *                                    ...</td>\n",
       "    </tr>\n",
       "    <tr>\n",
       "      <th>45</th>\n",
       "      <td>Tsunami Notes                                 ...</td>\n",
       "      <td>Least Wanted                                  ...</td>\n",
       "      <td>lucycat                                       ...</td>\n",
       "      <td>aquanerds                                     ...</td>\n",
       "      <td>redmondbarry                                  ...</td>\n",
       "      <td>kunja                                         ...</td>\n",
       "    </tr>\n",
       "    <tr>\n",
       "      <th>46</th>\n",
       "      <td>990000                                        ...</td>\n",
       "      <td>Gayla                                         ...</td>\n",
       "      <td>killer robot                                  ...</td>\n",
       "      <td>overshadowed                                  ...</td>\n",
       "      <td>Mareen Fischinger                             ...</td>\n",
       "      <td>Home alone                                    ...</td>\n",
       "    </tr>\n",
       "    <tr>\n",
       "      <th>47</th>\n",
       "      <td>overshadowed                                  ...</td>\n",
       "      <td>anildash                                      ...</td>\n",
       "      <td>chomp                                         ...</td>\n",
       "      <td>.lush                                         ...</td>\n",
       "      <td>grow-er                                       ...</td>\n",
       "      <td>bekon                                         ...</td>\n",
       "    </tr>\n",
       "    <tr>\n",
       "      <th>48</th>\n",
       "      <td>Tom Coates                                    ...</td>\n",
       "      <td>tecgirl                                       ...</td>\n",
       "      <td>Waldgeister                                   ...</td>\n",
       "      <td>jakedobkin                                    ...</td>\n",
       "      <td>.lush                                         ...</td>\n",
       "      <td>tecgirl                                       ...</td>\n",
       "    </tr>\n",
       "    <tr>\n",
       "      <th>49</th>\n",
       "      <td>good morning stradivari                       ...</td>\n",
       "      <td>reddirtrose                                   ...</td>\n",
       "      <td>ghostbones                                    ...</td>\n",
       "      <td>fd                                            ...</td>\n",
       "      <td>naftalina007                                  ...</td>\n",
       "      <td>carf                                          ...</td>\n",
       "    </tr>\n",
       "  </tbody>\n",
       "</table>\n",
       "</div>"
      ],
      "text/plain": [
       "                                    degree centrality  \\\n",
       "0   awfulsara                                     ...   \n",
       "1   drp                                           ...   \n",
       "2   DrJoanne                                      ...   \n",
       "3   antimethod                                    ...   \n",
       "4   *Ivan*                                        ...   \n",
       "5   BombDog                                       ...   \n",
       "6   deborah lattimore                             ...   \n",
       "7   Simon Pais                                    ...   \n",
       "8   cymagen                                       ...   \n",
       "9   notraces                                      ...   \n",
       "10  MaD GiÂ®Lâ¢â¢                               ...   \n",
       "11  aleyna                                        ...   \n",
       "12  *starlet*                                     ...   \n",
       "13  lorrainemd                                    ...   \n",
       "14  Pandarine                                     ...   \n",
       "15  artofgold                                     ...   \n",
       "16  :Nikola                                       ...   \n",
       "17  Mareen Fischinger                             ...   \n",
       "18  gu@va                                         ...   \n",
       "19  Mylens                                        ...   \n",
       "20  bernardo.borghetti                            ...   \n",
       "21  hot_luscious                                  ...   \n",
       "22  romanlily                                     ...   \n",
       "23  jkottke                                       ...   \n",
       "24  pixietart                                     ...   \n",
       "25  slowernet                                     ...   \n",
       "26  anildash                                      ...   \n",
       "27  pbowers                                       ...   \n",
       "28  Joi                                           ...   \n",
       "29  fraying                                       ...   \n",
       "30  naftalina007                                  ...   \n",
       "31  .lush                                         ...   \n",
       "32  Loobylu                                       ...   \n",
       "33  Buntekuh                                      ...   \n",
       "34  CherryVega                                    ...   \n",
       "35  Gayla                                         ...   \n",
       "36  jakedobkin                                    ...   \n",
       "37  underbunny                                    ...   \n",
       "38  fd                                            ...   \n",
       "39  Airchild                                      ...   \n",
       "40  maximolly                                     ...   \n",
       "41  * HoNe$t *                                    ...   \n",
       "42  Sexy Swedish Babe                             ...   \n",
       "43  Ya Ya                                         ...   \n",
       "44  kaneblues                                     ...   \n",
       "45  Tsunami Notes                                 ...   \n",
       "46  990000                                        ...   \n",
       "47  overshadowed                                  ...   \n",
       "48  Tom Coates                                    ...   \n",
       "49  good morning stradivari                       ...   \n",
       "\n",
       "                                 in degree centrality  \\\n",
       "0   awfulsara                                     ...   \n",
       "1   drp                                           ...   \n",
       "2   *Ivan*                                        ...   \n",
       "3   antimethod                                    ...   \n",
       "4   DrJoanne                                      ...   \n",
       "5   BombDog                                       ...   \n",
       "6   Simon Pais                                    ...   \n",
       "7   deborah lattimore                             ...   \n",
       "8   MaD GiÂ®Lâ¢â¢                               ...   \n",
       "9   notraces                                      ...   \n",
       "10  :Nikola                                       ...   \n",
       "11  cymagen                                       ...   \n",
       "12  aleyna                                        ...   \n",
       "13  lorrainemd                                    ...   \n",
       "14  artofgold                                     ...   \n",
       "15  *starlet*                                     ...   \n",
       "16  romanlily                                     ...   \n",
       "17  Pandarine                                     ...   \n",
       "18  jkottke                                       ...   \n",
       "19  hot_luscious                                  ...   \n",
       "20  Mareen Fischinger                             ...   \n",
       "21  Mylens                                        ...   \n",
       "22  slowernet                                     ...   \n",
       "23  gu@va                                         ...   \n",
       "24  bernardo.borghetti                            ...   \n",
       "25  CherryVega                                    ...   \n",
       "26  pbowers                                       ...   \n",
       "27  underbunny                                    ...   \n",
       "28  Loobylu                                       ...   \n",
       "29  Merina                                        ...   \n",
       "30  * HoNe$t *                                    ...   \n",
       "31  .lush                                         ...   \n",
       "32  fraying                                       ...   \n",
       "33  pixietart                                     ...   \n",
       "34  naftalina007                                  ...   \n",
       "35  fd                                            ...   \n",
       "36  aquanerds                                     ...   \n",
       "37  Joi                                           ...   \n",
       "38  Esther_G                                      ...   \n",
       "39  carf                                          ...   \n",
       "40  Marcelo  Montecino                            ...   \n",
       "41  !!uAe prince!!                                ...   \n",
       "42  Sexy Swedish Babe                             ...   \n",
       "43  callipygian                                   ...   \n",
       "44  Agridulce                                     ...   \n",
       "45  Least Wanted                                  ...   \n",
       "46  Gayla                                         ...   \n",
       "47  anildash                                      ...   \n",
       "48  tecgirl                                       ...   \n",
       "49  reddirtrose                                   ...   \n",
       "\n",
       "                                out degree centrality  \\\n",
       "0   anildash                                      ...   \n",
       "1   tozzer                                        ...   \n",
       "2   AtiRanA                                       ...   \n",
       "3   pixietart                                     ...   \n",
       "4   jakedobkin                                    ...   \n",
       "5   Buntekuh                                      ...   \n",
       "6   brainware3000                                 ...   \n",
       "7   Jakes_World                                   ...   \n",
       "8   maximolly                                     ...   \n",
       "9   Andreia Lopes                                 ...   \n",
       "10  elvis1967                                     ...   \n",
       "11  inthegan                                      ...   \n",
       "12  990000                                        ...   \n",
       "13  : Esther                                      ...   \n",
       "14  dmoore                                        ...   \n",
       "15  kathryn                                       ...   \n",
       "16  Charles Machado                               ...   \n",
       "17  spanier                                       ...   \n",
       "18  drp                                           ...   \n",
       "19  What What                                     ...   \n",
       "20  rivello                                       ...   \n",
       "21  mehmetkale                                    ...   \n",
       "22  blackbeltjones                                ...   \n",
       "23  dianeham                                      ...   \n",
       "24  Lucilia                                       ...   \n",
       "25  meadows                                       ...   \n",
       "26  aracay                                        ...   \n",
       "27  pro keds                                      ...   \n",
       "28  a nameless yeast                              ...   \n",
       "29  cooks                                         ...   \n",
       "30  nickf                                         ...   \n",
       "31  virgu                                         ...   \n",
       "32  tantek                                        ...   \n",
       "33  Zsaj                                          ...   \n",
       "34  Photographer Dre                              ...   \n",
       "35  jayallen                                      ...   \n",
       "36  cymagen                                       ...   \n",
       "37  gardengal                                     ...   \n",
       "38  me4ta                                         ...   \n",
       "39  mypapercrane                                  ...   \n",
       "40  judith                                        ...   \n",
       "41  Airchild                                      ...   \n",
       "42  ribena                                        ...   \n",
       "43  roamin                                        ...   \n",
       "44  mdintoronto                                   ...   \n",
       "45  lucycat                                       ...   \n",
       "46  killer robot                                  ...   \n",
       "47  chomp                                         ...   \n",
       "48  Waldgeister                                   ...   \n",
       "49  ghostbones                                    ...   \n",
       "\n",
       "                                             PageRank  \\\n",
       "0   awfulsara                                     ...   \n",
       "1   drp                                           ...   \n",
       "2   antimethod                                    ...   \n",
       "3   BombDog                                       ...   \n",
       "4   *Ivan*                                        ...   \n",
       "5   MaD GiÂ®Lâ¢â¢                               ...   \n",
       "6   DrJoanne                                      ...   \n",
       "7   Simon Pais                                    ...   \n",
       "8   deborah lattimore                             ...   \n",
       "9   cymagen                                       ...   \n",
       "10  :Nikola                                       ...   \n",
       "11  notraces                                      ...   \n",
       "12  jkottke                                       ...   \n",
       "13  lorrainemd                                    ...   \n",
       "14  slowernet                                     ...   \n",
       "15  artofgold                                     ...   \n",
       "16  romanlily                                     ...   \n",
       "17  *starlet*                                     ...   \n",
       "18  Pandarine                                     ...   \n",
       "19  hot_luscious                                  ...   \n",
       "20  Mareen Fischinger                             ...   \n",
       "21  underbunny                                    ...   \n",
       "22  fraying                                       ...   \n",
       "23  Mylens                                        ...   \n",
       "24  aleyna                                        ...   \n",
       "25  * HoNe$t *                                    ...   \n",
       "26  gu@va                                         ...   \n",
       "27  pbowers                                       ...   \n",
       "28  anildash                                      ...   \n",
       "29  Loobylu                                       ...   \n",
       "30  Joi                                           ...   \n",
       "31  CherryVega                                    ...   \n",
       "32  Marcelo  Montecino                            ...   \n",
       "33  bernardo.borghetti                            ...   \n",
       "34  !!uAe prince!!                                ...   \n",
       "35  Esther_G                                      ...   \n",
       "36  Departure Lounge                              ...   \n",
       "37  gruntzooki                                    ...   \n",
       "38  Gayla                                         ...   \n",
       "39  Tom Coates                                    ...   \n",
       "40  maximolly                                     ...   \n",
       "41  chromogenic                                   ...   \n",
       "42  Agridulce                                     ...   \n",
       "43  naftalina007                                  ...   \n",
       "44  pixietart                                     ...   \n",
       "45  aquanerds                                     ...   \n",
       "46  overshadowed                                  ...   \n",
       "47  .lush                                         ...   \n",
       "48  jakedobkin                                    ...   \n",
       "49  fd                                            ...   \n",
       "\n",
       "                                                 hubs  \\\n",
       "0   mrpiink                                       ...   \n",
       "1   automat                                       ...   \n",
       "2   schizoo23                                     ...   \n",
       "3   lorrainemd                                    ...   \n",
       "4   sgoralnick                                    ...   \n",
       "5   *starlet*                                     ...   \n",
       "6   brynfoto                                      ...   \n",
       "7   liquid pixel                                  ...   \n",
       "8   noahstone                                     ...   \n",
       "9   isherwood                                     ...   \n",
       "10  Arno-MM                                       ...   \n",
       "11  scotsman0170                                  ...   \n",
       "12  WaveSpire                                     ...   \n",
       "13  tozzer                                        ...   \n",
       "14  ...cathzilla                                  ...   \n",
       "15  cymagen                                       ...   \n",
       "16  ola_babe1                                     ...   \n",
       "17  DrJoanne                                      ...   \n",
       "18  pablokorona                                   ...   \n",
       "19  demouser                                      ...   \n",
       "20  jallive                                       ...   \n",
       "21  macebio                                       ...   \n",
       "22  marika b                                      ...   \n",
       "23  drp                                           ...   \n",
       "24  Osvaldo                                       ...   \n",
       "25  Crea.tive                                     ...   \n",
       "26  sheldonschwartz                               ...   \n",
       "27  virgu                                         ...   \n",
       "28  mehmetkale                                    ...   \n",
       "29  gucci1000                                     ...   \n",
       "30  Zewalt                                        ...   \n",
       "31  bernardo.borghetti                            ...   \n",
       "32  notraces                                      ...   \n",
       "33  Grains And Light                              ...   \n",
       "34  overshadowed                                  ...   \n",
       "35  neuskool                                      ...   \n",
       "36  pblgbp                                        ...   \n",
       "37  sillydog                                      ...   \n",
       "38  zaharoula                                     ...   \n",
       "39  mark daniel                                   ...   \n",
       "40  astrid~                                       ...   \n",
       "41  MrTopf                                        ...   \n",
       "42  spanier                                       ...   \n",
       "43  ricd                                          ...   \n",
       "44  schani                                        ...   \n",
       "45  redmondbarry                                  ...   \n",
       "46  Mareen Fischinger                             ...   \n",
       "47  grow-er                                       ...   \n",
       "48  .lush                                         ...   \n",
       "49  naftalina007                                  ...   \n",
       "\n",
       "                                          authorities  \n",
       "0   awfulsara                                     ...  \n",
       "1   drp                                           ...  \n",
       "2   DrJoanne                                      ...  \n",
       "3   *Ivan*                                        ...  \n",
       "4   antimethod                                    ...  \n",
       "5   BombDog                                       ...  \n",
       "6   Simon Pais                                    ...  \n",
       "7   deborah lattimore                             ...  \n",
       "8   cymagen                                       ...  \n",
       "9   :Nikola                                       ...  \n",
       "10  lorrainemd                                    ...  \n",
       "11  *starlet*                                     ...  \n",
       "12  aleyna                                        ...  \n",
       "13  artofgold                                     ...  \n",
       "14  notraces                                      ...  \n",
       "15  romanlily                                     ...  \n",
       "16  Pandarine                                     ...  \n",
       "17  Mylens                                        ...  \n",
       "18  Mareen Fischinger                             ...  \n",
       "19  bernardo.borghetti                            ...  \n",
       "20  gu@va                                         ...  \n",
       "21  Sexy Swedish Babe                             ...  \n",
       "22  pbowers                                       ...  \n",
       "23  .lush                                         ...  \n",
       "24  Merina                                        ...  \n",
       "25  Esther_G                                      ...  \n",
       "26  slowernet                                     ...  \n",
       "27  CherryVega                                    ...  \n",
       "28  bex_ai                                        ...  \n",
       "29  nedrosen                                      ...  \n",
       "30  naftalina007                                  ...  \n",
       "31  Agridulce                                     ...  \n",
       "32  callipygian                                   ...  \n",
       "33  isherwood                                     ...  \n",
       "34  aircrash                                      ...  \n",
       "35  Lola The Car Chick                            ...  \n",
       "36  liliths_nymph                                 ...  \n",
       "37  Solarman                                      ...  \n",
       "38  Ryou in the box                               ...  \n",
       "39  pixietart                                     ...  \n",
       "40  Rachael D                                     ...  \n",
       "41  fd                                            ...  \n",
       "42  macwagen                                      ...  \n",
       "43  underbunny                                    ...  \n",
       "44  * HoNe$t *                                    ...  \n",
       "45  kunja                                         ...  \n",
       "46  Home alone                                    ...  \n",
       "47  bekon                                         ...  \n",
       "48  tecgirl                                       ...  \n",
       "49  carf                                          ...  "
      ]
     },
     "execution_count": 9,
     "metadata": {},
     "output_type": "execute_result"
    }
   ],
   "source": [
    "df=pd.DataFrame(df,columns=[\"sorted_degree\",\"sorted_in_degree\",\"sorted_out_degree\",\"sorted_pr\",\"h\",\"a\"])\n",
    "df.columns = [\"degree centrality\", \"in degree centrality\", \"out degree centrality\",\"PageRank\",\"hubs\",\"authorities\"]\n",
    "df"
   ]
  },
  {
   "cell_type": "markdown",
   "metadata": {},
   "source": [
    "Compare results using Kendall tau:"
   ]
  },
  {
   "cell_type": "code",
   "execution_count": 10,
   "metadata": {
    "collapsed": false
   },
   "outputs": [
    {
     "name": "stdout",
     "output_type": "stream",
     "text": [
      "degree centrality <-> in degree centrality\n",
      "KendalltauResult(correlation=0.095510204081632688, pvalue=0.32773399859489416)\n",
      "degree centrality <-> out degree centrality\n",
      "KendalltauResult(correlation=0.092244897959183711, pvalue=0.34454202675886647)\n",
      "degree centrality <-> PageRank\n",
      "KendalltauResult(correlation=0.071020408163265339, pvalue=0.46677116365184501)\n",
      "degree centrality <-> hubs\n",
      "KendalltauResult(correlation=0.093877551020408193, pvalue=0.33607039158044105)\n",
      "degree centrality <-> authorities\n",
      "KendalltauResult(correlation=-0.054693877551020426, pvalue=0.57517563412134831)\n",
      "in degree centrality <-> out degree centrality\n",
      "KendalltauResult(correlation=-0.15591836734693884, pvalue=0.11011247719844237)\n",
      "in degree centrality <-> PageRank\n",
      "KendalltauResult(correlation=0.19836734693877558, pvalue=0.042086846362897411)\n",
      "in degree centrality <-> hubs\n",
      "KendalltauResult(correlation=0.129795918367347, pvalue=0.18351420234666738)\n",
      "in degree centrality <-> authorities\n",
      "KendalltauResult(correlation=0.079183673469387789, pvalue=0.41714106150141828)\n",
      "out degree centrality <-> PageRank\n",
      "KendalltauResult(correlation=-0.12163265306122453, pvalue=0.21263087433985695)\n",
      "out degree centrality <-> hubs\n",
      "KendalltauResult(correlation=0.084081632653061261, pvalue=0.38891850054649468)\n",
      "out degree centrality <-> authorities\n",
      "KendalltauResult(correlation=0.00081632653061224525, pvalue=0.99332588714337855)\n",
      "PageRank <-> hubs\n",
      "KendalltauResult(correlation=0.072653061224489821, pvalue=0.45659078007074616)\n",
      "PageRank <-> authorities\n",
      "KendalltauResult(correlation=0.0253061224489796, pvalue=0.7953956138572309)\n",
      "hubs <-> authorities\n",
      "KendalltauResult(correlation=-0.053061224489795937, pvalue=0.58663709903680883)\n"
     ]
    },
    {
     "name": "stderr",
     "output_type": "stream",
     "text": [
      "/usr/local/lib/python2.7/site-packages/scipy/stats/stats.py:257: RuntimeWarning: The input array could not be properly checked for nan values. nan values will be ignored.\n",
      "  \"values. nan values will be ignored.\", RuntimeWarning)\n"
     ]
    }
   ],
   "source": [
    "print(\"degree centrality <-> in degree centrality\")\n",
    "print(scipy.stats.kendalltau(list(df[\"degree centrality\"]),list(df[\"in degree centrality\"])))\n",
    "print(\"degree centrality <-> out degree centrality\")\n",
    "print(scipy.stats.kendalltau(list(df[\"degree centrality\"]),list(df[\"out degree centrality\"])))\n",
    "print(\"degree centrality <-> PageRank\")\n",
    "print(scipy.stats.kendalltau(list(df[\"degree centrality\"]),list(df[\"PageRank\"])))\n",
    "print(\"degree centrality <-> hubs\")\n",
    "print(scipy.stats.kendalltau(list(df[\"degree centrality\"]),list(df[\"hubs\"])))\n",
    "print(\"degree centrality <-> authorities\")\n",
    "print(scipy.stats.kendalltau(list(df[\"degree centrality\"]),list(df[\"authorities\"])))\n",
    "print(\"in degree centrality <-> out degree centrality\")\n",
    "print(scipy.stats.kendalltau(list(df[\"in degree centrality\"]),list(df[\"out degree centrality\"])))\n",
    "print(\"in degree centrality <-> PageRank\")\n",
    "print(scipy.stats.kendalltau(list(df[\"in degree centrality\"]),list(df[\"PageRank\"])))\n",
    "print(\"in degree centrality <-> hubs\")\n",
    "print(scipy.stats.kendalltau(list(df[\"in degree centrality\"]),list(df[\"hubs\"])))\n",
    "print(\"in degree centrality <-> authorities\")\n",
    "print(scipy.stats.kendalltau(list(df[\"in degree centrality\"]),list(df[\"authorities\"])))\n",
    "print(\"out degree centrality <-> PageRank\")\n",
    "print(scipy.stats.kendalltau(list(df[\"out degree centrality\"]),list(df[\"PageRank\"])))\n",
    "print(\"out degree centrality <-> hubs\")\n",
    "print(scipy.stats.kendalltau(list(df[\"out degree centrality\"]),list(df[\"hubs\"])))\n",
    "print(\"out degree centrality <-> authorities\")\n",
    "print(scipy.stats.kendalltau(list(df[\"out degree centrality\"]),list(df[\"authorities\"])))\n",
    "print(\"PageRank <-> hubs\")\n",
    "print(scipy.stats.kendalltau(list(df[\"PageRank\"]),list(df[\"hubs\"])))\n",
    "print(\"PageRank <-> authorities\")\n",
    "print(scipy.stats.kendalltau(list(df[\"PageRank\"]),list(df[\"authorities\"])))\n",
    "print(\"hubs <-> authorities\")\n",
    "print(scipy.stats.kendalltau(list(df[\"hubs\"]),list(df[\"authorities\"])))"
   ]
  },
  {
   "cell_type": "markdown",
   "metadata": {},
   "source": [
    "### <hr /> Task 2"
   ]
  },
  {
   "cell_type": "markdown",
   "metadata": {},
   "source": [
    "Here are the [Facebook friendship graphs](https://snap.stanford.edu/data/egonets-Facebook.html) from several US universities from 2005 (one year after fb launch).\n",
    "\n",
    "Data contains a A matrix (sparse) and a \"local_info\" variable, one row per node: \n",
    "a student/faculty status flag, gender, major, second major/minor (if applicable), dorm/house, year, and high school. \n",
    "Missing data is coded 0.\n",
    "\n",
    "Compute node degree assortativity (mixining by node degree) and assortativity coefficient (modularity) for gender, major, dormitory, year, high school for all universities and compare the results."
   ]
  },
  {
   "cell_type": "markdown",
   "metadata": {},
   "source": [
    "### Berkeley"
   ]
  },
  {
   "cell_type": "markdown",
   "metadata": {},
   "source": [
    "Create graph:"
   ]
  },
  {
   "cell_type": "code",
   "execution_count": 11,
   "metadata": {
    "collapsed": true
   },
   "outputs": [],
   "source": [
    "data_B = scipy.io.loadmat('/Users/Evgenia/Desktop/Данные/universities/Berkeley13.mat')\n",
    "G_B = nx.from_scipy_sparse_matrix(data_B[\"A\"],create_using=nx.DiGraph())"
   ]
  },
  {
   "cell_type": "markdown",
   "metadata": {},
   "source": [
    "Set attributes:"
   ]
  },
  {
   "cell_type": "code",
   "execution_count": 12,
   "metadata": {
    "collapsed": false
   },
   "outputs": [],
   "source": [
    "keys = [i for i in range (data_B[\"A\"].shape[0])]\n",
    "values_gender = [i[1] for i in data_B[\"local_info\"]]\n",
    "vg = dict(zip(keys, values_gender))\n",
    "nx.set_node_attributes(G_B, 'gender',vg)\n",
    "\n",
    "values_major = [i[2] for i in data_B[\"local_info\"]]\n",
    "vm = dict(zip(keys, values_major))\n",
    "nx.set_node_attributes(G_B, 'major',vm)\n",
    "\n",
    "values_dormitory = [i[4] for i in data_B[\"local_info\"]]\n",
    "vd = dict(zip(keys, values_dormitory))\n",
    "nx.set_node_attributes(G_B, 'dormitory',vd)\n",
    "\n",
    "values_year = [i[5] for i in data_B[\"local_info\"]]\n",
    "vy = dict(zip(keys, values_year))\n",
    "nx.set_node_attributes(G_B, 'year',vy)\n",
    "\n",
    "values_school = [i[1] for i in data_B[\"local_info\"]]\n",
    "vs = dict(zip(keys, values_school))\n",
    "nx.set_node_attributes(G_B, 'school',vs)"
   ]
  },
  {
   "cell_type": "markdown",
   "metadata": {},
   "source": [
    "Compute node degree assortativity (mixining by node degree):"
   ]
  },
  {
   "cell_type": "code",
   "execution_count": 13,
   "metadata": {
    "collapsed": false
   },
   "outputs": [
    {
     "data": {
      "text/plain": [
       "array([[  0.00000000e+00,   0.00000000e+00,   0.00000000e+00, ...,\n",
       "          0.00000000e+00,   0.00000000e+00,   0.00000000e+00],\n",
       "       [  0.00000000e+00,   1.40771711e-05,   4.69239035e-06, ...,\n",
       "          0.00000000e+00,   0.00000000e+00,   0.00000000e+00],\n",
       "       [  0.00000000e+00,   4.69239035e-06,   9.38478070e-06, ...,\n",
       "          0.00000000e+00,   0.00000000e+00,   0.00000000e+00],\n",
       "       ..., \n",
       "       [  0.00000000e+00,   0.00000000e+00,   0.00000000e+00, ...,\n",
       "          0.00000000e+00,   0.00000000e+00,   0.00000000e+00],\n",
       "       [  0.00000000e+00,   0.00000000e+00,   0.00000000e+00, ...,\n",
       "          0.00000000e+00,   0.00000000e+00,   0.00000000e+00],\n",
       "       [  0.00000000e+00,   0.00000000e+00,   0.00000000e+00, ...,\n",
       "          0.00000000e+00,   0.00000000e+00,   0.00000000e+00]])"
      ]
     },
     "execution_count": 13,
     "metadata": {},
     "output_type": "execute_result"
    }
   ],
   "source": [
    "degree_matrix_B=nx.degree_mixing_matrix(G_B)\n",
    "degree_matrix_B"
   ]
  },
  {
   "cell_type": "markdown",
   "metadata": {},
   "source": [
    "Compute assortativity coefficient:"
   ]
  },
  {
   "cell_type": "code",
   "execution_count": 14,
   "metadata": {
    "collapsed": false
   },
   "outputs": [
    {
     "name": "stdout",
     "output_type": "stream",
     "text": [
      "Assortativity coefficient for gender =  0.0409228376393\n",
      "Assortativity coefficient for major =  0.058255029946\n",
      "Assortativity coefficient for dormitory =  0.14727644076\n",
      "Assortativity coefficient for year =  0.308121015806\n",
      "Assortativity coefficient for school =  0.0409228376393\n"
     ]
    }
   ],
   "source": [
    "print \"Assortativity coefficient for gender = \",nx.attribute_assortativity_coefficient(G_B, \"gender\")\n",
    "print \"Assortativity coefficient for major = \",nx.attribute_assortativity_coefficient(G_B, \"major\")\n",
    "print \"Assortativity coefficient for dormitory = \",nx.attribute_assortativity_coefficient(G_B, \"dormitory\")\n",
    "print \"Assortativity coefficient for year = \",nx.attribute_assortativity_coefficient(G_B, \"year\")\n",
    "print \"Assortativity coefficient for school = \",nx.attribute_assortativity_coefficient(G_B, \"school\")"
   ]
  },
  {
   "cell_type": "markdown",
   "metadata": {},
   "source": [
    "### Caltech"
   ]
  },
  {
   "cell_type": "markdown",
   "metadata": {},
   "source": [
    "Create graph:"
   ]
  },
  {
   "cell_type": "code",
   "execution_count": 15,
   "metadata": {
    "collapsed": true
   },
   "outputs": [],
   "source": [
    "data_C = scipy.io.loadmat('/Users/Evgenia/Desktop/Данные/universities/Caltech36.mat')\n",
    "G_C = nx.from_scipy_sparse_matrix(data_C[\"A\"],create_using=nx.DiGraph())"
   ]
  },
  {
   "cell_type": "markdown",
   "metadata": {},
   "source": [
    "Set attributes:"
   ]
  },
  {
   "cell_type": "code",
   "execution_count": 16,
   "metadata": {
    "collapsed": false
   },
   "outputs": [],
   "source": [
    "keys = [i for i in range (data_C[\"A\"].shape[0])]\n",
    "values_gender = [i[1] for i in data_C[\"local_info\"]]\n",
    "vg = dict(zip(keys, values_gender))\n",
    "nx.set_node_attributes(G_C, 'gender',vg)\n",
    "\n",
    "values_major = [i[2] for i in data_C[\"local_info\"]]\n",
    "vm = dict(zip(keys, values_major))\n",
    "nx.set_node_attributes(G_C, 'major',vm)\n",
    "\n",
    "values_dormitory = [i[4] for i in data_C[\"local_info\"]]\n",
    "vd = dict(zip(keys, values_dormitory))\n",
    "nx.set_node_attributes(G_C, 'dormitory',vd)\n",
    "\n",
    "values_year = [i[5] for i in data_C[\"local_info\"]]\n",
    "vy = dict(zip(keys, values_year))\n",
    "nx.set_node_attributes(G_C, 'year',vy)\n",
    "\n",
    "values_school = [i[1] for i in data_C[\"local_info\"]]\n",
    "vs = dict(zip(keys, values_school))\n",
    "nx.set_node_attributes(G_C, 'school',vs)"
   ]
  },
  {
   "cell_type": "markdown",
   "metadata": {},
   "source": [
    "Compute node degree assortativity (mixining by node degree):"
   ]
  },
  {
   "cell_type": "code",
   "execution_count": 17,
   "metadata": {
    "collapsed": false
   },
   "outputs": [
    {
     "data": {
      "text/plain": [
       "array([[ 0.        ,  0.        ,  0.        , ...,  0.        ,\n",
       "         0.        ,  0.        ],\n",
       "       [ 0.        ,  0.00012008,  0.        , ...,  0.        ,\n",
       "         0.        ,  0.        ],\n",
       "       [ 0.        ,  0.        ,  0.00030019, ...,  0.        ,\n",
       "         0.        ,  0.        ],\n",
       "       ..., \n",
       "       [ 0.        ,  0.        ,  0.        , ...,  0.        ,\n",
       "         0.        ,  0.        ],\n",
       "       [ 0.        ,  0.        ,  0.        , ...,  0.        ,\n",
       "         0.        ,  0.        ],\n",
       "       [ 0.        ,  0.        ,  0.        , ...,  0.        ,\n",
       "         0.        ,  0.        ]])"
      ]
     },
     "execution_count": 17,
     "metadata": {},
     "output_type": "execute_result"
    }
   ],
   "source": [
    "degree_matrix_C=nx.degree_mixing_matrix(G_C)\n",
    "degree_matrix_C"
   ]
  },
  {
   "cell_type": "markdown",
   "metadata": {},
   "source": [
    "Compute assortativity coefficient:"
   ]
  },
  {
   "cell_type": "code",
   "execution_count": 18,
   "metadata": {
    "collapsed": false
   },
   "outputs": [
    {
     "name": "stdout",
     "output_type": "stream",
     "text": [
      "Assortativity coefficient for gender =  0.0463314364559\n",
      "Assortativity coefficient for major =  0.0347194237236\n",
      "Assortativity coefficient for dormitory =  0.349153100873\n",
      "Assortativity coefficient for year =  0.237531904813\n",
      "Assortativity coefficient for school =  0.0463314364559\n"
     ]
    }
   ],
   "source": [
    "print \"Assortativity coefficient for gender = \",nx.attribute_assortativity_coefficient(G_C, \"gender\")\n",
    "print \"Assortativity coefficient for major = \",nx.attribute_assortativity_coefficient(G_C, \"major\")\n",
    "print \"Assortativity coefficient for dormitory = \",nx.attribute_assortativity_coefficient(G_C, \"dormitory\")\n",
    "print \"Assortativity coefficient for year = \",nx.attribute_assortativity_coefficient(G_C, \"year\")\n",
    "print \"Assortativity coefficient for school = \",nx.attribute_assortativity_coefficient(G_C, \"school\")"
   ]
  },
  {
   "cell_type": "markdown",
   "metadata": {},
   "source": [
    "### Harvard"
   ]
  },
  {
   "cell_type": "markdown",
   "metadata": {},
   "source": [
    "Create graph:"
   ]
  },
  {
   "cell_type": "code",
   "execution_count": 19,
   "metadata": {
    "collapsed": true
   },
   "outputs": [],
   "source": [
    "data_H = scipy.io.loadmat('/Users/Evgenia/Desktop/Данные/universities/Harvard1.mat')\n",
    "G_H = nx.from_scipy_sparse_matrix(data_H[\"A\"],create_using=nx.DiGraph())"
   ]
  },
  {
   "cell_type": "markdown",
   "metadata": {},
   "source": [
    "Set attributes:"
   ]
  },
  {
   "cell_type": "code",
   "execution_count": 20,
   "metadata": {
    "collapsed": true
   },
   "outputs": [],
   "source": [
    "keys = [i for i in range (data_H[\"A\"].shape[0])]\n",
    "values_gender = [i[1] for i in data_H[\"local_info\"]]\n",
    "vg = dict(zip(keys, values_gender))\n",
    "nx.set_node_attributes(G_H, 'gender',vg)\n",
    "\n",
    "values_major = [i[2] for i in data_H[\"local_info\"]]\n",
    "vm = dict(zip(keys, values_major))\n",
    "nx.set_node_attributes(G_H, 'major',vm)\n",
    "\n",
    "values_dormitory = [i[4] for i in data_H[\"local_info\"]]\n",
    "vd = dict(zip(keys, values_dormitory))\n",
    "nx.set_node_attributes(G_H, 'dormitory',vd)\n",
    "\n",
    "values_year = [i[5] for i in data_H[\"local_info\"]]\n",
    "vy = dict(zip(keys, values_year))\n",
    "nx.set_node_attributes(G_H, 'year',vy)\n",
    "\n",
    "values_school = [i[1] for i in data_H[\"local_info\"]]\n",
    "vs = dict(zip(keys, values_school))\n",
    "nx.set_node_attributes(G_H, 'school',vs)"
   ]
  },
  {
   "cell_type": "markdown",
   "metadata": {},
   "source": [
    "Compute node degree assortativity (mixining by node degree):"
   ]
  },
  {
   "cell_type": "code",
   "execution_count": 21,
   "metadata": {
    "collapsed": false
   },
   "outputs": [
    {
     "data": {
      "text/plain": [
       "array([[  0.00000000e+00,   0.00000000e+00,   0.00000000e+00, ...,\n",
       "          0.00000000e+00,   0.00000000e+00,   0.00000000e+00],\n",
       "       [  0.00000000e+00,   2.06156313e-05,   1.21268419e-05, ...,\n",
       "          0.00000000e+00,   0.00000000e+00,   6.06342096e-07],\n",
       "       [  0.00000000e+00,   1.21268419e-05,   2.18283154e-05, ...,\n",
       "          0.00000000e+00,   0.00000000e+00,   6.06342096e-07],\n",
       "       ..., \n",
       "       [  0.00000000e+00,   0.00000000e+00,   0.00000000e+00, ...,\n",
       "          0.00000000e+00,   0.00000000e+00,   0.00000000e+00],\n",
       "       [  0.00000000e+00,   0.00000000e+00,   0.00000000e+00, ...,\n",
       "          0.00000000e+00,   0.00000000e+00,   0.00000000e+00],\n",
       "       [  0.00000000e+00,   6.06342096e-07,   6.06342096e-07, ...,\n",
       "          0.00000000e+00,   0.00000000e+00,   0.00000000e+00]])"
      ]
     },
     "execution_count": 21,
     "metadata": {},
     "output_type": "execute_result"
    }
   ],
   "source": [
    "degree_matrix_H=nx.degree_mixing_matrix(G_H)\n",
    "degree_matrix_H"
   ]
  },
  {
   "cell_type": "markdown",
   "metadata": {},
   "source": [
    "Compute assortativity coefficient:"
   ]
  },
  {
   "cell_type": "code",
   "execution_count": 22,
   "metadata": {
    "collapsed": false
   },
   "outputs": [
    {
     "name": "stdout",
     "output_type": "stream",
     "text": [
      "Assortativity coefficient for gender =  0.0452699773794\n",
      "Assortativity coefficient for major =  0.0496769283286\n",
      "Assortativity coefficient for dormitory =  0.12567663505\n",
      "Assortativity coefficient for year =  0.421159642116\n",
      "Assortativity coefficient for school =  0.0452699773794\n"
     ]
    }
   ],
   "source": [
    "print \"Assortativity coefficient for gender = \",nx.attribute_assortativity_coefficient(G_H, \"gender\")\n",
    "print \"Assortativity coefficient for major = \",nx.attribute_assortativity_coefficient(G_H, \"major\")\n",
    "print \"Assortativity coefficient for dormitory = \",nx.attribute_assortativity_coefficient(G_H, \"dormitory\")\n",
    "print \"Assortativity coefficient for year = \",nx.attribute_assortativity_coefficient(G_H, \"year\")\n",
    "print \"Assortativity coefficient for school = \",nx.attribute_assortativity_coefficient(G_H, \"school\")"
   ]
  },
  {
   "cell_type": "markdown",
   "metadata": {},
   "source": [
    "### Oklahoma"
   ]
  },
  {
   "cell_type": "markdown",
   "metadata": {},
   "source": [
    "Create graph:"
   ]
  },
  {
   "cell_type": "code",
   "execution_count": 23,
   "metadata": {
    "collapsed": true
   },
   "outputs": [],
   "source": [
    "data_O = scipy.io.loadmat('/Users/Evgenia/Desktop/Данные/universities/Oklahoma97.mat')\n",
    "G_O = nx.from_scipy_sparse_matrix(data_O[\"A\"],create_using=nx.DiGraph())"
   ]
  },
  {
   "cell_type": "markdown",
   "metadata": {},
   "source": [
    "Set attributes:"
   ]
  },
  {
   "cell_type": "code",
   "execution_count": 24,
   "metadata": {
    "collapsed": true
   },
   "outputs": [],
   "source": [
    "keys = [i for i in range (data_O[\"A\"].shape[0])]\n",
    "values_gender = [i[1] for i in data_O[\"local_info\"]]\n",
    "vg = dict(zip(keys, values_gender))\n",
    "nx.set_node_attributes(G_O, 'gender',vg)\n",
    "\n",
    "values_major = [i[2] for i in data_O[\"local_info\"]]\n",
    "vm = dict(zip(keys, values_major))\n",
    "nx.set_node_attributes(G_O, 'major',vm)\n",
    "\n",
    "values_dormitory = [i[4] for i in data_O[\"local_info\"]]\n",
    "vd = dict(zip(keys, values_dormitory))\n",
    "nx.set_node_attributes(G_O, 'dormitory',vd)\n",
    "\n",
    "values_year = [i[5] for i in data_O[\"local_info\"]]\n",
    "vy = dict(zip(keys, values_year))\n",
    "nx.set_node_attributes(G_O, 'year',vy)\n",
    "\n",
    "values_school = [i[1] for i in data_O[\"local_info\"]]\n",
    "vs = dict(zip(keys, values_school))\n",
    "nx.set_node_attributes(G_O, 'school',vs)"
   ]
  },
  {
   "cell_type": "markdown",
   "metadata": {},
   "source": [
    "Compute node degree assortativity (mixining by node degree):"
   ]
  },
  {
   "cell_type": "code",
   "execution_count": 25,
   "metadata": {
    "collapsed": false
   },
   "outputs": [
    {
     "data": {
      "text/plain": [
       "array([[  0.00000000e+00,   0.00000000e+00,   0.00000000e+00, ...,\n",
       "          0.00000000e+00,   0.00000000e+00,   0.00000000e+00],\n",
       "       [  0.00000000e+00,   1.12041303e-06,   3.92144560e-06, ...,\n",
       "          0.00000000e+00,   0.00000000e+00,   0.00000000e+00],\n",
       "       [  0.00000000e+00,   3.92144560e-06,   7.84289120e-06, ...,\n",
       "          0.00000000e+00,   0.00000000e+00,   0.00000000e+00],\n",
       "       ..., \n",
       "       [  0.00000000e+00,   0.00000000e+00,   0.00000000e+00, ...,\n",
       "          0.00000000e+00,   0.00000000e+00,   0.00000000e+00],\n",
       "       [  0.00000000e+00,   0.00000000e+00,   0.00000000e+00, ...,\n",
       "          0.00000000e+00,   0.00000000e+00,   0.00000000e+00],\n",
       "       [  0.00000000e+00,   0.00000000e+00,   0.00000000e+00, ...,\n",
       "          0.00000000e+00,   0.00000000e+00,   0.00000000e+00]])"
      ]
     },
     "execution_count": 25,
     "metadata": {},
     "output_type": "execute_result"
    }
   ],
   "source": [
    "degree_matrix_O=nx.degree_mixing_matrix(G_O)\n",
    "degree_matrix_O"
   ]
  },
  {
   "cell_type": "markdown",
   "metadata": {},
   "source": [
    "Compute assortativity coefficient:"
   ]
  },
  {
   "cell_type": "code",
   "execution_count": 26,
   "metadata": {
    "collapsed": false
   },
   "outputs": [
    {
     "name": "stdout",
     "output_type": "stream",
     "text": [
      "Assortativity coefficient for gender =  0.0928372959827\n",
      "Assortativity coefficient for major =  0.0363790887617\n",
      "Assortativity coefficient for dormitory =  0.280335243729\n",
      "Assortativity coefficient for year =  0.20116469147\n",
      "Assortativity coefficient for school =  0.0928372959827\n"
     ]
    }
   ],
   "source": [
    "print \"Assortativity coefficient for gender = \",nx.attribute_assortativity_coefficient(G_O, \"gender\")\n",
    "print \"Assortativity coefficient for major = \",nx.attribute_assortativity_coefficient(G_O, \"major\")\n",
    "print \"Assortativity coefficient for dormitory = \",nx.attribute_assortativity_coefficient(G_O, \"dormitory\")\n",
    "print \"Assortativity coefficient for year = \",nx.attribute_assortativity_coefficient(G_O, \"year\")\n",
    "print \"Assortativity coefficient for school = \",nx.attribute_assortativity_coefficient(G_O, \"school\")"
   ]
  },
  {
   "cell_type": "markdown",
   "metadata": {},
   "source": [
    "### Princeton"
   ]
  },
  {
   "cell_type": "markdown",
   "metadata": {},
   "source": [
    "Create graph:"
   ]
  },
  {
   "cell_type": "code",
   "execution_count": 27,
   "metadata": {
    "collapsed": true
   },
   "outputs": [],
   "source": [
    "data_P = scipy.io.loadmat('/Users/Evgenia/Desktop/Данные/universities/Princeton12.mat')\n",
    "G_P = nx.from_scipy_sparse_matrix(data_P[\"A\"],create_using=nx.DiGraph())"
   ]
  },
  {
   "cell_type": "markdown",
   "metadata": {},
   "source": [
    "Set attributes:"
   ]
  },
  {
   "cell_type": "code",
   "execution_count": 28,
   "metadata": {
    "collapsed": true
   },
   "outputs": [],
   "source": [
    "keys = [i for i in range (data_P[\"A\"].shape[0])]\n",
    "values_gender = [i[1] for i in data_P[\"local_info\"]]\n",
    "vg = dict(zip(keys, values_gender))\n",
    "nx.set_node_attributes(G_P, 'gender',vg)\n",
    "\n",
    "values_major = [i[2] for i in data_P[\"local_info\"]]\n",
    "vm = dict(zip(keys, values_major))\n",
    "nx.set_node_attributes(G_P, 'major',vm)\n",
    "\n",
    "values_dormitory = [i[4] for i in data_P[\"local_info\"]]\n",
    "vd = dict(zip(keys, values_dormitory))\n",
    "nx.set_node_attributes(G_P, 'dormitory',vd)\n",
    "\n",
    "values_year = [i[5] for i in data_P[\"local_info\"]]\n",
    "vy = dict(zip(keys, values_year))\n",
    "nx.set_node_attributes(G_P, 'year',vy)\n",
    "\n",
    "values_school = [i[1] for i in data_P[\"local_info\"]]\n",
    "vs = dict(zip(keys, values_school))\n",
    "nx.set_node_attributes(G_P, 'school',vs)"
   ]
  },
  {
   "cell_type": "markdown",
   "metadata": {},
   "source": [
    "Compute node degree assortativity (mixining by node degree):"
   ]
  },
  {
   "cell_type": "code",
   "execution_count": 29,
   "metadata": {
    "collapsed": false
   },
   "outputs": [
    {
     "data": {
      "text/plain": [
       "array([[  0.00000000e+00,   0.00000000e+00,   0.00000000e+00, ...,\n",
       "          0.00000000e+00,   0.00000000e+00,   0.00000000e+00],\n",
       "       [  0.00000000e+00,   2.04554752e-05,   1.19323606e-05, ...,\n",
       "          0.00000000e+00,   0.00000000e+00,   1.70462294e-06],\n",
       "       [  0.00000000e+00,   1.19323606e-05,   1.36369835e-05, ...,\n",
       "          0.00000000e+00,   0.00000000e+00,   0.00000000e+00],\n",
       "       ..., \n",
       "       [  0.00000000e+00,   0.00000000e+00,   0.00000000e+00, ...,\n",
       "          0.00000000e+00,   0.00000000e+00,   0.00000000e+00],\n",
       "       [  0.00000000e+00,   0.00000000e+00,   0.00000000e+00, ...,\n",
       "          0.00000000e+00,   0.00000000e+00,   0.00000000e+00],\n",
       "       [  0.00000000e+00,   1.70462294e-06,   0.00000000e+00, ...,\n",
       "          0.00000000e+00,   0.00000000e+00,   0.00000000e+00]])"
      ]
     },
     "execution_count": 29,
     "metadata": {},
     "output_type": "execute_result"
    }
   ],
   "source": [
    "degree_matrix_P=nx.degree_mixing_matrix(G_P)\n",
    "degree_matrix_P"
   ]
  },
  {
   "cell_type": "markdown",
   "metadata": {},
   "source": [
    "Compute assortativity coefficient:"
   ]
  },
  {
   "cell_type": "code",
   "execution_count": 30,
   "metadata": {
    "collapsed": false
   },
   "outputs": [
    {
     "name": "stdout",
     "output_type": "stream",
     "text": [
      "Assortativity coefficient for gender =  0.0506107399953\n",
      "Assortativity coefficient for major =  0.0543901188714\n",
      "Assortativity coefficient for dormitory =  0.0946784195542\n",
      "Assortativity coefficient for year =  0.446744620584\n",
      "Assortativity coefficient for school =  0.0506107399953\n"
     ]
    }
   ],
   "source": [
    "print \"Assortativity coefficient for gender = \",nx.attribute_assortativity_coefficient(G_P, \"gender\")\n",
    "print \"Assortativity coefficient for major = \",nx.attribute_assortativity_coefficient(G_P, \"major\")\n",
    "print \"Assortativity coefficient for dormitory = \",nx.attribute_assortativity_coefficient(G_P, \"dormitory\")\n",
    "print \"Assortativity coefficient for year = \",nx.attribute_assortativity_coefficient(G_P, \"year\")\n",
    "print \"Assortativity coefficient for school = \",nx.attribute_assortativity_coefficient(G_P, \"school\")"
   ]
  },
  {
   "cell_type": "markdown",
   "metadata": {},
   "source": [
    "### Texas"
   ]
  },
  {
   "cell_type": "markdown",
   "metadata": {},
   "source": [
    "Create graph:"
   ]
  },
  {
   "cell_type": "code",
   "execution_count": 31,
   "metadata": {
    "collapsed": true
   },
   "outputs": [],
   "source": [
    "data_T = scipy.io.loadmat('/Users/Evgenia/Desktop/Данные/universities/Texas80.mat')\n",
    "G_T = nx.from_scipy_sparse_matrix(data_T[\"A\"],create_using=nx.DiGraph())"
   ]
  },
  {
   "cell_type": "markdown",
   "metadata": {},
   "source": [
    "Set attributes:"
   ]
  },
  {
   "cell_type": "code",
   "execution_count": 32,
   "metadata": {
    "collapsed": true
   },
   "outputs": [],
   "source": [
    "keys = [i for i in range (data_T[\"A\"].shape[0])]\n",
    "values_gender = [i[1] for i in data_T[\"local_info\"]]\n",
    "vg = dict(zip(keys, values_gender))\n",
    "nx.set_node_attributes(G_T, 'gender',vg)\n",
    "\n",
    "values_major = [i[2] for i in data_T[\"local_info\"]]\n",
    "vm = dict(zip(keys, values_major))\n",
    "nx.set_node_attributes(G_T, 'major',vm)\n",
    "\n",
    "values_dormitory = [i[4] for i in data_T[\"local_info\"]]\n",
    "vd = dict(zip(keys, values_dormitory))\n",
    "nx.set_node_attributes(G_T, 'dormitory',vd)\n",
    "\n",
    "values_year = [i[5] for i in data_T[\"local_info\"]]\n",
    "vy = dict(zip(keys, values_year))\n",
    "nx.set_node_attributes(G_T, 'year',vy)\n",
    "\n",
    "values_school = [i[1] for i in data_T[\"local_info\"]]\n",
    "vs = dict(zip(keys, values_school))\n",
    "nx.set_node_attributes(G_T, 'school',vs)"
   ]
  },
  {
   "cell_type": "markdown",
   "metadata": {},
   "source": [
    "Compute node degree assortativity (mixining by node degree):"
   ]
  },
  {
   "cell_type": "code",
   "execution_count": 33,
   "metadata": {
    "collapsed": false
   },
   "outputs": [
    {
     "data": {
      "text/plain": [
       "array([[  0.00000000e+00,   0.00000000e+00,   0.00000000e+00, ...,\n",
       "          0.00000000e+00,   0.00000000e+00,   0.00000000e+00],\n",
       "       [  0.00000000e+00,   9.01898086e-06,   1.63981470e-06, ...,\n",
       "          0.00000000e+00,   0.00000000e+00,   4.09953675e-07],\n",
       "       [  0.00000000e+00,   1.63981470e-06,   4.91944410e-06, ...,\n",
       "          0.00000000e+00,   0.00000000e+00,   0.00000000e+00],\n",
       "       ..., \n",
       "       [  0.00000000e+00,   0.00000000e+00,   0.00000000e+00, ...,\n",
       "          0.00000000e+00,   0.00000000e+00,   0.00000000e+00],\n",
       "       [  0.00000000e+00,   0.00000000e+00,   0.00000000e+00, ...,\n",
       "          0.00000000e+00,   0.00000000e+00,   0.00000000e+00],\n",
       "       [  0.00000000e+00,   4.09953675e-07,   0.00000000e+00, ...,\n",
       "          0.00000000e+00,   0.00000000e+00,   0.00000000e+00]])"
      ]
     },
     "execution_count": 33,
     "metadata": {},
     "output_type": "execute_result"
    }
   ],
   "source": [
    "degree_matrix_T=nx.degree_mixing_matrix(G_T)\n",
    "degree_matrix_T"
   ]
  },
  {
   "cell_type": "markdown",
   "metadata": {},
   "source": [
    "Compute assortativity coefficient:"
   ]
  },
  {
   "cell_type": "code",
   "execution_count": 34,
   "metadata": {
    "collapsed": false
   },
   "outputs": [
    {
     "name": "stdout",
     "output_type": "stream",
     "text": [
      "Assortativity coefficient for gender =  0.0796930681412\n",
      "Assortativity coefficient for major =  0.0597127278334\n",
      "Assortativity coefficient for dormitory =  0.204837604339\n",
      "Assortativity coefficient for year =  0.246194684162\n",
      "Assortativity coefficient for school =  0.0796930681412\n"
     ]
    }
   ],
   "source": [
    "print \"Assortativity coefficient for gender = \",nx.attribute_assortativity_coefficient(G_T, \"gender\")\n",
    "print \"Assortativity coefficient for major = \",nx.attribute_assortativity_coefficient(G_T, \"major\")\n",
    "print \"Assortativity coefficient for dormitory = \",nx.attribute_assortativity_coefficient(G_T, \"dormitory\")\n",
    "print \"Assortativity coefficient for year = \",nx.attribute_assortativity_coefficient(G_T, \"year\")\n",
    "print \"Assortativity coefficient for school = \",nx.attribute_assortativity_coefficient(G_T, \"school\")"
   ]
  },
  {
   "cell_type": "markdown",
   "metadata": {},
   "source": [
    "### Compare result:"
   ]
  },
  {
   "cell_type": "code",
   "execution_count": 35,
   "metadata": {
    "collapsed": false
   },
   "outputs": [],
   "source": [
    "df={\"for gender\":[nx.attribute_assortativity_coefficient(G_B, \"gender\"),\\\n",
    "                 nx.attribute_assortativity_coefficient(G_C, \"gender\"),\\\n",
    "                 nx.attribute_assortativity_coefficient(G_H, \"gender\"),\\\n",
    "                 nx.attribute_assortativity_coefficient(G_O, \"gender\"),\\\n",
    "                 nx.attribute_assortativity_coefficient(G_P, \"gender\"),\\\n",
    "                 nx.attribute_assortativity_coefficient(G_T, \"gender\")],\n",
    "   \"for major\":[nx.attribute_assortativity_coefficient(G_B, \"major\"),\\\n",
    "                 nx.attribute_assortativity_coefficient(G_C, \"major\"),\\\n",
    "                 nx.attribute_assortativity_coefficient(G_H, \"major\"),\\\n",
    "                 nx.attribute_assortativity_coefficient(G_O, \"major\"),\\\n",
    "                 nx.attribute_assortativity_coefficient(G_P, \"major\"),\\\n",
    "                 nx.attribute_assortativity_coefficient(G_T, \"major\")],\n",
    "   \"for dormitory\":[nx.attribute_assortativity_coefficient(G_B, \"dormitory\"),\\\n",
    "                 nx.attribute_assortativity_coefficient(G_C, \"dormitory\"),\\\n",
    "                 nx.attribute_assortativity_coefficient(G_H, \"dormitory\"),\\\n",
    "                 nx.attribute_assortativity_coefficient(G_O, \"dormitory\"),\\\n",
    "                 nx.attribute_assortativity_coefficient(G_P, \"dormitory\"),\\\n",
    "                 nx.attribute_assortativity_coefficient(G_T, \"dormitory\")],\n",
    "   \"for year\":[nx.attribute_assortativity_coefficient(G_B, \"year\"),\\\n",
    "                 nx.attribute_assortativity_coefficient(G_C, \"year\"),\\\n",
    "                 nx.attribute_assortativity_coefficient(G_H, \"year\"),\\\n",
    "                 nx.attribute_assortativity_coefficient(G_O, \"year\"),\\\n",
    "                 nx.attribute_assortativity_coefficient(G_P, \"year\"),\\\n",
    "                 nx.attribute_assortativity_coefficient(G_T, \"year\")],\n",
    "   \"for school\":[nx.attribute_assortativity_coefficient(G_B, \"school\"),\\\n",
    "                 nx.attribute_assortativity_coefficient(G_C, \"school\"),\\\n",
    "                 nx.attribute_assortativity_coefficient(G_H, \"school\"),\\\n",
    "                 nx.attribute_assortativity_coefficient(G_O, \"school\"),\\\n",
    "                 nx.attribute_assortativity_coefficient(G_P, \"school\"),\\\n",
    "                 nx.attribute_assortativity_coefficient(G_T, \"school\")]}"
   ]
  },
  {
   "cell_type": "code",
   "execution_count": 36,
   "metadata": {
    "collapsed": false
   },
   "outputs": [
    {
     "data": {
      "text/html": [
       "<div>\n",
       "<table border=\"1\" class=\"dataframe\">\n",
       "  <thead>\n",
       "    <tr style=\"text-align: right;\">\n",
       "      <th></th>\n",
       "      <th>for dormitory</th>\n",
       "      <th>for gender</th>\n",
       "      <th>for major</th>\n",
       "      <th>for school</th>\n",
       "      <th>for year</th>\n",
       "    </tr>\n",
       "  </thead>\n",
       "  <tbody>\n",
       "    <tr>\n",
       "      <th>Berkeley</th>\n",
       "      <td>0.147276</td>\n",
       "      <td>0.040923</td>\n",
       "      <td>0.058255</td>\n",
       "      <td>0.040923</td>\n",
       "      <td>0.308121</td>\n",
       "    </tr>\n",
       "    <tr>\n",
       "      <th>Caltech</th>\n",
       "      <td>0.349153</td>\n",
       "      <td>0.046331</td>\n",
       "      <td>0.034719</td>\n",
       "      <td>0.046331</td>\n",
       "      <td>0.237532</td>\n",
       "    </tr>\n",
       "    <tr>\n",
       "      <th>Harvard</th>\n",
       "      <td>0.125677</td>\n",
       "      <td>0.045270</td>\n",
       "      <td>0.049677</td>\n",
       "      <td>0.045270</td>\n",
       "      <td>0.421160</td>\n",
       "    </tr>\n",
       "    <tr>\n",
       "      <th>Oklahoma</th>\n",
       "      <td>0.280335</td>\n",
       "      <td>0.092837</td>\n",
       "      <td>0.036379</td>\n",
       "      <td>0.092837</td>\n",
       "      <td>0.201165</td>\n",
       "    </tr>\n",
       "    <tr>\n",
       "      <th>Princeton</th>\n",
       "      <td>0.094678</td>\n",
       "      <td>0.050611</td>\n",
       "      <td>0.054390</td>\n",
       "      <td>0.050611</td>\n",
       "      <td>0.446745</td>\n",
       "    </tr>\n",
       "    <tr>\n",
       "      <th>Texas</th>\n",
       "      <td>0.204838</td>\n",
       "      <td>0.079693</td>\n",
       "      <td>0.059713</td>\n",
       "      <td>0.079693</td>\n",
       "      <td>0.246195</td>\n",
       "    </tr>\n",
       "  </tbody>\n",
       "</table>\n",
       "</div>"
      ],
      "text/plain": [
       "           for dormitory  for gender  for major  for school  for year\n",
       "Berkeley        0.147276    0.040923   0.058255    0.040923  0.308121\n",
       "Caltech         0.349153    0.046331   0.034719    0.046331  0.237532\n",
       "Harvard         0.125677    0.045270   0.049677    0.045270  0.421160\n",
       "Oklahoma        0.280335    0.092837   0.036379    0.092837  0.201165\n",
       "Princeton       0.094678    0.050611   0.054390    0.050611  0.446745\n",
       "Texas           0.204838    0.079693   0.059713    0.079693  0.246195"
      ]
     },
     "execution_count": 36,
     "metadata": {},
     "output_type": "execute_result"
    }
   ],
   "source": [
    "df=pd.DataFrame(df,index=[\"Berkeley\",\"Caltech\",\"Harvard\",\"Oklahoma\",\"Princeton\",\"Texas\"])\n",
    "df"
   ]
  }
 ],
 "metadata": {
  "kernelspec": {
   "display_name": "Python 2",
   "language": "python",
   "name": "python2"
  },
  "language_info": {
   "codemirror_mode": {
    "name": "ipython",
    "version": 2
   },
   "file_extension": ".py",
   "mimetype": "text/x-python",
   "name": "python",
   "nbconvert_exporter": "python",
   "pygments_lexer": "ipython2",
   "version": "2.7.11"
  }
 },
 "nbformat": 4,
 "nbformat_minor": 0
}
